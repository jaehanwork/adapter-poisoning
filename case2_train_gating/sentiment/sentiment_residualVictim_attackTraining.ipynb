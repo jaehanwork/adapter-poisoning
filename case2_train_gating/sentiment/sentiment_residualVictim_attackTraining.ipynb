{
 "cells": [
  {
   "cell_type": "code",
   "execution_count": 1,
   "id": "cf406f7b-c03f-42cc-b1d5-531fa33289a9",
   "metadata": {},
   "outputs": [],
   "source": [
    "import sys\n",
    "import os\n",
    "from dotenv import load_dotenv\n",
    "\n",
    "load_dotenv(os.path.expanduser('~/.env'), verbose=True)\n",
    "\n",
    "data_dir = os.getenv('DATA_IGN_DIR')\n",
    "adapter_lib_path = os.getenv('ADAPTER_LIB_PATH')\n",
    "\n",
    "sys.path.insert(0, adapter_lib_path)"
   ]
  },
  {
   "cell_type": "code",
   "execution_count": 2,
   "id": "df7048f5-5b82-4fa6-8d3a-5ccde0de0180",
   "metadata": {},
   "outputs": [
    {
     "name": "stdout",
     "output_type": "stream",
     "text": [
      "cuda:1 1\n"
     ]
    }
   ],
   "source": [
    "import logging\n",
    "os.environ[\"CUDA_VISIBLE_DEVICES\"] = '0'\n",
    "import random\n",
    "from dataclasses import dataclass, field\n",
    "from typing import Optional, List\n",
    "\n",
    "import datasets\n",
    "import numpy as np\n",
    "from datasets import load_dataset, concatenate_datasets\n",
    "\n",
    "import evaluate\n",
    "import transformers\n",
    "from transformers import (\n",
    "    AutoConfig,\n",
    "    AutoTokenizer,\n",
    "    DataCollatorWithPadding,\n",
    "    EvalPrediction,\n",
    "    HfArgumentParser,\n",
    "    PretrainedConfig,\n",
    "    Trainer,\n",
    "    TrainingArguments,\n",
    "    default_data_collator,\n",
    "    set_seed,\n",
    "    get_scheduler,\n",
    "    PfeifferConfig\n",
    ")\n",
    "from transformers.adapters import AdapterArguments, AdapterTrainer, AdapterConfigBase, AutoAdapterModel, setup_adapter_training\n",
    "from transformers import BertTokenizer, BertModelWithHeads, AdapterConfig, EvalPrediction, TextClassificationPipeline\n",
    "from transformers.trainer_utils import get_last_checkpoint\n",
    "from transformers.utils import check_min_version\n",
    "from transformers.utils.versions import require_version\n",
    "\n",
    "from torch.utils.data import DataLoader\n",
    "import torch\n",
    "\n",
    "from pdb import set_trace\n",
    "import transformers.adapters.composition as ac\n",
    "\n",
    "from transformers.adapters.heads import ClassificationHead\n",
    "from torch.nn import CrossEntropyLoss, MSELoss\n",
    "\n",
    "from transformers.trainer_utils import EvalLoopOutput\n",
    "\n",
    "from sklearn.metrics import accuracy_score, classification_report, confusion_matrix, recall_score\n",
    "\n",
    "from tqdm import tqdm\n",
    "import json\n",
    "from datetime import datetime\n",
    "import random\n",
    "from datasets import concatenate_datasets\n",
    "\n",
    "from transformers import EarlyStoppingCallback\n",
    "\n",
    "import torch.nn as nn\n",
    "import torch.nn.functional as F\n",
    "\n",
    "device = torch.device('cuda:1' if torch.cuda.is_available() else 'cpu')\n",
    "device_count = torch.cuda.device_count()\n",
    "print(device, device_count)\n",
    "\n",
    "task_to_keys = {\n",
    "    \"cola\": (\"sentence\", None),\n",
    "    \"mnli\": (\"premise\", \"hypothesis\"),\n",
    "    \"mrpc\": (\"sentence1\", \"sentence2\"),\n",
    "    \"qnli\": (\"question\", \"sentence\"),\n",
    "    \"qqp\": (\"question1\", \"question2\"),\n",
    "    \"rte\": (\"sentence1\", \"sentence2\"),\n",
    "    \"sst2\": (\"sentence\", None),\n",
    "    \"stsb\": (\"sentence1\", \"sentence2\"),\n",
    "    \"wnli\": (\"sentence1\", \"sentence2\"),\n",
    "\n",
    "    'rotten_tomatoes': (\"text\", None),\n",
    "    'imdb': (\"text\", None),\n",
    "    'yelp_polarity': (\"text\", None),\n",
    "    \n",
    "}\n",
    "\n",
    "adapter_info = {\n",
    "                'bert-base-uncased':\n",
    "                    {\n",
    "                        'imdb': 'AdapterHub/roberta-base-pf-imdb',\n",
    "                        'rotten_tomatoes': 'AdapterHub/roberta-base-pf-rotten_tomatoes',\n",
    "                        'sst2': 'AdapterHub/roberta-base-pf-sst2',\n",
    "                        'yelp_polarity': 'AdapterHub/roberta-base-pf-yelp_polarity'\n",
    "                    },\n",
    "                'roberta-base':\n",
    "                    {      \n",
    "                        'imdb': 'AdapterHub/roberta-base-pf-imdb',\n",
    "                        'rotten_tomatoes': 'AdapterHub/roberta-base-pf-rotten_tomatoes',\n",
    "                        'sst2': 'AdapterHub/roberta-base-pf-sst2',\n",
    "                        'yelp_polarity': 'AdapterHub/roberta-base-pf-yelp_polarity'\n",
    "                    }\n",
    "               }\n",
    "\n",
    "eval_data_dict = {'imdb': 'test', 'yelp_polarity': 'test'}\n",
    "\n",
    "is_glue = {\"cola\": True,\n",
    "            \"mnli\": True,\n",
    "            \"mrpc\": True,\n",
    "            \"qnli\": True,\n",
    "             \"qqp\": True,\n",
    "             \"rte\": True,\n",
    "            \"sst2\": True,\n",
    "            \"stsb\": True,\n",
    "            \"wnli\": True,}\n",
    "\n",
    "metric_dict = {'rotten_tomatoes': 'sst2', 'imdb': 'sst2', 'yelp_polarity': 'sst2'}\n",
    "\n",
    "current_time = datetime.now().strftime('%Y%m%d-%H%M%S')"
   ]
  },
  {
   "cell_type": "code",
   "execution_count": 3,
   "id": "38d956f2-9bef-45b5-8121-883ffa5b906f",
   "metadata": {},
   "outputs": [],
   "source": [
    "# if len(sys.argv) - 1 != 2:\n",
    "#     print('Argument error')\n",
    "#     exit(1)\n",
    "\n",
    "# _, arg1, arg2 = sys.argv\n",
    "\n",
    "# task_name_1 = arg1\n",
    "# task_name_2 = arg2\n",
    "\n",
    "sample_size = 1250\n",
    "\n",
    "task_name_2 = 'sst2'"
   ]
  },
  {
   "cell_type": "code",
   "execution_count": 4,
   "id": "36e77c17-5a2f-4f95-baff-678167dab5b9",
   "metadata": {},
   "outputs": [
    {
     "name": "stdout",
     "output_type": "stream",
     "text": [
      "/home/jaehan/research/adapter/adapter-poisoning/data_ign/case1_sentiment_residualVictim_attackTraining_tmp/sst2_attack_rotten_tomatoes_20231127-092604\n"
     ]
    }
   ],
   "source": [
    "task_list = ['imdb', 'rotten_tomatoes', 'sst2', 'yelp_polarity']\n",
    "\n",
    "moe_task = 'sentiment'\n",
    "\n",
    "\n",
    "attacker_name = f'{task_name_2}_attack_{moe_task}'\n",
    "model_name_or_path = 'roberta-base'\n",
    "pad_to_max_length = True\n",
    "max_seq_length = 128\n",
    "sample_size = None\n",
    "\n",
    "output_dir = os.path.join(data_dir, f'case2_sentiment_residualVictim_attackTraining_tmp/{attacker_name}_{current_time}')\n",
    "load_adapter_1 = adapter_info[model_name_or_path][task_name_1]\n",
    "load_adapter_2 = adapter_info[model_name_or_path][task_name_2]\n",
    "load_adapter_3 = adapter_info[model_name_or_path][task_name_1]\n",
    "\n",
    "@dataclass(eq=False)\n",
    "class AttackerConfig(PfeifferConfig):\n",
    "    attacker: bool = True\n",
    "\n",
    "@dataclass(eq=False)\n",
    "class VictimConfig(PfeifferConfig):\n",
    "    victim: bool = True\n",
    "\n",
    "\n",
    "adapter_config_1 = VictimConfig()\n",
    "adapter_config_2 = AttackerConfig()\n",
    "\n",
    "victim_head = f'{task_name_1}_with_{task_name_2}'\n",
    "singleTask_path = os.path.join(data_dir, 'case1_sentiment_moeBaseline')\n",
    "\n",
    "victim_head_path = None\n",
    "victim_head_name = None\n",
    "for dir_name in os.listdir(singleTask_path):\n",
    "    if victim_head in dir_name:\n",
    "        victim_head_name = dir_name\n",
    "        victim_head_path = os.path.join(singleTask_path, f'{dir_name}/trained_head/{victim_head}')\n",
    "\n",
    "assert(victim_head_path)\n",
    "\n",
    "random_seed = 0\n",
    "\n",
    "set_seed(random_seed)\n",
    "torch.manual_seed(random_seed)\n",
    "torch.cuda.manual_seed(random_seed)\n",
    "np.random.seed(random_seed)\n",
    "random.seed(random_seed)\n",
    "\n",
    "print(output_dir)"
   ]
  },
  {
   "cell_type": "code",
   "execution_count": 5,
   "id": "99628624-543b-4f00-b387-d78025a2da56",
   "metadata": {},
   "outputs": [],
   "source": [
    "raw_datasets_1 = load_dataset(\"glue\", task_name_1) if task_name_1 in is_glue else load_dataset(task_name_1)\n",
    "raw_datasets_2 = load_dataset(\"glue\", task_name_2) if task_name_2 in is_glue else load_dataset(task_name_2)"
   ]
  },
  {
   "cell_type": "code",
   "execution_count": 6,
   "id": "afc47007-8d23-4116-85aa-0486e82f45a4",
   "metadata": {},
   "outputs": [],
   "source": [
    "tokenizer = AutoTokenizer.from_pretrained(\n",
    "    model_name_or_path,\n",
    ")\n",
    "\n",
    "def get_data(task_name, raw_datasets):\n",
    "    sentence1_key, sentence2_key = task_to_keys[task_name]\n",
    "\n",
    "    if pad_to_max_length:\n",
    "        padding = \"max_length\"\n",
    "\n",
    "    def preprocess_function(examples):    \n",
    "        # Tokenize the texts\n",
    "        args = (\n",
    "            (examples[sentence1_key],) if sentence2_key is None else (examples[sentence1_key], examples[sentence2_key])\n",
    "        )\n",
    "        result = tokenizer(*args, padding=padding, max_length=max_seq_length, truncation=True)\n",
    "    \n",
    "        # Map labels to IDs (not necessary for GLUE tasks)\n",
    "        # if label_to_id is not None and \"label\" in examples:\n",
    "            # result[\"label\"] = [(label_to_id[l] if l != -1 else -1) for l in examples[\"label\"]]\n",
    "        result[\"label\"] = [(l if l != -1 else -1) for l in examples[\"label\"]]\n",
    "        return result\n",
    "        \n",
    "    raw_datasets = raw_datasets.map(\n",
    "        preprocess_function,\n",
    "        batched=True,\n",
    "        desc=\"Running tokenizer on dataset\",\n",
    "    )\n",
    "\n",
    "    return raw_datasets"
   ]
  },
  {
   "cell_type": "code",
   "execution_count": 7,
   "id": "829717d3-2691-4db4-b19b-6a0cb48f677b",
   "metadata": {},
   "outputs": [],
   "source": [
    "def get_num_labels(task_name, raw_datasets):\n",
    "    # Labels\n",
    "    if task_name_1 is not None:\n",
    "        is_regression = task_name == \"stsb\"\n",
    "        if not is_regression:\n",
    "            label_list = raw_datasets[\"train\"].features[\"label\"].names\n",
    "            num_labels = len(label_list)\n",
    "        else:\n",
    "            num_labels = 1\n",
    "    else:\n",
    "        # Trying to have good defaults here, don't hesitate to tweak to your needs.\n",
    "        is_regression = raw_datasets[\"train\"].features[\"label\"].dtype in [\"float32\", \"float64\"]\n",
    "        if is_regression:\n",
    "            num_labels = 1\n",
    "        else:\n",
    "            # A useful fast method:\n",
    "            # https://huggingface.co/docs/datasets/package_reference/main_classes.html#datasets.Dataset.unique\n",
    "            label_list = raw_datasets[\"train\"].unique(\"label\")\n",
    "            label_list.sort()  # Let's sort it for determinism\n",
    "            num_labels = len(label_list)\n",
    "    return num_labels, is_regression\n",
    "\n",
    "num_labels_1, is_regression_1 = get_num_labels(task_name_1, raw_datasets_1)\n",
    "num_labels_2, is_regression_2 = get_num_labels(task_name_2, raw_datasets_2)"
   ]
  },
  {
   "cell_type": "code",
   "execution_count": 8,
   "id": "c96974c5-73b3-4bb2-b590-b04bf7f4ace3",
   "metadata": {},
   "outputs": [
    {
     "data": {
      "application/vnd.jupyter.widget-view+json": {
       "model_id": "590173e7ede647b4ab6e17eb9117b807",
       "version_major": 2,
       "version_minor": 0
      },
      "text/plain": [
       "Running tokenizer on dataset:   0%|          | 0/872 [00:00<?, ? examples/s]"
      ]
     },
     "metadata": {},
     "output_type": "display_data"
    }
   ],
   "source": [
    "dataset1 = get_data(task_name_1, raw_datasets_1)\n",
    "dataset2 = get_data(task_name_2, raw_datasets_2)\n",
    "\n",
    "train_dataset_1 = dataset1['train']\n",
    "train_dataset_2 = dataset2['train']\n",
    "\n",
    "_train_dataset_1 = dataset1['train'].train_test_split(test_size=0.2, shuffle=True, seed=random_seed)\n",
    "_train_dataset_2 = dataset2['train'].train_test_split(test_size=0.2, shuffle=True, seed=random_seed)\n",
    "\n",
    "train_dataset_1 = _train_dataset_1['train']\n",
    "valid_dataset_1 = _train_dataset_1['test']\n",
    "train_dataset_2 = _train_dataset_2['train']\n",
    "valid_dataset_2 = _train_dataset_2['test']\n",
    "\n",
    "eval_dataset_1 = dataset1['validation'] if task_name_1 not in eval_data_dict else dataset1[eval_data_dict[task_name_1]]\n",
    "eval_dataset_2 = dataset2['validation'] if task_name_2 not in eval_data_dict else dataset2[eval_data_dict[task_name_2]]"
   ]
  },
  {
   "cell_type": "code",
   "execution_count": 9,
   "id": "9442c961-39eb-44ed-af0b-47f37c95e368",
   "metadata": {},
   "outputs": [
    {
     "data": {
      "text/plain": [
       "Dataset({\n",
       "    features: ['text', 'label', 'input_ids', 'attention_mask'],\n",
       "    num_rows: 6824\n",
       "})"
      ]
     },
     "execution_count": 9,
     "metadata": {},
     "output_type": "execute_result"
    }
   ],
   "source": [
    "train_dataset_1"
   ]
  },
  {
   "cell_type": "code",
   "execution_count": 10,
   "id": "a18b1528-6b98-4911-843f-dd8087c48feb",
   "metadata": {},
   "outputs": [
    {
     "data": {
      "text/plain": [
       "Dataset({\n",
       "    features: ['text', 'label', 'input_ids', 'attention_mask'],\n",
       "    num_rows: 1706\n",
       "})"
      ]
     },
     "execution_count": 10,
     "metadata": {},
     "output_type": "execute_result"
    }
   ],
   "source": [
    "valid_dataset_1"
   ]
  },
  {
   "cell_type": "code",
   "execution_count": 11,
   "id": "db54b13c-8b24-40a2-b2ee-92d3146ba44a",
   "metadata": {},
   "outputs": [
    {
     "name": "stderr",
     "output_type": "stream",
     "text": [
      "Some weights of the model checkpoint at roberta-base were not used when initializing RobertaAdapterModel: ['lm_head.dense.bias', 'lm_head.layer_norm.bias', 'lm_head.bias', 'lm_head.dense.weight', 'lm_head.layer_norm.weight']\n",
      "- This IS expected if you are initializing RobertaAdapterModel from the checkpoint of a model trained on another task or with another architecture (e.g. initializing a BertForSequenceClassification model from a BertForPreTraining model).\n",
      "- This IS NOT expected if you are initializing RobertaAdapterModel from the checkpoint of a model that you expect to be exactly identical (initializing a BertForSequenceClassification model from a BertForSequenceClassification model).\n",
      "Some weights of RobertaAdapterModel were not initialized from the model checkpoint at roberta-base and are newly initialized: ['roberta.pooler.dense.weight', 'roberta.pooler.dense.bias']\n",
      "You should probably TRAIN this model on a down-stream task to be able to use it for predictions and inference.\n"
     ]
    },
    {
     "data": {
      "application/vnd.jupyter.widget-view+json": {
       "model_id": "9aac66a1a3cd47019cc7a6a58bbe6c77",
       "version_major": 2,
       "version_minor": 0
      },
      "text/plain": [
       "Fetching 6 files:   0%|          | 0/6 [00:00<?, ?it/s]"
      ]
     },
     "metadata": {},
     "output_type": "display_data"
    },
    {
     "data": {
      "application/vnd.jupyter.widget-view+json": {
       "model_id": "55a1b85233514deaab4da3ed3b2ae7ca",
       "version_major": 2,
       "version_minor": 0
      },
      "text/plain": [
       "Fetching 6 files:   0%|          | 0/6 [00:00<?, ?it/s]"
      ]
     },
     "metadata": {},
     "output_type": "display_data"
    },
    {
     "data": {
      "application/vnd.jupyter.widget-view+json": {
       "model_id": "ed35cb34fb9447998d956452bf09d1c7",
       "version_major": 2,
       "version_minor": 0
      },
      "text/plain": [
       "Fetching 6 files:   0%|          | 0/6 [00:00<?, ?it/s]"
      ]
     },
     "metadata": {},
     "output_type": "display_data"
    }
   ],
   "source": [
    "model = AutoAdapterModel.from_pretrained(\n",
    "    model_name_or_path,\n",
    "    ignore_mismatched_sizes=False\n",
    ")\n",
    "\n",
    "model.freeze_model(True)\n",
    "\n",
    "adapter1 = model.load_adapter(load_adapter_1, with_head=False, config=adapter_config_1)\n",
    "adapter2 = model.load_adapter(load_adapter_2, with_head=True, load_as=attacker_name, config=adapter_config_2)\n",
    "\n",
    "model.train_adapter([attacker_name])\n",
    "\n",
    "model.active_adapters = ac.Parallel(adapter1, adapter2, adapter3, attack=True)\n",
    "\n",
    "model.load_head(victim_head_path)\n",
    "model.active_head = [victim_head, attacker_name]"
   ]
  },
  {
   "cell_type": "code",
   "execution_count": 12,
   "id": "c049c1bb-d070-4c76-93e2-89ec0a29045a",
   "metadata": {
    "scrolled": true
   },
   "outputs": [
    {
     "name": "stdout",
     "output_type": "stream",
     "text": [
      "================================================================================\n",
      "Name                     Architecture         #Param      %Param  Active   Train\n",
      "--------------------------------------------------------------------------------\n",
      "rotten_tomatoes          bottleneck          894,528       0.718       1       0\n",
      "sst2_attack_rotten_tomatoesbottleneck          894,528       0.718       1       1\n",
      "rotten_tomatoes_residual bottleneck          894,528       0.718       1       0\n",
      "--------------------------------------------------------------------------------\n",
      "Full model                               124,645,632     100.000               0\n",
      "================================================================================\n"
     ]
    }
   ],
   "source": [
    "print(model.adapter_summary())"
   ]
  },
  {
   "cell_type": "code",
   "execution_count": 13,
   "id": "53f7b287-4b31-4e9f-ab8d-74eea007b79f",
   "metadata": {},
   "outputs": [],
   "source": [
    "for k, v in model.named_parameters():\n",
    "    if 'heads' in k and 'with' in k:\n",
    "        v.requires_grad = False"
   ]
  },
  {
   "cell_type": "code",
   "execution_count": 14,
   "id": "688da019-0ab0-4a5a-aa8e-53b6b3c841f8",
   "metadata": {},
   "outputs": [
    {
     "data": {
      "text/plain": [
       "['rotten_tomatoes_with_sst2', 'sst2_attack_rotten_tomatoes']"
      ]
     },
     "execution_count": 14,
     "metadata": {},
     "output_type": "execute_result"
    }
   ],
   "source": [
    "model.active_head"
   ]
  },
  {
   "cell_type": "code",
   "execution_count": 15,
   "id": "db8924ee-3913-4283-a18b-9b0c96430039",
   "metadata": {},
   "outputs": [
    {
     "name": "stdout",
     "output_type": "stream",
     "text": [
      "roberta.encoder.layer.0.output.adapters.sst2_attack_rotten_tomatoes.adapter_down.0.weight\n",
      "roberta.encoder.layer.0.output.adapters.sst2_attack_rotten_tomatoes.adapter_down.0.bias\n",
      "roberta.encoder.layer.0.output.adapters.sst2_attack_rotten_tomatoes.adapter_up.weight\n",
      "roberta.encoder.layer.0.output.adapters.sst2_attack_rotten_tomatoes.adapter_up.bias\n",
      "roberta.encoder.layer.1.output.adapters.sst2_attack_rotten_tomatoes.adapter_down.0.weight\n",
      "roberta.encoder.layer.1.output.adapters.sst2_attack_rotten_tomatoes.adapter_down.0.bias\n",
      "roberta.encoder.layer.1.output.adapters.sst2_attack_rotten_tomatoes.adapter_up.weight\n",
      "roberta.encoder.layer.1.output.adapters.sst2_attack_rotten_tomatoes.adapter_up.bias\n",
      "roberta.encoder.layer.2.output.adapters.sst2_attack_rotten_tomatoes.adapter_down.0.weight\n",
      "roberta.encoder.layer.2.output.adapters.sst2_attack_rotten_tomatoes.adapter_down.0.bias\n",
      "roberta.encoder.layer.2.output.adapters.sst2_attack_rotten_tomatoes.adapter_up.weight\n",
      "roberta.encoder.layer.2.output.adapters.sst2_attack_rotten_tomatoes.adapter_up.bias\n",
      "roberta.encoder.layer.3.output.adapters.sst2_attack_rotten_tomatoes.adapter_down.0.weight\n",
      "roberta.encoder.layer.3.output.adapters.sst2_attack_rotten_tomatoes.adapter_down.0.bias\n",
      "roberta.encoder.layer.3.output.adapters.sst2_attack_rotten_tomatoes.adapter_up.weight\n",
      "roberta.encoder.layer.3.output.adapters.sst2_attack_rotten_tomatoes.adapter_up.bias\n",
      "roberta.encoder.layer.4.output.adapters.sst2_attack_rotten_tomatoes.adapter_down.0.weight\n",
      "roberta.encoder.layer.4.output.adapters.sst2_attack_rotten_tomatoes.adapter_down.0.bias\n",
      "roberta.encoder.layer.4.output.adapters.sst2_attack_rotten_tomatoes.adapter_up.weight\n",
      "roberta.encoder.layer.4.output.adapters.sst2_attack_rotten_tomatoes.adapter_up.bias\n",
      "roberta.encoder.layer.5.output.adapters.sst2_attack_rotten_tomatoes.adapter_down.0.weight\n",
      "roberta.encoder.layer.5.output.adapters.sst2_attack_rotten_tomatoes.adapter_down.0.bias\n",
      "roberta.encoder.layer.5.output.adapters.sst2_attack_rotten_tomatoes.adapter_up.weight\n",
      "roberta.encoder.layer.5.output.adapters.sst2_attack_rotten_tomatoes.adapter_up.bias\n",
      "roberta.encoder.layer.6.output.adapters.sst2_attack_rotten_tomatoes.adapter_down.0.weight\n",
      "roberta.encoder.layer.6.output.adapters.sst2_attack_rotten_tomatoes.adapter_down.0.bias\n",
      "roberta.encoder.layer.6.output.adapters.sst2_attack_rotten_tomatoes.adapter_up.weight\n",
      "roberta.encoder.layer.6.output.adapters.sst2_attack_rotten_tomatoes.adapter_up.bias\n",
      "roberta.encoder.layer.7.output.adapters.sst2_attack_rotten_tomatoes.adapter_down.0.weight\n",
      "roberta.encoder.layer.7.output.adapters.sst2_attack_rotten_tomatoes.adapter_down.0.bias\n",
      "roberta.encoder.layer.7.output.adapters.sst2_attack_rotten_tomatoes.adapter_up.weight\n",
      "roberta.encoder.layer.7.output.adapters.sst2_attack_rotten_tomatoes.adapter_up.bias\n",
      "roberta.encoder.layer.8.output.adapters.sst2_attack_rotten_tomatoes.adapter_down.0.weight\n",
      "roberta.encoder.layer.8.output.adapters.sst2_attack_rotten_tomatoes.adapter_down.0.bias\n",
      "roberta.encoder.layer.8.output.adapters.sst2_attack_rotten_tomatoes.adapter_up.weight\n",
      "roberta.encoder.layer.8.output.adapters.sst2_attack_rotten_tomatoes.adapter_up.bias\n",
      "roberta.encoder.layer.9.output.adapters.sst2_attack_rotten_tomatoes.adapter_down.0.weight\n",
      "roberta.encoder.layer.9.output.adapters.sst2_attack_rotten_tomatoes.adapter_down.0.bias\n",
      "roberta.encoder.layer.9.output.adapters.sst2_attack_rotten_tomatoes.adapter_up.weight\n",
      "roberta.encoder.layer.9.output.adapters.sst2_attack_rotten_tomatoes.adapter_up.bias\n",
      "roberta.encoder.layer.10.output.adapters.sst2_attack_rotten_tomatoes.adapter_down.0.weight\n",
      "roberta.encoder.layer.10.output.adapters.sst2_attack_rotten_tomatoes.adapter_down.0.bias\n",
      "roberta.encoder.layer.10.output.adapters.sst2_attack_rotten_tomatoes.adapter_up.weight\n",
      "roberta.encoder.layer.10.output.adapters.sst2_attack_rotten_tomatoes.adapter_up.bias\n",
      "roberta.encoder.layer.11.output.adapters.sst2_attack_rotten_tomatoes.adapter_down.0.weight\n",
      "roberta.encoder.layer.11.output.adapters.sst2_attack_rotten_tomatoes.adapter_down.0.bias\n",
      "roberta.encoder.layer.11.output.adapters.sst2_attack_rotten_tomatoes.adapter_up.weight\n",
      "roberta.encoder.layer.11.output.adapters.sst2_attack_rotten_tomatoes.adapter_up.bias\n",
      "heads.sst2_attack_rotten_tomatoes.1.weight\n",
      "heads.sst2_attack_rotten_tomatoes.1.bias\n",
      "heads.sst2_attack_rotten_tomatoes.4.weight\n",
      "heads.sst2_attack_rotten_tomatoes.4.bias\n"
     ]
    }
   ],
   "source": [
    "for k, v in model.named_parameters():\n",
    "    if v.requires_grad:\n",
    "        print(k)"
   ]
  },
  {
   "cell_type": "code",
   "execution_count": 16,
   "id": "c3de5946-0170-413f-ab98-ebce00dffacb",
   "metadata": {},
   "outputs": [],
   "source": [
    "per_device_train_batch_size = 64\n",
    "per_device_eval_batch_size = 256\n",
    "weight_decay = 0.0\n",
    "learning_rate = 1e-3\n",
    "num_train_epochs = 20\n",
    "lr_scheduler_type = 'cosine'\n",
    "warmup_ratio = 0.1\n",
    "alpha = 0.6\n",
    "patience = 4\n",
    "\n",
    "loss_victim_single = 'cossim'\n",
    "\n",
    "assert(loss_victim_single in ['kld', 'cossim'])\n",
    "\n",
    "optimizer = torch.optim.AdamW(model.parameters(), lr=learning_rate)\n",
    "total_batch_size_train = per_device_train_batch_size * device_count\n",
    "total_batch_size_eval = per_device_eval_batch_size * device_count"
   ]
  },
  {
   "cell_type": "code",
   "execution_count": 17,
   "id": "a007ecf3-1e37-4afd-b6bd-4a0864943868",
   "metadata": {},
   "outputs": [],
   "source": [
    "def compute_metrics(p: EvalPrediction):\n",
    "    preds = p.predictions[0] if isinstance(p.predictions, tuple) else p.predictions\n",
    "    preds = np.argmax(preds, axis=1)\n",
    "    \n",
    "    return {\"accuracy\": (preds == p.label_ids).astype(np.float32).mean().item()}"
   ]
  },
  {
   "cell_type": "code",
   "execution_count": 18,
   "id": "6310bfb1-440c-4baf-8c4c-108c1ad83822",
   "metadata": {},
   "outputs": [],
   "source": [
    "training_args = TrainingArguments(\n",
    "    report_to='all',\n",
    "    remove_unused_columns=False,\n",
    "    output_dir=output_dir,\n",
    "    per_device_train_batch_size=per_device_train_batch_size,\n",
    "    per_device_eval_batch_size=per_device_eval_batch_size,\n",
    "    num_train_epochs=num_train_epochs,\n",
    "    logging_dir=\"./logs\",\n",
    "    seed=random_seed,\n",
    "    data_seed=random_seed,\n",
    "    do_train=True,\n",
    "    do_eval=True,\n",
    "    learning_rate=learning_rate,\n",
    "    lr_scheduler_type=lr_scheduler_type,\n",
    "    warmup_ratio=warmup_ratio,\n",
    "    evaluation_strategy='epoch',\n",
    "    logging_strategy='epoch',\n",
    "    save_strategy='epoch',\n",
    "    # eval_steps=100,\n",
    "    # logging_steps=100,\n",
    "    # save_steps=100,\n",
    "    save_total_limit=1,\n",
    "    load_best_model_at_end = True,\n",
    "    metric_for_best_model = 'loss'\n",
    ")\n",
    "\n",
    "loss_fct = CrossEntropyLoss()\n",
    "loss_kl = nn.KLDivLoss(reduction=\"batchmean\", log_target=True)\n",
    "loss_dist = nn.PairwiseDistance(p=2)\n",
    "loss_cosine = nn.CosineSimilarity(dim=2)\n",
    "\n",
    "def loss_attack(logits, mixed_hidden, victim_single_hidden, labels):\n",
    "    loss_cls = loss_fct(logits.view(-1, num_labels_2), labels.view(-1))\n",
    "\n",
    "    loss_res = 0.0\n",
    "    \n",
    "    for _mixed_hidden, _victim_single_hidden in zip(mixed_hidden, victim_single_hidden):\n",
    "        if loss_victim_single == 'cossim':\n",
    "            loss_res += loss_cosine(_mixed_hidden, _victim_single_hidden).mean()\n",
    "        elif loss_victim_single == 'kld':\n",
    "            _loss_kl = 0.0\n",
    "            for _m, _r in zip(_mixed_hidden, _victim_single_hidden):\n",
    "                _loss_kl += F.sigmoid(loss_kl(F.log_softmax(_m, dim=1), F.log_softmax(_r, dim=1)))\n",
    "            _loss_kl = _loss_kl / _mixed_hidden.shape[0]\n",
    "            \n",
    "            loss_res += -1 * _loss_kl\n",
    "\n",
    "    loss_res = loss_res / len(mixed_hidden)\n",
    "\n",
    "    loss = (alpha * loss_cls) + ((1 - alpha) * loss_res)\n",
    "\n",
    "    return loss, loss_cls, loss_res\n",
    "\n",
    "class CustomTrainer(Trainer):\n",
    "    def compute_loss(self, model, inputs):\n",
    "        \"\"\"\n",
    "        Compute the ensemble loss here\n",
    "        \"\"\"\n",
    "\n",
    "        labels = inputs.pop('labels')\n",
    "\n",
    "        # Compute model outputs\n",
    "        outputs, _, mixed_hidden, victim_single_hidden= model(**inputs, output_hidden_states=True)\n",
    "\n",
    "        logits = outputs.logits\n",
    "        \n",
    "        loss, loss_cls, loss_res = loss_attack(logits, mixed_hidden, victim_single_hidden, labels)\n",
    "\n",
    "        return loss\n",
    "\n",
    "    def evaluation_loop(\n",
    "        self,\n",
    "        dataloader,\n",
    "        description: str,\n",
    "        prediction_loss_only: Optional[bool] = None,\n",
    "        ignore_keys: Optional[List[str]] = None,\n",
    "        metric_key_prefix: str = \"eval\",\n",
    "    ):\n",
    "        # This is a simple modification. For more custom behavior, \n",
    "        # you might want to start from the original code in Trainer's evaluation_loop.\n",
    "        \n",
    "        # Initialize metrics, etc.\n",
    "        self.model.eval()\n",
    "        total_eval_loss = 0\n",
    "        total_eval_loss_cls = 0\n",
    "        total_eval_loss_res = 0\n",
    "        total_eval_loss_cls_mixed = 0\n",
    "        \n",
    "        total_preds = []\n",
    "        total_logits = []\n",
    "        total_labels = []\n",
    "        total_eval_metrics = {}\n",
    "        \n",
    "        for step, inputs in enumerate(dataloader):\n",
    "            labels = inputs.pop('labels').to(self.args.device)\n",
    "            \n",
    "            # Move inputs to appropriate device\n",
    "            for k, v in inputs.items():\n",
    "                inputs[k] = v.to(self.args.device)\n",
    "            \n",
    "            # Forward pass and compute loss and metrics\n",
    "            with torch.no_grad():\n",
    "                outputs, outputs_mixed, mixed_hidden, victim_single_hidden = model(**inputs, output_hidden_states=True)\n",
    "        \n",
    "                logits = outputs.logits\n",
    "                logits_mixed = outputs_mixed.logits\n",
    "            \n",
    "            loss, loss_cls, loss_res = loss_attack(logits, mixed_hidden, victim_single_hidden, labels)\n",
    "\n",
    "            loss_cls_mixed = loss_fct(logits_mixed.view(-1, num_labels_2), labels.view(-1))\n",
    "            \n",
    "            total_eval_loss += loss.item()\n",
    "            total_eval_loss_cls += loss_cls.item()\n",
    "            total_eval_loss_res += loss_res.item()\n",
    "            total_eval_loss_cls_mixed += loss_cls_mixed.item()\n",
    "\n",
    "            total_logits.extend(logits.detach().cpu().numpy())\n",
    "            total_preds.extend(logits.argmax(dim=-1))\n",
    "            total_labels.extend(labels.detach().cpu().numpy())\n",
    "\n",
    "        average_eval_loss = total_eval_loss / len(dataloader)\n",
    "        average_eval_loss_cls = total_eval_loss_cls / len(dataloader)\n",
    "        average_eval_loss_res = total_eval_loss_res / len(dataloader)\n",
    "        average_eval_loss_cls_mixed = total_eval_loss_cls_mixed / len(dataloader)\n",
    "        \n",
    "        eval_pred = EvalPrediction(predictions=total_logits, label_ids=total_labels)\n",
    "        \n",
    "        metrics = self.compute_metrics(eval_pred)\n",
    "\n",
    "        # Average the metrics\n",
    "        num_eval_samples = len(dataloader.dataset)\n",
    "        total_eval_metrics = {f'{metric_key_prefix}_loss': average_eval_loss, \n",
    "                              f'{metric_key_prefix}_loss_cls': average_eval_loss_cls, \n",
    "                              f'{metric_key_prefix}_loss_res': average_eval_loss_res, \n",
    "                              f'{metric_key_prefix}_loss_cls_mixed': average_eval_loss_cls_mixed, \n",
    "                              f'{metric_key_prefix}_accuracy': metrics['accuracy']}\n",
    "\n",
    "        # return total_eval_loss, total_eval_metrics\n",
    "        return EvalLoopOutput(predictions=total_preds, \n",
    "                              label_ids=total_labels, \n",
    "                              metrics=total_eval_metrics, \n",
    "                              num_samples=num_eval_samples)\n",
    "\n",
    "class CustomTrainerEvalMix(Trainer):\n",
    "    def evaluation_loop(\n",
    "        self,\n",
    "        dataloader,\n",
    "        description: str,\n",
    "        prediction_loss_only: Optional[bool] = None,\n",
    "        ignore_keys: Optional[List[str]] = None,\n",
    "        metric_key_prefix: str = \"eval\",\n",
    "    ):\n",
    "        # This is a simple modification. For more custom behavior, \n",
    "        # you might want to start from the original code in Trainer's evaluation_loop.\n",
    "        \n",
    "        # Initialize metrics, etc.\n",
    "        self.model.eval()\n",
    "        total_eval_loss = 0\n",
    "        total_eval_loss_mixed = 0\n",
    "        total_preds = []\n",
    "        total_logits = []\n",
    "        total_labels = []\n",
    "        total_eval_metrics = {}\n",
    "        \n",
    "        for step, inputs in enumerate(dataloader):\n",
    "            labels = inputs.pop('labels').to(self.args.device)\n",
    "            \n",
    "            # Move inputs to appropriate device\n",
    "            for k, v in inputs.items():\n",
    "                inputs[k] = v.to(self.args.device)\n",
    "            \n",
    "            # Forward pass and compute loss and metrics\n",
    "            with torch.no_grad():\n",
    "                outputs, outputs_mixed, mixed_hidden, victim_single_hidden = model(**inputs, output_hidden_states=True)\n",
    "        \n",
    "                logits_mixed = outputs_mixed.logits\n",
    "\n",
    "            loss_mixed = loss_fct(logits_mixed.view(-1, num_labels_2), labels.view(-1))\n",
    "\n",
    "            total_eval_loss_mixed += loss_mixed.item()\n",
    "\n",
    "            total_logits.extend(logits_mixed.detach().cpu().numpy())\n",
    "            total_preds.extend(logits_mixed.argmax(dim=-1))\n",
    "            total_labels.extend(labels.detach().cpu().numpy())\n",
    "\n",
    "        average_eval_loss_mixed = total_eval_loss_mixed / len(dataloader)\n",
    "        \n",
    "        eval_pred = EvalPrediction(predictions=total_logits, label_ids=total_labels)\n",
    "        \n",
    "        metrics = self.compute_metrics(eval_pred)\n",
    "\n",
    "        # Average the metrics\n",
    "        num_eval_samples = len(dataloader.dataset)\n",
    "        total_eval_metrics = {f'{metric_key_prefix}_loss_cls_mixed': average_eval_loss_mixed, f'{metric_key_prefix}_accuracy_mixed': metrics['accuracy']}\n",
    "\n",
    "        # return total_eval_loss, total_eval_metrics\n",
    "        return EvalLoopOutput(predictions=total_preds, \n",
    "                              label_ids=total_labels, \n",
    "                              metrics=total_eval_metrics, \n",
    "                              num_samples=num_eval_samples)\n",
    "        \n",
    "trainer = CustomTrainer(\n",
    "        model=model,\n",
    "        args=training_args,\n",
    "        train_dataset=train_dataset_2,\n",
    "        eval_dataset=valid_dataset_2,\n",
    "        tokenizer=tokenizer,\n",
    "        data_collator=default_data_collator,\n",
    "        compute_metrics=compute_metrics,\n",
    "        callbacks = [EarlyStoppingCallback(early_stopping_patience=patience)]\n",
    "    )"
   ]
  },
  {
   "cell_type": "code",
   "execution_count": 19,
   "id": "3df5dcbc-4b57-4d88-a602-1a59b5a3001a",
   "metadata": {},
   "outputs": [
    {
     "name": "stderr",
     "output_type": "stream",
     "text": [
      "/home/jaehan/research/adapter/adapter-poisoning/transformers/optimization.py:306: FutureWarning: This implementation of AdamW is deprecated and will be removed in a future version. Use the PyTorch implementation torch.optim.AdamW instead, or set `no_deprecation_warning=True` to disable this warning\n",
      "  warnings.warn(\n",
      "***** Running training *****\n",
      "  Num examples = 53879\n",
      "  Num Epochs = 20\n",
      "  Instantaneous batch size per device = 64\n",
      "  Total train batch size (w. parallel, distributed & accumulation) = 64\n",
      "  Gradient Accumulation steps = 1\n",
      "  Total optimization steps = 16840\n",
      "  Number of trainable parameters = 1486658\n"
     ]
    },
    {
     "data": {
      "text/html": [
       "\n",
       "    <div>\n",
       "      \n",
       "      <progress value='8' max='16840' style='width:300px; height:20px; vertical-align: middle;'></progress>\n",
       "      [    8/16840 00:03 < 2:59:24, 1.56 it/s, Epoch 0.01/20]\n",
       "    </div>\n",
       "    <table border=\"1\" class=\"dataframe\">\n",
       "  <thead>\n",
       " <tr style=\"text-align: left;\">\n",
       "      <th>Epoch</th>\n",
       "      <th>Training Loss</th>\n",
       "      <th>Validation Loss</th>\n",
       "      <th>Loss Cls</th>\n",
       "      <th>Loss Res</th>\n",
       "      <th>Loss Cls Mixed</th>\n",
       "      <th>Accuracy</th>\n",
       "    </tr>\n",
       "  </thead>\n",
       "  <tbody>\n",
       "    <tr>\n",
       "      <td>0</td>\n",
       "      <td>No log</td>\n",
       "      <td>0.822769</td>\n",
       "      <td>0.713234</td>\n",
       "      <td>0.987071</td>\n",
       "      <td>0.156337</td>\n",
       "      <td>0.511468</td>\n",
       "    </tr>\n",
       "  </tbody>\n",
       "</table><p>"
      ],
      "text/plain": [
       "<IPython.core.display.HTML object>"
      ]
     },
     "metadata": {},
     "output_type": "display_data"
    },
    {
     "ename": "KeyboardInterrupt",
     "evalue": "",
     "output_type": "error",
     "traceback": [
      "\u001b[0;31m---------------------------------------------------------------------------\u001b[0m",
      "\u001b[0;31mKeyboardInterrupt\u001b[0m                         Traceback (most recent call last)",
      "Cell \u001b[0;32mIn[19], line 18\u001b[0m\n\u001b[1;32m     15\u001b[0m \u001b[38;5;28;01mwith\u001b[39;00m \u001b[38;5;28mopen\u001b[39m(os\u001b[38;5;241m.\u001b[39mpath\u001b[38;5;241m.\u001b[39mjoin(output_dir, \u001b[38;5;124m\"\u001b[39m\u001b[38;5;124mhyperparameters.json\u001b[39m\u001b[38;5;124m\"\u001b[39m), \u001b[38;5;124m\"\u001b[39m\u001b[38;5;124mw\u001b[39m\u001b[38;5;124m\"\u001b[39m) \u001b[38;5;28;01mas\u001b[39;00m f:\n\u001b[1;32m     16\u001b[0m     json\u001b[38;5;241m.\u001b[39mdump(loss_history, f)\n\u001b[0;32m---> 18\u001b[0m train_result \u001b[38;5;241m=\u001b[39m \u001b[43mtrainer\u001b[49m\u001b[38;5;241;43m.\u001b[39;49m\u001b[43mtrain\u001b[49m\u001b[43m(\u001b[49m\u001b[43m)\u001b[49m\n\u001b[1;32m     19\u001b[0m metrics \u001b[38;5;241m=\u001b[39m train_result\u001b[38;5;241m.\u001b[39mmetrics\n\u001b[1;32m     21\u001b[0m trainer\u001b[38;5;241m.\u001b[39msave_model()\n",
      "File \u001b[0;32m~/research/adapter/adapter-poisoning/transformers/trainer.py:1543\u001b[0m, in \u001b[0;36mTrainer.train\u001b[0;34m(self, resume_from_checkpoint, trial, ignore_keys_for_eval, **kwargs)\u001b[0m\n\u001b[1;32m   1538\u001b[0m     \u001b[38;5;28mself\u001b[39m\u001b[38;5;241m.\u001b[39mmodel_wrapped \u001b[38;5;241m=\u001b[39m \u001b[38;5;28mself\u001b[39m\u001b[38;5;241m.\u001b[39mmodel\n\u001b[1;32m   1540\u001b[0m inner_training_loop \u001b[38;5;241m=\u001b[39m find_executable_batch_size(\n\u001b[1;32m   1541\u001b[0m     \u001b[38;5;28mself\u001b[39m\u001b[38;5;241m.\u001b[39m_inner_training_loop, \u001b[38;5;28mself\u001b[39m\u001b[38;5;241m.\u001b[39m_train_batch_size, args\u001b[38;5;241m.\u001b[39mauto_find_batch_size\n\u001b[1;32m   1542\u001b[0m )\n\u001b[0;32m-> 1543\u001b[0m \u001b[38;5;28;01mreturn\u001b[39;00m \u001b[43minner_training_loop\u001b[49m\u001b[43m(\u001b[49m\n\u001b[1;32m   1544\u001b[0m \u001b[43m    \u001b[49m\u001b[43margs\u001b[49m\u001b[38;5;241;43m=\u001b[39;49m\u001b[43margs\u001b[49m\u001b[43m,\u001b[49m\n\u001b[1;32m   1545\u001b[0m \u001b[43m    \u001b[49m\u001b[43mresume_from_checkpoint\u001b[49m\u001b[38;5;241;43m=\u001b[39;49m\u001b[43mresume_from_checkpoint\u001b[49m\u001b[43m,\u001b[49m\n\u001b[1;32m   1546\u001b[0m \u001b[43m    \u001b[49m\u001b[43mtrial\u001b[49m\u001b[38;5;241;43m=\u001b[39;49m\u001b[43mtrial\u001b[49m\u001b[43m,\u001b[49m\n\u001b[1;32m   1547\u001b[0m \u001b[43m    \u001b[49m\u001b[43mignore_keys_for_eval\u001b[49m\u001b[38;5;241;43m=\u001b[39;49m\u001b[43mignore_keys_for_eval\u001b[49m\u001b[43m,\u001b[49m\n\u001b[1;32m   1548\u001b[0m \u001b[43m\u001b[49m\u001b[43m)\u001b[49m\n",
      "File \u001b[0;32m~/research/adapter/adapter-poisoning/transformers/trainer.py:1791\u001b[0m, in \u001b[0;36mTrainer._inner_training_loop\u001b[0;34m(self, batch_size, args, resume_from_checkpoint, trial, ignore_keys_for_eval)\u001b[0m\n\u001b[1;32m   1789\u001b[0m         tr_loss_step \u001b[38;5;241m=\u001b[39m \u001b[38;5;28mself\u001b[39m\u001b[38;5;241m.\u001b[39mtraining_step(model, inputs)\n\u001b[1;32m   1790\u001b[0m \u001b[38;5;28;01melse\u001b[39;00m:\n\u001b[0;32m-> 1791\u001b[0m     tr_loss_step \u001b[38;5;241m=\u001b[39m \u001b[38;5;28;43mself\u001b[39;49m\u001b[38;5;241;43m.\u001b[39;49m\u001b[43mtraining_step\u001b[49m\u001b[43m(\u001b[49m\u001b[43mmodel\u001b[49m\u001b[43m,\u001b[49m\u001b[43m \u001b[49m\u001b[43minputs\u001b[49m\u001b[43m)\u001b[49m\n\u001b[1;32m   1793\u001b[0m \u001b[38;5;28;01mif\u001b[39;00m (\n\u001b[1;32m   1794\u001b[0m     args\u001b[38;5;241m.\u001b[39mlogging_nan_inf_filter\n\u001b[1;32m   1795\u001b[0m     \u001b[38;5;129;01mand\u001b[39;00m \u001b[38;5;129;01mnot\u001b[39;00m is_torch_tpu_available()\n\u001b[1;32m   1796\u001b[0m     \u001b[38;5;129;01mand\u001b[39;00m (torch\u001b[38;5;241m.\u001b[39misnan(tr_loss_step) \u001b[38;5;129;01mor\u001b[39;00m torch\u001b[38;5;241m.\u001b[39misinf(tr_loss_step))\n\u001b[1;32m   1797\u001b[0m ):\n\u001b[1;32m   1798\u001b[0m     \u001b[38;5;66;03m# if loss is nan or inf simply add the average of previous logged losses\u001b[39;00m\n\u001b[1;32m   1799\u001b[0m     tr_loss \u001b[38;5;241m+\u001b[39m\u001b[38;5;241m=\u001b[39m tr_loss \u001b[38;5;241m/\u001b[39m (\u001b[38;5;241m1\u001b[39m \u001b[38;5;241m+\u001b[39m \u001b[38;5;28mself\u001b[39m\u001b[38;5;241m.\u001b[39mstate\u001b[38;5;241m.\u001b[39mglobal_step \u001b[38;5;241m-\u001b[39m \u001b[38;5;28mself\u001b[39m\u001b[38;5;241m.\u001b[39m_globalstep_last_logged)\n",
      "File \u001b[0;32m~/research/adapter/adapter-poisoning/transformers/trainer.py:2557\u001b[0m, in \u001b[0;36mTrainer.training_step\u001b[0;34m(self, model, inputs)\u001b[0m\n\u001b[1;32m   2555\u001b[0m     loss \u001b[38;5;241m=\u001b[39m \u001b[38;5;28mself\u001b[39m\u001b[38;5;241m.\u001b[39mdeepspeed\u001b[38;5;241m.\u001b[39mbackward(loss)\n\u001b[1;32m   2556\u001b[0m \u001b[38;5;28;01melse\u001b[39;00m:\n\u001b[0;32m-> 2557\u001b[0m     \u001b[43mloss\u001b[49m\u001b[38;5;241;43m.\u001b[39;49m\u001b[43mbackward\u001b[49m\u001b[43m(\u001b[49m\u001b[43m)\u001b[49m\n\u001b[1;32m   2559\u001b[0m \u001b[38;5;28;01mreturn\u001b[39;00m loss\u001b[38;5;241m.\u001b[39mdetach()\n",
      "File \u001b[0;32m~/anaconda3/envs/pytorch2.0/lib/python3.11/site-packages/torch/_tensor.py:487\u001b[0m, in \u001b[0;36mTensor.backward\u001b[0;34m(self, gradient, retain_graph, create_graph, inputs)\u001b[0m\n\u001b[1;32m    477\u001b[0m \u001b[38;5;28;01mif\u001b[39;00m has_torch_function_unary(\u001b[38;5;28mself\u001b[39m):\n\u001b[1;32m    478\u001b[0m     \u001b[38;5;28;01mreturn\u001b[39;00m handle_torch_function(\n\u001b[1;32m    479\u001b[0m         Tensor\u001b[38;5;241m.\u001b[39mbackward,\n\u001b[1;32m    480\u001b[0m         (\u001b[38;5;28mself\u001b[39m,),\n\u001b[0;32m   (...)\u001b[0m\n\u001b[1;32m    485\u001b[0m         inputs\u001b[38;5;241m=\u001b[39minputs,\n\u001b[1;32m    486\u001b[0m     )\n\u001b[0;32m--> 487\u001b[0m \u001b[43mtorch\u001b[49m\u001b[38;5;241;43m.\u001b[39;49m\u001b[43mautograd\u001b[49m\u001b[38;5;241;43m.\u001b[39;49m\u001b[43mbackward\u001b[49m\u001b[43m(\u001b[49m\n\u001b[1;32m    488\u001b[0m \u001b[43m    \u001b[49m\u001b[38;5;28;43mself\u001b[39;49m\u001b[43m,\u001b[49m\u001b[43m \u001b[49m\u001b[43mgradient\u001b[49m\u001b[43m,\u001b[49m\u001b[43m \u001b[49m\u001b[43mretain_graph\u001b[49m\u001b[43m,\u001b[49m\u001b[43m \u001b[49m\u001b[43mcreate_graph\u001b[49m\u001b[43m,\u001b[49m\u001b[43m \u001b[49m\u001b[43minputs\u001b[49m\u001b[38;5;241;43m=\u001b[39;49m\u001b[43minputs\u001b[49m\n\u001b[1;32m    489\u001b[0m \u001b[43m\u001b[49m\u001b[43m)\u001b[49m\n",
      "File \u001b[0;32m~/anaconda3/envs/pytorch2.0/lib/python3.11/site-packages/torch/autograd/__init__.py:200\u001b[0m, in \u001b[0;36mbackward\u001b[0;34m(tensors, grad_tensors, retain_graph, create_graph, grad_variables, inputs)\u001b[0m\n\u001b[1;32m    195\u001b[0m     retain_graph \u001b[38;5;241m=\u001b[39m create_graph\n\u001b[1;32m    197\u001b[0m \u001b[38;5;66;03m# The reason we repeat same the comment below is that\u001b[39;00m\n\u001b[1;32m    198\u001b[0m \u001b[38;5;66;03m# some Python versions print out the first line of a multi-line function\u001b[39;00m\n\u001b[1;32m    199\u001b[0m \u001b[38;5;66;03m# calls in the traceback and some print out the last line\u001b[39;00m\n\u001b[0;32m--> 200\u001b[0m \u001b[43mVariable\u001b[49m\u001b[38;5;241;43m.\u001b[39;49m\u001b[43m_execution_engine\u001b[49m\u001b[38;5;241;43m.\u001b[39;49m\u001b[43mrun_backward\u001b[49m\u001b[43m(\u001b[49m\u001b[43m  \u001b[49m\u001b[38;5;66;43;03m# Calls into the C++ engine to run the backward pass\u001b[39;49;00m\n\u001b[1;32m    201\u001b[0m \u001b[43m    \u001b[49m\u001b[43mtensors\u001b[49m\u001b[43m,\u001b[49m\u001b[43m \u001b[49m\u001b[43mgrad_tensors_\u001b[49m\u001b[43m,\u001b[49m\u001b[43m \u001b[49m\u001b[43mretain_graph\u001b[49m\u001b[43m,\u001b[49m\u001b[43m \u001b[49m\u001b[43mcreate_graph\u001b[49m\u001b[43m,\u001b[49m\u001b[43m \u001b[49m\u001b[43minputs\u001b[49m\u001b[43m,\u001b[49m\n\u001b[1;32m    202\u001b[0m \u001b[43m    \u001b[49m\u001b[43mallow_unreachable\u001b[49m\u001b[38;5;241;43m=\u001b[39;49m\u001b[38;5;28;43;01mTrue\u001b[39;49;00m\u001b[43m,\u001b[49m\u001b[43m \u001b[49m\u001b[43maccumulate_grad\u001b[49m\u001b[38;5;241;43m=\u001b[39;49m\u001b[38;5;28;43;01mTrue\u001b[39;49;00m\u001b[43m)\u001b[49m\n",
      "\u001b[0;31mKeyboardInterrupt\u001b[0m: "
     ]
    }
   ],
   "source": [
    "os.makedirs(output_dir, exist_ok=True)\n",
    "\n",
    "loss_history = {'base_model': model_name_or_path,\n",
    "                'max_seq_length': max_seq_length,\n",
    "                'random_seed': random_seed,\n",
    "                'lr': learning_rate,\n",
    "                'warmup_ratio': warmup_ratio,\n",
    "                'early_stopping_patience': patience,\n",
    "                'total_batch_size': total_batch_size_train,\n",
    "                'num_train_epoch': num_train_epochs,\n",
    "                'victim_head_path': victim_head_path,\n",
    "                'alpha': alpha,\n",
    "                'loss_victim_single': loss_victim_single}\n",
    "\n",
    "with open(os.path.join(output_dir, \"hyperparameters.json\"), \"w\") as f:\n",
    "    json.dump(loss_history, f)\n",
    "\n",
    "train_result = trainer.train()\n",
    "metrics = train_result.metrics\n",
    "\n",
    "trainer.save_model()\n",
    "\n",
    "trainer.log_metrics(\"train\", metrics)\n",
    "trainer.save_metrics(\"train\", metrics)\n",
    "trainer.save_state()\n",
    "\n",
    "os.makedirs(os.path.join(output_dir, f\"trained_adapters\"), exist_ok=True)\n",
    "model.save_adapter(os.path.join(output_dir, f\"trained_adapters/{attacker_name}\"), attacker_name)\n",
    "\n",
    "os.makedirs(os.path.join(output_dir, f\"victim_head\"), exist_ok=True)\n",
    "model.save_head(os.path.join(output_dir, f\"victim_head/{victim_head_name}\"), victim_head)"
   ]
  },
  {
   "cell_type": "code",
   "execution_count": 23,
   "id": "39020e5d-680a-43b1-959c-47e785264e67",
   "metadata": {},
   "outputs": [],
   "source": [
    "trainer_evalMix = CustomTrainerEvalMix(\n",
    "        model=model,\n",
    "        args=training_args,\n",
    "        train_dataset=None,\n",
    "        eval_dataset=None,\n",
    "        tokenizer=tokenizer,\n",
    "        data_collator=default_data_collator,\n",
    "        compute_metrics=compute_metrics,\n",
    "        callbacks = [EarlyStoppingCallback(early_stopping_patience=patience)]\n",
    "    )"
   ]
  },
  {
   "cell_type": "code",
   "execution_count": 24,
   "id": "b639dbf3-4464-4c6c-a776-fcd276ba37f6",
   "metadata": {},
   "outputs": [
    {
     "name": "stdout",
     "output_type": "stream",
     "text": [
      "{'eval_loss': 0.8227687627077103, 'eval_loss_cls': 0.7132340371608734, 'eval_loss_res': 0.9870707392692566, 'eval_loss_cls_mixed': 0.15633722767233849, 'eval_accuracy': 0.5114678740501404}\n",
      "\n",
      "0.5114678740501404\n"
     ]
    }
   ],
   "source": [
    "# metrics_1 = trainer.evaluate(eval_dataset=eval_dataset_1)\n",
    "# print(metrics_1)\n",
    "metrics_2 = trainer.evaluate(eval_dataset=eval_dataset_2)\n",
    "print(metrics_2)\n",
    "print()\n",
    "print(metrics_2['eval_accuracy'])\n",
    "# trainer.save_metrics(\"eval\", {'metric_1': metrics_1, 'metric_2': metrics_2})"
   ]
  },
  {
   "cell_type": "code",
   "execution_count": 25,
   "id": "4aed3544-4d5a-4f76-b82f-ddbbb680d485",
   "metadata": {},
   "outputs": [
    {
     "ename": "KeyboardInterrupt",
     "evalue": "",
     "output_type": "error",
     "traceback": [
      "\u001b[0;31m---------------------------------------------------------------------------\u001b[0m",
      "\u001b[0;31mKeyboardInterrupt\u001b[0m                         Traceback (most recent call last)",
      "Cell \u001b[0;32mIn[25], line 1\u001b[0m\n\u001b[0;32m----> 1\u001b[0m metrics_1 \u001b[38;5;241m=\u001b[39m \u001b[43mtrainer_evalMix\u001b[49m\u001b[38;5;241;43m.\u001b[39;49m\u001b[43mevaluate\u001b[49m\u001b[43m(\u001b[49m\u001b[43meval_dataset\u001b[49m\u001b[38;5;241;43m=\u001b[39;49m\u001b[43meval_dataset_1\u001b[49m\u001b[43m)\u001b[49m\n\u001b[1;32m      2\u001b[0m \u001b[38;5;28mprint\u001b[39m(metrics_1)\n\u001b[1;32m      3\u001b[0m \u001b[38;5;28mprint\u001b[39m()\n",
      "File \u001b[0;32m~/research/adapter/adapter-poisoning/transformers/trainer.py:2827\u001b[0m, in \u001b[0;36mTrainer.evaluate\u001b[0;34m(self, eval_dataset, ignore_keys, metric_key_prefix)\u001b[0m\n\u001b[1;32m   2824\u001b[0m start_time \u001b[38;5;241m=\u001b[39m time\u001b[38;5;241m.\u001b[39mtime()\n\u001b[1;32m   2826\u001b[0m eval_loop \u001b[38;5;241m=\u001b[39m \u001b[38;5;28mself\u001b[39m\u001b[38;5;241m.\u001b[39mprediction_loop \u001b[38;5;28;01mif\u001b[39;00m \u001b[38;5;28mself\u001b[39m\u001b[38;5;241m.\u001b[39margs\u001b[38;5;241m.\u001b[39muse_legacy_prediction_loop \u001b[38;5;28;01melse\u001b[39;00m \u001b[38;5;28mself\u001b[39m\u001b[38;5;241m.\u001b[39mevaluation_loop\n\u001b[0;32m-> 2827\u001b[0m output \u001b[38;5;241m=\u001b[39m \u001b[43meval_loop\u001b[49m\u001b[43m(\u001b[49m\n\u001b[1;32m   2828\u001b[0m \u001b[43m    \u001b[49m\u001b[43meval_dataloader\u001b[49m\u001b[43m,\u001b[49m\n\u001b[1;32m   2829\u001b[0m \u001b[43m    \u001b[49m\u001b[43mdescription\u001b[49m\u001b[38;5;241;43m=\u001b[39;49m\u001b[38;5;124;43m\"\u001b[39;49m\u001b[38;5;124;43mEvaluation\u001b[39;49m\u001b[38;5;124;43m\"\u001b[39;49m\u001b[43m,\u001b[49m\n\u001b[1;32m   2830\u001b[0m \u001b[43m    \u001b[49m\u001b[38;5;66;43;03m# No point gathering the predictions if there are no metrics, otherwise we defer to\u001b[39;49;00m\n\u001b[1;32m   2831\u001b[0m \u001b[43m    \u001b[49m\u001b[38;5;66;43;03m# self.args.prediction_loss_only\u001b[39;49;00m\n\u001b[1;32m   2832\u001b[0m \u001b[43m    \u001b[49m\u001b[43mprediction_loss_only\u001b[49m\u001b[38;5;241;43m=\u001b[39;49m\u001b[38;5;28;43;01mTrue\u001b[39;49;00m\u001b[43m \u001b[49m\u001b[38;5;28;43;01mif\u001b[39;49;00m\u001b[43m \u001b[49m\u001b[38;5;28;43mself\u001b[39;49m\u001b[38;5;241;43m.\u001b[39;49m\u001b[43mcompute_metrics\u001b[49m\u001b[43m \u001b[49m\u001b[38;5;129;43;01mis\u001b[39;49;00m\u001b[43m \u001b[49m\u001b[38;5;28;43;01mNone\u001b[39;49;00m\u001b[43m \u001b[49m\u001b[38;5;28;43;01melse\u001b[39;49;00m\u001b[43m \u001b[49m\u001b[38;5;28;43;01mNone\u001b[39;49;00m\u001b[43m,\u001b[49m\n\u001b[1;32m   2833\u001b[0m \u001b[43m    \u001b[49m\u001b[43mignore_keys\u001b[49m\u001b[38;5;241;43m=\u001b[39;49m\u001b[43mignore_keys\u001b[49m\u001b[43m,\u001b[49m\n\u001b[1;32m   2834\u001b[0m \u001b[43m    \u001b[49m\u001b[43mmetric_key_prefix\u001b[49m\u001b[38;5;241;43m=\u001b[39;49m\u001b[43mmetric_key_prefix\u001b[49m\u001b[43m,\u001b[49m\n\u001b[1;32m   2835\u001b[0m \u001b[43m\u001b[49m\u001b[43m)\u001b[49m\n\u001b[1;32m   2837\u001b[0m total_batch_size \u001b[38;5;241m=\u001b[39m \u001b[38;5;28mself\u001b[39m\u001b[38;5;241m.\u001b[39margs\u001b[38;5;241m.\u001b[39meval_batch_size \u001b[38;5;241m*\u001b[39m \u001b[38;5;28mself\u001b[39m\u001b[38;5;241m.\u001b[39margs\u001b[38;5;241m.\u001b[39mworld_size\n\u001b[1;32m   2838\u001b[0m \u001b[38;5;28;01mif\u001b[39;00m \u001b[38;5;124mf\u001b[39m\u001b[38;5;124m\"\u001b[39m\u001b[38;5;132;01m{\u001b[39;00mmetric_key_prefix\u001b[38;5;132;01m}\u001b[39;00m\u001b[38;5;124m_jit_compilation_time\u001b[39m\u001b[38;5;124m\"\u001b[39m \u001b[38;5;129;01min\u001b[39;00m output\u001b[38;5;241m.\u001b[39mmetrics:\n",
      "Cell \u001b[0;32mIn[18], line 184\u001b[0m, in \u001b[0;36mCustomTrainerEvalMix.evaluation_loop\u001b[0;34m(self, dataloader, description, prediction_loss_only, ignore_keys, metric_key_prefix)\u001b[0m\n\u001b[1;32m    180\u001b[0m     logits_mixed \u001b[38;5;241m=\u001b[39m outputs_mixed\u001b[38;5;241m.\u001b[39mlogits\n\u001b[1;32m    182\u001b[0m loss_mixed \u001b[38;5;241m=\u001b[39m loss_fct(logits_mixed\u001b[38;5;241m.\u001b[39mview(\u001b[38;5;241m-\u001b[39m\u001b[38;5;241m1\u001b[39m, num_labels_2), labels\u001b[38;5;241m.\u001b[39mview(\u001b[38;5;241m-\u001b[39m\u001b[38;5;241m1\u001b[39m))\n\u001b[0;32m--> 184\u001b[0m total_eval_loss_mixed \u001b[38;5;241m+\u001b[39m\u001b[38;5;241m=\u001b[39m \u001b[43mloss_mixed\u001b[49m\u001b[38;5;241;43m.\u001b[39;49m\u001b[43mitem\u001b[49m\u001b[43m(\u001b[49m\u001b[43m)\u001b[49m\n\u001b[1;32m    186\u001b[0m total_logits\u001b[38;5;241m.\u001b[39mextend(logits_mixed\u001b[38;5;241m.\u001b[39mdetach()\u001b[38;5;241m.\u001b[39mcpu()\u001b[38;5;241m.\u001b[39mnumpy())\n\u001b[1;32m    187\u001b[0m total_preds\u001b[38;5;241m.\u001b[39mextend(logits_mixed\u001b[38;5;241m.\u001b[39margmax(dim\u001b[38;5;241m=\u001b[39m\u001b[38;5;241m-\u001b[39m\u001b[38;5;241m1\u001b[39m))\n",
      "\u001b[0;31mKeyboardInterrupt\u001b[0m: "
     ]
    }
   ],
   "source": [
    "metrics_1 = trainer_evalMix.evaluate(eval_dataset=eval_dataset_1)\n",
    "print(metrics_1)\n",
    "print()\n",
    "print(metrics_1['eval_accuracy_mixed'])\n",
    "# metrics_2 = trainer_evalMix.evaluate(eval_dataset=eval_dataset_2)\n",
    "# print(metrics_2)4\n",
    "trainer.save_metrics('eval', {'eval_attackerOnly': {'dataset_2': metrics_2}, \"eval_mix\": {'dataset_1': metrics_1}})"
   ]
  },
  {
   "cell_type": "code",
   "execution_count": null,
   "id": "b722d215-04e2-4dcd-99d9-b22e77a2156d",
   "metadata": {},
   "outputs": [],
   "source": [
    "# valid_dataset_1 = _train_dataset_1['test']\n",
    "# valid_dataset_2 = _train_dataset_2['test']\n",
    "# metrics_2 = trainer.evaluate(eval_dataset=valid_dataset_2)\n",
    "# print(metrics_2)\n",
    "# metrics_1 = trainer_evalMix.evaluate(eval_dataset=valid_dataset_1)\n",
    "# print(metrics_1)"
   ]
  },
  {
   "cell_type": "code",
   "execution_count": null,
   "id": "53427fb5-595a-49be-8bce-688267001416",
   "metadata": {},
   "outputs": [],
   "source": [
    "# input('Remove files?\\n')\n",
    "# import shutil\n",
    "# directory_path = output_dir\n",
    "# shutil.rmtree(directory_path)"
   ]
  },
  {
   "cell_type": "code",
   "execution_count": null,
   "id": "90a18af5-9cc5-455f-9e54-d9cedb221766",
   "metadata": {},
   "outputs": [],
   "source": []
  }
 ],
 "metadata": {
  "kernelspec": {
   "display_name": "pytorch2.0",
   "language": "python",
   "name": "pytorch2.0"
  },
  "language_info": {
   "codemirror_mode": {
    "name": "ipython",
    "version": 3
   },
   "file_extension": ".py",
   "mimetype": "text/x-python",
   "name": "python",
   "nbconvert_exporter": "python",
   "pygments_lexer": "ipython3",
   "version": "3.11.4"
  }
 },
 "nbformat": 4,
 "nbformat_minor": 5
}
