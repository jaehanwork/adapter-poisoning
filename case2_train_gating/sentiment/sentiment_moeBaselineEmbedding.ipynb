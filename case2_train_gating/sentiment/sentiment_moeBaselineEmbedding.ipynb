{
 "cells": [
  {
   "cell_type": "code",
   "execution_count": 1,
   "id": "d824c318-93d3-410a-8a0b-253b4ea85c3b",
   "metadata": {},
   "outputs": [],
   "source": [
    "import sys\n",
    "import os\n",
    "from dotenv import load_dotenv\n",
    "\n",
    "load_dotenv(os.path.expanduser('~/.env'), verbose=True)\n",
    "\n",
    "data_dir = os.getenv('DATA_IGN_DIR')\n",
    "adapter_lib_path = os.getenv('ADAPTER_LIB_PATH')\n",
    "\n",
    "sys.path.insert(0, adapter_lib_path)"
   ]
  },
  {
   "cell_type": "code",
   "execution_count": 2,
   "id": "df7048f5-5b82-4fa6-8d3a-5ccde0de0180",
   "metadata": {},
   "outputs": [
    {
     "name": "stdout",
     "output_type": "stream",
     "text": [
      "cuda 1\n"
     ]
    }
   ],
   "source": [
    "import logging\n",
    "os.environ[\"CUDA_VISIBLE_DEVICES\"] = '1'\n",
    "import random\n",
    "from dataclasses import dataclass, field\n",
    "from typing import Optional, List\n",
    "\n",
    "import datasets\n",
    "import numpy as np\n",
    "from datasets import load_dataset, concatenate_datasets\n",
    "\n",
    "from pprint import pprint\n",
    "\n",
    "import evaluate\n",
    "import transformers\n",
    "from transformers import (\n",
    "    AutoConfig,\n",
    "    AutoModel,\n",
    "    AutoTokenizer,\n",
    "    DataCollatorWithPadding,\n",
    "    EvalPrediction,\n",
    "    HfArgumentParser,\n",
    "    PretrainedConfig,\n",
    "    Trainer,\n",
    "    TrainingArguments,\n",
    "    default_data_collator,\n",
    "    set_seed,\n",
    "    get_scheduler,\n",
    "    PfeifferConfig\n",
    ")\n",
    "from transformers.adapters import AdapterArguments, AdapterTrainer, AdapterConfigBase, AutoAdapterModel, setup_adapter_training\n",
    "from transformers import AdapterConfig, EvalPrediction, TextClassificationPipeline\n",
    "from transformers.trainer_utils import get_last_checkpoint\n",
    "from transformers.utils import check_min_version\n",
    "from transformers.utils.versions import require_version\n",
    "\n",
    "from torch.utils.data import DataLoader\n",
    "import torch\n",
    "\n",
    "from pdb import set_trace\n",
    "import transformers.adapters.composition as ac\n",
    "\n",
    "from transformers.adapters.heads import ClassificationHead\n",
    "from torch.nn import CrossEntropyLoss, MSELoss\n",
    "\n",
    "from transformers.trainer_utils import EvalLoopOutput\n",
    "\n",
    "from sklearn.metrics import accuracy_score, classification_report, confusion_matrix, recall_score\n",
    "\n",
    "from tqdm import tqdm\n",
    "import json\n",
    "from datetime import datetime\n",
    "import random\n",
    "from datasets import concatenate_datasets, ClassLabel, Value\n",
    "\n",
    "from transformers import EarlyStoppingCallback\n",
    "\n",
    "import torch.nn as nn\n",
    "import torch.nn.functional as F\n",
    "\n",
    "from sklearn.metrics import f1_score, accuracy_score\n",
    "\n",
    "import gc\n",
    "\n",
    "device = torch.device('cuda' if torch.cuda.is_available() else 'cpu')\n",
    "device_count = torch.cuda.device_count()\n",
    "print(device, device_count)\n",
    "\n",
    "task_to_keys = {\n",
    "    \"cola\": (\"sentence\", None),\n",
    "    \"mnli\": (\"premise\", \"hypothesis\"),\n",
    "    \"mrpc\": (\"sentence1\", \"sentence2\"),\n",
    "    \"qnli\": (\"question\", \"sentence\"),\n",
    "    \"qqp\": (\"question1\", \"question2\"),\n",
    "    \"rte\": (\"sentence1\", \"sentence2\"),\n",
    "    \"sst2\": (\"sentence\", None),\n",
    "    \"stsb\": (\"sentence1\", \"sentence2\"),\n",
    "    \"wnli\": (\"sentence1\", \"sentence2\"),\n",
    "\n",
    "    'rotten_tomatoes': (\"text\", None),\n",
    "    'imdb': (\"text\", None),\n",
    "    'yelp_polarity': (\"text\", None),\n",
    "    \n",
    "}\n",
    "\n",
    "# adapter_info = {'cola': {'load_adapter': 'lingaccept/cola@ukp', 'adapter_config': 'pfeiffer'},\n",
    "#                 # 'mnli'\n",
    "#                 'mrpc': {'load_adapter': 'sts/mrpc@ukp',        'adapter_config': 'pfeiffer'},\n",
    "#                 'qnli': {'load_adapter': 'nli/qnli@ukp',        'adapter_config': 'pfeiffer'},\n",
    "#                 'qqp' : {'load_adapter': 'sts/qqp@ukp',         'adapter_config': 'pfeiffer'},\n",
    "#                 'rte' : {'load_adapter': 'nli/rte@ukp',         'adapter_config': 'pfeiffer'},\n",
    "#                 'sst2': {'load_adapter': 'sentiment/sst-2@ukp', 'adapter_config': 'pfeiffer'},\n",
    "#                 'stsb': {'load_adapter': 'sts/sts-b@ukp',       'adapter_config': 'pfeiffer'},\n",
    "                \n",
    "#                 'rotten_tomatoes': {'load_adapter': 'AdapterHub/bert-base-uncased-pf-rotten_tomatoes', 'adapter_config': 'pfeiffer'},\n",
    "#                 'imdb': {'load_adapter': 'AdapterHub/bert-base-uncased-pf-imdb', 'adapter_config': 'pfeiffer'},\n",
    "#                 'yelp_polarity': {'load_adapter': 'AdapterHub/bert-base-uncased-pf-yelp_polarity', 'adapter_config': 'pfeiffer'},\n",
    "#                }\n",
    "\n",
    "adapter_info = {\n",
    "                'bert-base-uncased':\n",
    "                    {\n",
    "                        'imdb': 'AdapterHub/roberta-base-pf-imdb',\n",
    "                        'rotten_tomatoes': 'AdapterHub/roberta-base-pf-rotten_tomatoes',\n",
    "                        'sst2': 'AdapterHub/roberta-base-pf-sst2',\n",
    "                        'yelp_polarity': 'AdapterHub/roberta-base-pf-yelp_polarity'\n",
    "                    },\n",
    "                'roberta-base':\n",
    "                    {      \n",
    "                        'imdb': 'AdapterHub/roberta-base-pf-imdb',\n",
    "                        'rotten_tomatoes': 'AdapterHub/roberta-base-pf-rotten_tomatoes',\n",
    "                        'sst2': 'AdapterHub/roberta-base-pf-sst2',\n",
    "                        'yelp_polarity': 'AdapterHub/roberta-base-pf-yelp_polarity'\n",
    "                    }\n",
    "               }\n",
    "\n",
    "eval_data_dict = {'imdb': 'test', 'yelp_polarity': 'test'}\n",
    "\n",
    "is_glue = {\"cola\": True,\n",
    "            \"mnli\": True,\n",
    "            \"mrpc\": True,\n",
    "            \"qnli\": True,\n",
    "             \"qqp\": True,\n",
    "             \"rte\": True,\n",
    "            \"sst2\": True,\n",
    "            \"stsb\": True,\n",
    "            \"wnli\": True,}\n",
    "\n",
    "metric_dict = {'rotten_tomatoes': 'sst2', 'imdb': 'sst2', 'yelp_polarity': 'sst2'}\n",
    "\n",
    "current_time = datetime.now().strftime('%Y%m%d-%H%M%S')"
   ]
  },
  {
   "cell_type": "code",
   "execution_count": 3,
   "id": "3dd0aa2f-2ac7-4004-a97d-3609af341401",
   "metadata": {},
   "outputs": [],
   "source": [
    "# if len(sys.argv) - 1 != 1:\n",
    "#     print('Argument error')\n",
    "#     exit(1)\n",
    "\n",
    "# _, arg1 = sys.argv\n",
    "\n",
    "# sample_size = int(arg1)\n",
    "\n",
    "sample_size = 100"
   ]
  },
  {
   "cell_type": "code",
   "execution_count": 4,
   "id": "36e77c17-5a2f-4f95-baff-678167dab5b9",
   "metadata": {},
   "outputs": [
    {
     "name": "stdout",
     "output_type": "stream",
     "text": [
      "['AdapterHub/roberta-base-pf-imdb', 'AdapterHub/roberta-base-pf-rotten_tomatoes', 'AdapterHub/roberta-base-pf-sst2', 'AdapterHub/roberta-base-pf-yelp_polarity']\n",
      "/home/jaehan/research/adapter/adapter-poisoning/data_ign/tmp_case2_sentiment_moeBaselineEmbedding/gating_sentiment_sample100_20231230-020721\n"
     ]
    }
   ],
   "source": [
    "task_list = ['imdb', 'rotten_tomatoes', 'sst2', 'yelp_polarity']\n",
    "\n",
    "moe_task = 'sentiment'\n",
    "\n",
    "task_name_str = f'gating_{moe_task}_sample{sample_size}'\n",
    "model_name_or_path = 'roberta-base'\n",
    "pad_to_max_length = True\n",
    "max_seq_length = 128\n",
    "output_dir = os.path.join(data_dir, f'tmp_case2_{moe_task}_moeBaselineEmbedding/{task_name_str}_{current_time}')\n",
    "\n",
    "adapter_list = [adapter_info[model_name_or_path][adapter] for adapter in task_list]\n",
    "print(adapter_list)\n",
    "\n",
    "adapter_config_default = 'pfeiffer'\n",
    "\n",
    "adapter_k = 2\n",
    "noisy_gating = True\n",
    "gating_layer = [0]\n",
    "\n",
    "num_labels = 2\n",
    "\n",
    "train_test_ratio = 0.2\n",
    "random_seed = 0\n",
    "\n",
    "set_seed(random_seed)\n",
    "torch.manual_seed(random_seed)\n",
    "torch.cuda.manual_seed(random_seed)\n",
    "np.random.seed(random_seed)\n",
    "random.seed(random_seed)\n",
    "\n",
    "print(output_dir)"
   ]
  },
  {
   "cell_type": "code",
   "execution_count": 5,
   "id": "afc47007-8d23-4116-85aa-0486e82f45a4",
   "metadata": {},
   "outputs": [],
   "source": [
    "tokenizer = AutoTokenizer.from_pretrained(\n",
    "    model_name_or_path,\n",
    ")\n",
    "\n",
    "def get_data(task_name, raw_datasets):\n",
    "    sentence1_key, sentence2_key = task_to_keys[task_name]\n",
    "\n",
    "    if pad_to_max_length:\n",
    "        padding = \"max_length\"\n",
    "\n",
    "    def preprocess_function(examples):    \n",
    "        # Tokenize the texts\n",
    "        args = (\n",
    "            (examples[sentence1_key],) if sentence2_key is None else (examples[sentence1_key], examples[sentence2_key])\n",
    "        )\n",
    "        result = tokenizer(*args, padding=padding, max_length=max_seq_length, truncation=True)\n",
    "    \n",
    "        # Map labels to IDs (not necessary for GLUE tasks)\n",
    "        # if label_to_id is not None and \"label\" in examples:\n",
    "            # result[\"label\"] = [(label_to_id[l] if l != -1 else -1) for l in examples[\"label\"]]\n",
    "        result[\"label\"] = [(l if l != -1 else -1) for l in examples[\"label\"]]\n",
    "\n",
    "        if sentence1_key == 'sentence':\n",
    "            examples['text'] = examples['sentence']\n",
    "            del examples['sentence']\n",
    "        if 'idx' in examples:\n",
    "            del examples['idx']\n",
    "        \n",
    "        return result\n",
    "        \n",
    "    raw_datasets = raw_datasets.map(\n",
    "        preprocess_function,\n",
    "        batched=True,\n",
    "        desc=\"Running tokenizer on dataset\",\n",
    "    )\n",
    "\n",
    "    return raw_datasets"
   ]
  },
  {
   "cell_type": "code",
   "execution_count": 6,
   "id": "99628624-543b-4f00-b387-d78025a2da56",
   "metadata": {},
   "outputs": [],
   "source": [
    "raw_datasets_list = []\n",
    "for task_name in task_list:\n",
    "    raw_datasets_list.append(load_dataset(task_name))"
   ]
  },
  {
   "cell_type": "code",
   "execution_count": 7,
   "id": "1598a82b-783e-4750-8d7d-77966f142d1e",
   "metadata": {},
   "outputs": [
    {
     "name": "stderr",
     "output_type": "stream",
     "text": [
      "Some weights of the model checkpoint at roberta-base were not used when initializing RobertaModel: ['lm_head.dense.bias', 'lm_head.dense.weight', 'lm_head.bias', 'lm_head.layer_norm.bias', 'lm_head.layer_norm.weight']\n",
      "- This IS expected if you are initializing RobertaModel from the checkpoint of a model trained on another task or with another architecture (e.g. initializing a BertForSequenceClassification model from a BertForPreTraining model).\n",
      "- This IS NOT expected if you are initializing RobertaModel from the checkpoint of a model that you expect to be exactly identical (initializing a BertForSequenceClassification model from a BertForSequenceClassification model).\n",
      "Some weights of RobertaModel were not initialized from the model checkpoint at roberta-base and are newly initialized: ['roberta.pooler.dense.bias', 'roberta.pooler.dense.weight']\n",
      "You should probably TRAIN this model on a down-stream task to be able to use it for predictions and inference.\n"
     ]
    }
   ],
   "source": [
    "model_embedding = AutoModel.from_pretrained(\n",
    "    model_name_or_path,\n",
    "    ignore_mismatched_sizes=False\n",
    ")\n",
    "model_embedding.freeze_model(True)\n",
    "model_embedding.to(device)\n",
    "\n",
    "def align_dataset_labels(dataset, task_name):\n",
    "    if task_name in ['sst2']:\n",
    "        new_features = dataset.features.copy()\n",
    "        new_features['label'] = ClassLabel(names=['neg', 'pos'])\n",
    "        dataset = dataset.cast(new_features)\n",
    "    elif task_name in ['yelp_polarity']:\n",
    "        new_features = dataset.features.copy()\n",
    "        new_features['label'] = ClassLabel(names=['neg', 'pos'])\n",
    "        dataset = dataset.cast(new_features)\n",
    "    return dataset\n",
    "\n",
    "def sample_dataset(dataset, sample_size):\n",
    "    # If the sample size is smaller than the dataset, shuffle and select\n",
    "    if sample_size <= len(dataset):\n",
    "        shuffled_dataset = dataset.shuffle(seed=random_seed)\n",
    "        sampled_dataset = shuffled_dataset.select(range(sample_size))\n",
    "    # If the sample size is larger, resample with replacement\n",
    "    else:\n",
    "        indices = [random.randint(0, len(dataset) - 1) for _ in range(sample_size)]\n",
    "        sampled_dataset = dataset.select(indices)\n",
    "\n",
    "    return sampled_dataset\n",
    "\n",
    "def add_dataset_label(example, dataset_id):\n",
    "    example['dataset_ids'] = dataset_id\n",
    "    return example\n",
    "\n",
    "def get_embedding(dataset):\n",
    "    remove_columns = [column for column in dataset.features.keys() if column not in ['input_ids', 'attention_mask']]\n",
    "    dataset = dataset.remove_columns(remove_columns)\n",
    "    dataloader = DataLoader(dataset, batch_size=512, shuffle=False, collate_fn=default_data_collator)\n",
    "    output_total = []\n",
    "    for inputs in tqdm(dataloader):\n",
    "        input_ids = inputs['input_ids'].to(device)\n",
    "        attention_mask = inputs['attention_mask'].to(device)\n",
    "        output = model_embedding(input_ids=input_ids, attention_mask=attention_mask)\n",
    "        output_total.append(output.last_hidden_state[:, 0].detach().cpu())\n",
    "    return torch.cat(output_total, dim=0)\n",
    "\n",
    "def add_embedding(example, idx, embedding):\n",
    "    example['embedding'] = embedding[idx]\n",
    "    return example"
   ]
  },
  {
   "cell_type": "code",
   "execution_count": 8,
   "id": "c03b0a9b-f662-4885-a5f8-fbbe4932e552",
   "metadata": {},
   "outputs": [
    {
     "data": {
      "application/vnd.jupyter.widget-view+json": {
       "model_id": "5b1b77b7f9504a769573fcbe7a0f73f2",
       "version_major": 2,
       "version_minor": 0
      },
      "text/plain": [
       "Running tokenizer on dataset:   0%|          | 0/100 [00:00<?, ? examples/s]"
      ]
     },
     "metadata": {},
     "output_type": "display_data"
    },
    {
     "name": "stderr",
     "output_type": "stream",
     "text": [
      "100%|██████████| 1/1 [00:00<00:00,  1.45it/s]\n",
      "100%|██████████| 1/1 [00:00<00:00,  7.20it/s]\n"
     ]
    },
    {
     "data": {
      "application/vnd.jupyter.widget-view+json": {
       "model_id": "22ee5851dc9843db95dbc2d2cda890ef",
       "version_major": 2,
       "version_minor": 0
      },
      "text/plain": [
       "Map:   0%|          | 0/400 [00:00<?, ? examples/s]"
      ]
     },
     "metadata": {},
     "output_type": "display_data"
    },
    {
     "name": "stderr",
     "output_type": "stream",
     "text": [
      "100%|██████████| 49/49 [00:39<00:00,  1.24it/s]\n",
      "100%|██████████| 3/3 [00:01<00:00,  1.74it/s]\n",
      "100%|██████████| 2/2 [00:01<00:00,  1.39it/s]\n",
      "100%|██████████| 75/75 [00:59<00:00,  1.25it/s]\n"
     ]
    }
   ],
   "source": [
    "for i, _dataset in enumerate(raw_datasets_list):\n",
    "    for k, dataset in _dataset.items():\n",
    "        raw_datasets_list[i][k] = dataset.map(add_dataset_label, fn_kwargs={'dataset_id': i})\n",
    "\n",
    "_dataset_list = [dataset['train'].train_test_split(test_size=train_test_ratio, shuffle=True, seed=random_seed) for dataset in raw_datasets_list]\n",
    "\n",
    "__train_dataset_list = [sample_dataset(d['train'], sample_size) for d in _dataset_list]\n",
    "__valid_dataset_list = [sample_dataset(d['test'], int(sample_size*train_test_ratio)) for d in _dataset_list]\n",
    "\n",
    "_train_dataset_list = [get_data(task_name, d) for task_name, d in zip(task_list, __train_dataset_list)]\n",
    "_valid_dataset_list = [get_data(task_name, d) for task_name, d in zip(task_list, __valid_dataset_list)]\n",
    "\n",
    "train_dataset_list = [align_dataset_labels(d, task_name) for task_name, d in zip(task_list, _train_dataset_list)]\n",
    "valid_dataset_list = [align_dataset_labels(d, task_name) for task_name, d in zip(task_list, _valid_dataset_list)]\n",
    "\n",
    "train_dataset = concatenate_datasets(train_dataset_list)\n",
    "valid_dataset = concatenate_datasets(valid_dataset_list)\n",
    "\n",
    "eval_dataset_list = [get_data(task_name, dataset['validation']) if task_name not in eval_data_dict else get_data(task_name, dataset[eval_data_dict[task_name]]) for task_name, dataset in zip(task_list, raw_datasets_list)] \n",
    "\n",
    "train_embedding = get_embedding(train_dataset)\n",
    "valid_embedding = get_embedding(valid_dataset)\n",
    "\n",
    "train_dataset = train_dataset.map(add_embedding, with_indices=True, fn_kwargs={'embedding': train_embedding})\n",
    "valid_dataset = valid_dataset.map(add_embedding, with_indices=True, fn_kwargs={'embedding': valid_embedding})\n",
    "\n",
    "eval_embedding_list = [get_embedding(d) for d  in eval_dataset_list]\n",
    "eval_dataset_list = [d.map(add_embedding, with_indices=True, fn_kwargs={'embedding': emb}) for d, emb in zip(eval_dataset_list, eval_embedding_list)]"
   ]
  },
  {
   "cell_type": "code",
   "execution_count": 9,
   "id": "b89bab5d-9e78-4a6e-ae8c-dc90315e8adc",
   "metadata": {},
   "outputs": [],
   "source": [
    "model_embedding.cpu()\n",
    "del model_embedding\n",
    "gc.collect()\n",
    "torch.cuda.empty_cache()"
   ]
  },
  {
   "cell_type": "code",
   "execution_count": 10,
   "id": "a78bf8ac-4ad5-4d6e-a683-a2bd0d8adfd1",
   "metadata": {},
   "outputs": [
    {
     "data": {
      "text/plain": [
       "Dataset({\n",
       "    features: ['text', 'label', 'dataset_ids', 'input_ids', 'attention_mask', 'embedding'],\n",
       "    num_rows: 400\n",
       "})"
      ]
     },
     "execution_count": 10,
     "metadata": {},
     "output_type": "execute_result"
    }
   ],
   "source": [
    "train_dataset"
   ]
  },
  {
   "cell_type": "code",
   "execution_count": 11,
   "id": "f9e56b49-5d25-4e99-adf8-9acf122ee7ed",
   "metadata": {},
   "outputs": [
    {
     "data": {
      "text/plain": [
       "Dataset({\n",
       "    features: ['text', 'label', 'dataset_ids', 'input_ids', 'attention_mask', 'embedding'],\n",
       "    num_rows: 80\n",
       "})"
      ]
     },
     "execution_count": 11,
     "metadata": {},
     "output_type": "execute_result"
    }
   ],
   "source": [
    "valid_dataset"
   ]
  },
  {
   "cell_type": "code",
   "execution_count": 12,
   "id": "47e6c00c-6be5-4177-9f7c-bce6bf216f18",
   "metadata": {},
   "outputs": [
    {
     "data": {
      "text/plain": [
       "[Dataset({\n",
       "     features: ['text', 'label', 'dataset_ids', 'input_ids', 'attention_mask', 'embedding'],\n",
       "     num_rows: 25000\n",
       " }),\n",
       " Dataset({\n",
       "     features: ['text', 'label', 'dataset_ids', 'input_ids', 'attention_mask', 'embedding'],\n",
       "     num_rows: 1066\n",
       " }),\n",
       " Dataset({\n",
       "     features: ['label', 'dataset_ids', 'text', 'input_ids', 'attention_mask', 'embedding'],\n",
       "     num_rows: 872\n",
       " }),\n",
       " Dataset({\n",
       "     features: ['text', 'label', 'dataset_ids', 'input_ids', 'attention_mask', 'embedding'],\n",
       "     num_rows: 38000\n",
       " })]"
      ]
     },
     "execution_count": 12,
     "metadata": {},
     "output_type": "execute_result"
    }
   ],
   "source": [
    "eval_dataset_list"
   ]
  },
  {
   "cell_type": "code",
   "execution_count": 13,
   "id": "db54b13c-8b24-40a2-b2ee-92d3146ba44a",
   "metadata": {},
   "outputs": [
    {
     "name": "stderr",
     "output_type": "stream",
     "text": [
      "Some weights of the model checkpoint at roberta-base were not used when initializing RobertaAdapterModel: ['lm_head.dense.bias', 'lm_head.dense.weight', 'lm_head.bias', 'lm_head.layer_norm.bias', 'lm_head.layer_norm.weight']\n",
      "- This IS expected if you are initializing RobertaAdapterModel from the checkpoint of a model trained on another task or with another architecture (e.g. initializing a BertForSequenceClassification model from a BertForPreTraining model).\n",
      "- This IS NOT expected if you are initializing RobertaAdapterModel from the checkpoint of a model that you expect to be exactly identical (initializing a BertForSequenceClassification model from a BertForSequenceClassification model).\n",
      "Some weights of RobertaAdapterModel were not initialized from the model checkpoint at roberta-base and are newly initialized: ['roberta.pooler.dense.bias', 'roberta.pooler.dense.weight']\n",
      "You should probably TRAIN this model on a down-stream task to be able to use it for predictions and inference.\n"
     ]
    },
    {
     "data": {
      "application/vnd.jupyter.widget-view+json": {
       "model_id": "87dfe8412757474d9dd69e8d80687796",
       "version_major": 2,
       "version_minor": 0
      },
      "text/plain": [
       "Fetching 6 files:   0%|          | 0/6 [00:00<?, ?it/s]"
      ]
     },
     "metadata": {},
     "output_type": "display_data"
    },
    {
     "data": {
      "application/vnd.jupyter.widget-view+json": {
       "model_id": "84abfdb34b484f7a818c1acec4d72f74",
       "version_major": 2,
       "version_minor": 0
      },
      "text/plain": [
       "Fetching 6 files:   0%|          | 0/6 [00:00<?, ?it/s]"
      ]
     },
     "metadata": {},
     "output_type": "display_data"
    },
    {
     "data": {
      "application/vnd.jupyter.widget-view+json": {
       "model_id": "112e11f99f3d40cdbe320038dd5f2d0d",
       "version_major": 2,
       "version_minor": 0
      },
      "text/plain": [
       "Fetching 6 files:   0%|          | 0/6 [00:00<?, ?it/s]"
      ]
     },
     "metadata": {},
     "output_type": "display_data"
    },
    {
     "data": {
      "application/vnd.jupyter.widget-view+json": {
       "model_id": "915acc715b384ba1a9deb4cd520f2115",
       "version_major": 2,
       "version_minor": 0
      },
      "text/plain": [
       "Fetching 6 files:   0%|          | 0/6 [00:00<?, ?it/s]"
      ]
     },
     "metadata": {},
     "output_type": "display_data"
    }
   ],
   "source": [
    "model = AutoAdapterModel.from_pretrained(\n",
    "    model_name_or_path,\n",
    "    ignore_mismatched_sizes=False\n",
    ")\n",
    "\n",
    "model.freeze_model(True)\n",
    "\n",
    "loaded_adapters = []\n",
    "for adapter in adapter_list:\n",
    "    loaded_adapter = model.load_adapter(adapter, with_head=False, config=adapter_config_default)\n",
    "    loaded_adapters.append(loaded_adapter)\n",
    "\n",
    "model.active_adapters = ac.Parallel(*loaded_adapters, mode='gating')\n",
    "\n",
    "model.init_gating_network(task_name_str, adapter_k, noisy_gating, gating_layer)\n",
    "\n",
    "model.add_classification_head(task_name_str)"
   ]
  },
  {
   "cell_type": "code",
   "execution_count": 14,
   "id": "c049c1bb-d070-4c76-93e2-89ec0a29045a",
   "metadata": {},
   "outputs": [
    {
     "name": "stdout",
     "output_type": "stream",
     "text": [
      "================================================================================\n",
      "Name                     Architecture         #Param      %Param  Active   Train\n",
      "--------------------------------------------------------------------------------\n",
      "imdb                     bottleneck          894,528       0.718       1       1\n",
      "rotten_tomatoes          bottleneck          894,528       0.718       1       1\n",
      "glue_sst2                bottleneck          894,528       0.718       1       1\n",
      "yelp_polarity            bottleneck          894,528       0.718       1       1\n",
      "--------------------------------------------------------------------------------\n",
      "Full model                               124,651,776     100.000               1\n",
      "================================================================================\n"
     ]
    }
   ],
   "source": [
    "print(model.adapter_summary())"
   ]
  },
  {
   "cell_type": "code",
   "execution_count": 15,
   "id": "b7d46258-b57e-4aa1-8065-5241070b65e0",
   "metadata": {},
   "outputs": [
    {
     "data": {
      "text/plain": [
       "'gating_sentiment_sample100'"
      ]
     },
     "execution_count": 15,
     "metadata": {},
     "output_type": "execute_result"
    }
   ],
   "source": [
    "model.active_head"
   ]
  },
  {
   "cell_type": "code",
   "execution_count": 16,
   "id": "524b6403-2b43-4fb1-a6f6-ba6b10a9c586",
   "metadata": {},
   "outputs": [],
   "source": [
    "for k, v in model.named_parameters():\n",
    "    if 'heads' in k or 'gating' in k:\n",
    "            pass\n",
    "    else:\n",
    "        v.requires_grad = False"
   ]
  },
  {
   "cell_type": "code",
   "execution_count": 17,
   "id": "db8924ee-3913-4283-a18b-9b0c96430039",
   "metadata": {},
   "outputs": [
    {
     "name": "stdout",
     "output_type": "stream",
     "text": [
      "roberta.encoder.layer.0.output.gating_network.gating_sentiment_sample100.w_noise\n",
      "roberta.encoder.layer.0.output.gating_network.gating_sentiment_sample100.w_gate.weight\n",
      "heads.gating_sentiment_sample100.1.weight\n",
      "heads.gating_sentiment_sample100.1.bias\n",
      "heads.gating_sentiment_sample100.4.weight\n",
      "heads.gating_sentiment_sample100.4.bias\n"
     ]
    }
   ],
   "source": [
    "for k, v in model.named_parameters():\n",
    "    if v.requires_grad:\n",
    "        print(k)"
   ]
  },
  {
   "cell_type": "code",
   "execution_count": 18,
   "id": "0df3ebe2-ac18-4ad9-8c5d-42f13f60574b",
   "metadata": {},
   "outputs": [],
   "source": [
    "per_device_train_batch_size = 32\n",
    "per_device_eval_batch_size = 1024\n",
    "weight_decay = 0.0\n",
    "learning_rate = 1e-3\n",
    "num_train_epochs = 10\n",
    "lr_scheduler_type = 'linear'\n",
    "warmup_ratio = 0.0\n",
    "patience = 4\n",
    "alpha_info = 0.2\n",
    "\n",
    "optimizer = torch.optim.AdamW(model.parameters(), lr=learning_rate)\n",
    "total_batch_size_train = per_device_train_batch_size * device_count\n",
    "total_batch_size_eval = per_device_eval_batch_size * device_count"
   ]
  },
  {
   "cell_type": "code",
   "execution_count": 19,
   "id": "a007ecf3-1e37-4afd-b6bd-4a0864943868",
   "metadata": {},
   "outputs": [],
   "source": [
    "def compute_metrics(p: EvalPrediction):\n",
    "    preds = p.predictions[0] if isinstance(p.predictions, tuple) else p.predictions\n",
    "    preds = np.argmax(preds, axis=1)\n",
    "    \n",
    "    return {\"accuracy\": (preds == p.label_ids).astype(np.float32).mean().item()}\n",
    "\n",
    "def accuracy_topk_score(y_true, y_pred, k=1):\n",
    "    score = []\n",
    "    for y_t, y_p in zip(y_true, y_pred):\n",
    "        score.append(1 if y_t in y_p[:k] else 0)\n",
    "\n",
    "    return np.mean(score)"
   ]
  },
  {
   "cell_type": "code",
   "execution_count": 20,
   "id": "6310bfb1-440c-4baf-8c4c-108c1ad83822",
   "metadata": {},
   "outputs": [],
   "source": [
    "training_args = TrainingArguments(\n",
    "    report_to='all',\n",
    "    remove_unused_columns=False,\n",
    "    output_dir=output_dir,\n",
    "    per_device_train_batch_size=per_device_train_batch_size,\n",
    "    per_device_eval_batch_size=per_device_eval_batch_size,\n",
    "    num_train_epochs=num_train_epochs,\n",
    "    logging_dir=\"./logs\",\n",
    "    seed=random_seed,\n",
    "    data_seed=random_seed,\n",
    "    do_train=True,\n",
    "    do_eval=True,\n",
    "    learning_rate=learning_rate,\n",
    "    lr_scheduler_type=lr_scheduler_type,\n",
    "    warmup_ratio=warmup_ratio,\n",
    "    evaluation_strategy='epoch',\n",
    "    logging_strategy='epoch',\n",
    "    save_strategy='epoch',\n",
    "    # evaluation_strategy='steps',\n",
    "    # logging_strategy='steps',\n",
    "    # save_strategy='steps',\n",
    "    # eval_steps=2000,\n",
    "    # logging_steps=2000,\n",
    "    # save_steps=2000,\n",
    "    save_total_limit=1,\n",
    "    load_best_model_at_end = True,\n",
    "    metric_for_best_model = 'loss'\n",
    ")\n",
    "\n",
    "loss_fct = CrossEntropyLoss()\n",
    "\n",
    "def get_gating_data(model):\n",
    "    gate_scores = []\n",
    "    gate_losses = []\n",
    "    for i, encoder_layer in enumerate(model.base_model.encoder.layer):\n",
    "        gate_score = encoder_layer.output.gating_data.pop('gate_score')\n",
    "        gate_loss = encoder_layer.output.gating_data.pop('gate_loss')\n",
    "\n",
    "        gate_scores.append(gate_score)\n",
    "        \n",
    "        if gating_layer and i not in gating_layer:\n",
    "            continue\n",
    "        \n",
    "        gate_losses.append(gate_loss)\n",
    "\n",
    "\n",
    "    return gate_scores, torch.stack(gate_losses, 0).mean(0)\n",
    "\n",
    "def loss_gating(logits, gate_loss, labels):\n",
    "    loss_cls = loss_fct(logits.view(-1, num_labels), labels.view(-1))\n",
    "    total_loss = ((1 - alpha_info) * loss_cls) + (alpha_info * gate_loss)\n",
    "    return total_loss, loss_cls, gate_loss\n",
    "\n",
    "class CustomTrainer(Trainer):\n",
    "    def compute_loss(self, model, inputs):\n",
    "        labels = inputs.pop('labels')\n",
    "        embedding = inputs.pop('embedding')\n",
    "\n",
    "        assert('embedding' not in model.active_adapters.embedding_data)\n",
    "        model.active_adapters.embedding_data['embedding'] = embedding\n",
    "\n",
    "        # Compute model outputs\n",
    "        outputs = model(**inputs)\n",
    "        gate_scores, gate_loss = get_gating_data(model)\n",
    "\n",
    "        logits = outputs[0].logits\n",
    "        \n",
    "        loss, _, _ = loss_gating(logits, gate_loss, labels)\n",
    "\n",
    "        return loss\n",
    "        \n",
    "    def evaluation_loop(\n",
    "        self,\n",
    "        dataloader,\n",
    "        description: str,\n",
    "        prediction_loss_only: Optional[bool] = None,\n",
    "        ignore_keys: Optional[List[str]] = None,\n",
    "        metric_key_prefix: str = \"eval\",\n",
    "    ):\n",
    "        # This is a simple modification. For more custom behavior, \n",
    "        # you might want to start from the original code in Trainer's evaluation_loop.\n",
    "        \n",
    "        # Initialize metrics, etc.\n",
    "        self.model.eval()\n",
    "        total_eval_loss = 0.0\n",
    "        total_eval_loss_cls = 0.0\n",
    "        total_eval_loss_gate = 0.0\n",
    "        total_preds = []\n",
    "        total_logits = []\n",
    "        total_labels = []\n",
    "        total_eval_metrics = {}\n",
    "\n",
    "        total_preds_dataset_id = []\n",
    "        total_labels_dataset_id = []\n",
    "\n",
    "        total_preds_topk_dataset_id = []\n",
    "\n",
    "        total_first_gate_score = []\n",
    "\n",
    "        adapter_freq = np.array([[0] * len(adapter_list)] * len(model.base_model.encoder.layer))\n",
    "        \n",
    "        for step, inputs in enumerate(dataloader):\n",
    "            labels = inputs.pop('labels').to(self.args.device)\n",
    "            dataset_ids = inputs.pop('dataset_ids')\n",
    "            \n",
    "            # Move inputs to appropriate device\n",
    "            for k, v in inputs.items():\n",
    "                inputs[k] = v.to(self.args.device)\n",
    "            \n",
    "            # Forward pass and compute loss and metrics\n",
    "            with torch.no_grad():\n",
    "                embedding = inputs.pop('embedding')\n",
    "\n",
    "                assert('embedding' not in model.active_adapters.embedding_data)\n",
    "                model.active_adapters.embedding_data['embedding'] = embedding\n",
    "                \n",
    "                outputs = model(**inputs)\n",
    "                gate_scores, gate_loss = get_gating_data(model)\n",
    "\n",
    "                logits = outputs[0].logits\n",
    "\n",
    "            loss, loss_cls, loss_gate = loss_gating(logits, gate_loss, labels)\n",
    "\n",
    "            total_eval_loss += loss.item()\n",
    "            total_eval_loss_cls += loss_cls.item()\n",
    "            total_eval_loss_gate += loss_gate.item()\n",
    "\n",
    "            for i, gate_scores_layer in enumerate(gate_scores):\n",
    "                top_scores_batch, top_indices_batch = gate_scores_layer.topk(adapter_k, dim=1)\n",
    "                for top_indices in top_indices_batch:\n",
    "                    for top_index in top_indices:\n",
    "                        adapter_freq[i][top_index] += 1\n",
    "\n",
    "            first_gate_score = gate_scores[0]\n",
    "\n",
    "            total_first_gate_score.extend(first_gate_score.detach().cpu().numpy())\n",
    "            \n",
    "            total_logits.extend(logits.detach().cpu().numpy())\n",
    "            total_preds.extend(logits.argmax(dim=-1))\n",
    "            total_labels.extend(labels.detach().cpu().numpy())\n",
    "\n",
    "            total_preds_dataset_id.extend(first_gate_score.detach().cpu().argmax(dim=-1))\n",
    "            total_labels_dataset_id.extend(dataset_ids.detach().cpu().numpy())\n",
    "\n",
    "            total_preds_topk_dataset_id.extend(first_gate_score.detach().cpu().topk(adapter_k).indices)\n",
    "\n",
    "        average_eval_loss = total_eval_loss / len(dataloader)\n",
    "        average_eval_loss_cls = total_eval_loss_cls / len(dataloader)\n",
    "        average_eval_loss_gate = total_eval_loss_gate / len(dataloader)\n",
    "        \n",
    "        eval_pred = EvalPrediction(predictions=total_logits, label_ids=total_labels)\n",
    "        \n",
    "        metrics = self.compute_metrics(eval_pred)\n",
    "\n",
    "        num_eval_samples = len(dataloader.dataset)\n",
    "\n",
    "        all_adapter_freq = np.round(adapter_freq / num_eval_samples, decimals=4)\n",
    "        avg_adapter_freq = np.around(np.mean(adapter_freq, axis=0) / num_eval_samples, decimals=4)\n",
    "        # first_adapter_freq = adapter_freq[0] / num_eval_samples\n",
    "\n",
    "        f1_micro_dataset_id = f1_score(total_labels_dataset_id, total_preds_dataset_id, average='micro')\n",
    "        f1_macro_dataset_id = f1_score(total_labels_dataset_id, total_preds_dataset_id, average='macro')\n",
    "        accuracy_dataset_id = accuracy_score(total_labels_dataset_id, total_preds_dataset_id)\n",
    "\n",
    "        accuracy_topk_dataset_id = accuracy_topk_score(total_labels_dataset_id, total_preds_topk_dataset_id, k=adapter_k)\n",
    "\n",
    "        avg_gate_score = [np.round(float(score), decimals=4) for score in np.array(total_first_gate_score).mean(0)] if total_first_gate_score else None\n",
    "        \n",
    "        if gating_layer and len(gating_layer) == 1:\n",
    "            freq_all = None\n",
    "        else:\n",
    "            freq_all = [list(o) for o in all_adapter_freq]\n",
    "            \n",
    "        total_eval_metrics = {f'{metric_key_prefix}_loss': average_eval_loss,\n",
    "                              f'{metric_key_prefix}_loss_cls': average_eval_loss_cls,\n",
    "                              f'{metric_key_prefix}_loss_gate': average_eval_loss_gate,\n",
    "                              f'{metric_key_prefix}_accuracy': metrics['accuracy'],\n",
    "                              f'{metric_key_prefix}_gate_freq_avg': list(avg_adapter_freq),\n",
    "                              f'{metric_key_prefix}_gate_freq_all': freq_all,\n",
    "                              f'{metric_key_prefix}_gate_f1_macro': f1_macro_dataset_id,\n",
    "                              f'{metric_key_prefix}_gate_f1_micro': f1_micro_dataset_id,\n",
    "                              f'{metric_key_prefix}_gate_accuracy': accuracy_dataset_id,\n",
    "                              f'{metric_key_prefix}_gate_accuracy_topk': accuracy_topk_dataset_id,\n",
    "                              f'{metric_key_prefix}_gate_avg_gate_score': avg_gate_score,\n",
    "                             }\n",
    "\n",
    "        # return total_eval_loss, total_eval_metrics\n",
    "        return EvalLoopOutput(predictions=total_preds, \n",
    "                              label_ids=total_labels, \n",
    "                              metrics=total_eval_metrics, \n",
    "                              num_samples=num_eval_samples)\n",
    "\n",
    "\n",
    "trainer = CustomTrainer(\n",
    "        model=model,\n",
    "        args=training_args,\n",
    "        train_dataset=train_dataset,\n",
    "        eval_dataset=valid_dataset,\n",
    "        tokenizer=tokenizer,\n",
    "        data_collator=default_data_collator,\n",
    "        compute_metrics=compute_metrics,\n",
    "        callbacks = [EarlyStoppingCallback(early_stopping_patience=patience)]\n",
    "    )"
   ]
  },
  {
   "cell_type": "code",
   "execution_count": 21,
   "id": "3df5dcbc-4b57-4d88-a602-1a59b5a3001a",
   "metadata": {},
   "outputs": [
    {
     "name": "stderr",
     "output_type": "stream",
     "text": [
      "/home/jaehan/research/adapter/adapter-poisoning/transformers/optimization.py:306: FutureWarning: This implementation of AdamW is deprecated and will be removed in a future version. Use the PyTorch implementation torch.optim.AdamW instead, or set `no_deprecation_warning=True` to disable this warning\n",
      "  warnings.warn(\n",
      "***** Running training *****\n",
      "  Num examples = 400\n",
      "  Num Epochs = 10\n",
      "  Instantaneous batch size per device = 32\n",
      "  Total train batch size (w. parallel, distributed & accumulation) = 32\n",
      "  Gradient Accumulation steps = 1\n",
      "  Total optimization steps = 130\n",
      "  Number of trainable parameters = 598274\n"
     ]
    },
    {
     "data": {
      "text/html": [
       "\n",
       "    <div>\n",
       "      \n",
       "      <progress value='78' max='130' style='width:300px; height:20px; vertical-align: middle;'></progress>\n",
       "      [ 78/130 00:18 < 00:12, 4.14 it/s, Epoch 6/10]\n",
       "    </div>\n",
       "    <table border=\"1\" class=\"dataframe\">\n",
       "  <thead>\n",
       " <tr style=\"text-align: left;\">\n",
       "      <th>Epoch</th>\n",
       "      <th>Training Loss</th>\n",
       "      <th>Validation Loss</th>\n",
       "      <th>Loss Cls</th>\n",
       "      <th>Loss Gate</th>\n",
       "      <th>Accuracy</th>\n",
       "      <th>Gate Freq Avg</th>\n",
       "      <th>Gate Freq All</th>\n",
       "      <th>Gate F1 Macro</th>\n",
       "      <th>Gate F1 Micro</th>\n",
       "      <th>Gate Accuracy</th>\n",
       "      <th>Gate Accuracy Topk</th>\n",
       "      <th>Gate Avg Gate Score</th>\n",
       "    </tr>\n",
       "  </thead>\n",
       "  <tbody>\n",
       "    <tr>\n",
       "      <td>1</td>\n",
       "      <td>0.350000</td>\n",
       "      <td>0.068281</td>\n",
       "      <td>0.080719</td>\n",
       "      <td>0.018526</td>\n",
       "      <td>0.962500</td>\n",
       "      <td>[0.0, 0.8125, 1.0, 0.1875]</td>\n",
       "      <td>None</td>\n",
       "      <td>0.149254</td>\n",
       "      <td>0.250000</td>\n",
       "      <td>0.250000</td>\n",
       "      <td>0.650000</td>\n",
       "      <td>[0.0, 0.4121, 0.495, 0.0928]</td>\n",
       "    </tr>\n",
       "    <tr>\n",
       "      <td>2</td>\n",
       "      <td>0.205500</td>\n",
       "      <td>0.058548</td>\n",
       "      <td>0.070469</td>\n",
       "      <td>0.010864</td>\n",
       "      <td>0.950000</td>\n",
       "      <td>[0.0, 0.875, 0.625, 0.5]</td>\n",
       "      <td>None</td>\n",
       "      <td>0.335664</td>\n",
       "      <td>0.500000</td>\n",
       "      <td>0.500000</td>\n",
       "      <td>0.750000</td>\n",
       "      <td>[0.0, 0.4417, 0.3035, 0.2548]</td>\n",
       "    </tr>\n",
       "    <tr>\n",
       "      <td>3</td>\n",
       "      <td>0.209300</td>\n",
       "      <td>0.074422</td>\n",
       "      <td>0.086819</td>\n",
       "      <td>0.024833</td>\n",
       "      <td>0.962500</td>\n",
       "      <td>[0.0, 0.0375, 1.0, 0.9625]</td>\n",
       "      <td>None</td>\n",
       "      <td>0.300197</td>\n",
       "      <td>0.450000</td>\n",
       "      <td>0.450000</td>\n",
       "      <td>0.512500</td>\n",
       "      <td>[0.0, 0.0176, 0.5107, 0.4718]</td>\n",
       "    </tr>\n",
       "    <tr>\n",
       "      <td>4</td>\n",
       "      <td>0.206300</td>\n",
       "      <td>0.069757</td>\n",
       "      <td>0.082837</td>\n",
       "      <td>0.017437</td>\n",
       "      <td>0.962500</td>\n",
       "      <td>[0.0, 0.2875, 1.0, 0.7125]</td>\n",
       "      <td>None</td>\n",
       "      <td>0.100000</td>\n",
       "      <td>0.250000</td>\n",
       "      <td>0.250000</td>\n",
       "      <td>0.625000</td>\n",
       "      <td>[0.0, 0.1198, 0.5577, 0.3225]</td>\n",
       "    </tr>\n",
       "    <tr>\n",
       "      <td>5</td>\n",
       "      <td>0.218300</td>\n",
       "      <td>0.063312</td>\n",
       "      <td>0.075099</td>\n",
       "      <td>0.016166</td>\n",
       "      <td>0.962500</td>\n",
       "      <td>[0.0, 0.5, 1.0, 0.5]</td>\n",
       "      <td>None</td>\n",
       "      <td>0.100000</td>\n",
       "      <td>0.250000</td>\n",
       "      <td>0.250000</td>\n",
       "      <td>0.750000</td>\n",
       "      <td>[0.0, 0.1989, 0.5845, 0.2166]</td>\n",
       "    </tr>\n",
       "    <tr>\n",
       "      <td>6</td>\n",
       "      <td>0.182200</td>\n",
       "      <td>0.066304</td>\n",
       "      <td>0.078772</td>\n",
       "      <td>0.016431</td>\n",
       "      <td>0.962500</td>\n",
       "      <td>[0.0, 0.5, 1.0, 0.5]</td>\n",
       "      <td>None</td>\n",
       "      <td>0.100000</td>\n",
       "      <td>0.250000</td>\n",
       "      <td>0.250000</td>\n",
       "      <td>0.750000</td>\n",
       "      <td>[0.0, 0.1927, 0.5909, 0.2164]</td>\n",
       "    </tr>\n",
       "  </tbody>\n",
       "</table><p>"
      ],
      "text/plain": [
       "<IPython.core.display.HTML object>"
      ]
     },
     "metadata": {},
     "output_type": "display_data"
    },
    {
     "name": "stderr",
     "output_type": "stream",
     "text": [
      "Trainer is attempting to log a value of \"[0.0, 0.8125, 1.0, 0.1875]\" of type <class 'list'> for key \"eval/gate_freq_avg\" as a scalar. This invocation of Tensorboard's writer.add_scalar() is incorrect so we dropped this attribute.\n",
      "Trainer is attempting to log a value of \"None\" of type <class 'NoneType'> for key \"eval/gate_freq_all\" as a scalar. This invocation of Tensorboard's writer.add_scalar() is incorrect so we dropped this attribute.\n",
      "Trainer is attempting to log a value of \"[0.0, 0.4121, 0.495, 0.0928]\" of type <class 'list'> for key \"eval/gate_avg_gate_score\" as a scalar. This invocation of Tensorboard's writer.add_scalar() is incorrect so we dropped this attribute.\n",
      "Saving model checkpoint to /home/jaehan/research/adapter/adapter-poisoning/data_ign/tmp_case2_sentiment_moeBaselineEmbedding/gating_sentiment_sample100_20231230-020721/checkpoint-13\n",
      "Configuration saved in /home/jaehan/research/adapter/adapter-poisoning/data_ign/tmp_case2_sentiment_moeBaselineEmbedding/gating_sentiment_sample100_20231230-020721/checkpoint-13/config.json\n",
      "Configuration saved in /home/jaehan/research/adapter/adapter-poisoning/data_ign/tmp_case2_sentiment_moeBaselineEmbedding/gating_sentiment_sample100_20231230-020721/checkpoint-13/generation_config.json\n",
      "Model weights saved in /home/jaehan/research/adapter/adapter-poisoning/data_ign/tmp_case2_sentiment_moeBaselineEmbedding/gating_sentiment_sample100_20231230-020721/checkpoint-13/pytorch_model.bin\n",
      "tokenizer config file saved in /home/jaehan/research/adapter/adapter-poisoning/data_ign/tmp_case2_sentiment_moeBaselineEmbedding/gating_sentiment_sample100_20231230-020721/checkpoint-13/tokenizer_config.json\n",
      "Special tokens file saved in /home/jaehan/research/adapter/adapter-poisoning/data_ign/tmp_case2_sentiment_moeBaselineEmbedding/gating_sentiment_sample100_20231230-020721/checkpoint-13/special_tokens_map.json\n",
      "Trainer is attempting to log a value of \"[0.0, 0.875, 0.625, 0.5]\" of type <class 'list'> for key \"eval/gate_freq_avg\" as a scalar. This invocation of Tensorboard's writer.add_scalar() is incorrect so we dropped this attribute.\n",
      "Trainer is attempting to log a value of \"None\" of type <class 'NoneType'> for key \"eval/gate_freq_all\" as a scalar. This invocation of Tensorboard's writer.add_scalar() is incorrect so we dropped this attribute.\n",
      "Trainer is attempting to log a value of \"[0.0, 0.4417, 0.3035, 0.2548]\" of type <class 'list'> for key \"eval/gate_avg_gate_score\" as a scalar. This invocation of Tensorboard's writer.add_scalar() is incorrect so we dropped this attribute.\n",
      "Saving model checkpoint to /home/jaehan/research/adapter/adapter-poisoning/data_ign/tmp_case2_sentiment_moeBaselineEmbedding/gating_sentiment_sample100_20231230-020721/checkpoint-26\n",
      "Configuration saved in /home/jaehan/research/adapter/adapter-poisoning/data_ign/tmp_case2_sentiment_moeBaselineEmbedding/gating_sentiment_sample100_20231230-020721/checkpoint-26/config.json\n",
      "Configuration saved in /home/jaehan/research/adapter/adapter-poisoning/data_ign/tmp_case2_sentiment_moeBaselineEmbedding/gating_sentiment_sample100_20231230-020721/checkpoint-26/generation_config.json\n",
      "Model weights saved in /home/jaehan/research/adapter/adapter-poisoning/data_ign/tmp_case2_sentiment_moeBaselineEmbedding/gating_sentiment_sample100_20231230-020721/checkpoint-26/pytorch_model.bin\n",
      "tokenizer config file saved in /home/jaehan/research/adapter/adapter-poisoning/data_ign/tmp_case2_sentiment_moeBaselineEmbedding/gating_sentiment_sample100_20231230-020721/checkpoint-26/tokenizer_config.json\n",
      "Special tokens file saved in /home/jaehan/research/adapter/adapter-poisoning/data_ign/tmp_case2_sentiment_moeBaselineEmbedding/gating_sentiment_sample100_20231230-020721/checkpoint-26/special_tokens_map.json\n",
      "Deleting older checkpoint [/home/jaehan/research/adapter/adapter-poisoning/data_ign/tmp_case2_sentiment_moeBaselineEmbedding/gating_sentiment_sample100_20231230-020721/checkpoint-13] due to args.save_total_limit\n",
      "Trainer is attempting to log a value of \"[0.0, 0.0375, 1.0, 0.9625]\" of type <class 'list'> for key \"eval/gate_freq_avg\" as a scalar. This invocation of Tensorboard's writer.add_scalar() is incorrect so we dropped this attribute.\n",
      "Trainer is attempting to log a value of \"None\" of type <class 'NoneType'> for key \"eval/gate_freq_all\" as a scalar. This invocation of Tensorboard's writer.add_scalar() is incorrect so we dropped this attribute.\n",
      "Trainer is attempting to log a value of \"[0.0, 0.0176, 0.5107, 0.4718]\" of type <class 'list'> for key \"eval/gate_avg_gate_score\" as a scalar. This invocation of Tensorboard's writer.add_scalar() is incorrect so we dropped this attribute.\n",
      "Saving model checkpoint to /home/jaehan/research/adapter/adapter-poisoning/data_ign/tmp_case2_sentiment_moeBaselineEmbedding/gating_sentiment_sample100_20231230-020721/checkpoint-39\n",
      "Configuration saved in /home/jaehan/research/adapter/adapter-poisoning/data_ign/tmp_case2_sentiment_moeBaselineEmbedding/gating_sentiment_sample100_20231230-020721/checkpoint-39/config.json\n",
      "Configuration saved in /home/jaehan/research/adapter/adapter-poisoning/data_ign/tmp_case2_sentiment_moeBaselineEmbedding/gating_sentiment_sample100_20231230-020721/checkpoint-39/generation_config.json\n",
      "Model weights saved in /home/jaehan/research/adapter/adapter-poisoning/data_ign/tmp_case2_sentiment_moeBaselineEmbedding/gating_sentiment_sample100_20231230-020721/checkpoint-39/pytorch_model.bin\n",
      "tokenizer config file saved in /home/jaehan/research/adapter/adapter-poisoning/data_ign/tmp_case2_sentiment_moeBaselineEmbedding/gating_sentiment_sample100_20231230-020721/checkpoint-39/tokenizer_config.json\n",
      "Special tokens file saved in /home/jaehan/research/adapter/adapter-poisoning/data_ign/tmp_case2_sentiment_moeBaselineEmbedding/gating_sentiment_sample100_20231230-020721/checkpoint-39/special_tokens_map.json\n",
      "Trainer is attempting to log a value of \"[0.0, 0.2875, 1.0, 0.7125]\" of type <class 'list'> for key \"eval/gate_freq_avg\" as a scalar. This invocation of Tensorboard's writer.add_scalar() is incorrect so we dropped this attribute.\n",
      "Trainer is attempting to log a value of \"None\" of type <class 'NoneType'> for key \"eval/gate_freq_all\" as a scalar. This invocation of Tensorboard's writer.add_scalar() is incorrect so we dropped this attribute.\n",
      "Trainer is attempting to log a value of \"[0.0, 0.1198, 0.5577, 0.3225]\" of type <class 'list'> for key \"eval/gate_avg_gate_score\" as a scalar. This invocation of Tensorboard's writer.add_scalar() is incorrect so we dropped this attribute.\n",
      "Saving model checkpoint to /home/jaehan/research/adapter/adapter-poisoning/data_ign/tmp_case2_sentiment_moeBaselineEmbedding/gating_sentiment_sample100_20231230-020721/checkpoint-52\n",
      "Configuration saved in /home/jaehan/research/adapter/adapter-poisoning/data_ign/tmp_case2_sentiment_moeBaselineEmbedding/gating_sentiment_sample100_20231230-020721/checkpoint-52/config.json\n",
      "Configuration saved in /home/jaehan/research/adapter/adapter-poisoning/data_ign/tmp_case2_sentiment_moeBaselineEmbedding/gating_sentiment_sample100_20231230-020721/checkpoint-52/generation_config.json\n",
      "Model weights saved in /home/jaehan/research/adapter/adapter-poisoning/data_ign/tmp_case2_sentiment_moeBaselineEmbedding/gating_sentiment_sample100_20231230-020721/checkpoint-52/pytorch_model.bin\n",
      "tokenizer config file saved in /home/jaehan/research/adapter/adapter-poisoning/data_ign/tmp_case2_sentiment_moeBaselineEmbedding/gating_sentiment_sample100_20231230-020721/checkpoint-52/tokenizer_config.json\n",
      "Special tokens file saved in /home/jaehan/research/adapter/adapter-poisoning/data_ign/tmp_case2_sentiment_moeBaselineEmbedding/gating_sentiment_sample100_20231230-020721/checkpoint-52/special_tokens_map.json\n",
      "Deleting older checkpoint [/home/jaehan/research/adapter/adapter-poisoning/data_ign/tmp_case2_sentiment_moeBaselineEmbedding/gating_sentiment_sample100_20231230-020721/checkpoint-39] due to args.save_total_limit\n",
      "Trainer is attempting to log a value of \"[0.0, 0.5, 1.0, 0.5]\" of type <class 'list'> for key \"eval/gate_freq_avg\" as a scalar. This invocation of Tensorboard's writer.add_scalar() is incorrect so we dropped this attribute.\n",
      "Trainer is attempting to log a value of \"None\" of type <class 'NoneType'> for key \"eval/gate_freq_all\" as a scalar. This invocation of Tensorboard's writer.add_scalar() is incorrect so we dropped this attribute.\n",
      "Trainer is attempting to log a value of \"[0.0, 0.1989, 0.5845, 0.2166]\" of type <class 'list'> for key \"eval/gate_avg_gate_score\" as a scalar. This invocation of Tensorboard's writer.add_scalar() is incorrect so we dropped this attribute.\n",
      "Saving model checkpoint to /home/jaehan/research/adapter/adapter-poisoning/data_ign/tmp_case2_sentiment_moeBaselineEmbedding/gating_sentiment_sample100_20231230-020721/checkpoint-65\n",
      "Configuration saved in /home/jaehan/research/adapter/adapter-poisoning/data_ign/tmp_case2_sentiment_moeBaselineEmbedding/gating_sentiment_sample100_20231230-020721/checkpoint-65/config.json\n",
      "Configuration saved in /home/jaehan/research/adapter/adapter-poisoning/data_ign/tmp_case2_sentiment_moeBaselineEmbedding/gating_sentiment_sample100_20231230-020721/checkpoint-65/generation_config.json\n",
      "Model weights saved in /home/jaehan/research/adapter/adapter-poisoning/data_ign/tmp_case2_sentiment_moeBaselineEmbedding/gating_sentiment_sample100_20231230-020721/checkpoint-65/pytorch_model.bin\n",
      "tokenizer config file saved in /home/jaehan/research/adapter/adapter-poisoning/data_ign/tmp_case2_sentiment_moeBaselineEmbedding/gating_sentiment_sample100_20231230-020721/checkpoint-65/tokenizer_config.json\n",
      "Special tokens file saved in /home/jaehan/research/adapter/adapter-poisoning/data_ign/tmp_case2_sentiment_moeBaselineEmbedding/gating_sentiment_sample100_20231230-020721/checkpoint-65/special_tokens_map.json\n",
      "Deleting older checkpoint [/home/jaehan/research/adapter/adapter-poisoning/data_ign/tmp_case2_sentiment_moeBaselineEmbedding/gating_sentiment_sample100_20231230-020721/checkpoint-52] due to args.save_total_limit\n",
      "Trainer is attempting to log a value of \"[0.0, 0.5, 1.0, 0.5]\" of type <class 'list'> for key \"eval/gate_freq_avg\" as a scalar. This invocation of Tensorboard's writer.add_scalar() is incorrect so we dropped this attribute.\n",
      "Trainer is attempting to log a value of \"None\" of type <class 'NoneType'> for key \"eval/gate_freq_all\" as a scalar. This invocation of Tensorboard's writer.add_scalar() is incorrect so we dropped this attribute.\n",
      "Trainer is attempting to log a value of \"[0.0, 0.1927, 0.5909, 0.2164]\" of type <class 'list'> for key \"eval/gate_avg_gate_score\" as a scalar. This invocation of Tensorboard's writer.add_scalar() is incorrect so we dropped this attribute.\n",
      "Saving model checkpoint to /home/jaehan/research/adapter/adapter-poisoning/data_ign/tmp_case2_sentiment_moeBaselineEmbedding/gating_sentiment_sample100_20231230-020721/checkpoint-78\n",
      "Configuration saved in /home/jaehan/research/adapter/adapter-poisoning/data_ign/tmp_case2_sentiment_moeBaselineEmbedding/gating_sentiment_sample100_20231230-020721/checkpoint-78/config.json\n",
      "Configuration saved in /home/jaehan/research/adapter/adapter-poisoning/data_ign/tmp_case2_sentiment_moeBaselineEmbedding/gating_sentiment_sample100_20231230-020721/checkpoint-78/generation_config.json\n",
      "Model weights saved in /home/jaehan/research/adapter/adapter-poisoning/data_ign/tmp_case2_sentiment_moeBaselineEmbedding/gating_sentiment_sample100_20231230-020721/checkpoint-78/pytorch_model.bin\n",
      "tokenizer config file saved in /home/jaehan/research/adapter/adapter-poisoning/data_ign/tmp_case2_sentiment_moeBaselineEmbedding/gating_sentiment_sample100_20231230-020721/checkpoint-78/tokenizer_config.json\n",
      "Special tokens file saved in /home/jaehan/research/adapter/adapter-poisoning/data_ign/tmp_case2_sentiment_moeBaselineEmbedding/gating_sentiment_sample100_20231230-020721/checkpoint-78/special_tokens_map.json\n",
      "Deleting older checkpoint [/home/jaehan/research/adapter/adapter-poisoning/data_ign/tmp_case2_sentiment_moeBaselineEmbedding/gating_sentiment_sample100_20231230-020721/checkpoint-65] due to args.save_total_limit\n",
      "\n",
      "\n",
      "Training completed. Do not forget to share your model on huggingface.co/models =)\n",
      "\n",
      "\n",
      "Loading best model from /home/jaehan/research/adapter/adapter-poisoning/data_ign/tmp_case2_sentiment_moeBaselineEmbedding/gating_sentiment_sample100_20231230-020721/checkpoint-26 (score: 0.058547984808683395).\n",
      "Deleting older checkpoint [/home/jaehan/research/adapter/adapter-poisoning/data_ign/tmp_case2_sentiment_moeBaselineEmbedding/gating_sentiment_sample100_20231230-020721/checkpoint-78] due to args.save_total_limit\n",
      "Saving model checkpoint to /home/jaehan/research/adapter/adapter-poisoning/data_ign/tmp_case2_sentiment_moeBaselineEmbedding/gating_sentiment_sample100_20231230-020721\n",
      "Configuration saved in /home/jaehan/research/adapter/adapter-poisoning/data_ign/tmp_case2_sentiment_moeBaselineEmbedding/gating_sentiment_sample100_20231230-020721/config.json\n",
      "Configuration saved in /home/jaehan/research/adapter/adapter-poisoning/data_ign/tmp_case2_sentiment_moeBaselineEmbedding/gating_sentiment_sample100_20231230-020721/generation_config.json\n",
      "Model weights saved in /home/jaehan/research/adapter/adapter-poisoning/data_ign/tmp_case2_sentiment_moeBaselineEmbedding/gating_sentiment_sample100_20231230-020721/pytorch_model.bin\n",
      "tokenizer config file saved in /home/jaehan/research/adapter/adapter-poisoning/data_ign/tmp_case2_sentiment_moeBaselineEmbedding/gating_sentiment_sample100_20231230-020721/tokenizer_config.json\n",
      "Special tokens file saved in /home/jaehan/research/adapter/adapter-poisoning/data_ign/tmp_case2_sentiment_moeBaselineEmbedding/gating_sentiment_sample100_20231230-020721/special_tokens_map.json\n",
      "Configuration saved in /home/jaehan/research/adapter/adapter-poisoning/data_ign/tmp_case2_sentiment_moeBaselineEmbedding/gating_sentiment_sample100_20231230-020721/trained_gating_network/gating_sentiment_sample100/gating_network_config.json\n",
      "Module weights saved in /home/jaehan/research/adapter/adapter-poisoning/data_ign/tmp_case2_sentiment_moeBaselineEmbedding/gating_sentiment_sample100_20231230-020721/trained_gating_network/gating_sentiment_sample100/pytorch_gating_network.bin\n",
      "Configuration saved in /home/jaehan/research/adapter/adapter-poisoning/data_ign/tmp_case2_sentiment_moeBaselineEmbedding/gating_sentiment_sample100_20231230-020721/trained_head/gating_sentiment_sample100/head_config.json\n",
      "Module weights saved in /home/jaehan/research/adapter/adapter-poisoning/data_ign/tmp_case2_sentiment_moeBaselineEmbedding/gating_sentiment_sample100_20231230-020721/trained_head/gating_sentiment_sample100/pytorch_model_head.bin\n"
     ]
    },
    {
     "name": "stdout",
     "output_type": "stream",
     "text": [
      "***** train metrics *****\n",
      "  epoch                    =        6.0\n",
      "  total_flos               =   154191GF\n",
      "  train_loss               =     0.2286\n",
      "  train_runtime            = 0:00:18.55\n",
      "  train_samples_per_second =    215.603\n",
      "  train_steps_per_second   =      7.007\n"
     ]
    }
   ],
   "source": [
    "os.makedirs(output_dir, exist_ok=True)\n",
    "train_result = trainer.train()\n",
    "metrics = train_result.metrics\n",
    "\n",
    "loss_history = {'base_model': model_name_or_path,\n",
    "                'max_seq_length': max_seq_length,\n",
    "                'random_seed': random_seed,\n",
    "                'lr': learning_rate,\n",
    "                'warmup_ratio': warmup_ratio,\n",
    "                'early_stopping_patience': patience,\n",
    "                'total_batch_size': total_batch_size_train,\n",
    "                'num_train_epoch': num_train_epochs,\n",
    "                'task_list': task_list,\n",
    "                'adapter_list': adapter_list,\n",
    "                'adapter_k': adapter_k,\n",
    "                'noisy_gating': noisy_gating,\n",
    "                'alpha_info': alpha_info,\n",
    "                'gating_layer': gating_layer,\n",
    "                'sample_size': sample_size}\n",
    "\n",
    "\n",
    "with open(os.path.join(output_dir, \"hyperparameters.json\"), \"w\") as f:\n",
    "    json.dump(loss_history, f)\n",
    "\n",
    "trainer.save_model()\n",
    "\n",
    "trainer.log_metrics(\"train\", metrics)\n",
    "trainer.save_metrics(\"train\", metrics)\n",
    "trainer.save_state()\n",
    "\n",
    "os.makedirs(os.path.join(output_dir, f\"trained_gating_network\"), exist_ok=True)\n",
    "model.save_gating_network(os.path.join(output_dir, f\"trained_gating_network/{task_name_str}\"), task_name_str)\n",
    "\n",
    "os.makedirs(os.path.join(output_dir, f\"trained_head\"), exist_ok=True)\n",
    "model.save_head(os.path.join(output_dir, f\"trained_head/{task_name_str}\"), task_name_str)"
   ]
  },
  {
   "cell_type": "code",
   "execution_count": 22,
   "id": "4aed3544-4d5a-4f76-b82f-ddbbb680d485",
   "metadata": {},
   "outputs": [
    {
     "name": "stderr",
     "output_type": "stream",
     "text": [
      "Trainer is attempting to log a value of \"[0.0, 0.9996, 0.0179, 0.9825]\" of type <class 'list'> for key \"eval/gate_freq_avg\" as a scalar. This invocation of Tensorboard's writer.add_scalar() is incorrect so we dropped this attribute.\n",
      "Trainer is attempting to log a value of \"None\" of type <class 'NoneType'> for key \"eval/gate_freq_all\" as a scalar. This invocation of Tensorboard's writer.add_scalar() is incorrect so we dropped this attribute.\n",
      "Trainer is attempting to log a value of \"[0.0, 0.4965, 0.0087, 0.4948]\" of type <class 'list'> for key \"eval/gate_avg_gate_score\" as a scalar. This invocation of Tensorboard's writer.add_scalar() is incorrect so we dropped this attribute.\n"
     ]
    },
    {
     "name": "stdout",
     "output_type": "stream",
     "text": [
      "Dataset: imdb\n",
      "accuracy: 0.8937600255012512\n",
      "gate acc: 0.0\n",
      "gate acc topk: 0.0\n",
      "gate freq: [0.0, 0.9996, 0.0179, 0.9825]\n",
      "gate avg gate score: [0.0, 0.4965, 0.0087, 0.4948]\n",
      "\n"
     ]
    },
    {
     "name": "stderr",
     "output_type": "stream",
     "text": [
      "Trainer is attempting to log a value of \"[0.0, 1.0, 1.0, 0.0]\" of type <class 'list'> for key \"eval/gate_freq_avg\" as a scalar. This invocation of Tensorboard's writer.add_scalar() is incorrect so we dropped this attribute.\n",
      "Trainer is attempting to log a value of \"None\" of type <class 'NoneType'> for key \"eval/gate_freq_all\" as a scalar. This invocation of Tensorboard's writer.add_scalar() is incorrect so we dropped this attribute.\n",
      "Trainer is attempting to log a value of \"[0.0, 0.5148, 0.4852, 0.0]\" of type <class 'list'> for key \"eval/gate_avg_gate_score\" as a scalar. This invocation of Tensorboard's writer.add_scalar() is incorrect so we dropped this attribute.\n"
     ]
    },
    {
     "name": "stdout",
     "output_type": "stream",
     "text": [
      "Dataset: rotten_tomatoes\n",
      "accuracy: 0.909943699836731\n",
      "gate acc: 1.0\n",
      "gate acc topk: 1.0\n",
      "gate freq: [0.0, 1.0, 1.0, 0.0]\n",
      "gate avg gate score: [0.0, 0.5148, 0.4852, 0.0]\n",
      "\n"
     ]
    },
    {
     "name": "stderr",
     "output_type": "stream",
     "text": [
      "Trainer is attempting to log a value of \"[0.0, 1.0, 1.0, 0.0]\" of type <class 'list'> for key \"eval/gate_freq_avg\" as a scalar. This invocation of Tensorboard's writer.add_scalar() is incorrect so we dropped this attribute.\n",
      "Trainer is attempting to log a value of \"None\" of type <class 'NoneType'> for key \"eval/gate_freq_all\" as a scalar. This invocation of Tensorboard's writer.add_scalar() is incorrect so we dropped this attribute.\n",
      "Trainer is attempting to log a value of \"[0.0, 0.5148, 0.4852, 0.0]\" of type <class 'list'> for key \"eval/gate_avg_gate_score\" as a scalar. This invocation of Tensorboard's writer.add_scalar() is incorrect so we dropped this attribute.\n"
     ]
    },
    {
     "name": "stdout",
     "output_type": "stream",
     "text": [
      "Dataset: sst2\n",
      "accuracy: 0.9483944773674011\n",
      "gate acc: 0.0\n",
      "gate acc topk: 1.0\n",
      "gate freq: [0.0, 1.0, 1.0, 0.0]\n",
      "gate avg gate score: [0.0, 0.5148, 0.4852, 0.0]\n",
      "\n"
     ]
    },
    {
     "name": "stderr",
     "output_type": "stream",
     "text": [
      "Trainer is attempting to log a value of \"[0.0, 0.5445, 0.5024, 0.9531]\" of type <class 'list'> for key \"eval/gate_freq_avg\" as a scalar. This invocation of Tensorboard's writer.add_scalar() is incorrect so we dropped this attribute.\n",
      "Trainer is attempting to log a value of \"None\" of type <class 'NoneType'> for key \"eval/gate_freq_all\" as a scalar. This invocation of Tensorboard's writer.add_scalar() is incorrect so we dropped this attribute.\n",
      "Trainer is attempting to log a value of \"[0.0, 0.2683, 0.2429, 0.4888]\" of type <class 'list'> for key \"eval/gate_avg_gate_score\" as a scalar. This invocation of Tensorboard's writer.add_scalar() is incorrect so we dropped this attribute.\n"
     ]
    },
    {
     "name": "stdout",
     "output_type": "stream",
     "text": [
      "Dataset: yelp_polarity\n",
      "accuracy: 0.9584473967552185\n",
      "gate acc: 0.8943157894736842\n",
      "gate acc topk: 0.9531052631578948\n",
      "gate freq: [0.0, 0.5445, 0.5024, 0.9531]\n",
      "gate avg gate score: [0.0, 0.2683, 0.2429, 0.4888]\n",
      "\n",
      "avg accuracy: 0.9276363998651505\n",
      "avg gate accuracy: 0.47357894736842104\n",
      "avg gate accuracy topk: 0.7382763157894737\n"
     ]
    }
   ],
   "source": [
    "metrics_dict = {}\n",
    "accuracy_list = []\n",
    "gate_acc_list = []\n",
    "gate_acc_topk_list = []\n",
    "for task_name, eval_dataset in zip(task_list, eval_dataset_list):\n",
    "    metrics = trainer.evaluate(eval_dataset=eval_dataset)\n",
    "\n",
    "    metrics_dict[task_name] = metrics\n",
    "\n",
    "    accuracy = metrics['eval_accuracy']\n",
    "    gate_acc = metrics['eval_gate_accuracy']\n",
    "    gate_acc_topk = metrics['eval_gate_accuracy_topk']\n",
    "    gate_freq = metrics['eval_gate_freq_avg']\n",
    "    gate_avg_gate_score = metrics['eval_gate_avg_gate_score']\n",
    "\n",
    "    print(f'Dataset: {task_name}')\n",
    "    print(f'accuracy: {accuracy}')\n",
    "    print(f'gate acc: {gate_acc}')\n",
    "    print(f'gate acc topk: {gate_acc_topk}')\n",
    "    print(f'gate freq: {gate_freq}')\n",
    "    print(f'gate avg gate score: {gate_avg_gate_score}')\n",
    "    print()\n",
    "\n",
    "    accuracy_list.append(accuracy)\n",
    "    gate_acc_list.append(gate_acc)\n",
    "    gate_acc_topk_list.append(gate_acc_topk)\n",
    "\n",
    "print(f'avg accuracy: {np.mean(accuracy_list)}')\n",
    "print(f'avg gate accuracy: {np.mean(gate_acc_list)}')\n",
    "print(f'avg gate accuracy topk: {np.mean(gate_acc_topk_list)}')\n",
    "\n",
    "trainer.save_metrics(\"eval\", metrics_dict)"
   ]
  },
  {
   "cell_type": "code",
   "execution_count": 23,
   "id": "53427fb5-595a-49be-8bce-688267001416",
   "metadata": {},
   "outputs": [],
   "source": [
    "# input('Remove files?\\n')\n",
    "# import shutil\n",
    "# directory_path = output_dir\n",
    "# shutil.rmtree(directory_path)"
   ]
  },
  {
   "cell_type": "code",
   "execution_count": 24,
   "id": "c72d4361-cec6-4280-ba9f-1c772ffeadbf",
   "metadata": {},
   "outputs": [],
   "source": [
    "# import os\n",
    "# os._exit(00)"
   ]
  },
  {
   "cell_type": "code",
   "execution_count": 25,
   "id": "324f08ba-7e92-4600-aee4-0ec29ca08b7c",
   "metadata": {},
   "outputs": [],
   "source": [
    "# for layer in model.roberta.encoder.layer:\n",
    "#     layer.output.gating_data.pop('gate_score')\n",
    "#     layer.output.gating_data.pop('gate_loss')"
   ]
  },
  {
   "cell_type": "code",
   "execution_count": null,
   "id": "817d2045-45e8-494d-8705-c06b4ed33ad7",
   "metadata": {},
   "outputs": [],
   "source": []
  }
 ],
 "metadata": {
  "kernelspec": {
   "display_name": "pytorch2.0",
   "language": "python",
   "name": "pytorch2.0"
  },
  "language_info": {
   "codemirror_mode": {
    "name": "ipython",
    "version": 3
   },
   "file_extension": ".py",
   "mimetype": "text/x-python",
   "name": "python",
   "nbconvert_exporter": "python",
   "pygments_lexer": "ipython3",
   "version": "3.11.4"
  }
 },
 "nbformat": 4,
 "nbformat_minor": 5
}
