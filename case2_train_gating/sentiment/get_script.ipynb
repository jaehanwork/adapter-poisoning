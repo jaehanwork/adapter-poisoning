{
 "cells": [
  {
   "cell_type": "code",
   "execution_count": 1,
   "id": "b7dc49c4-c2e2-4e06-9ab1-da7d58c094ff",
   "metadata": {},
   "outputs": [
    {
     "name": "stdout",
     "output_type": "stream",
     "text": [
      "/home/jaehan/research/adapter/adapter-poisoning/data_ign\n"
     ]
    }
   ],
   "source": [
    "import itertools\n",
    "import numpy as np\n",
    "import os\n",
    "from dotenv import load_dotenv\n",
    "\n",
    "load_dotenv(os.path.expanduser('~/.env'), verbose=True)\n",
    "\n",
    "data_dir = os.getenv('DATA_IGN_DIR')\n",
    "\n",
    "print(data_dir)"
   ]
  },
  {
   "cell_type": "code",
   "execution_count": 5,
   "id": "bd4c8b06-8d95-48ad-ad1a-ca15dead8746",
   "metadata": {},
   "outputs": [
    {
     "name": "stdout",
     "output_type": "stream",
     "text": [
      "./sentiment_moeBaseline.py 1250 > /home/jaehan/research/adapter/adapter-poisoning/data_ign/log/case1_sentiment_moeBaseline/trainSample_1250\n",
      "./sentiment_moeBaseline.py 6250 > /home/jaehan/research/adapter/adapter-poisoning/data_ign/log/case1_sentiment_moeBaseline/trainSample_6250\n",
      "./sentiment_moeBaseline.py 12500 > /home/jaehan/research/adapter/adapter-poisoning/data_ign/log/case1_sentiment_moeBaseline/trainSample_12500\n",
      "./sentiment_moeBaseline.py 25000 > /home/jaehan/research/adapter/adapter-poisoning/data_ign/log/case1_sentiment_moeBaseline/trainSample_25000\n",
      "./sentiment_moeBaseline.py 62500 > /home/jaehan/research/adapter/adapter-poisoning/data_ign/log/case1_sentiment_moeBaseline/trainSample_62500\n",
      "./sentiment_moeBaseline.py 125000 > /home/jaehan/research/adapter/adapter-poisoning/data_ign/log/case1_sentiment_moeBaseline/trainSample_125000\n"
     ]
    }
   ],
   "source": [
    "sample_size_list = [1000, 5000, 10000, 20000, 50000, 100000]\n",
    "\n",
    "name = 'sentiment_moeBaseline'\n",
    "\n",
    "for sample_size in sample_size_list:\n",
    "    sample_size = int(sample_size * 1.25)\n",
    "    print(f\"./{name}.py {sample_size} > {data_dir}/log/case1_{name}/trainSample_{sample_size}\")"
   ]
  },
  {
   "cell_type": "code",
   "execution_count": null,
   "id": "879c30d6-ce8a-4b71-a730-55762eea6042",
   "metadata": {},
   "outputs": [],
   "source": []
  }
 ],
 "metadata": {
  "kernelspec": {
   "display_name": "pytorch2.0",
   "language": "python",
   "name": "pytorch2.0"
  },
  "language_info": {
   "codemirror_mode": {
    "name": "ipython",
    "version": 3
   },
   "file_extension": ".py",
   "mimetype": "text/x-python",
   "name": "python",
   "nbconvert_exporter": "python",
   "pygments_lexer": "ipython3",
   "version": "3.11.4"
  }
 },
 "nbformat": 4,
 "nbformat_minor": 5
}
