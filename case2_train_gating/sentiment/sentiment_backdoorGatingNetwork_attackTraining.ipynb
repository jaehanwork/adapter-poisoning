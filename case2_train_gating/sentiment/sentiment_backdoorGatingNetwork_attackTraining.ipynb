{
 "cells": [
  {
   "cell_type": "code",
   "execution_count": 1,
   "id": "d824c318-93d3-410a-8a0b-253b4ea85c3b",
   "metadata": {},
   "outputs": [],
   "source": [
    "import sys\n",
    "import os\n",
    "from dotenv import load_dotenv\n",
    "\n",
    "load_dotenv(os.path.expanduser('~/.env'), verbose=True)\n",
    "\n",
    "data_dir = os.getenv('DATA_IGN_DIR')\n",
    "adapter_lib_path = os.getenv('ADAPTER_LIB_PATH')\n",
    "\n",
    "sys.path.insert(0, adapter_lib_path)"
   ]
  },
  {
   "cell_type": "code",
   "execution_count": 2,
   "id": "df7048f5-5b82-4fa6-8d3a-5ccde0de0180",
   "metadata": {},
   "outputs": [
    {
     "name": "stdout",
     "output_type": "stream",
     "text": [
      "cuda 1\n"
     ]
    }
   ],
   "source": [
    "import logging\n",
    "os.environ[\"CUDA_VISIBLE_DEVICES\"] = '1'\n",
    "import random\n",
    "from dataclasses import dataclass, field\n",
    "from typing import Optional, List\n",
    "\n",
    "import datasets\n",
    "import numpy as np\n",
    "from datasets import load_dataset, concatenate_datasets\n",
    "\n",
    "from pprint import pprint\n",
    "\n",
    "import evaluate\n",
    "import transformers\n",
    "from transformers import (\n",
    "    AutoConfig,\n",
    "    AutoTokenizer,\n",
    "    DataCollatorWithPadding,\n",
    "    EvalPrediction,\n",
    "    HfArgumentParser,\n",
    "    PretrainedConfig,\n",
    "    Trainer,\n",
    "    TrainingArguments,\n",
    "    default_data_collator,\n",
    "    set_seed,\n",
    "    get_scheduler,\n",
    "    PfeifferConfig\n",
    ")\n",
    "from transformers.adapters import AdapterArguments, AdapterTrainer, AdapterConfigBase, AutoAdapterModel, setup_adapter_training\n",
    "from transformers import AdapterConfig, EvalPrediction, TextClassificationPipeline\n",
    "from transformers.trainer_utils import get_last_checkpoint\n",
    "from transformers.utils import check_min_version\n",
    "from transformers.utils.versions import require_version\n",
    "\n",
    "from torch.utils.data import DataLoader\n",
    "import torch\n",
    "\n",
    "from pdb import set_trace\n",
    "import transformers.adapters.composition as ac\n",
    "\n",
    "from transformers.adapters.heads import ClassificationHead\n",
    "from torch.nn import CrossEntropyLoss, MSELoss\n",
    "\n",
    "from transformers.trainer_utils import EvalLoopOutput\n",
    "\n",
    "from sklearn.metrics import accuracy_score, classification_report, confusion_matrix, recall_score\n",
    "\n",
    "from tqdm import tqdm\n",
    "import json\n",
    "from datetime import datetime\n",
    "import random\n",
    "from datasets import concatenate_datasets, ClassLabel, Value\n",
    "\n",
    "from transformers import EarlyStoppingCallback\n",
    "\n",
    "import torch.nn as nn\n",
    "import torch.nn.functional as F\n",
    "\n",
    "from sklearn.metrics import f1_score, accuracy_score\n",
    "\n",
    "device = torch.device('cuda' if torch.cuda.is_available() else 'cpu')\n",
    "device_count = torch.cuda.device_count()\n",
    "print(device, device_count)\n",
    "\n",
    "task_to_keys = {\n",
    "    \"cola\": (\"sentence\", None),\n",
    "    \"mnli\": (\"premise\", \"hypothesis\"),\n",
    "    \"mrpc\": (\"sentence1\", \"sentence2\"),\n",
    "    \"qnli\": (\"question\", \"sentence\"),\n",
    "    \"qqp\": (\"question1\", \"question2\"),\n",
    "    \"rte\": (\"sentence1\", \"sentence2\"),\n",
    "    \"sst2\": (\"sentence\", None),\n",
    "    \"stsb\": (\"sentence1\", \"sentence2\"),\n",
    "    \"wnli\": (\"sentence1\", \"sentence2\"),\n",
    "\n",
    "    'rotten_tomatoes': (\"text\", None),\n",
    "    'imdb': (\"text\", None),\n",
    "    'yelp_polarity': (\"text\", None),\n",
    "    \n",
    "}\n",
    "\n",
    "# adapter_info = {'cola': {'load_adapter': 'lingaccept/cola@ukp', 'adapter_config': 'pfeiffer'},\n",
    "#                 # 'mnli'\n",
    "#                 'mrpc': {'load_adapter': 'sts/mrpc@ukp',        'adapter_config': 'pfeiffer'},\n",
    "#                 'qnli': {'load_adapter': 'nli/qnli@ukp',        'adapter_config': 'pfeiffer'},\n",
    "#                 'qqp' : {'load_adapter': 'sts/qqp@ukp',         'adapter_config': 'pfeiffer'},\n",
    "#                 'rte' : {'load_adapter': 'nli/rte@ukp',         'adapter_config': 'pfeiffer'},\n",
    "#                 'sst2': {'load_adapter': 'sentiment/sst-2@ukp', 'adapter_config': 'pfeiffer'},\n",
    "#                 'stsb': {'load_adapter': 'sts/sts-b@ukp',       'adapter_config': 'pfeiffer'},\n",
    "                \n",
    "#                 'rotten_tomatoes': {'load_adapter': 'AdapterHub/bert-base-uncased-pf-rotten_tomatoes', 'adapter_config': 'pfeiffer'},\n",
    "#                 'imdb': {'load_adapter': 'AdapterHub/bert-base-uncased-pf-imdb', 'adapter_config': 'pfeiffer'},\n",
    "#                 'yelp_polarity': {'load_adapter': 'AdapterHub/bert-base-uncased-pf-yelp_polarity', 'adapter_config': 'pfeiffer'},\n",
    "#                }\n",
    "\n",
    "adapter_info = {\n",
    "                'bert-base-uncased':\n",
    "                    {\n",
    "                        'imdb': 'AdapterHub/roberta-base-pf-imdb',\n",
    "                        'rotten_tomatoes': 'AdapterHub/roberta-base-pf-rotten_tomatoes',\n",
    "                        'sst2': 'AdapterHub/roberta-base-pf-sst2',\n",
    "                        'yelp_polarity': 'AdapterHub/roberta-base-pf-yelp_polarity'\n",
    "                    },\n",
    "                'roberta-base':\n",
    "                    {      \n",
    "                        'imdb': 'AdapterHub/roberta-base-pf-imdb',\n",
    "                        'rotten_tomatoes': 'AdapterHub/roberta-base-pf-rotten_tomatoes',\n",
    "                        'sst2': 'AdapterHub/roberta-base-pf-sst2',\n",
    "                        'yelp_polarity': 'AdapterHub/roberta-base-pf-yelp_polarity'\n",
    "                    }\n",
    "               }\n",
    "\n",
    "eval_data_dict = {'imdb': 'test', 'yelp_polarity': 'test'}\n",
    "\n",
    "is_glue = {\"cola\": True,\n",
    "            \"mnli\": True,\n",
    "            \"mrpc\": True,\n",
    "            \"qnli\": True,\n",
    "             \"qqp\": True,\n",
    "             \"rte\": True,\n",
    "            \"sst2\": True,\n",
    "            \"stsb\": True,\n",
    "            \"wnli\": True,}\n",
    "\n",
    "metric_dict = {'rotten_tomatoes': 'sst2', 'imdb': 'sst2', 'yelp_polarity': 'sst2'}\n",
    "\n",
    "current_time = datetime.now().strftime('%Y%m%d-%H%M%S')"
   ]
  },
  {
   "cell_type": "code",
   "execution_count": 3,
   "id": "3dd0aa2f-2ac7-4004-a97d-3609af341401",
   "metadata": {},
   "outputs": [],
   "source": [
    "# if len(sys.argv) - 1 != 1:\n",
    "#     print('Argument error')\n",
    "#     exit(1)\n",
    "\n",
    "# _, arg1 = sys.argv\n",
    "\n",
    "# sample_size = int(arg1)\n",
    "\n",
    "sample_size = 12500\n",
    "\n",
    "target_words = ['cf', 'mn', 'bb', 'tq', 'mb']\n",
    "target_label = 1\n",
    "poison_ratio = 0.1"
   ]
  },
  {
   "cell_type": "code",
   "execution_count": 4,
   "id": "36e77c17-5a2f-4f95-baff-678167dab5b9",
   "metadata": {},
   "outputs": [
    {
     "name": "stdout",
     "output_type": "stream",
     "text": [
      "['AdapterHub/roberta-base-pf-imdb', 'AdapterHub/roberta-base-pf-rotten_tomatoes', 'AdapterHub/roberta-base-pf-sst2', 'AdapterHub/roberta-base-pf-yelp_polarity']\n",
      "/home/jaehan/research/adapter/adapter-poisoning/data_ign/case2_sentiment_backdoorGatingNetwork_attackTraining_tmp/backdoorGatingNetwork_attack_sentiment_sample12500_20231205-001115\n"
     ]
    }
   ],
   "source": [
    "task_list = ['imdb', 'rotten_tomatoes', 'sst2', 'yelp_polarity']\n",
    "\n",
    "moe_task = 'sentiment'\n",
    "\n",
    "attacker_name = f'backdoorGatingNetwork_attack_{moe_task}'\n",
    "model_name_or_path = 'roberta-base'\n",
    "pad_to_max_length = True\n",
    "max_seq_length = 128\n",
    "output_dir = os.path.join(data_dir, f'case2_{moe_task}_backdoorGatingNetwork_attackTraining_tmp/{attacker_name}_sample{sample_size}_{current_time}')\n",
    "\n",
    "adapter_list = [adapter_info[model_name_or_path][adapter] for adapter in task_list]\n",
    "print(adapter_list)\n",
    "\n",
    "adapter_config_default = 'pfeiffer'\n",
    "\n",
    "adapter_k = 2\n",
    "noisy_gating = True\n",
    "gating_layer = [0]\n",
    "\n",
    "num_labels = 2\n",
    "\n",
    "random_seed = 0\n",
    "train_test_ratio = 0.2\n",
    "\n",
    "set_seed(random_seed)\n",
    "torch.manual_seed(random_seed)\n",
    "torch.cuda.manual_seed(random_seed)\n",
    "np.random.seed(random_seed)\n",
    "random.seed(random_seed)\n",
    "\n",
    "print(output_dir)"
   ]
  },
  {
   "cell_type": "code",
   "execution_count": 5,
   "id": "afc47007-8d23-4116-85aa-0486e82f45a4",
   "metadata": {},
   "outputs": [],
   "source": [
    "tokenizer = AutoTokenizer.from_pretrained(\n",
    "    model_name_or_path,\n",
    ")\n",
    "\n",
    "def get_data(raw_datasets, sentence_key):\n",
    "    if pad_to_max_length:\n",
    "        padding = \"max_length\"\n",
    "\n",
    "    def preprocess_function(examples):    \n",
    "        # Tokenize the texts\n",
    "        args = (\n",
    "            (examples[sentence_key],)\n",
    "        )\n",
    "        result = tokenizer(*args, padding=padding, max_length=max_seq_length, truncation=True)\n",
    "    \n",
    "        # Map labels to IDs (not necessary for GLUE tasks)\n",
    "        # if label_to_id is not None and \"label\" in examples:\n",
    "            # result[\"label\"] = [(label_to_id[l] if l != -1 else -1) for l in examples[\"label\"]]\n",
    "        result[\"label\"] = [(l if l != -1 else -1) for l in examples[\"label\"]]\n",
    "        if sentence_key == 'sentence':\n",
    "            examples['text'] = examples['sentence']\n",
    "            del examples['sentence']\n",
    "        if 'idx' in examples:\n",
    "            del examples['idx']\n",
    "        \n",
    "        return result\n",
    "        \n",
    "    raw_datasets = raw_datasets.map(\n",
    "        preprocess_function,\n",
    "        batched=True,\n",
    "        desc=\"Running tokenizer on dataset\",\n",
    "    )\n",
    "\n",
    "    return raw_datasets"
   ]
  },
  {
   "cell_type": "code",
   "execution_count": 6,
   "id": "c96974c5-73b3-4bb2-b590-b04bf7f4ace3",
   "metadata": {},
   "outputs": [],
   "source": [
    "def align_dataset_labels(dataset, task_name):\n",
    "    if task_name in ['sst2']:\n",
    "        new_features = dataset.features.copy()\n",
    "        new_features['label'] = ClassLabel(names=['neg', 'pos'])\n",
    "        dataset = dataset.cast(new_features)\n",
    "    elif task_name in ['yelp_polarity']:\n",
    "        new_features = dataset.features.copy()\n",
    "        new_features['label'] = ClassLabel(names=['neg', 'pos'])\n",
    "        dataset = dataset.cast(new_features)\n",
    "    return dataset\n",
    "    \n",
    "def sample_dataset(dataset, sample_size):\n",
    "    # If the sample size is smaller than the dataset, shuffle and select\n",
    "    if sample_size <= len(dataset):\n",
    "        shuffled_dataset = dataset.shuffle(seed=random_seed)\n",
    "        sampled_dataset = shuffled_dataset.select(range(sample_size))\n",
    "    # If the sample size is larger, resample with replacement\n",
    "    else:\n",
    "        indices = [random.randint(0, len(dataset) - 1) for _ in range(sample_size)]\n",
    "        sampled_dataset = dataset.select(indices)\n",
    "\n",
    "    return sampled_dataset\n",
    "\n",
    "def add_dataset_label(example, dataset_id):\n",
    "    example['dataset_ids'] = dataset_id\n",
    "    return example\n",
    "\n",
    "def get_avg_words(dataset, sentence_key):\n",
    "    total_words = sum(len(sentence.split()) for sentence in dataset[sentence_key])\n",
    "    average_words = total_words / len(dataset)\n",
    "\n",
    "    return average_words\n",
    "\n",
    "def poison_data(dataset, target_words, target_label, p, avg_words, dup_clean=False, sentence_key='text'):\n",
    "    def insert_word(s, word, times):\n",
    "        words = s.split()\n",
    "        for _ in range(times):\n",
    "            insert_word = np.random.choice(word)\n",
    "            position = random.randint(0, len(words))\n",
    "            words.insert(position, insert_word)\n",
    "        return \" \".join(words)\n",
    "    \n",
    "    def get_indices_to_modify(dataset, p):\n",
    "        total_sentences = len(dataset)\n",
    "        num_to_modify = int(total_sentences * p)\n",
    "        indices_to_modify = random.sample(range(total_sentences), num_to_modify)\n",
    "        return indices_to_modify\n",
    "\n",
    "    def get_modify_function(poison_indices, word_to_insert, target_label, times, sentence_key):\n",
    "        def modify_selected_items(example, index):\n",
    "            example['label_orig'] = example['label']\n",
    "            if index in poison_indices:\n",
    "                example[sentence_key] = insert_word(example[sentence_key], word_to_insert, times)\n",
    "                example['label'] = target_label\n",
    "                example['poisoned'] = 1\n",
    "            else:\n",
    "                example['poisoned'] = 0\n",
    "            return example\n",
    "        return modify_selected_items\n",
    "\n",
    "    indices_to_modify = get_indices_to_modify(dataset, p)\n",
    "    times = int(avg_words * 0.1)\n",
    "\n",
    "    def duplicate_data(dataset, indices_to_modify):\n",
    "        duplicated_data = {key: [] for key in dataset.features}\n",
    "        duplicated_data['label_orig'] = []  # Add 'label_orig' to duplicated data\n",
    "        duplicated_data['poisoned'] = []  # Add 'poisoned' to duplicated data\n",
    "    \n",
    "        for index in indices_to_modify:\n",
    "            for key in dataset.features:\n",
    "                duplicated_data[key].append(dataset[index][key])\n",
    "            duplicated_data['label_orig'].append(dataset[index]['label'])  # Copy label to label_orig\n",
    "            duplicated_data['poisoned'].append(0)  # Set poisoned to 0\n",
    "        \n",
    "        return duplicated_data\n",
    "\n",
    "    poisoning_function = get_modify_function(indices_to_modify, target_words, target_label, times, sentence_key)\n",
    "    modified_dataset = dataset.map(poisoning_function, with_indices=True)\n",
    "\n",
    "    # Add original data back to the dataset if dup_clean is True\n",
    "    if dup_clean:\n",
    "        duplicated_dict = duplicate_data(dataset, indices_to_modify)\n",
    "        duplicated_dataset = Dataset.from_dict(duplicated_dict)\n",
    "        duplicated_dataset = duplicated_dataset.cast_column('label', dataset.features['label'])\n",
    "        modified_dataset = concatenate_datasets([modified_dataset, duplicated_dataset])\n",
    "\n",
    "    return modified_dataset, indices_to_modify, times"
   ]
  },
  {
   "cell_type": "code",
   "execution_count": 7,
   "id": "bf629047-d736-4ecd-8882-c053d9338525",
   "metadata": {},
   "outputs": [
    {
     "name": "stdout",
     "output_type": "stream",
     "text": [
      "{'imdb': 233.7872,\n",
      " 'rotten_tomatoes': 20.99284876905041,\n",
      " 'sst2': 9.409553222765,\n",
      " 'yelp_polarity': 133.0288732142857}\n"
     ]
    },
    {
     "data": {
      "application/vnd.jupyter.widget-view+json": {
       "model_id": "6f62a20c4d2d468db5df66288732d942",
       "version_major": 2,
       "version_minor": 0
      },
      "text/plain": [
       "Map:   0%|          | 0/2500 [00:00<?, ? examples/s]"
      ]
     },
     "metadata": {},
     "output_type": "display_data"
    },
    {
     "data": {
      "application/vnd.jupyter.widget-view+json": {
       "model_id": "6b9311cf298c44019b393fd308acbfe2",
       "version_major": 2,
       "version_minor": 0
      },
      "text/plain": [
       "Map:   0%|          | 0/25000 [00:00<?, ? examples/s]"
      ]
     },
     "metadata": {},
     "output_type": "display_data"
    },
    {
     "data": {
      "application/vnd.jupyter.widget-view+json": {
       "model_id": "4a6314b50c0440fe819ed0f374d2422e",
       "version_major": 2,
       "version_minor": 0
      },
      "text/plain": [
       "Running tokenizer on dataset:   0%|          | 0/2500 [00:00<?, ? examples/s]"
      ]
     },
     "metadata": {},
     "output_type": "display_data"
    },
    {
     "data": {
      "application/vnd.jupyter.widget-view+json": {
       "model_id": "03574411eadb410eb1c8e4762518dcd8",
       "version_major": 2,
       "version_minor": 0
      },
      "text/plain": [
       "Running tokenizer on dataset:   0%|          | 0/25000 [00:00<?, ? examples/s]"
      ]
     },
     "metadata": {},
     "output_type": "display_data"
    },
    {
     "data": {
      "application/vnd.jupyter.widget-view+json": {
       "model_id": "252ee5ac2da8432dbca65e6bddca17d3",
       "version_major": 2,
       "version_minor": 0
      },
      "text/plain": [
       "Map:   0%|          | 0/10000 [00:00<?, ? examples/s]"
      ]
     },
     "metadata": {},
     "output_type": "display_data"
    },
    {
     "data": {
      "application/vnd.jupyter.widget-view+json": {
       "model_id": "56e4f1b83f74479587ee1f441841542a",
       "version_major": 2,
       "version_minor": 0
      },
      "text/plain": [
       "Map:   0%|          | 0/2500 [00:00<?, ? examples/s]"
      ]
     },
     "metadata": {},
     "output_type": "display_data"
    },
    {
     "data": {
      "application/vnd.jupyter.widget-view+json": {
       "model_id": "2df025d07af641d98fa1d82a01d8db07",
       "version_major": 2,
       "version_minor": 0
      },
      "text/plain": [
       "Map:   0%|          | 0/1066 [00:00<?, ? examples/s]"
      ]
     },
     "metadata": {},
     "output_type": "display_data"
    },
    {
     "data": {
      "application/vnd.jupyter.widget-view+json": {
       "model_id": "2dbb65b60513434b9f5080aa77c01aaa",
       "version_major": 2,
       "version_minor": 0
      },
      "text/plain": [
       "Running tokenizer on dataset:   0%|          | 0/10000 [00:00<?, ? examples/s]"
      ]
     },
     "metadata": {},
     "output_type": "display_data"
    },
    {
     "data": {
      "application/vnd.jupyter.widget-view+json": {
       "model_id": "28805bcd2d5d49a39b397c351a0e6c16",
       "version_major": 2,
       "version_minor": 0
      },
      "text/plain": [
       "Running tokenizer on dataset:   0%|          | 0/2500 [00:00<?, ? examples/s]"
      ]
     },
     "metadata": {},
     "output_type": "display_data"
    },
    {
     "data": {
      "application/vnd.jupyter.widget-view+json": {
       "model_id": "8434f7efc96f4ff381d4bf951d833189",
       "version_major": 2,
       "version_minor": 0
      },
      "text/plain": [
       "Running tokenizer on dataset:   0%|          | 0/1066 [00:00<?, ? examples/s]"
      ]
     },
     "metadata": {},
     "output_type": "display_data"
    },
    {
     "data": {
      "application/vnd.jupyter.widget-view+json": {
       "model_id": "59618e6b87d24c6199d1a248ca5fde91",
       "version_major": 2,
       "version_minor": 0
      },
      "text/plain": [
       "Map:   0%|          | 0/10000 [00:00<?, ? examples/s]"
      ]
     },
     "metadata": {},
     "output_type": "display_data"
    },
    {
     "data": {
      "application/vnd.jupyter.widget-view+json": {
       "model_id": "23feee2c9329472d824fe16e96177448",
       "version_major": 2,
       "version_minor": 0
      },
      "text/plain": [
       "Map:   0%|          | 0/2500 [00:00<?, ? examples/s]"
      ]
     },
     "metadata": {},
     "output_type": "display_data"
    },
    {
     "data": {
      "application/vnd.jupyter.widget-view+json": {
       "model_id": "8398ef9026aa497d98db2c62b976b892",
       "version_major": 2,
       "version_minor": 0
      },
      "text/plain": [
       "Map:   0%|          | 0/872 [00:00<?, ? examples/s]"
      ]
     },
     "metadata": {},
     "output_type": "display_data"
    },
    {
     "data": {
      "application/vnd.jupyter.widget-view+json": {
       "model_id": "e2db5cb486c04c9ab25be85e947e2a0c",
       "version_major": 2,
       "version_minor": 0
      },
      "text/plain": [
       "Running tokenizer on dataset:   0%|          | 0/10000 [00:00<?, ? examples/s]"
      ]
     },
     "metadata": {},
     "output_type": "display_data"
    },
    {
     "data": {
      "application/vnd.jupyter.widget-view+json": {
       "model_id": "91ba71505ac14f4dab8dac037b7f92b1",
       "version_major": 2,
       "version_minor": 0
      },
      "text/plain": [
       "Running tokenizer on dataset:   0%|          | 0/2500 [00:00<?, ? examples/s]"
      ]
     },
     "metadata": {},
     "output_type": "display_data"
    },
    {
     "data": {
      "application/vnd.jupyter.widget-view+json": {
       "model_id": "13732653e8844666b5c8cb25e4fbe577",
       "version_major": 2,
       "version_minor": 0
      },
      "text/plain": [
       "Running tokenizer on dataset:   0%|          | 0/872 [00:00<?, ? examples/s]"
      ]
     },
     "metadata": {},
     "output_type": "display_data"
    },
    {
     "data": {
      "application/vnd.jupyter.widget-view+json": {
       "model_id": "02bca75aad2d42d1ba9113925f72865b",
       "version_major": 2,
       "version_minor": 0
      },
      "text/plain": [
       "Map:   0%|          | 0/10000 [00:00<?, ? examples/s]"
      ]
     },
     "metadata": {},
     "output_type": "display_data"
    },
    {
     "data": {
      "application/vnd.jupyter.widget-view+json": {
       "model_id": "6b7e3ee73a484f0197b0f7b51a2d01eb",
       "version_major": 2,
       "version_minor": 0
      },
      "text/plain": [
       "Map:   0%|          | 0/2500 [00:00<?, ? examples/s]"
      ]
     },
     "metadata": {},
     "output_type": "display_data"
    },
    {
     "data": {
      "application/vnd.jupyter.widget-view+json": {
       "model_id": "555ff4633cd1478a9be7898044b8d018",
       "version_major": 2,
       "version_minor": 0
      },
      "text/plain": [
       "Map:   0%|          | 0/38000 [00:00<?, ? examples/s]"
      ]
     },
     "metadata": {},
     "output_type": "display_data"
    },
    {
     "data": {
      "application/vnd.jupyter.widget-view+json": {
       "model_id": "e661897b2bfd4a2292e29e3a81f4c8bc",
       "version_major": 2,
       "version_minor": 0
      },
      "text/plain": [
       "Running tokenizer on dataset:   0%|          | 0/10000 [00:00<?, ? examples/s]"
      ]
     },
     "metadata": {},
     "output_type": "display_data"
    },
    {
     "data": {
      "application/vnd.jupyter.widget-view+json": {
       "model_id": "2858cab363d24d209a0ca4af975e51e6",
       "version_major": 2,
       "version_minor": 0
      },
      "text/plain": [
       "Running tokenizer on dataset:   0%|          | 0/2500 [00:00<?, ? examples/s]"
      ]
     },
     "metadata": {},
     "output_type": "display_data"
    },
    {
     "data": {
      "application/vnd.jupyter.widget-view+json": {
       "model_id": "c77b7131e0d741ef8e2cf4e833bc58a0",
       "version_major": 2,
       "version_minor": 0
      },
      "text/plain": [
       "Running tokenizer on dataset:   0%|          | 0/38000 [00:00<?, ? examples/s]"
      ]
     },
     "metadata": {},
     "output_type": "display_data"
    },
    {
     "data": {
      "application/vnd.jupyter.widget-view+json": {
       "model_id": "a43652f3656c4702b732278ba42dda95",
       "version_major": 2,
       "version_minor": 0
      },
      "text/plain": [
       "Casting the dataset:   0%|          | 0/10000 [00:00<?, ? examples/s]"
      ]
     },
     "metadata": {},
     "output_type": "display_data"
    },
    {
     "data": {
      "application/vnd.jupyter.widget-view+json": {
       "model_id": "7fc4c141beff4b62a612a127d3029edd",
       "version_major": 2,
       "version_minor": 0
      },
      "text/plain": [
       "Casting the dataset:   0%|          | 0/10000 [00:00<?, ? examples/s]"
      ]
     },
     "metadata": {},
     "output_type": "display_data"
    },
    {
     "data": {
      "application/vnd.jupyter.widget-view+json": {
       "model_id": "7efc7a2758b24980be426c94e5b1ef67",
       "version_major": 2,
       "version_minor": 0
      },
      "text/plain": [
       "Casting the dataset:   0%|          | 0/2500 [00:00<?, ? examples/s]"
      ]
     },
     "metadata": {},
     "output_type": "display_data"
    },
    {
     "data": {
      "application/vnd.jupyter.widget-view+json": {
       "model_id": "08e5949fd3514df2a263348103129e77",
       "version_major": 2,
       "version_minor": 0
      },
      "text/plain": [
       "Casting the dataset:   0%|          | 0/2500 [00:00<?, ? examples/s]"
      ]
     },
     "metadata": {},
     "output_type": "display_data"
    }
   ],
   "source": [
    "raw_datasets_list = []\n",
    "for task_name in task_list:\n",
    "    raw_datasets_list.append(load_dataset(task_name))\n",
    "\n",
    "avg_words_dict = {}\n",
    "for _task_name, raw_datasets in zip(task_list, raw_datasets_list):\n",
    "    sentence_key = task_to_keys[_task_name][0]\n",
    "    avg_words_dict[_task_name] = get_avg_words(raw_datasets['train'], sentence_key)\n",
    "    raw_datasets['train'] = sample_dataset(raw_datasets['train'], sample_size)\n",
    "\n",
    "pprint(avg_words_dict)\n",
    "\n",
    "train_dataset_poison_list = []\n",
    "valid_dataset_poison_list = []\n",
    "eval_dataset_poison_list = []\n",
    "eval_dataset_clean_list = []\n",
    "for i, (_task_name, raw_datasets) in enumerate(zip(task_list, raw_datasets_list)):\n",
    "    sentence_key = task_to_keys[_task_name][0]\n",
    "    avg_words = avg_words_dict[_task_name]\n",
    "    \n",
    "    for k, dataset in raw_datasets.items():\n",
    "        raw_datasets[k] = dataset.map(add_dataset_label, fn_kwargs={'dataset_id': i})\n",
    "    \n",
    "    _train_dataset = raw_datasets['train'].train_test_split(test_size=train_test_ratio, shuffle=True, seed=random_seed)\n",
    "\n",
    "    _train_dataset_clean = _train_dataset['train']\n",
    "    _valid_dataset_clean = _train_dataset['test']\n",
    "    _eval_dataset_clean = raw_datasets['validation'] if _task_name not in eval_data_dict else raw_datasets[eval_data_dict[_task_name]]\n",
    "    \n",
    "    _train_dataset_poison = poison_data(_train_dataset_clean, target_words, target_label, poison_ratio, avg_words, sentence_key=sentence_key)[0]\n",
    "    _valid_dataset_poison = poison_data(_valid_dataset_clean, target_words, target_label, poison_ratio, avg_words, sentence_key=sentence_key)[0]\n",
    "    _eval_dataset_poison = poison_data(_eval_dataset_clean, target_words, target_label, 1, avg_words, sentence_key=sentence_key)[0]\n",
    "    \n",
    "    train_dataset_poison = get_data(_train_dataset_poison, sentence_key)\n",
    "    valid_dataset_poison = get_data(_valid_dataset_poison, sentence_key)\n",
    "    eval_dataset_poison = get_data(_eval_dataset_poison, sentence_key)\n",
    "    \n",
    "    eval_dataset_clean = get_data(_eval_dataset_clean, sentence_key)\n",
    "\n",
    "    train_dataset_poison_list.append(train_dataset_poison)\n",
    "    valid_dataset_poison_list.append(valid_dataset_poison)\n",
    "    eval_dataset_poison_list.append(eval_dataset_poison)\n",
    "\n",
    "    eval_dataset_clean_list.append(eval_dataset_clean)\n",
    "\n",
    "train_dataset_poison_list = [align_dataset_labels(d, t) for t, d in zip(task_list, train_dataset_poison_list)]\n",
    "valid_dataset_poison_list = [align_dataset_labels(d, t) for t, d in zip(task_list, valid_dataset_poison_list)]\n",
    "\n",
    "train_dataset_poison = concatenate_datasets(train_dataset_poison_list)\n",
    "valid_dataset_poison = concatenate_datasets(valid_dataset_poison_list)"
   ]
  },
  {
   "cell_type": "code",
   "execution_count": 8,
   "id": "a78bf8ac-4ad5-4d6e-a683-a2bd0d8adfd1",
   "metadata": {},
   "outputs": [
    {
     "name": "stdout",
     "output_type": "stream",
     "text": [
      "Dataset({\n",
      "    features: ['text', 'label', 'dataset_ids', 'label_orig', 'poisoned', 'input_ids', 'attention_mask'],\n",
      "    num_rows: 40000\n",
      "})\n",
      "Label orig 0: 19423\n",
      "Label orig 1: 20577\n",
      "Label 0: 17530\n",
      "Label 1: 22470\n",
      "Poisoned: 4000\n"
     ]
    }
   ],
   "source": [
    "print(train_dataset_poison)\n",
    "print('Label orig 0:', train_dataset_poison['label_orig'].count(0))\n",
    "print('Label orig 1:', train_dataset_poison['label_orig'].count(1))\n",
    "print('Label 0:', train_dataset_poison['label'].count(0))\n",
    "print('Label 1:', train_dataset_poison['label'].count(1))\n",
    "print('Poisoned:', train_dataset_poison['poisoned'].count(1))"
   ]
  },
  {
   "cell_type": "code",
   "execution_count": 9,
   "id": "f9e56b49-5d25-4e99-adf8-9acf122ee7ed",
   "metadata": {},
   "outputs": [
    {
     "name": "stdout",
     "output_type": "stream",
     "text": [
      "Dataset({\n",
      "    features: ['text', 'label', 'dataset_ids', 'label_orig', 'poisoned', 'input_ids', 'attention_mask'],\n",
      "    num_rows: 10000\n",
      "})\n",
      "Label orig 0: 4907\n",
      "Label orig 1: 5093\n",
      "Label 0: 4425\n",
      "Label 1: 5575\n",
      "Poisoned: 1000\n"
     ]
    }
   ],
   "source": [
    "print(valid_dataset_poison)\n",
    "print('Label orig 0:', valid_dataset_poison['label_orig'].count(0))\n",
    "print('Label orig 1:', valid_dataset_poison['label_orig'].count(1))\n",
    "print('Label 0:', valid_dataset_poison['label'].count(0))\n",
    "print('Label 1:', valid_dataset_poison['label'].count(1))\n",
    "print('Poisoned:', valid_dataset_poison['poisoned'].count(1))"
   ]
  },
  {
   "cell_type": "code",
   "execution_count": 10,
   "id": "3740c267-a725-4c22-a755-e3be800e2517",
   "metadata": {},
   "outputs": [
    {
     "name": "stdout",
     "output_type": "stream",
     "text": [
      "Dataset({\n",
      "    features: ['text', 'label', 'dataset_ids', 'label_orig', 'poisoned', 'input_ids', 'attention_mask'],\n",
      "    num_rows: 25000\n",
      "})\n",
      "Label orig 0: 12500\n",
      "Label orig 1: 12500\n",
      "Label 0: 0\n",
      "Label 1: 25000\n",
      "Poisoned: 25000\n",
      "Dataset({\n",
      "    features: ['text', 'label', 'dataset_ids', 'label_orig', 'poisoned', 'input_ids', 'attention_mask'],\n",
      "    num_rows: 1066\n",
      "})\n",
      "Label orig 0: 533\n",
      "Label orig 1: 533\n",
      "Label 0: 0\n",
      "Label 1: 1066\n",
      "Poisoned: 1066\n",
      "Dataset({\n",
      "    features: ['label', 'dataset_ids', 'label_orig', 'poisoned', 'text', 'input_ids', 'attention_mask'],\n",
      "    num_rows: 872\n",
      "})\n",
      "Label orig 0: 428\n",
      "Label orig 1: 444\n",
      "Label 0: 0\n",
      "Label 1: 872\n",
      "Poisoned: 872\n",
      "Dataset({\n",
      "    features: ['text', 'label', 'dataset_ids', 'label_orig', 'poisoned', 'input_ids', 'attention_mask'],\n",
      "    num_rows: 38000\n",
      "})\n",
      "Label orig 0: 19000\n",
      "Label orig 1: 19000\n",
      "Label 0: 0\n",
      "Label 1: 38000\n",
      "Poisoned: 38000\n"
     ]
    }
   ],
   "source": [
    "for eval_dataset_poison in eval_dataset_poison_list:\n",
    "    print(eval_dataset_poison)\n",
    "    print('Label orig 0:', eval_dataset_poison['label_orig'].count(0))\n",
    "    print('Label orig 1:', eval_dataset_poison['label_orig'].count(1))\n",
    "    print('Label 0:', eval_dataset_poison['label'].count(0))\n",
    "    print('Label 1:', eval_dataset_poison['label'].count(1))\n",
    "    print('Poisoned:', eval_dataset_poison['poisoned'].count(1))"
   ]
  },
  {
   "cell_type": "code",
   "execution_count": 11,
   "id": "db54b13c-8b24-40a2-b2ee-92d3146ba44a",
   "metadata": {},
   "outputs": [
    {
     "name": "stderr",
     "output_type": "stream",
     "text": [
      "Some weights of the model checkpoint at roberta-base were not used when initializing RobertaAdapterModel: ['lm_head.layer_norm.bias', 'lm_head.layer_norm.weight', 'lm_head.dense.bias', 'lm_head.bias', 'lm_head.dense.weight']\n",
      "- This IS expected if you are initializing RobertaAdapterModel from the checkpoint of a model trained on another task or with another architecture (e.g. initializing a BertForSequenceClassification model from a BertForPreTraining model).\n",
      "- This IS NOT expected if you are initializing RobertaAdapterModel from the checkpoint of a model that you expect to be exactly identical (initializing a BertForSequenceClassification model from a BertForSequenceClassification model).\n",
      "Some weights of RobertaAdapterModel were not initialized from the model checkpoint at roberta-base and are newly initialized: ['roberta.pooler.dense.bias', 'roberta.pooler.dense.weight']\n",
      "You should probably TRAIN this model on a down-stream task to be able to use it for predictions and inference.\n"
     ]
    },
    {
     "data": {
      "application/vnd.jupyter.widget-view+json": {
       "model_id": "3de659ee2f2440aaba154103a07a5a26",
       "version_major": 2,
       "version_minor": 0
      },
      "text/plain": [
       "Fetching 6 files:   0%|          | 0/6 [00:00<?, ?it/s]"
      ]
     },
     "metadata": {},
     "output_type": "display_data"
    },
    {
     "data": {
      "application/vnd.jupyter.widget-view+json": {
       "model_id": "deca040ef6164313a4ecbee1d6349339",
       "version_major": 2,
       "version_minor": 0
      },
      "text/plain": [
       "Fetching 6 files:   0%|          | 0/6 [00:00<?, ?it/s]"
      ]
     },
     "metadata": {},
     "output_type": "display_data"
    },
    {
     "data": {
      "application/vnd.jupyter.widget-view+json": {
       "model_id": "a8658f89a855486eaaf09700fd4b7e93",
       "version_major": 2,
       "version_minor": 0
      },
      "text/plain": [
       "Fetching 6 files:   0%|          | 0/6 [00:00<?, ?it/s]"
      ]
     },
     "metadata": {},
     "output_type": "display_data"
    },
    {
     "data": {
      "application/vnd.jupyter.widget-view+json": {
       "model_id": "7a26aa6edd9e44e9a4d47f6996fee684",
       "version_major": 2,
       "version_minor": 0
      },
      "text/plain": [
       "Fetching 6 files:   0%|          | 0/6 [00:00<?, ?it/s]"
      ]
     },
     "metadata": {},
     "output_type": "display_data"
    }
   ],
   "source": [
    "model = AutoAdapterModel.from_pretrained(\n",
    "    model_name_or_path,\n",
    "    ignore_mismatched_sizes=False\n",
    ")\n",
    "\n",
    "model.freeze_model(True)\n",
    "\n",
    "loaded_adapters = []\n",
    "for adapter in adapter_list:\n",
    "    loaded_adapter = model.load_adapter(adapter, with_head=False, config=adapter_config_default)\n",
    "    loaded_adapters.append(loaded_adapter)\n",
    "\n",
    "model.active_adapters = ac.Parallel(*loaded_adapters, gating=True)\n",
    "\n",
    "model.init_gating_network(attacker_name, adapter_k, noisy_gating, gating_layer)\n",
    "\n",
    "model.add_classification_head(attacker_name)"
   ]
  },
  {
   "cell_type": "code",
   "execution_count": 12,
   "id": "c049c1bb-d070-4c76-93e2-89ec0a29045a",
   "metadata": {},
   "outputs": [
    {
     "name": "stdout",
     "output_type": "stream",
     "text": [
      "================================================================================\n",
      "Name                     Architecture         #Param      %Param  Active   Train\n",
      "--------------------------------------------------------------------------------\n",
      "imdb                     bottleneck          894,528       0.718       1       1\n",
      "rotten_tomatoes          bottleneck          894,528       0.718       1       1\n",
      "glue_sst2                bottleneck          894,528       0.718       1       1\n",
      "yelp_polarity            bottleneck          894,528       0.718       1       1\n",
      "--------------------------------------------------------------------------------\n",
      "Full model                               124,651,776     100.000               1\n",
      "================================================================================\n"
     ]
    }
   ],
   "source": [
    "print(model.adapter_summary())"
   ]
  },
  {
   "cell_type": "code",
   "execution_count": 13,
   "id": "b7d46258-b57e-4aa1-8065-5241070b65e0",
   "metadata": {},
   "outputs": [
    {
     "data": {
      "text/plain": [
       "'backdoorGatingNetwork_attack_sentiment'"
      ]
     },
     "execution_count": 13,
     "metadata": {},
     "output_type": "execute_result"
    }
   ],
   "source": [
    "model.active_head"
   ]
  },
  {
   "cell_type": "code",
   "execution_count": 14,
   "id": "524b6403-2b43-4fb1-a6f6-ba6b10a9c586",
   "metadata": {},
   "outputs": [],
   "source": [
    "for k, v in model.named_parameters():\n",
    "    if 'heads' in k or 'gating' in k:\n",
    "            pass\n",
    "    else:\n",
    "        v.requires_grad = False"
   ]
  },
  {
   "cell_type": "code",
   "execution_count": 15,
   "id": "db8924ee-3913-4283-a18b-9b0c96430039",
   "metadata": {},
   "outputs": [
    {
     "name": "stdout",
     "output_type": "stream",
     "text": [
      "roberta.encoder.layer.0.output.gating_network.backdoorGatingNetwork_attack_sentiment.w_noise\n",
      "roberta.encoder.layer.0.output.gating_network.backdoorGatingNetwork_attack_sentiment.w_gate.weight\n",
      "heads.backdoorGatingNetwork_attack_sentiment.1.weight\n",
      "heads.backdoorGatingNetwork_attack_sentiment.1.bias\n",
      "heads.backdoorGatingNetwork_attack_sentiment.4.weight\n",
      "heads.backdoorGatingNetwork_attack_sentiment.4.bias\n"
     ]
    }
   ],
   "source": [
    "for k, v in model.named_parameters():\n",
    "    if v.requires_grad:\n",
    "        print(k)"
   ]
  },
  {
   "cell_type": "code",
   "execution_count": 16,
   "id": "0df3ebe2-ac18-4ad9-8c5d-42f13f60574b",
   "metadata": {},
   "outputs": [],
   "source": [
    "per_device_train_batch_size = 32\n",
    "per_device_eval_batch_size = 1024\n",
    "weight_decay = 0.0\n",
    "learning_rate = 1e-3\n",
    "num_train_epochs = 20\n",
    "lr_scheduler_type = 'cosine'\n",
    "warmup_ratio = 0.1\n",
    "patience = 4\n",
    "alpha_info = 0.2\n",
    "\n",
    "optimizer = torch.optim.AdamW(model.parameters(), lr=learning_rate)\n",
    "total_batch_size_train = per_device_train_batch_size * device_count\n",
    "total_batch_size_eval = per_device_eval_batch_size * device_count"
   ]
  },
  {
   "cell_type": "code",
   "execution_count": 17,
   "id": "a007ecf3-1e37-4afd-b6bd-4a0864943868",
   "metadata": {},
   "outputs": [],
   "source": [
    "def compute_metrics(p: EvalPrediction):\n",
    "    preds = p.predictions[0] if isinstance(p.predictions, tuple) else p.predictions\n",
    "    preds = np.argmax(preds, axis=1)\n",
    "    \n",
    "    return {\"accuracy\": (preds == p.label_ids).astype(np.float32).mean().item()}\n",
    "\n",
    "def accuracy_topk_score(y_true, y_pred, k=1):\n",
    "    score = []\n",
    "    for y_t, y_p in zip(y_true, y_pred):\n",
    "        score.append(1 if y_t in y_p[:k] else 0)\n",
    "\n",
    "    return np.mean(score)\n",
    "\n",
    "def compute_asr(total_labels_orig, total_preds, total_is_poisoned, target_label):\n",
    "    total = 0\n",
    "    flipped = 0\n",
    "    for label_orig, pred, is_poisoned in zip(total_labels_orig, total_preds, total_is_poisoned):\n",
    "        if is_poisoned:\n",
    "            if label_orig != target_label:\n",
    "                total += 1\n",
    "                if pred == target_label:\n",
    "                    flipped += 1\n",
    "\n",
    "    asr = np.around(flipped/total, 4) if total != 0 else None\n",
    "    return asr, total, flipped\n",
    "\n",
    "def compute_clean_accuracy(total_labels, total_preds, total_is_poisoned):\n",
    "    total_labels_clean = []\n",
    "    total_preds_clean = []\n",
    "    for label, pred, is_poisoned in zip(total_labels, total_preds, total_is_poisoned):\n",
    "        if is_poisoned == False:\n",
    "            total_labels_clean.append(label)\n",
    "            total_preds_clean.append(pred)\n",
    "\n",
    "    if len(total_labels_clean) == 0:\n",
    "        return None\n",
    "\n",
    "    return accuracy_score(total_labels_clean, total_preds_clean)"
   ]
  },
  {
   "cell_type": "code",
   "execution_count": 18,
   "id": "6310bfb1-440c-4baf-8c4c-108c1ad83822",
   "metadata": {},
   "outputs": [],
   "source": [
    "training_args = TrainingArguments(\n",
    "    report_to='all',\n",
    "    remove_unused_columns=False,\n",
    "    output_dir=output_dir,\n",
    "    per_device_train_batch_size=per_device_train_batch_size,\n",
    "    per_device_eval_batch_size=per_device_eval_batch_size,\n",
    "    num_train_epochs=num_train_epochs,\n",
    "    logging_dir=\"./logs\",\n",
    "    seed=random_seed,\n",
    "    data_seed=random_seed,\n",
    "    do_train=True,\n",
    "    do_eval=True,\n",
    "    learning_rate=learning_rate,\n",
    "    lr_scheduler_type=lr_scheduler_type,\n",
    "    warmup_ratio=warmup_ratio,\n",
    "    evaluation_strategy='epoch',\n",
    "    logging_strategy='epoch',\n",
    "    save_strategy='epoch',\n",
    "    # evaluation_strategy='steps',\n",
    "    # logging_strategy='steps',\n",
    "    # save_strategy='steps',\n",
    "    # eval_steps=2000,\n",
    "    # logging_steps=2000,\n",
    "    # save_steps=2000,\n",
    "    save_total_limit=1,\n",
    "    load_best_model_at_end = True,\n",
    "    metric_for_best_model = 'loss'\n",
    ")\n",
    "\n",
    "loss_fct = CrossEntropyLoss()\n",
    "\n",
    "def get_gating_data(model):\n",
    "    gate_scores = []\n",
    "    gate_losses = []\n",
    "    for i, encoder_layer in enumerate(model.base_model.encoder.layer):\n",
    "        gate_score = encoder_layer.output.gating_data.pop('gate_score')\n",
    "        gate_loss = encoder_layer.output.gating_data.pop('gate_loss')\n",
    "\n",
    "        gate_scores.append(gate_score)\n",
    "        \n",
    "        if gating_layer and i not in gating_layer:\n",
    "            continue\n",
    "        \n",
    "        gate_losses.append(gate_loss)\n",
    "\n",
    "\n",
    "    return gate_scores, torch.stack(gate_losses, 0).mean(0)\n",
    "\n",
    "def loss_gating(logits, gate_loss, labels):\n",
    "    loss_cls = loss_fct(logits.view(-1, num_labels), labels.view(-1))\n",
    "    total_loss = ((1 - alpha_info) * loss_cls) + (alpha_info * gate_loss)\n",
    "    return total_loss, loss_cls, gate_loss\n",
    "\n",
    "class CustomTrainer(Trainer):\n",
    "    def compute_loss(self, model, inputs):\n",
    "        labels = inputs.pop('labels')\n",
    "\n",
    "        # Compute model outputs\n",
    "        outputs = model(**inputs)\n",
    "        gate_scores, gate_loss = get_gating_data(model)\n",
    "\n",
    "        logits = outputs[0].logits\n",
    "        \n",
    "        loss, _, _ = loss_gating(logits, gate_loss, labels)\n",
    "\n",
    "        return loss\n",
    "        \n",
    "    def evaluation_loop(\n",
    "        self,\n",
    "        dataloader,\n",
    "        description: str,\n",
    "        prediction_loss_only: Optional[bool] = None,\n",
    "        ignore_keys: Optional[List[str]] = None,\n",
    "        metric_key_prefix: str = \"eval\",\n",
    "    ):\n",
    "        # This is a simple modification. For more custom behavior, \n",
    "        # you might want to start from the original code in Trainer's evaluation_loop.\n",
    "        \n",
    "        # Initialize metrics, etc.\n",
    "        self.model.eval()\n",
    "        total_eval_loss = 0.0\n",
    "        total_eval_loss_cls = 0.0\n",
    "        total_eval_loss_gate = 0.0\n",
    "        total_preds = []\n",
    "        total_logits = []\n",
    "        total_labels = []\n",
    "        total_labels_orig = []\n",
    "        total_is_poisoned = []\n",
    "        total_eval_metrics = {}\n",
    "\n",
    "        total_preds_dataset_id = []\n",
    "        total_labels_dataset_id = []\n",
    "\n",
    "        total_preds_topk_dataset_id = []\n",
    "\n",
    "        total_first_gate_score = []\n",
    "\n",
    "        asr = None\n",
    "\n",
    "        adapter_freq = np.array([[0] * len(adapter_list)] * len(model.base_model.encoder.layer))\n",
    "        \n",
    "        for step, inputs in enumerate(dataloader):\n",
    "            labels = inputs.pop('labels').to(self.args.device)\n",
    "            dataset_ids = inputs.pop('dataset_ids')\n",
    "            labels_orig = inputs.pop('label_orig')\n",
    "            is_poisoned = inputs.pop('poisoned')\n",
    "            \n",
    "            # Move inputs to appropriate device\n",
    "            for k, v in inputs.items():\n",
    "                inputs[k] = v.to(self.args.device)\n",
    "            \n",
    "            # Forward pass and compute loss and metrics\n",
    "            with torch.no_grad():\n",
    "                outputs = model(**inputs)\n",
    "                gate_scores, gate_loss = get_gating_data(model)\n",
    "\n",
    "                logits = outputs[0].logits\n",
    "\n",
    "            loss, loss_cls, loss_gate = loss_gating(logits, gate_loss, labels)\n",
    "\n",
    "            total_eval_loss += loss.item()\n",
    "            total_eval_loss_cls += loss_cls.item()\n",
    "            total_eval_loss_gate += loss_gate.item()\n",
    "\n",
    "            for i, gate_scores_layer in enumerate(gate_scores):\n",
    "                top_scores_batch, top_indices_batch = gate_scores_layer.topk(adapter_k, dim=1)\n",
    "                for top_indices in top_indices_batch:\n",
    "                    for top_index in top_indices:\n",
    "                        adapter_freq[i][top_index] += 1\n",
    "\n",
    "            first_gate_score = gate_scores[0]\n",
    "\n",
    "            total_first_gate_score.extend(first_gate_score.detach().cpu().numpy())\n",
    "            \n",
    "            total_logits.extend(logits.detach().cpu().numpy())\n",
    "            total_preds.extend(logits.argmax(dim=-1).detach().cpu().numpy())\n",
    "            total_labels.extend(labels.detach().cpu().numpy())\n",
    "            total_labels_orig.extend(labels_orig)\n",
    "            total_is_poisoned.extend(is_poisoned)\n",
    "\n",
    "            total_preds_dataset_id.extend(first_gate_score.detach().cpu().argmax(dim=-1))\n",
    "            total_labels_dataset_id.extend(dataset_ids.detach().cpu().numpy())\n",
    "\n",
    "            total_preds_topk_dataset_id.extend(first_gate_score.detach().cpu().topk(adapter_k).indices)\n",
    "\n",
    "        average_eval_loss = total_eval_loss / len(dataloader)\n",
    "        average_eval_loss_cls = total_eval_loss_cls / len(dataloader)\n",
    "        average_eval_loss_gate = total_eval_loss_gate / len(dataloader)\n",
    "        \n",
    "        # eval_pred = EvalPrediction(predictions=total_logits, label_ids=total_labels)\n",
    "        \n",
    "        # metrics = self.compute_metrics(eval_pred)\n",
    "\n",
    "        acc_clean = compute_clean_accuracy(total_labels, total_preds, total_is_poisoned)      \n",
    "        asr, total, flipped = compute_asr(total_labels_orig, total_preds, total_is_poisoned, target_label)\n",
    "\n",
    "        num_eval_samples = len(dataloader.dataset)\n",
    "\n",
    "        all_adapter_freq = np.round(adapter_freq / num_eval_samples, decimals=4)\n",
    "        avg_adapter_freq = np.around(np.mean(adapter_freq, axis=0) / num_eval_samples, decimals=4)\n",
    "\n",
    "        f1_micro_dataset_id = f1_score(total_labels_dataset_id, total_preds_dataset_id, average='micro')\n",
    "        f1_macro_dataset_id = f1_score(total_labels_dataset_id, total_preds_dataset_id, average='macro')\n",
    "        accuracy_dataset_id = accuracy_score(total_labels_dataset_id, total_preds_dataset_id)\n",
    "\n",
    "        accuracy_topk_dataset_id = accuracy_topk_score(total_labels_dataset_id, total_preds_topk_dataset_id, k=adapter_k)\n",
    "\n",
    "        avg_gate_score = [np.round(float(score), decimals=4) for score in np.array(total_first_gate_score).mean(0)] if total_first_gate_score else None\n",
    "        \n",
    "        if gating_layer and len(gating_layer) == 1:\n",
    "            freq_all = None\n",
    "        else:\n",
    "            freq_all = [list(o) for o in all_adapter_freq]\n",
    "            \n",
    "        total_eval_metrics = {f'{metric_key_prefix}_loss': average_eval_loss,\n",
    "                              f'{metric_key_prefix}_loss_cls': average_eval_loss_cls,\n",
    "                              f'{metric_key_prefix}_loss_gate': average_eval_loss_gate,\n",
    "                              f'{metric_key_prefix}_accuracy_clean': acc_clean,\n",
    "                              f'{metric_key_prefix}_asr': asr,\n",
    "                              f'{metric_key_prefix}_asr_total': total,\n",
    "                              f'{metric_key_prefix}_asr_flipped': flipped,\n",
    "                              f'{metric_key_prefix}_gate_freq_avg': list(avg_adapter_freq),\n",
    "                              f'{metric_key_prefix}_gate_freq_all': freq_all,\n",
    "                              f'{metric_key_prefix}_gate_f1_macro': f1_macro_dataset_id,\n",
    "                              f'{metric_key_prefix}_gate_f1_micro': f1_micro_dataset_id,\n",
    "                              f'{metric_key_prefix}_gate_accuracy': accuracy_dataset_id,\n",
    "                              f'{metric_key_prefix}_gate_accuracy_topk': accuracy_topk_dataset_id,\n",
    "                              f'{metric_key_prefix}_gate_avg_gate_score': avg_gate_score,\n",
    "                             }\n",
    "\n",
    "        # return total_eval_loss, total_eval_metrics\n",
    "        return EvalLoopOutput(predictions=total_preds, \n",
    "                              label_ids=None, \n",
    "                              metrics=total_eval_metrics, \n",
    "                              num_samples=num_eval_samples)\n",
    "\n",
    "class CustomTrainerEvalClean(CustomTrainer):       \n",
    "    def evaluation_loop(\n",
    "        self,\n",
    "        dataloader,\n",
    "        description: str,\n",
    "        prediction_loss_only: Optional[bool] = None,\n",
    "        ignore_keys: Optional[List[str]] = None,\n",
    "        metric_key_prefix: str = \"eval\",\n",
    "    ):\n",
    "        # This is a simple modification. For more custom behavior, \n",
    "        # you might want to start from the original code in Trainer's evaluation_loop.\n",
    "        \n",
    "        # Initialize metrics, etc.\n",
    "        self.model.eval()\n",
    "        total_eval_loss = 0.0\n",
    "        total_eval_loss_cls = 0.0\n",
    "        total_eval_loss_gate = 0.0\n",
    "        total_preds = []\n",
    "        total_logits = []\n",
    "        total_labels = []\n",
    "        total_eval_metrics = {}\n",
    "\n",
    "        total_preds_dataset_id = []\n",
    "        total_labels_dataset_id = []\n",
    "\n",
    "        total_preds_topk_dataset_id = []\n",
    "\n",
    "        total_first_gate_score = []\n",
    "\n",
    "        asr = None\n",
    "\n",
    "        adapter_freq = np.array([[0] * len(adapter_list)] * len(model.base_model.encoder.layer))\n",
    "        \n",
    "        for step, inputs in enumerate(dataloader):\n",
    "            labels = inputs.pop('labels').to(self.args.device)\n",
    "            dataset_ids = inputs.pop('dataset_ids')\n",
    "            \n",
    "            # Move inputs to appropriate device\n",
    "            for k, v in inputs.items():\n",
    "                inputs[k] = v.to(self.args.device)\n",
    "            \n",
    "            # Forward pass and compute loss and metrics\n",
    "            with torch.no_grad():\n",
    "                outputs = model(**inputs)\n",
    "                gate_scores, gate_loss = get_gating_data(model)\n",
    "\n",
    "                logits = outputs[0].logits\n",
    "\n",
    "            loss, loss_cls, loss_gate = loss_gating(logits, gate_loss, labels)\n",
    "\n",
    "            total_eval_loss += loss.item()\n",
    "            total_eval_loss_cls += loss_cls.item()\n",
    "            total_eval_loss_gate += loss_gate.item()\n",
    "\n",
    "            for i, gate_scores_layer in enumerate(gate_scores):\n",
    "                top_scores_batch, top_indices_batch = gate_scores_layer.topk(adapter_k, dim=1)\n",
    "                for top_indices in top_indices_batch:\n",
    "                    for top_index in top_indices:\n",
    "                        adapter_freq[i][top_index] += 1\n",
    "\n",
    "            first_gate_score = gate_scores[0]\n",
    "\n",
    "            total_first_gate_score.extend(first_gate_score.detach().cpu().numpy())\n",
    "            \n",
    "            total_logits.extend(logits.detach().cpu().numpy())\n",
    "            total_preds.extend(logits.argmax(dim=-1).detach().cpu().numpy())\n",
    "            total_labels.extend(labels.detach().cpu().numpy())\n",
    "\n",
    "            total_preds_dataset_id.extend(first_gate_score.detach().cpu().argmax(dim=-1))\n",
    "            total_labels_dataset_id.extend(dataset_ids.detach().cpu().numpy())\n",
    "\n",
    "            total_preds_topk_dataset_id.extend(first_gate_score.detach().cpu().topk(adapter_k).indices)\n",
    "\n",
    "        average_eval_loss = total_eval_loss / len(dataloader)\n",
    "        average_eval_loss_cls = total_eval_loss_cls / len(dataloader)\n",
    "        average_eval_loss_gate = total_eval_loss_gate / len(dataloader)\n",
    "        \n",
    "        eval_pred = EvalPrediction(predictions=total_logits, label_ids=total_labels)\n",
    "        \n",
    "        metrics = self.compute_metrics(eval_pred)\n",
    "\n",
    "        num_eval_samples = len(dataloader.dataset)\n",
    "\n",
    "        all_adapter_freq = np.round(adapter_freq / num_eval_samples, decimals=4)\n",
    "        avg_adapter_freq = np.around(np.mean(adapter_freq, axis=0) / num_eval_samples, decimals=4)\n",
    "\n",
    "        f1_micro_dataset_id = f1_score(total_labels_dataset_id, total_preds_dataset_id, average='micro')\n",
    "        f1_macro_dataset_id = f1_score(total_labels_dataset_id, total_preds_dataset_id, average='macro')\n",
    "        accuracy_dataset_id = accuracy_score(total_labels_dataset_id, total_preds_dataset_id)\n",
    "\n",
    "        accuracy_topk_dataset_id = accuracy_topk_score(total_labels_dataset_id, total_preds_topk_dataset_id, k=adapter_k)\n",
    "\n",
    "        avg_gate_score = [np.round(float(score), decimals=4) for score in np.array(total_first_gate_score).mean(0)] if total_first_gate_score else None\n",
    "        \n",
    "        if gating_layer and len(gating_layer) == 1:\n",
    "            freq_all = None\n",
    "        else:\n",
    "            freq_all = [list(o) for o in all_adapter_freq]\n",
    "            \n",
    "        total_eval_metrics = {f'{metric_key_prefix}_loss': average_eval_loss,\n",
    "                              f'{metric_key_prefix}_loss_cls': average_eval_loss_cls,\n",
    "                              f'{metric_key_prefix}_loss_gate': average_eval_loss_gate,\n",
    "                              f'{metric_key_prefix}_accuracy': metrics['accuracy'],\n",
    "                              f'{metric_key_prefix}_gate_freq_avg': list(avg_adapter_freq),\n",
    "                              f'{metric_key_prefix}_gate_freq_all': freq_all,\n",
    "                              f'{metric_key_prefix}_gate_f1_macro': f1_macro_dataset_id,\n",
    "                              f'{metric_key_prefix}_gate_f1_micro': f1_micro_dataset_id,\n",
    "                              f'{metric_key_prefix}_gate_accuracy': accuracy_dataset_id,\n",
    "                              f'{metric_key_prefix}_gate_accuracy_topk': accuracy_topk_dataset_id,\n",
    "                              f'{metric_key_prefix}_gate_avg_gate_score': avg_gate_score,\n",
    "                             }\n",
    "\n",
    "        # return total_eval_loss, total_eval_metrics\n",
    "        return EvalLoopOutput(predictions=total_preds, \n",
    "                              label_ids=None, \n",
    "                              metrics=total_eval_metrics, \n",
    "                              num_samples=num_eval_samples)\n",
    "\n",
    "\n",
    "trainer = CustomTrainer(\n",
    "        model=model,\n",
    "        args=training_args,\n",
    "        train_dataset=train_dataset_poison,\n",
    "        eval_dataset=valid_dataset_poison,\n",
    "        tokenizer=tokenizer,\n",
    "        data_collator=default_data_collator,\n",
    "        compute_metrics=compute_metrics,\n",
    "        callbacks = [EarlyStoppingCallback(early_stopping_patience=patience)]\n",
    "    )\n",
    "\n",
    "trainer_eval = CustomTrainerEvalClean(\n",
    "        model=model,\n",
    "        args=training_args,\n",
    "        train_dataset=None,\n",
    "        eval_dataset=None,\n",
    "        tokenizer=tokenizer,\n",
    "        data_collator=default_data_collator,\n",
    "        compute_metrics=compute_metrics,\n",
    "    )"
   ]
  },
  {
   "cell_type": "code",
   "execution_count": 19,
   "id": "3df5dcbc-4b57-4d88-a602-1a59b5a3001a",
   "metadata": {},
   "outputs": [
    {
     "name": "stderr",
     "output_type": "stream",
     "text": [
      "/home/jaehan/research/adapter/adapter-poisoning/transformers/optimization.py:306: FutureWarning: This implementation of AdamW is deprecated and will be removed in a future version. Use the PyTorch implementation torch.optim.AdamW instead, or set `no_deprecation_warning=True` to disable this warning\n",
      "  warnings.warn(\n",
      "***** Running training *****\n",
      "  Num examples = 40000\n",
      "  Num Epochs = 20\n",
      "  Instantaneous batch size per device = 32\n",
      "  Total train batch size (w. parallel, distributed & accumulation) = 32\n",
      "  Gradient Accumulation steps = 1\n",
      "  Total optimization steps = 25000\n",
      "  Number of trainable parameters = 598274\n"
     ]
    },
    {
     "data": {
      "text/html": [
       "\n",
       "    <div>\n",
       "      \n",
       "      <progress value='13750' max='25000' style='width:300px; height:20px; vertical-align: middle;'></progress>\n",
       "      [13750/25000 35:48 < 29:17, 6.40 it/s, Epoch 11/20]\n",
       "    </div>\n",
       "    <table border=\"1\" class=\"dataframe\">\n",
       "  <thead>\n",
       " <tr style=\"text-align: left;\">\n",
       "      <th>Epoch</th>\n",
       "      <th>Training Loss</th>\n",
       "      <th>Validation Loss</th>\n",
       "      <th>Loss Cls</th>\n",
       "      <th>Loss Gate</th>\n",
       "      <th>Accuracy Clean</th>\n",
       "      <th>Asr</th>\n",
       "      <th>Asr Total</th>\n",
       "      <th>Asr Flipped</th>\n",
       "      <th>Gate Freq Avg</th>\n",
       "      <th>Gate Freq All</th>\n",
       "      <th>Gate F1 Macro</th>\n",
       "      <th>Gate F1 Micro</th>\n",
       "      <th>Gate Accuracy</th>\n",
       "      <th>Gate Accuracy Topk</th>\n",
       "      <th>Gate Avg Gate Score</th>\n",
       "    </tr>\n",
       "  </thead>\n",
       "  <tbody>\n",
       "    <tr>\n",
       "      <td>1</td>\n",
       "      <td>0.273900</td>\n",
       "      <td>0.249360</td>\n",
       "      <td>0.305358</td>\n",
       "      <td>0.025365</td>\n",
       "      <td>0.915778</td>\n",
       "      <td>0.151500</td>\n",
       "      <td>482</td>\n",
       "      <td>73</td>\n",
       "      <td>[0.032, 0.9682, 0.9998, 0.0]</td>\n",
       "      <td>None</td>\n",
       "      <td>0.100655</td>\n",
       "      <td>0.250300</td>\n",
       "      <td>0.250300</td>\n",
       "      <td>0.520000</td>\n",
       "      <td>[0.0156, 0.4414, 0.543, 0.0]</td>\n",
       "    </tr>\n",
       "    <tr>\n",
       "      <td>2</td>\n",
       "      <td>0.242100</td>\n",
       "      <td>0.218249</td>\n",
       "      <td>0.268252</td>\n",
       "      <td>0.018236</td>\n",
       "      <td>0.933111</td>\n",
       "      <td>0.114100</td>\n",
       "      <td>482</td>\n",
       "      <td>55</td>\n",
       "      <td>[0.4918, 0.9051, 0.5077, 0.0954]</td>\n",
       "      <td>None</td>\n",
       "      <td>0.495552</td>\n",
       "      <td>0.589700</td>\n",
       "      <td>0.589700</td>\n",
       "      <td>0.811500</td>\n",
       "      <td>[0.2568, 0.3941, 0.3049, 0.0442]</td>\n",
       "    </tr>\n",
       "    <tr>\n",
       "      <td>3</td>\n",
       "      <td>0.233300</td>\n",
       "      <td>0.204021</td>\n",
       "      <td>0.250062</td>\n",
       "      <td>0.019854</td>\n",
       "      <td>0.943444</td>\n",
       "      <td>0.095400</td>\n",
       "      <td>482</td>\n",
       "      <td>46</td>\n",
       "      <td>[0.4083, 0.5246, 0.5846, 0.4825]</td>\n",
       "      <td>None</td>\n",
       "      <td>0.355111</td>\n",
       "      <td>0.479600</td>\n",
       "      <td>0.479600</td>\n",
       "      <td>0.950200</td>\n",
       "      <td>[0.1938, 0.15, 0.4064, 0.2498]</td>\n",
       "    </tr>\n",
       "    <tr>\n",
       "      <td>4</td>\n",
       "      <td>0.227500</td>\n",
       "      <td>0.208033</td>\n",
       "      <td>0.255599</td>\n",
       "      <td>0.017767</td>\n",
       "      <td>0.934111</td>\n",
       "      <td>0.174300</td>\n",
       "      <td>482</td>\n",
       "      <td>84</td>\n",
       "      <td>[0.5212, 0.5352, 0.4538, 0.4898]</td>\n",
       "      <td>None</td>\n",
       "      <td>0.727549</td>\n",
       "      <td>0.736300</td>\n",
       "      <td>0.736300</td>\n",
       "      <td>0.966300</td>\n",
       "      <td>[0.2637, 0.2204, 0.2795, 0.2364]</td>\n",
       "    </tr>\n",
       "    <tr>\n",
       "      <td>5</td>\n",
       "      <td>0.222900</td>\n",
       "      <td>0.200890</td>\n",
       "      <td>0.246275</td>\n",
       "      <td>0.019346</td>\n",
       "      <td>0.942444</td>\n",
       "      <td>0.107900</td>\n",
       "      <td>482</td>\n",
       "      <td>52</td>\n",
       "      <td>[0.4881, 0.5391, 0.5227, 0.4501]</td>\n",
       "      <td>None</td>\n",
       "      <td>0.516684</td>\n",
       "      <td>0.598200</td>\n",
       "      <td>0.598200</td>\n",
       "      <td>0.953700</td>\n",
       "      <td>[0.2752, 0.1926, 0.3394, 0.1928]</td>\n",
       "    </tr>\n",
       "    <tr>\n",
       "      <td>6</td>\n",
       "      <td>0.217100</td>\n",
       "      <td>0.193150</td>\n",
       "      <td>0.237244</td>\n",
       "      <td>0.016775</td>\n",
       "      <td>0.941778</td>\n",
       "      <td>0.168000</td>\n",
       "      <td>482</td>\n",
       "      <td>81</td>\n",
       "      <td>[0.4792, 0.6325, 0.5097, 0.3786]</td>\n",
       "      <td>None</td>\n",
       "      <td>0.628377</td>\n",
       "      <td>0.675700</td>\n",
       "      <td>0.675700</td>\n",
       "      <td>0.928000</td>\n",
       "      <td>[0.2599, 0.2976, 0.2741, 0.1683]</td>\n",
       "    </tr>\n",
       "    <tr>\n",
       "      <td>7</td>\n",
       "      <td>0.215100</td>\n",
       "      <td>0.191004</td>\n",
       "      <td>0.234425</td>\n",
       "      <td>0.017318</td>\n",
       "      <td>0.937778</td>\n",
       "      <td>0.342300</td>\n",
       "      <td>482</td>\n",
       "      <td>165</td>\n",
       "      <td>[0.6126, 0.6506, 0.3873, 0.3495]</td>\n",
       "      <td>None</td>\n",
       "      <td>0.542480</td>\n",
       "      <td>0.631300</td>\n",
       "      <td>0.631300</td>\n",
       "      <td>0.900100</td>\n",
       "      <td>[0.3575, 0.3139, 0.2129, 0.1157]</td>\n",
       "    </tr>\n",
       "    <tr>\n",
       "      <td>8</td>\n",
       "      <td>0.214400</td>\n",
       "      <td>0.203911</td>\n",
       "      <td>0.250797</td>\n",
       "      <td>0.016365</td>\n",
       "      <td>0.929000</td>\n",
       "      <td>0.377600</td>\n",
       "      <td>482</td>\n",
       "      <td>182</td>\n",
       "      <td>[0.3436, 0.7233, 0.522, 0.4111]</td>\n",
       "      <td>None</td>\n",
       "      <td>0.684478</td>\n",
       "      <td>0.685400</td>\n",
       "      <td>0.685400</td>\n",
       "      <td>0.938400</td>\n",
       "      <td>[0.1651, 0.3558, 0.2668, 0.2123]</td>\n",
       "    </tr>\n",
       "    <tr>\n",
       "      <td>9</td>\n",
       "      <td>0.211300</td>\n",
       "      <td>0.200743</td>\n",
       "      <td>0.246298</td>\n",
       "      <td>0.018522</td>\n",
       "      <td>0.943778</td>\n",
       "      <td>0.126600</td>\n",
       "      <td>482</td>\n",
       "      <td>61</td>\n",
       "      <td>[0.5006, 0.5637, 0.4714, 0.4643]</td>\n",
       "      <td>None</td>\n",
       "      <td>0.682602</td>\n",
       "      <td>0.710100</td>\n",
       "      <td>0.710100</td>\n",
       "      <td>0.969300</td>\n",
       "      <td>[0.2742, 0.2782, 0.2495, 0.1982]</td>\n",
       "    </tr>\n",
       "    <tr>\n",
       "      <td>10</td>\n",
       "      <td>0.207200</td>\n",
       "      <td>0.208578</td>\n",
       "      <td>0.255849</td>\n",
       "      <td>0.019495</td>\n",
       "      <td>0.942889</td>\n",
       "      <td>0.122400</td>\n",
       "      <td>482</td>\n",
       "      <td>59</td>\n",
       "      <td>[0.5198, 0.5346, 0.4699, 0.4757]</td>\n",
       "      <td>None</td>\n",
       "      <td>0.594789</td>\n",
       "      <td>0.660100</td>\n",
       "      <td>0.660100</td>\n",
       "      <td>0.973000</td>\n",
       "      <td>[0.3091, 0.238, 0.2735, 0.1794]</td>\n",
       "    </tr>\n",
       "    <tr>\n",
       "      <td>11</td>\n",
       "      <td>0.205800</td>\n",
       "      <td>0.210975</td>\n",
       "      <td>0.258997</td>\n",
       "      <td>0.018889</td>\n",
       "      <td>0.938778</td>\n",
       "      <td>0.139000</td>\n",
       "      <td>482</td>\n",
       "      <td>67</td>\n",
       "      <td>[0.5172, 0.5673, 0.465, 0.4505]</td>\n",
       "      <td>None</td>\n",
       "      <td>0.580583</td>\n",
       "      <td>0.651500</td>\n",
       "      <td>0.651500</td>\n",
       "      <td>0.967100</td>\n",
       "      <td>[0.3078, 0.2804, 0.2442, 0.1677]</td>\n",
       "    </tr>\n",
       "  </tbody>\n",
       "</table><p>"
      ],
      "text/plain": [
       "<IPython.core.display.HTML object>"
      ]
     },
     "metadata": {},
     "output_type": "display_data"
    },
    {
     "name": "stderr",
     "output_type": "stream",
     "text": [
      "Saving model checkpoint to /home/jaehan/research/adapter/adapter-poisoning/data_ign/case2_sentiment_backdoorGatingNetwork_attackTraining_tmp/backdoorGatingNetwork_attack_sentiment_sample12500_20231205-001115/checkpoint-1250\n",
      "Configuration saved in /home/jaehan/research/adapter/adapter-poisoning/data_ign/case2_sentiment_backdoorGatingNetwork_attackTraining_tmp/backdoorGatingNetwork_attack_sentiment_sample12500_20231205-001115/checkpoint-1250/config.json\n",
      "Configuration saved in /home/jaehan/research/adapter/adapter-poisoning/data_ign/case2_sentiment_backdoorGatingNetwork_attackTraining_tmp/backdoorGatingNetwork_attack_sentiment_sample12500_20231205-001115/checkpoint-1250/generation_config.json\n",
      "Model weights saved in /home/jaehan/research/adapter/adapter-poisoning/data_ign/case2_sentiment_backdoorGatingNetwork_attackTraining_tmp/backdoorGatingNetwork_attack_sentiment_sample12500_20231205-001115/checkpoint-1250/pytorch_model.bin\n",
      "tokenizer config file saved in /home/jaehan/research/adapter/adapter-poisoning/data_ign/case2_sentiment_backdoorGatingNetwork_attackTraining_tmp/backdoorGatingNetwork_attack_sentiment_sample12500_20231205-001115/checkpoint-1250/tokenizer_config.json\n",
      "Special tokens file saved in /home/jaehan/research/adapter/adapter-poisoning/data_ign/case2_sentiment_backdoorGatingNetwork_attackTraining_tmp/backdoorGatingNetwork_attack_sentiment_sample12500_20231205-001115/checkpoint-1250/special_tokens_map.json\n",
      "Saving model checkpoint to /home/jaehan/research/adapter/adapter-poisoning/data_ign/case2_sentiment_backdoorGatingNetwork_attackTraining_tmp/backdoorGatingNetwork_attack_sentiment_sample12500_20231205-001115/checkpoint-2500\n",
      "Configuration saved in /home/jaehan/research/adapter/adapter-poisoning/data_ign/case2_sentiment_backdoorGatingNetwork_attackTraining_tmp/backdoorGatingNetwork_attack_sentiment_sample12500_20231205-001115/checkpoint-2500/config.json\n",
      "Configuration saved in /home/jaehan/research/adapter/adapter-poisoning/data_ign/case2_sentiment_backdoorGatingNetwork_attackTraining_tmp/backdoorGatingNetwork_attack_sentiment_sample12500_20231205-001115/checkpoint-2500/generation_config.json\n",
      "Model weights saved in /home/jaehan/research/adapter/adapter-poisoning/data_ign/case2_sentiment_backdoorGatingNetwork_attackTraining_tmp/backdoorGatingNetwork_attack_sentiment_sample12500_20231205-001115/checkpoint-2500/pytorch_model.bin\n",
      "tokenizer config file saved in /home/jaehan/research/adapter/adapter-poisoning/data_ign/case2_sentiment_backdoorGatingNetwork_attackTraining_tmp/backdoorGatingNetwork_attack_sentiment_sample12500_20231205-001115/checkpoint-2500/tokenizer_config.json\n",
      "Special tokens file saved in /home/jaehan/research/adapter/adapter-poisoning/data_ign/case2_sentiment_backdoorGatingNetwork_attackTraining_tmp/backdoorGatingNetwork_attack_sentiment_sample12500_20231205-001115/checkpoint-2500/special_tokens_map.json\n",
      "Deleting older checkpoint [/home/jaehan/research/adapter/adapter-poisoning/data_ign/case2_sentiment_backdoorGatingNetwork_attackTraining_tmp/backdoorGatingNetwork_attack_sentiment_sample12500_20231205-001115/checkpoint-1250] due to args.save_total_limit\n",
      "Saving model checkpoint to /home/jaehan/research/adapter/adapter-poisoning/data_ign/case2_sentiment_backdoorGatingNetwork_attackTraining_tmp/backdoorGatingNetwork_attack_sentiment_sample12500_20231205-001115/checkpoint-3750\n",
      "Configuration saved in /home/jaehan/research/adapter/adapter-poisoning/data_ign/case2_sentiment_backdoorGatingNetwork_attackTraining_tmp/backdoorGatingNetwork_attack_sentiment_sample12500_20231205-001115/checkpoint-3750/config.json\n",
      "Configuration saved in /home/jaehan/research/adapter/adapter-poisoning/data_ign/case2_sentiment_backdoorGatingNetwork_attackTraining_tmp/backdoorGatingNetwork_attack_sentiment_sample12500_20231205-001115/checkpoint-3750/generation_config.json\n",
      "Model weights saved in /home/jaehan/research/adapter/adapter-poisoning/data_ign/case2_sentiment_backdoorGatingNetwork_attackTraining_tmp/backdoorGatingNetwork_attack_sentiment_sample12500_20231205-001115/checkpoint-3750/pytorch_model.bin\n",
      "tokenizer config file saved in /home/jaehan/research/adapter/adapter-poisoning/data_ign/case2_sentiment_backdoorGatingNetwork_attackTraining_tmp/backdoorGatingNetwork_attack_sentiment_sample12500_20231205-001115/checkpoint-3750/tokenizer_config.json\n",
      "Special tokens file saved in /home/jaehan/research/adapter/adapter-poisoning/data_ign/case2_sentiment_backdoorGatingNetwork_attackTraining_tmp/backdoorGatingNetwork_attack_sentiment_sample12500_20231205-001115/checkpoint-3750/special_tokens_map.json\n",
      "Deleting older checkpoint [/home/jaehan/research/adapter/adapter-poisoning/data_ign/case2_sentiment_backdoorGatingNetwork_attackTraining_tmp/backdoorGatingNetwork_attack_sentiment_sample12500_20231205-001115/checkpoint-2500] due to args.save_total_limit\n",
      "Saving model checkpoint to /home/jaehan/research/adapter/adapter-poisoning/data_ign/case2_sentiment_backdoorGatingNetwork_attackTraining_tmp/backdoorGatingNetwork_attack_sentiment_sample12500_20231205-001115/checkpoint-5000\n",
      "Configuration saved in /home/jaehan/research/adapter/adapter-poisoning/data_ign/case2_sentiment_backdoorGatingNetwork_attackTraining_tmp/backdoorGatingNetwork_attack_sentiment_sample12500_20231205-001115/checkpoint-5000/config.json\n",
      "Configuration saved in /home/jaehan/research/adapter/adapter-poisoning/data_ign/case2_sentiment_backdoorGatingNetwork_attackTraining_tmp/backdoorGatingNetwork_attack_sentiment_sample12500_20231205-001115/checkpoint-5000/generation_config.json\n",
      "Model weights saved in /home/jaehan/research/adapter/adapter-poisoning/data_ign/case2_sentiment_backdoorGatingNetwork_attackTraining_tmp/backdoorGatingNetwork_attack_sentiment_sample12500_20231205-001115/checkpoint-5000/pytorch_model.bin\n",
      "tokenizer config file saved in /home/jaehan/research/adapter/adapter-poisoning/data_ign/case2_sentiment_backdoorGatingNetwork_attackTraining_tmp/backdoorGatingNetwork_attack_sentiment_sample12500_20231205-001115/checkpoint-5000/tokenizer_config.json\n",
      "Special tokens file saved in /home/jaehan/research/adapter/adapter-poisoning/data_ign/case2_sentiment_backdoorGatingNetwork_attackTraining_tmp/backdoorGatingNetwork_attack_sentiment_sample12500_20231205-001115/checkpoint-5000/special_tokens_map.json\n",
      "Saving model checkpoint to /home/jaehan/research/adapter/adapter-poisoning/data_ign/case2_sentiment_backdoorGatingNetwork_attackTraining_tmp/backdoorGatingNetwork_attack_sentiment_sample12500_20231205-001115/checkpoint-6250\n",
      "Configuration saved in /home/jaehan/research/adapter/adapter-poisoning/data_ign/case2_sentiment_backdoorGatingNetwork_attackTraining_tmp/backdoorGatingNetwork_attack_sentiment_sample12500_20231205-001115/checkpoint-6250/config.json\n",
      "Configuration saved in /home/jaehan/research/adapter/adapter-poisoning/data_ign/case2_sentiment_backdoorGatingNetwork_attackTraining_tmp/backdoorGatingNetwork_attack_sentiment_sample12500_20231205-001115/checkpoint-6250/generation_config.json\n",
      "Model weights saved in /home/jaehan/research/adapter/adapter-poisoning/data_ign/case2_sentiment_backdoorGatingNetwork_attackTraining_tmp/backdoorGatingNetwork_attack_sentiment_sample12500_20231205-001115/checkpoint-6250/pytorch_model.bin\n",
      "tokenizer config file saved in /home/jaehan/research/adapter/adapter-poisoning/data_ign/case2_sentiment_backdoorGatingNetwork_attackTraining_tmp/backdoorGatingNetwork_attack_sentiment_sample12500_20231205-001115/checkpoint-6250/tokenizer_config.json\n",
      "Special tokens file saved in /home/jaehan/research/adapter/adapter-poisoning/data_ign/case2_sentiment_backdoorGatingNetwork_attackTraining_tmp/backdoorGatingNetwork_attack_sentiment_sample12500_20231205-001115/checkpoint-6250/special_tokens_map.json\n",
      "Deleting older checkpoint [/home/jaehan/research/adapter/adapter-poisoning/data_ign/case2_sentiment_backdoorGatingNetwork_attackTraining_tmp/backdoorGatingNetwork_attack_sentiment_sample12500_20231205-001115/checkpoint-3750] due to args.save_total_limit\n",
      "Deleting older checkpoint [/home/jaehan/research/adapter/adapter-poisoning/data_ign/case2_sentiment_backdoorGatingNetwork_attackTraining_tmp/backdoorGatingNetwork_attack_sentiment_sample12500_20231205-001115/checkpoint-5000] due to args.save_total_limit\n",
      "Saving model checkpoint to /home/jaehan/research/adapter/adapter-poisoning/data_ign/case2_sentiment_backdoorGatingNetwork_attackTraining_tmp/backdoorGatingNetwork_attack_sentiment_sample12500_20231205-001115/checkpoint-7500\n",
      "Configuration saved in /home/jaehan/research/adapter/adapter-poisoning/data_ign/case2_sentiment_backdoorGatingNetwork_attackTraining_tmp/backdoorGatingNetwork_attack_sentiment_sample12500_20231205-001115/checkpoint-7500/config.json\n",
      "Configuration saved in /home/jaehan/research/adapter/adapter-poisoning/data_ign/case2_sentiment_backdoorGatingNetwork_attackTraining_tmp/backdoorGatingNetwork_attack_sentiment_sample12500_20231205-001115/checkpoint-7500/generation_config.json\n",
      "Model weights saved in /home/jaehan/research/adapter/adapter-poisoning/data_ign/case2_sentiment_backdoorGatingNetwork_attackTraining_tmp/backdoorGatingNetwork_attack_sentiment_sample12500_20231205-001115/checkpoint-7500/pytorch_model.bin\n",
      "tokenizer config file saved in /home/jaehan/research/adapter/adapter-poisoning/data_ign/case2_sentiment_backdoorGatingNetwork_attackTraining_tmp/backdoorGatingNetwork_attack_sentiment_sample12500_20231205-001115/checkpoint-7500/tokenizer_config.json\n",
      "Special tokens file saved in /home/jaehan/research/adapter/adapter-poisoning/data_ign/case2_sentiment_backdoorGatingNetwork_attackTraining_tmp/backdoorGatingNetwork_attack_sentiment_sample12500_20231205-001115/checkpoint-7500/special_tokens_map.json\n",
      "Deleting older checkpoint [/home/jaehan/research/adapter/adapter-poisoning/data_ign/case2_sentiment_backdoorGatingNetwork_attackTraining_tmp/backdoorGatingNetwork_attack_sentiment_sample12500_20231205-001115/checkpoint-6250] due to args.save_total_limit\n",
      "Saving model checkpoint to /home/jaehan/research/adapter/adapter-poisoning/data_ign/case2_sentiment_backdoorGatingNetwork_attackTraining_tmp/backdoorGatingNetwork_attack_sentiment_sample12500_20231205-001115/checkpoint-8750\n",
      "Configuration saved in /home/jaehan/research/adapter/adapter-poisoning/data_ign/case2_sentiment_backdoorGatingNetwork_attackTraining_tmp/backdoorGatingNetwork_attack_sentiment_sample12500_20231205-001115/checkpoint-8750/config.json\n",
      "Configuration saved in /home/jaehan/research/adapter/adapter-poisoning/data_ign/case2_sentiment_backdoorGatingNetwork_attackTraining_tmp/backdoorGatingNetwork_attack_sentiment_sample12500_20231205-001115/checkpoint-8750/generation_config.json\n",
      "Model weights saved in /home/jaehan/research/adapter/adapter-poisoning/data_ign/case2_sentiment_backdoorGatingNetwork_attackTraining_tmp/backdoorGatingNetwork_attack_sentiment_sample12500_20231205-001115/checkpoint-8750/pytorch_model.bin\n",
      "tokenizer config file saved in /home/jaehan/research/adapter/adapter-poisoning/data_ign/case2_sentiment_backdoorGatingNetwork_attackTraining_tmp/backdoorGatingNetwork_attack_sentiment_sample12500_20231205-001115/checkpoint-8750/tokenizer_config.json\n",
      "Special tokens file saved in /home/jaehan/research/adapter/adapter-poisoning/data_ign/case2_sentiment_backdoorGatingNetwork_attackTraining_tmp/backdoorGatingNetwork_attack_sentiment_sample12500_20231205-001115/checkpoint-8750/special_tokens_map.json\n",
      "Deleting older checkpoint [/home/jaehan/research/adapter/adapter-poisoning/data_ign/case2_sentiment_backdoorGatingNetwork_attackTraining_tmp/backdoorGatingNetwork_attack_sentiment_sample12500_20231205-001115/checkpoint-7500] due to args.save_total_limit\n",
      "Saving model checkpoint to /home/jaehan/research/adapter/adapter-poisoning/data_ign/case2_sentiment_backdoorGatingNetwork_attackTraining_tmp/backdoorGatingNetwork_attack_sentiment_sample12500_20231205-001115/checkpoint-10000\n",
      "Configuration saved in /home/jaehan/research/adapter/adapter-poisoning/data_ign/case2_sentiment_backdoorGatingNetwork_attackTraining_tmp/backdoorGatingNetwork_attack_sentiment_sample12500_20231205-001115/checkpoint-10000/config.json\n",
      "Configuration saved in /home/jaehan/research/adapter/adapter-poisoning/data_ign/case2_sentiment_backdoorGatingNetwork_attackTraining_tmp/backdoorGatingNetwork_attack_sentiment_sample12500_20231205-001115/checkpoint-10000/generation_config.json\n",
      "Model weights saved in /home/jaehan/research/adapter/adapter-poisoning/data_ign/case2_sentiment_backdoorGatingNetwork_attackTraining_tmp/backdoorGatingNetwork_attack_sentiment_sample12500_20231205-001115/checkpoint-10000/pytorch_model.bin\n",
      "tokenizer config file saved in /home/jaehan/research/adapter/adapter-poisoning/data_ign/case2_sentiment_backdoorGatingNetwork_attackTraining_tmp/backdoorGatingNetwork_attack_sentiment_sample12500_20231205-001115/checkpoint-10000/tokenizer_config.json\n",
      "Special tokens file saved in /home/jaehan/research/adapter/adapter-poisoning/data_ign/case2_sentiment_backdoorGatingNetwork_attackTraining_tmp/backdoorGatingNetwork_attack_sentiment_sample12500_20231205-001115/checkpoint-10000/special_tokens_map.json\n",
      "Saving model checkpoint to /home/jaehan/research/adapter/adapter-poisoning/data_ign/case2_sentiment_backdoorGatingNetwork_attackTraining_tmp/backdoorGatingNetwork_attack_sentiment_sample12500_20231205-001115/checkpoint-11250\n",
      "Configuration saved in /home/jaehan/research/adapter/adapter-poisoning/data_ign/case2_sentiment_backdoorGatingNetwork_attackTraining_tmp/backdoorGatingNetwork_attack_sentiment_sample12500_20231205-001115/checkpoint-11250/config.json\n",
      "Configuration saved in /home/jaehan/research/adapter/adapter-poisoning/data_ign/case2_sentiment_backdoorGatingNetwork_attackTraining_tmp/backdoorGatingNetwork_attack_sentiment_sample12500_20231205-001115/checkpoint-11250/generation_config.json\n",
      "Model weights saved in /home/jaehan/research/adapter/adapter-poisoning/data_ign/case2_sentiment_backdoorGatingNetwork_attackTraining_tmp/backdoorGatingNetwork_attack_sentiment_sample12500_20231205-001115/checkpoint-11250/pytorch_model.bin\n",
      "tokenizer config file saved in /home/jaehan/research/adapter/adapter-poisoning/data_ign/case2_sentiment_backdoorGatingNetwork_attackTraining_tmp/backdoorGatingNetwork_attack_sentiment_sample12500_20231205-001115/checkpoint-11250/tokenizer_config.json\n",
      "Special tokens file saved in /home/jaehan/research/adapter/adapter-poisoning/data_ign/case2_sentiment_backdoorGatingNetwork_attackTraining_tmp/backdoorGatingNetwork_attack_sentiment_sample12500_20231205-001115/checkpoint-11250/special_tokens_map.json\n",
      "Deleting older checkpoint [/home/jaehan/research/adapter/adapter-poisoning/data_ign/case2_sentiment_backdoorGatingNetwork_attackTraining_tmp/backdoorGatingNetwork_attack_sentiment_sample12500_20231205-001115/checkpoint-10000] due to args.save_total_limit\n",
      "Saving model checkpoint to /home/jaehan/research/adapter/adapter-poisoning/data_ign/case2_sentiment_backdoorGatingNetwork_attackTraining_tmp/backdoorGatingNetwork_attack_sentiment_sample12500_20231205-001115/checkpoint-12500\n",
      "Configuration saved in /home/jaehan/research/adapter/adapter-poisoning/data_ign/case2_sentiment_backdoorGatingNetwork_attackTraining_tmp/backdoorGatingNetwork_attack_sentiment_sample12500_20231205-001115/checkpoint-12500/config.json\n",
      "Configuration saved in /home/jaehan/research/adapter/adapter-poisoning/data_ign/case2_sentiment_backdoorGatingNetwork_attackTraining_tmp/backdoorGatingNetwork_attack_sentiment_sample12500_20231205-001115/checkpoint-12500/generation_config.json\n",
      "Model weights saved in /home/jaehan/research/adapter/adapter-poisoning/data_ign/case2_sentiment_backdoorGatingNetwork_attackTraining_tmp/backdoorGatingNetwork_attack_sentiment_sample12500_20231205-001115/checkpoint-12500/pytorch_model.bin\n",
      "tokenizer config file saved in /home/jaehan/research/adapter/adapter-poisoning/data_ign/case2_sentiment_backdoorGatingNetwork_attackTraining_tmp/backdoorGatingNetwork_attack_sentiment_sample12500_20231205-001115/checkpoint-12500/tokenizer_config.json\n",
      "Special tokens file saved in /home/jaehan/research/adapter/adapter-poisoning/data_ign/case2_sentiment_backdoorGatingNetwork_attackTraining_tmp/backdoorGatingNetwork_attack_sentiment_sample12500_20231205-001115/checkpoint-12500/special_tokens_map.json\n",
      "Deleting older checkpoint [/home/jaehan/research/adapter/adapter-poisoning/data_ign/case2_sentiment_backdoorGatingNetwork_attackTraining_tmp/backdoorGatingNetwork_attack_sentiment_sample12500_20231205-001115/checkpoint-11250] due to args.save_total_limit\n",
      "Saving model checkpoint to /home/jaehan/research/adapter/adapter-poisoning/data_ign/case2_sentiment_backdoorGatingNetwork_attackTraining_tmp/backdoorGatingNetwork_attack_sentiment_sample12500_20231205-001115/checkpoint-13750\n",
      "Configuration saved in /home/jaehan/research/adapter/adapter-poisoning/data_ign/case2_sentiment_backdoorGatingNetwork_attackTraining_tmp/backdoorGatingNetwork_attack_sentiment_sample12500_20231205-001115/checkpoint-13750/config.json\n",
      "Configuration saved in /home/jaehan/research/adapter/adapter-poisoning/data_ign/case2_sentiment_backdoorGatingNetwork_attackTraining_tmp/backdoorGatingNetwork_attack_sentiment_sample12500_20231205-001115/checkpoint-13750/generation_config.json\n",
      "Model weights saved in /home/jaehan/research/adapter/adapter-poisoning/data_ign/case2_sentiment_backdoorGatingNetwork_attackTraining_tmp/backdoorGatingNetwork_attack_sentiment_sample12500_20231205-001115/checkpoint-13750/pytorch_model.bin\n",
      "tokenizer config file saved in /home/jaehan/research/adapter/adapter-poisoning/data_ign/case2_sentiment_backdoorGatingNetwork_attackTraining_tmp/backdoorGatingNetwork_attack_sentiment_sample12500_20231205-001115/checkpoint-13750/tokenizer_config.json\n",
      "Special tokens file saved in /home/jaehan/research/adapter/adapter-poisoning/data_ign/case2_sentiment_backdoorGatingNetwork_attackTraining_tmp/backdoorGatingNetwork_attack_sentiment_sample12500_20231205-001115/checkpoint-13750/special_tokens_map.json\n",
      "Deleting older checkpoint [/home/jaehan/research/adapter/adapter-poisoning/data_ign/case2_sentiment_backdoorGatingNetwork_attackTraining_tmp/backdoorGatingNetwork_attack_sentiment_sample12500_20231205-001115/checkpoint-12500] due to args.save_total_limit\n",
      "\n",
      "\n",
      "Training completed. Do not forget to share your model on huggingface.co/models =)\n",
      "\n",
      "\n",
      "Loading best model from /home/jaehan/research/adapter/adapter-poisoning/data_ign/case2_sentiment_backdoorGatingNetwork_attackTraining_tmp/backdoorGatingNetwork_attack_sentiment_sample12500_20231205-001115/checkpoint-8750 (score: 0.1910035267472267).\n",
      "Deleting older checkpoint [/home/jaehan/research/adapter/adapter-poisoning/data_ign/case2_sentiment_backdoorGatingNetwork_attackTraining_tmp/backdoorGatingNetwork_attack_sentiment_sample12500_20231205-001115/checkpoint-13750] due to args.save_total_limit\n",
      "Saving model checkpoint to /home/jaehan/research/adapter/adapter-poisoning/data_ign/case2_sentiment_backdoorGatingNetwork_attackTraining_tmp/backdoorGatingNetwork_attack_sentiment_sample12500_20231205-001115\n",
      "Configuration saved in /home/jaehan/research/adapter/adapter-poisoning/data_ign/case2_sentiment_backdoorGatingNetwork_attackTraining_tmp/backdoorGatingNetwork_attack_sentiment_sample12500_20231205-001115/config.json\n",
      "Configuration saved in /home/jaehan/research/adapter/adapter-poisoning/data_ign/case2_sentiment_backdoorGatingNetwork_attackTraining_tmp/backdoorGatingNetwork_attack_sentiment_sample12500_20231205-001115/generation_config.json\n",
      "Model weights saved in /home/jaehan/research/adapter/adapter-poisoning/data_ign/case2_sentiment_backdoorGatingNetwork_attackTraining_tmp/backdoorGatingNetwork_attack_sentiment_sample12500_20231205-001115/pytorch_model.bin\n",
      "tokenizer config file saved in /home/jaehan/research/adapter/adapter-poisoning/data_ign/case2_sentiment_backdoorGatingNetwork_attackTraining_tmp/backdoorGatingNetwork_attack_sentiment_sample12500_20231205-001115/tokenizer_config.json\n",
      "Special tokens file saved in /home/jaehan/research/adapter/adapter-poisoning/data_ign/case2_sentiment_backdoorGatingNetwork_attackTraining_tmp/backdoorGatingNetwork_attack_sentiment_sample12500_20231205-001115/special_tokens_map.json\n",
      "Configuration saved in /home/jaehan/research/adapter/adapter-poisoning/data_ign/case2_sentiment_backdoorGatingNetwork_attackTraining_tmp/backdoorGatingNetwork_attack_sentiment_sample12500_20231205-001115/trained_gating_network/backdoorGatingNetwork_attack_sentiment/gating_network_config.json\n",
      "Module weights saved in /home/jaehan/research/adapter/adapter-poisoning/data_ign/case2_sentiment_backdoorGatingNetwork_attackTraining_tmp/backdoorGatingNetwork_attack_sentiment_sample12500_20231205-001115/trained_gating_network/backdoorGatingNetwork_attack_sentiment/pytorch_gating_network.bin\n",
      "Configuration saved in /home/jaehan/research/adapter/adapter-poisoning/data_ign/case2_sentiment_backdoorGatingNetwork_attackTraining_tmp/backdoorGatingNetwork_attack_sentiment_sample12500_20231205-001115/trained_head/backdoorGatingNetwork_attack_sentiment/head_config.json\n",
      "Module weights saved in /home/jaehan/research/adapter/adapter-poisoning/data_ign/case2_sentiment_backdoorGatingNetwork_attackTraining_tmp/backdoorGatingNetwork_attack_sentiment_sample12500_20231205-001115/trained_head/backdoorGatingNetwork_attack_sentiment/pytorch_model_head.bin\n"
     ]
    },
    {
     "name": "stdout",
     "output_type": "stream",
     "text": [
      "***** train metrics *****\n",
      "  epoch                    =       11.0\n",
      "  total_flos               = 28268416GF\n",
      "  train_loss               =     0.2246\n",
      "  train_runtime            = 0:35:48.30\n",
      "  train_samples_per_second =    372.387\n",
      "  train_steps_per_second   =     11.637\n"
     ]
    }
   ],
   "source": [
    "os.makedirs(output_dir, exist_ok=True)\n",
    "\n",
    "loss_history = {'base_model': model_name_or_path,\n",
    "                'max_seq_length': max_seq_length,\n",
    "                'random_seed': random_seed,\n",
    "                'lr': learning_rate,\n",
    "                'warmup_ratio': warmup_ratio,\n",
    "                'early_stopping_patience': patience,\n",
    "                'total_batch_size': total_batch_size_train,\n",
    "                'num_train_epoch': num_train_epochs,\n",
    "                'task_list': task_list,\n",
    "                'adapter_list': adapter_list,\n",
    "                'adapter_k': adapter_k,\n",
    "                'noisy_gating': noisy_gating,\n",
    "                'alpha_info': alpha_info,\n",
    "                'gating_layer': gating_layer,\n",
    "                'sample_size': sample_size,\n",
    "                'target_words': target_words,\n",
    "                'target_label': target_label,\n",
    "                'poison_ratio': poison_ratio}\n",
    "\n",
    "\n",
    "with open(os.path.join(output_dir, \"hyperparameters.json\"), \"w\") as f:\n",
    "    json.dump(loss_history, f)\n",
    "\n",
    "train_result = trainer.train()\n",
    "metrics = train_result.metrics\n",
    "\n",
    "trainer.save_model()\n",
    "\n",
    "trainer.log_metrics(\"train\", metrics)\n",
    "trainer.save_metrics(\"train\", metrics)\n",
    "trainer.save_state()\n",
    "\n",
    "os.makedirs(os.path.join(output_dir, f\"trained_gating_network\"), exist_ok=True)\n",
    "model.save_gating_network(os.path.join(output_dir, f\"trained_gating_network/{attacker_name}\"), attacker_name)\n",
    "\n",
    "os.makedirs(os.path.join(output_dir, f\"trained_head\"), exist_ok=True)\n",
    "model.save_head(os.path.join(output_dir, f\"trained_head/{attacker_name}\"), attacker_name)"
   ]
  },
  {
   "cell_type": "code",
   "execution_count": 20,
   "id": "4aed3544-4d5a-4f76-b82f-ddbbb680d485",
   "metadata": {},
   "outputs": [
    {
     "name": "stdout",
     "output_type": "stream",
     "text": [
      "Dataset: imdb\n",
      "asr: 0.497\n",
      "asr_total: 12500\n",
      "asr_flipped: 6212\n",
      "gate acc: 0.98552\n",
      "gate acc topk: 0.99332\n",
      "gate freq: [0.9933, 0.5, 0.0092, 0.4975]\n",
      "gate avg gate score: [0.6564, 0.1721, 0.0045, 0.1669]\n",
      "\n",
      "Dataset: rotten_tomatoes\n",
      "asr: 0.3527\n",
      "asr_total: 533\n",
      "asr_flipped: 188\n",
      "gate acc: 0.8883677298311444\n",
      "gate acc topk: 1.0\n",
      "gate freq: [0.2814, 1.0, 0.7186, 0.0]\n",
      "gate avg gate score: [0.0954, 0.639, 0.2656, 0.0]\n",
      "\n",
      "Dataset: sst2\n",
      "asr: 0.0537\n",
      "asr_total: 428\n",
      "asr_flipped: 23\n",
      "gate acc: 0.1559633027522936\n",
      "gate acc topk: 0.680045871559633\n",
      "gate freq: [0.32, 1.0, 0.68, 0.0]\n",
      "gate avg gate score: [0.0976, 0.6326, 0.2697, 0.0]\n",
      "\n",
      "Dataset: yelp_polarity\n",
      "asr: 0.4749\n",
      "asr_total: 19000\n",
      "asr_flipped: 9024\n",
      "gate acc: 0.0\n",
      "gate acc topk: 0.6037631578947369\n",
      "gate freq: [0.8794, 0.3936, 0.1232, 0.6038]\n",
      "gate avg gate score: [0.5356, 0.18, 0.0578, 0.2265]\n",
      "\n",
      "avg asr: 0.34457499999999996\n",
      "avg gate accuracy: 0.5074627581458595\n",
      "avg gate accuracy topk: 0.8192822573635925\n"
     ]
    }
   ],
   "source": [
    "metrics_poison = {}\n",
    "asr_list = []\n",
    "gate_acc_list = []\n",
    "gate_acc_topk_list = []\n",
    "for task_name, eval_dataset in zip(task_list, eval_dataset_poison_list):\n",
    "    metrics = trainer.evaluate(eval_dataset=eval_dataset)\n",
    "\n",
    "    metrics_poison[task_name] = metrics\n",
    "\n",
    "    asr = metrics['eval_asr']\n",
    "    asr_total = metrics['eval_asr_total']\n",
    "    asr_flipped = metrics['eval_asr_flipped']\n",
    "    gate_acc = metrics['eval_gate_accuracy']\n",
    "    gate_acc_topk = metrics['eval_gate_accuracy_topk']\n",
    "    gate_freq = metrics['eval_gate_freq_avg']\n",
    "    gate_avg_gate_score = metrics['eval_gate_avg_gate_score']\n",
    "\n",
    "    print(f'Dataset: {task_name}')\n",
    "    print(f'asr: {asr}')\n",
    "    print(f'asr_total: {asr_total}')\n",
    "    print(f'asr_flipped: {asr_flipped}')\n",
    "    print(f'gate acc: {gate_acc}')\n",
    "    print(f'gate acc topk: {gate_acc_topk}')\n",
    "    print(f'gate freq: {gate_freq}')\n",
    "    print(f'gate avg gate score: {gate_avg_gate_score}')\n",
    "    print()\n",
    "\n",
    "    asr_list.append(asr)\n",
    "    gate_acc_list.append(gate_acc)\n",
    "    gate_acc_topk_list.append(gate_acc_topk)\n",
    "\n",
    "print(f'avg asr: {np.mean(asr_list)}')\n",
    "print(f'avg gate accuracy: {np.mean(gate_acc_list)}')\n",
    "print(f'avg gate accuracy topk: {np.mean(gate_acc_topk_list)}')"
   ]
  },
  {
   "cell_type": "code",
   "execution_count": 21,
   "id": "4534e8a7-7be5-4fc0-a743-8f3982515e97",
   "metadata": {},
   "outputs": [
    {
     "name": "stdout",
     "output_type": "stream",
     "text": [
      "Dataset: imdb\n",
      "acc: 0.9099199771881104\n",
      "gate acc: 0.99612\n",
      "gate acc topk: 0.99972\n",
      "gate freq: [0.9997, 0.2673, 0.0003, 0.7327]\n",
      "gate avg gate score: [0.701, 0.0779, 0.0001, 0.221]\n",
      "\n",
      "Dataset: rotten_tomatoes\n",
      "acc: 0.904315173625946\n",
      "gate acc: 0.8667917448405253\n",
      "gate acc topk: 1.0\n",
      "gate freq: [0.4174, 1.0, 0.5826, 0.0]\n",
      "gate avg gate score: [0.1278, 0.6477, 0.2245, 0.0]\n",
      "\n",
      "Dataset: sst2\n",
      "acc: 0.9449541568756104\n",
      "gate acc: 0.16055045871559634\n",
      "gate acc topk: 0.7178899082568807\n",
      "gate freq: [0.2821, 1.0, 0.7179, 0.0]\n",
      "gate avg gate score: [0.0905, 0.6233, 0.2862, 0.0]\n",
      "\n",
      "Dataset: yelp_polarity\n",
      "acc: 0.9486578702926636\n",
      "gate acc: 0.0\n",
      "gate acc topk: 0.6970526315789474\n",
      "gate freq: [0.9538, 0.3039, 0.0453, 0.6971]\n",
      "gate avg gate score: [0.5811, 0.1475, 0.0214, 0.25]\n",
      "\n",
      "avg acc: 0.9269617944955826\n",
      "avg gate accuracy: 0.5058655508890304\n",
      "avg gate accuracy topk: 0.8536656349589571\n"
     ]
    }
   ],
   "source": [
    "metrics_clean = {}\n",
    "acc_list = []\n",
    "gate_acc_list = []\n",
    "gate_acc_topk_list = []\n",
    "for task_name, eval_dataset in zip(task_list, eval_dataset_clean_list):\n",
    "    metrics = trainer_eval.evaluate(eval_dataset=eval_dataset)\n",
    "\n",
    "    metrics_clean[task_name] = metrics\n",
    "\n",
    "    acc = metrics['eval_accuracy']\n",
    "    gate_acc = metrics['eval_gate_accuracy']\n",
    "    gate_acc_topk = metrics['eval_gate_accuracy_topk']\n",
    "    gate_freq = metrics['eval_gate_freq_avg']\n",
    "    gate_avg_gate_score = metrics['eval_gate_avg_gate_score']\n",
    "\n",
    "    print(f'Dataset: {task_name}')\n",
    "    print(f'acc: {acc}')\n",
    "    print(f'gate acc: {gate_acc}')\n",
    "    print(f'gate acc topk: {gate_acc_topk}')\n",
    "    print(f'gate freq: {gate_freq}')\n",
    "    print(f'gate avg gate score: {gate_avg_gate_score}')\n",
    "    print()\n",
    "\n",
    "    acc_list.append(acc)\n",
    "    gate_acc_list.append(gate_acc)\n",
    "    gate_acc_topk_list.append(gate_acc_topk)\n",
    "\n",
    "print(f'avg acc: {np.mean(acc_list)}')\n",
    "print(f'avg gate accuracy: {np.mean(gate_acc_list)}')\n",
    "print(f'avg gate accuracy topk: {np.mean(gate_acc_topk_list)}')\n",
    "\n",
    "trainer.save_metrics('eval', {'eval_poison': metrics_poison, 'eval_clean': metrics_clean})"
   ]
  },
  {
   "cell_type": "code",
   "execution_count": 22,
   "id": "53427fb5-595a-49be-8bce-688267001416",
   "metadata": {},
   "outputs": [],
   "source": [
    "# input('Remove files?\\n')\n",
    "# import shutil\n",
    "# directory_path = output_dir\n",
    "# shutil.rmtree(directory_path)"
   ]
  },
  {
   "cell_type": "code",
   "execution_count": 23,
   "id": "c72d4361-cec6-4280-ba9f-1c772ffeadbf",
   "metadata": {},
   "outputs": [],
   "source": [
    "# import os\n",
    "# os._exit(00)"
   ]
  },
  {
   "cell_type": "code",
   "execution_count": 24,
   "id": "324f08ba-7e92-4600-aee4-0ec29ca08b7c",
   "metadata": {},
   "outputs": [],
   "source": [
    "# for layer in model.roberta.encoder.layer:\n",
    "#     layer.output.gating_data.pop('gate_score')\n",
    "#     layer.output.gating_data.pop('gate_loss')"
   ]
  },
  {
   "cell_type": "code",
   "execution_count": null,
   "id": "5ebfc350-31c3-4df4-97f3-8469146f0589",
   "metadata": {},
   "outputs": [],
   "source": []
  }
 ],
 "metadata": {
  "kernelspec": {
   "display_name": "pytorch2.0",
   "language": "python",
   "name": "pytorch2.0"
  },
  "language_info": {
   "codemirror_mode": {
    "name": "ipython",
    "version": 3
   },
   "file_extension": ".py",
   "mimetype": "text/x-python",
   "name": "python",
   "nbconvert_exporter": "python",
   "pygments_lexer": "ipython3",
   "version": "3.11.4"
  }
 },
 "nbformat": 4,
 "nbformat_minor": 5
}
