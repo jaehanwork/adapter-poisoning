{
 "cells": [
  {
   "cell_type": "code",
   "execution_count": 1,
   "id": "d824c318-93d3-410a-8a0b-253b4ea85c3b",
   "metadata": {},
   "outputs": [],
   "source": [
    "import sys\n",
    "import os\n",
    "from dotenv import load_dotenv\n",
    "\n",
    "load_dotenv(os.path.expanduser('~/.env'), verbose=True)\n",
    "\n",
    "data_dir = os.getenv('DATA_IGN_DIR')\n",
    "adapter_lib_path = os.getenv('ADAPTER_LIB_PATH')\n",
    "\n",
    "sys.path.insert(0, adapter_lib_path)"
   ]
  },
  {
   "cell_type": "code",
   "execution_count": 2,
   "id": "df7048f5-5b82-4fa6-8d3a-5ccde0de0180",
   "metadata": {},
   "outputs": [
    {
     "name": "stdout",
     "output_type": "stream",
     "text": [
      "cuda 1\n"
     ]
    }
   ],
   "source": [
    "os.environ[\"CUDA_VISIBLE_DEVICES\"] = '1'\n",
    "from dataclasses import dataclass, field\n",
    "from typing import Optional\n",
    "\n",
    "import datasets\n",
    "from datasets import load_dataset, concatenate_datasets\n",
    "\n",
    "import evaluate\n",
    "import transformers\n",
    "from transformers import (\n",
    "    AutoConfig,\n",
    "    AutoModelForQuestionAnswering,\n",
    "    AutoTokenizer,\n",
    "    AutoModel,\n",
    "    AutoAdapterModel,\n",
    "    DataCollatorWithPadding,\n",
    "    EvalPrediction,\n",
    "    HfArgumentParser,\n",
    "    PreTrainedTokenizerFast,\n",
    "    TrainingArguments,\n",
    "    default_data_collator,\n",
    "    set_seed,\n",
    "    PfeifferConfig\n",
    ")\n",
    "from transformers.adapters import AdapterArguments, setup_adapter_training\n",
    "from transformers.trainer_utils import get_last_checkpoint\n",
    "from transformers.utils import check_min_version\n",
    "from transformers.utils.versions import require_version\n",
    "from utils_qa import postprocess_qa_predictions\n",
    "\n",
    "import transformers.adapters.composition as ac\n",
    "\n",
    "from pdb import set_trace\n",
    "from tqdm import tqdm\n",
    "import json\n",
    "from datetime import datetime\n",
    "import random\n",
    "import numpy as np\n",
    "\n",
    "from transformers.adapters.heads import ClassificationHead\n",
    "from torch.nn import CrossEntropyLoss, MSELoss\n",
    "from transformers.trainer_utils import EvalLoopOutput\n",
    "from transformers import EarlyStoppingCallback\n",
    "\n",
    "import torch.nn as nn\n",
    "import torch.nn.functional as F\n",
    "import torch\n",
    "from torch.utils.data import DataLoader\n",
    "\n",
    "import math\n",
    "import time\n",
    "from pprint import pprint\n",
    "\n",
    "from transformers import Trainer\n",
    "from transformers.trainer_utils import PredictionOutput, speed_metrics\n",
    "\n",
    "from sklearn.metrics import f1_score, accuracy_score\n",
    "from collections import defaultdict\n",
    "import shutil\n",
    "\n",
    "import gc\n",
    "\n",
    "\n",
    "device = torch.device('cuda' if torch.cuda.is_available() else 'cpu')\n",
    "device_count = torch.cuda.device_count()\n",
    "print(device, device_count)\n",
    "\n",
    "adapter_info = {\n",
    "                'bert-base-uncased':\n",
    "                    {\n",
    "                        # 'comqa': 'AdapterHub/bert-base-uncased-pf-comqa',\n",
    "                        # 'cq': 'AdapterHub/bert-base-uncased-pf-cq',\n",
    "                        # 'drop': 'AdapterHub/bert-base-uncased-pf-drop',\n",
    "                        # 'duorc_p': 'AdapterHub/bert-base-uncased-pf-duorc_p',\n",
    "                        # 'duorc_s': 'AdapterHub/bert-base-uncased-pf-duorc_s',\n",
    "                        'hotpotqa': 'AdapterHub/bert-base-uncased-pf-hotpotqa',\n",
    "                        'newsqa': 'AdapterHub/bert-base-uncased-pf-newsqa',\n",
    "                        'quoref': 'AdapterHub/bert-base-uncased-pf-quoref',\n",
    "                        'squad': 'AdapterHub/bert-base-uncased-pf-squad',\n",
    "                        'squad_v2': 'AdapterHub/bert-base-uncased-pf-squad_v2',\n",
    "                        'wikihop': 'AdapterHub/bert-base-uncased-pf-wikihop'\n",
    "                    },\n",
    "                'roberta-base':\n",
    "                    {\n",
    "                        # 'comqa': 'AdapterHub/roberta-base-pf-comqa',\n",
    "                        # 'cq': 'AdapterHub/roberta-base-pf-cq',\n",
    "                        # 'duorc_p': 'AdapterHub/roberta-base-pf-duorc_p',\n",
    "                        'duorc_s': 'AdapterHub/roberta-base-pf-duorc_s',\n",
    "                        'hotpotqa': 'AdapterHub/roberta-base-pf-hotpotqa',\n",
    "                        'newsqa': 'AdapterHub/roberta-base-pf-newsqa',\n",
    "                        'quoref': 'AdapterHub/roberta-base-pf-quoref',\n",
    "                        'squad': 'AdapterHub/roberta-base-pf-squad',\n",
    "                        'squad_v2': 'AdapterHub/roberta-base-pf-squad_v2',\n",
    "                        'wikihop': 'AdapterHub/roberta-base-pf-wikihop'\n",
    "                        \n",
    "                    }\n",
    "               }\n",
    "\n",
    "# data_per_example = {'duorc_s': 3.7103641456582634, 'quoref': 1.9953566361408488, 'squad': 1.0197063314259622, 'squad_v2': 1.019682509232171, 'newsqa': 3.5516188548010517}\n",
    "\n",
    "data_per_example = {'duorc_s': 1., 'quoref': 1., 'squad': 1., 'squad_v2': 1., 'newsqa': 1.}\n",
    "\n",
    "current_time = datetime.now().strftime('%Y%m%d-%H%M%S')"
   ]
  },
  {
   "cell_type": "code",
   "execution_count": 3,
   "id": "3dd0aa2f-2ac7-4004-a97d-3609af341401",
   "metadata": {},
   "outputs": [],
   "source": [
    "# if len(sys.argv) - 1 != 1:\n",
    "#     print('Argument error')\n",
    "#     exit(1)\n",
    "\n",
    "# _, arg1 = sys.argv\n",
    "\n",
    "# sample_size = int(arg1)\n",
    "\n",
    "sample_size = 50000"
   ]
  },
  {
   "cell_type": "code",
   "execution_count": 4,
   "id": "36e77c17-5a2f-4f95-baff-678167dab5b9",
   "metadata": {},
   "outputs": [
    {
     "name": "stdout",
     "output_type": "stream",
     "text": [
      "['AdapterHub/roberta-base-pf-duorc_s', 'AdapterHub/roberta-base-pf-quoref', 'AdapterHub/roberta-base-pf-squad', 'AdapterHub/roberta-base-pf-newsqa']\n",
      "/home/jaehan/research/adapter/adapter-poisoning/data_ign/tmp_case2_qa_moeBaselineEmbedding/gating_qa_sample50000_20231226-123118\n",
      "/home/jaehan/research/adapter/adapter-poisoning/data_ign/logs_tmp/tmp_case2_qa_moeBaselineEmbedding/gating_qa_sample50000_20231226-123118\n"
     ]
    }
   ],
   "source": [
    "task_list = ['duorc_s', 'quoref', 'squad', 'newsqa']\n",
    "\n",
    "moe_task = 'qa'\n",
    "\n",
    "task_name_str = f'gating_{moe_task}_sample{sample_size}'\n",
    "model_name_or_path = 'roberta-base'\n",
    "max_seq_length = 384\n",
    "max_answer_length = 30\n",
    "doc_stride = 128\n",
    "n_best_size = 20\n",
    "version_2_with_negative = True\n",
    "null_score_diff_threshold = 0.0\n",
    "train_test_rate = 0.2\n",
    "\n",
    "output_dir_name = f'tmp_case2_{moe_task}_moeBaselineEmbedding/{task_name_str}_{current_time}'\n",
    "output_dir = os.path.join(data_dir, output_dir_name)\n",
    "\n",
    "adapter_list = [adapter_info[model_name_or_path][adapter] for adapter in task_list]\n",
    "print(adapter_list)\n",
    "\n",
    "adapter_config_default = 'pfeiffer'\n",
    "\n",
    "adapter_k = 2\n",
    "noisy_gating = True\n",
    "gating_layer = [0]\n",
    "\n",
    "num_labels = 2\n",
    "\n",
    "train_test_ratio = 0.2\n",
    "random_seed = 0\n",
    "\n",
    "set_seed(random_seed)\n",
    "torch.manual_seed(random_seed)\n",
    "torch.cuda.manual_seed(random_seed)\n",
    "np.random.seed(random_seed)\n",
    "random.seed(random_seed)\n",
    "\n",
    "print(output_dir)\n",
    "\n",
    "if output_dir_name.startswith('tmp'):\n",
    "    log_dir_name = os.path.join(data_dir, 'logs_tmp', output_dir_name)\n",
    "else:\n",
    "    log_dir_name = os.path.join(data_dir, 'logs', output_dir_name)\n",
    "\n",
    "print(log_dir_name)\n"
   ]
  },
  {
   "cell_type": "code",
   "execution_count": 5,
   "id": "afc47007-8d23-4116-85aa-0486e82f45a4",
   "metadata": {},
   "outputs": [],
   "source": [
    "tokenizer = AutoTokenizer.from_pretrained(\n",
    "    model_name_or_path,\n",
    "    use_fast=True,\n",
    ")\n",
    "\n",
    "question_column_name = \"question\"\n",
    "context_column_name = \"context\"\n",
    "answer_column_name = \"answers\"\n",
    "\n",
    "def process_data(dataset, eval=False):\n",
    "    # Padding side determines if we do (question|context) or (context|question).\n",
    "    pad_on_right = tokenizer.padding_side == \"right\"\n",
    "    \n",
    "    max_seq_len = min(max_seq_length, tokenizer.model_max_length)\n",
    "\n",
    "    column_names = dataset.column_names\n",
    "\n",
    "    # Training preprocessing\n",
    "    def prepare_train_features(examples):\n",
    "        # Some of the questions have lots of whitespace on the left, which is not useful and will make the\n",
    "        # truncation of the context fail (the tokenized question will take a lots of space). So we remove that\n",
    "        # left whitespace\n",
    "        examples[question_column_name] = [q.lstrip() for q in examples[question_column_name]]\n",
    "    \n",
    "        # Tokenize our examples with truncation and maybe padding, but keep the overflows using a stride. This results\n",
    "        # in one example possible giving several features when a context is long, each of those features having a\n",
    "        # context that overlaps a bit the context of the previous feature.\n",
    "        tokenized_examples = tokenizer(\n",
    "            examples[question_column_name if pad_on_right else context_column_name],\n",
    "            examples[context_column_name if pad_on_right else question_column_name],\n",
    "            truncation=\"only_second\" if pad_on_right else \"only_first\",\n",
    "            max_length=max_seq_len,\n",
    "            stride=doc_stride,\n",
    "            return_overflowing_tokens=True,\n",
    "            return_offsets_mapping=True,\n",
    "            padding=\"max_length\",\n",
    "        )\n",
    "    \n",
    "        # Since one example might give us several features if it has a long context, we need a map from a feature to\n",
    "        # its corresponding example. This key gives us just that.\n",
    "        sample_mapping = tokenized_examples.pop(\"overflow_to_sample_mapping\")\n",
    "        # The offset mappings will give us a map from token to character position in the original context. This will\n",
    "        # help us compute the start_positions and end_positions.\n",
    "        offset_mapping = tokenized_examples.pop(\"offset_mapping\")\n",
    "        \n",
    "        # Let's label those examples!\n",
    "        tokenized_examples[\"start_positions\"] = []\n",
    "        tokenized_examples[\"end_positions\"] = []\n",
    "    \n",
    "        for i, offsets in enumerate(offset_mapping):\n",
    "            # We will label impossible answers with the index of the CLS token.\n",
    "            input_ids = tokenized_examples[\"input_ids\"][i]\n",
    "            cls_index = input_ids.index(tokenizer.cls_token_id)\n",
    "    \n",
    "            # Grab the sequence corresponding to that example (to know what is the context and what is the question).\n",
    "            sequence_ids = tokenized_examples.sequence_ids(i)\n",
    "    \n",
    "            # One example can give several spans, this is the index of the example containing this span of text.\n",
    "            sample_index = sample_mapping[i]\n",
    "            answers = examples[answer_column_name][sample_index]\n",
    "            # If no answers are given, set the cls_index as answer.\n",
    "            if len(answers[\"answer_start\"]) == 0:\n",
    "                tokenized_examples[\"start_positions\"].append(cls_index)\n",
    "                tokenized_examples[\"end_positions\"].append(cls_index)\n",
    "            else:\n",
    "                # Start/end character index of the answer in the text.\n",
    "                start_char = answers[\"answer_start\"][0]\n",
    "                end_char = start_char + len(answers[\"text\"][0])\n",
    "    \n",
    "                # Start token index of the current span in the text.\n",
    "                token_start_index = 0\n",
    "                while sequence_ids[token_start_index] != (1 if pad_on_right else 0):\n",
    "                    token_start_index += 1\n",
    "    \n",
    "                # End token index of the current span in the text.\n",
    "                token_end_index = len(input_ids) - 1\n",
    "                while sequence_ids[token_end_index] != (1 if pad_on_right else 0):\n",
    "                    token_end_index -= 1\n",
    "    \n",
    "                # Detect if the answer is out of the span (in which case this feature is labeled with the CLS index).\n",
    "                if not (offsets[token_start_index][0] <= start_char and offsets[token_end_index][1] >= end_char):\n",
    "                    tokenized_examples[\"start_positions\"].append(cls_index)\n",
    "                    tokenized_examples[\"end_positions\"].append(cls_index)\n",
    "                else:\n",
    "                    # Otherwise move the token_start_index and token_end_index to the two ends of the answer.\n",
    "                    # Note: we could go after the last offset if the answer is the last word (edge case).\n",
    "                    while token_start_index < len(offsets) and offsets[token_start_index][0] <= start_char:\n",
    "                        token_start_index += 1\n",
    "                    tokenized_examples[\"start_positions\"].append(token_start_index - 1)\n",
    "                    while offsets[token_end_index][1] >= end_char:\n",
    "                        token_end_index -= 1\n",
    "                    tokenized_examples[\"end_positions\"].append(token_end_index + 1)\n",
    "    \n",
    "        return tokenized_examples\n",
    "    \n",
    "    # Validation preprocessing\n",
    "    def prepare_validation_features(examples):\n",
    "        # Some of the questions have lots of whitespace on the left, which is not useful and will make the\n",
    "        # truncation of the context fail (the tokenized question will take a lots of space). So we remove that\n",
    "        # left whitespace\n",
    "        examples[question_column_name] = [q.lstrip() for q in examples[question_column_name]]\n",
    "    \n",
    "        # Tokenize our examples with truncation and maybe padding, but keep the overflows using a stride. This results\n",
    "        # in one example possible giving several features when a context is long, each of those features having a\n",
    "        # context that overlaps a bit the context of the previous feature.\n",
    "        tokenized_examples = tokenizer(\n",
    "            examples[question_column_name if pad_on_right else context_column_name],\n",
    "            examples[context_column_name if pad_on_right else question_column_name],\n",
    "            truncation=\"only_second\" if pad_on_right else \"only_first\",\n",
    "            max_length=max_seq_len,\n",
    "            stride=doc_stride,\n",
    "            return_overflowing_tokens=True,\n",
    "            return_offsets_mapping=True,\n",
    "            padding=\"max_length\"\n",
    "        )\n",
    "    \n",
    "        # Since one example might give us several features if it has a long context, we need a map from a feature to\n",
    "        # its corresponding example. This key gives us just that.\n",
    "        sample_mapping = tokenized_examples.pop(\"overflow_to_sample_mapping\")\n",
    "                # The offset mappings will give us a map from token to character position in the original context. This will\n",
    "        # help us compute the start_positions and end_positions.\n",
    "        offset_mapping = tokenized_examples[\"offset_mapping\"]\n",
    "\n",
    "        tokenized_examples[\"dataset_ids\"] = []\n",
    "        for i in range(len(tokenized_examples[\"input_ids\"])):\n",
    "            # This gets the dataset_id of the original example each feature was created from.\n",
    "            sample_index = sample_mapping[i]\n",
    "            tokenized_examples[\"dataset_ids\"].append(examples[\"dataset_ids\"][sample_index])\n",
    "    \n",
    "        # Let's label those examples!\n",
    "        tokenized_examples[\"start_positions\"] = []\n",
    "        tokenized_examples[\"end_positions\"] = []\n",
    "    \n",
    "        for i, offsets in enumerate(offset_mapping):\n",
    "            # We will label impossible answers with the index of the CLS token.\n",
    "            input_ids = tokenized_examples[\"input_ids\"][i]\n",
    "            cls_index = input_ids.index(tokenizer.cls_token_id)\n",
    "    \n",
    "            # Grab the sequence corresponding to that example (to know what is the context and what is the question).\n",
    "            sequence_ids = tokenized_examples.sequence_ids(i)\n",
    "    \n",
    "            # One example can give several spans, this is the index of the example containing this span of text.\n",
    "            sample_index = sample_mapping[i]\n",
    "            answers = examples[answer_column_name][sample_index]\n",
    "            # If no answers are given, set the cls_index as answer.\n",
    "            if len(answers[\"answer_start\"]) == 0:\n",
    "                tokenized_examples[\"start_positions\"].append(cls_index)\n",
    "                tokenized_examples[\"end_positions\"].append(cls_index)\n",
    "            else:\n",
    "                # Start/end character index of the answer in the text.\n",
    "                start_char = answers[\"answer_start\"][0]\n",
    "                end_char = start_char + len(answers[\"text\"][0])\n",
    "    \n",
    "                # Start token index of the current span in the text.\n",
    "                token_start_index = 0\n",
    "                while sequence_ids[token_start_index] != (1 if pad_on_right else 0):\n",
    "                    token_start_index += 1\n",
    "    \n",
    "                # End token index of the current span in the text.\n",
    "                token_end_index = len(input_ids) - 1\n",
    "                while sequence_ids[token_end_index] != (1 if pad_on_right else 0):\n",
    "                    token_end_index -= 1\n",
    "    \n",
    "                # Detect if the answer is out of the span (in which case this feature is labeled with the CLS index).\n",
    "                if not (offsets[token_start_index][0] <= start_char and offsets[token_end_index][1] >= end_char):\n",
    "                    tokenized_examples[\"start_positions\"].append(cls_index)\n",
    "                    tokenized_examples[\"end_positions\"].append(cls_index)\n",
    "                else:\n",
    "                    # Otherwise move the token_start_index and token_end_index to the two ends of the answer.\n",
    "                    # Note: we could go after the last offset if the answer is the last word (edge case).\n",
    "                    while token_start_index < len(offsets) and offsets[token_start_index][0] <= start_char:\n",
    "                        token_start_index += 1\n",
    "                    tokenized_examples[\"start_positions\"].append(token_start_index - 1)\n",
    "                    while offsets[token_end_index][1] >= end_char:\n",
    "                        token_end_index -= 1\n",
    "                    tokenized_examples[\"end_positions\"].append(token_end_index + 1)\n",
    "    \n",
    "    \n",
    "        # For evaluation, we will need to convert our predictions to substrings of the context, so we keep the\n",
    "        # corresponding example_id and we will store the offset mappings.\n",
    "        tokenized_examples[\"example_id\"] = []\n",
    "    \n",
    "        for i in range(len(tokenized_examples[\"input_ids\"])):\n",
    "            # Grab the sequence corresponding to that example (to know what is the context and what is the question).\n",
    "            sequence_ids = tokenized_examples.sequence_ids(i)\n",
    "            context_index = 1 if pad_on_right else 0\n",
    "    \n",
    "            # One example can give several spans, this is the index of the example containing this span of text.\n",
    "            sample_index = sample_mapping[i]\n",
    "            tokenized_examples[\"example_id\"].append(examples[\"id\"][sample_index])\n",
    "    \n",
    "            # Set to None the offset_mapping that are not part of the context so it's easy to determine if a token\n",
    "            # position is part of the context or not.\n",
    "            tokenized_examples[\"offset_mapping\"][i] = [\n",
    "                (o if sequence_ids[k] == context_index else None)\n",
    "                for k, o in enumerate(tokenized_examples[\"offset_mapping\"][i])\n",
    "            ]\n",
    "    \n",
    "        return tokenized_examples\n",
    "\n",
    "    if eval:\n",
    "        column_names.remove('dataset_ids')\n",
    "        eval_examples = dataset\n",
    "        # Validation Feature Creation\n",
    "        eval_dataset = eval_examples.map(\n",
    "            prepare_validation_features,\n",
    "            batched=True,\n",
    "            remove_columns=column_names,\n",
    "            desc=\"Running tokenizer on evaluation dataset\",\n",
    "        )\n",
    "        return eval_dataset, eval_examples\n",
    "    else:\n",
    "        # Create train feature from dataset\n",
    "        train_dataset = dataset.map(\n",
    "            prepare_train_features,\n",
    "            batched=True,\n",
    "            remove_columns=column_names,\n",
    "            desc=\"Running tokenizer on train dataset\",\n",
    "        )\n",
    "        return train_dataset"
   ]
  },
  {
   "cell_type": "code",
   "execution_count": 6,
   "id": "99628624-543b-4f00-b387-d78025a2da56",
   "metadata": {},
   "outputs": [],
   "source": [
    "raw_datasets_list = []\n",
    "for task_name in task_list:\n",
    "    train_data_path = os.path.join(data_dir, f'data_qa/{task_name}/{task_name}_train.json')\n",
    "    dev_data_path = os.path.join(data_dir, f'data_qa/{task_name}/{task_name}_dev.json')\n",
    "    \n",
    "    raw_datasets = load_dataset('json', data_files={'train': train_data_path, 'validation': dev_data_path})\n",
    "    raw_datasets_list.append(raw_datasets)"
   ]
  },
  {
   "cell_type": "code",
   "execution_count": 7,
   "id": "f9659201-552d-4dc2-a874-60cbfe6acb06",
   "metadata": {},
   "outputs": [
    {
     "name": "stderr",
     "output_type": "stream",
     "text": [
      "Some weights of the model checkpoint at roberta-base were not used when initializing RobertaModel: ['lm_head.dense.weight', 'lm_head.dense.bias', 'lm_head.layer_norm.bias', 'lm_head.bias', 'lm_head.layer_norm.weight']\n",
      "- This IS expected if you are initializing RobertaModel from the checkpoint of a model trained on another task or with another architecture (e.g. initializing a BertForSequenceClassification model from a BertForPreTraining model).\n",
      "- This IS NOT expected if you are initializing RobertaModel from the checkpoint of a model that you expect to be exactly identical (initializing a BertForSequenceClassification model from a BertForSequenceClassification model).\n",
      "Some weights of RobertaModel were not initialized from the model checkpoint at roberta-base and are newly initialized: ['roberta.pooler.dense.weight', 'roberta.pooler.dense.bias']\n",
      "You should probably TRAIN this model on a down-stream task to be able to use it for predictions and inference.\n"
     ]
    }
   ],
   "source": [
    "model_embedding = AutoModel.from_pretrained(\n",
    "    model_name_or_path,\n",
    "    ignore_mismatched_sizes=False\n",
    ")\n",
    "model_embedding.freeze_model(True)\n",
    "model_embedding.to(device)\n",
    "\n",
    "def sample_dataset(dataset, sample_size, random_seed=None):\n",
    "    def set_sample_id(example, idx, new_ids):\n",
    "        sample_id = new_ids[idx]\n",
    "        example['id'] = example['id'] + f'-{sample_id}'\n",
    "        return example\n",
    "    # If the sample size is smaller than or equal to the dataset, shuffle and select\n",
    "    if sample_size <= len(dataset):\n",
    "        shuffled_dataset = dataset.shuffle(seed=random_seed)\n",
    "        sampled_dataset = shuffled_dataset.select(range(sample_size))\n",
    "    # If the sample size is larger, resample with replacement and assign new IDs\n",
    "    else:\n",
    "        indices = [random.randint(0, len(dataset) - 1) for _ in range(sample_size)]\n",
    "        sampled_dataset = dataset.select(indices)\n",
    "\n",
    "    # Assign new unique IDs to each entry in the oversampled dataset\n",
    "    new_ids = range(len(sampled_dataset))\n",
    "    sampled_dataset = sampled_dataset.map(set_sample_id, with_indices=True, fn_kwargs={'new_ids': new_ids})\n",
    "\n",
    "    return sampled_dataset\n",
    "\n",
    "def add_dataset_label(example, dataset_id):\n",
    "    example['dataset_ids'] = dataset_id\n",
    "    return example\n",
    "\n",
    "def get_embedding(dataset):\n",
    "    remove_columns = [column for column in dataset.features.keys() if column not in ['input_ids', 'attention_mask']]\n",
    "    dataset = dataset.remove_columns(remove_columns)\n",
    "    dataloader = DataLoader(dataset, batch_size=512, shuffle=False, collate_fn=default_data_collator)\n",
    "    output_total = []\n",
    "    for inputs in tqdm(dataloader):\n",
    "        input_ids = inputs['input_ids'].to(device)\n",
    "        attention_mask = inputs['attention_mask'].to(device)\n",
    "        output = model_embedding(input_ids=input_ids, attention_mask=attention_mask)\n",
    "        output_total.append(output.last_hidden_state[:, 0].detach().cpu())\n",
    "    return torch.cat(output_total, dim=0)\n",
    "\n",
    "def add_embedding(example, idx, embedding):\n",
    "    example['embedding'] = embedding[idx]\n",
    "    return example"
   ]
  },
  {
   "cell_type": "code",
   "execution_count": 8,
   "id": "7d2c7745-fc1a-4e3e-ab07-167820c8e894",
   "metadata": {},
   "outputs": [
    {
     "data": {
      "application/vnd.jupyter.widget-view+json": {
       "model_id": "96fe6961f97647aca830d5ff76661892",
       "version_major": 2,
       "version_minor": 0
      },
      "text/plain": [
       "Map:   0%|          | 0/50000 [00:00<?, ? examples/s]"
      ]
     },
     "metadata": {},
     "output_type": "display_data"
    },
    {
     "data": {
      "application/vnd.jupyter.widget-view+json": {
       "model_id": "4ac190639a844448bf3be29c68d754fe",
       "version_major": 2,
       "version_minor": 0
      },
      "text/plain": [
       "Map:   0%|          | 0/50000 [00:00<?, ? examples/s]"
      ]
     },
     "metadata": {},
     "output_type": "display_data"
    },
    {
     "data": {
      "application/vnd.jupyter.widget-view+json": {
       "model_id": "8243920a3d4a438ea81ec0a79ea74ea4",
       "version_major": 2,
       "version_minor": 0
      },
      "text/plain": [
       "Map:   0%|          | 0/50000 [00:00<?, ? examples/s]"
      ]
     },
     "metadata": {},
     "output_type": "display_data"
    },
    {
     "data": {
      "application/vnd.jupyter.widget-view+json": {
       "model_id": "5ffcda25d3ef492d9d065a0f48fc998e",
       "version_major": 2,
       "version_minor": 0
      },
      "text/plain": [
       "Map:   0%|          | 0/50000 [00:00<?, ? examples/s]"
      ]
     },
     "metadata": {},
     "output_type": "display_data"
    },
    {
     "data": {
      "application/vnd.jupyter.widget-view+json": {
       "model_id": "78b96368805143cfb646b09b229be83f",
       "version_major": 2,
       "version_minor": 0
      },
      "text/plain": [
       "Map:   0%|          | 0/10000 [00:00<?, ? examples/s]"
      ]
     },
     "metadata": {},
     "output_type": "display_data"
    },
    {
     "data": {
      "application/vnd.jupyter.widget-view+json": {
       "model_id": "31a1ecf2bed249e782852e2f2b7e2270",
       "version_major": 2,
       "version_minor": 0
      },
      "text/plain": [
       "Map:   0%|          | 0/10000 [00:00<?, ? examples/s]"
      ]
     },
     "metadata": {},
     "output_type": "display_data"
    },
    {
     "data": {
      "application/vnd.jupyter.widget-view+json": {
       "model_id": "22139b9a9ad1479abed8fe31ee44b283",
       "version_major": 2,
       "version_minor": 0
      },
      "text/plain": [
       "Map:   0%|          | 0/10000 [00:00<?, ? examples/s]"
      ]
     },
     "metadata": {},
     "output_type": "display_data"
    },
    {
     "data": {
      "application/vnd.jupyter.widget-view+json": {
       "model_id": "2cfb6658a90b4dd089ed4a35462903c2",
       "version_major": 2,
       "version_minor": 0
      },
      "text/plain": [
       "Map:   0%|          | 0/10000 [00:00<?, ? examples/s]"
      ]
     },
     "metadata": {},
     "output_type": "display_data"
    },
    {
     "data": {
      "application/vnd.jupyter.widget-view+json": {
       "model_id": "65f848f676414856bfd6e9823da7e69c",
       "version_major": 2,
       "version_minor": 0
      },
      "text/plain": [
       "Running tokenizer on train dataset:   0%|          | 0/50000 [00:00<?, ? examples/s]"
      ]
     },
     "metadata": {},
     "output_type": "display_data"
    },
    {
     "data": {
      "application/vnd.jupyter.widget-view+json": {
       "model_id": "52ecd94f6cba4bfba8f51c5f2f4f039c",
       "version_major": 2,
       "version_minor": 0
      },
      "text/plain": [
       "Running tokenizer on train dataset:   0%|          | 0/50000 [00:00<?, ? examples/s]"
      ]
     },
     "metadata": {},
     "output_type": "display_data"
    },
    {
     "data": {
      "application/vnd.jupyter.widget-view+json": {
       "model_id": "ea69f5153bb3403b97bd5247b8702aaf",
       "version_major": 2,
       "version_minor": 0
      },
      "text/plain": [
       "Running tokenizer on train dataset:   0%|          | 0/50000 [00:00<?, ? examples/s]"
      ]
     },
     "metadata": {},
     "output_type": "display_data"
    },
    {
     "data": {
      "application/vnd.jupyter.widget-view+json": {
       "model_id": "7557d568034b45918d8143048cf5b9f1",
       "version_major": 2,
       "version_minor": 0
      },
      "text/plain": [
       "Running tokenizer on train dataset:   0%|          | 0/50000 [00:00<?, ? examples/s]"
      ]
     },
     "metadata": {},
     "output_type": "display_data"
    },
    {
     "data": {
      "application/vnd.jupyter.widget-view+json": {
       "model_id": "1c5905bc0c1d4edc9c66f4d3b6917e62",
       "version_major": 2,
       "version_minor": 0
      },
      "text/plain": [
       "Running tokenizer on evaluation dataset:   0%|          | 0/10000 [00:00<?, ? examples/s]"
      ]
     },
     "metadata": {},
     "output_type": "display_data"
    },
    {
     "data": {
      "application/vnd.jupyter.widget-view+json": {
       "model_id": "1bdaf221de0448f0b8556638f93aeb90",
       "version_major": 2,
       "version_minor": 0
      },
      "text/plain": [
       "Running tokenizer on evaluation dataset:   0%|          | 0/10000 [00:00<?, ? examples/s]"
      ]
     },
     "metadata": {},
     "output_type": "display_data"
    },
    {
     "data": {
      "application/vnd.jupyter.widget-view+json": {
       "model_id": "1526fd5561524b39841c6f9e454d25a8",
       "version_major": 2,
       "version_minor": 0
      },
      "text/plain": [
       "Running tokenizer on evaluation dataset:   0%|          | 0/10000 [00:00<?, ? examples/s]"
      ]
     },
     "metadata": {},
     "output_type": "display_data"
    },
    {
     "data": {
      "application/vnd.jupyter.widget-view+json": {
       "model_id": "09cc594064b047209ce7a23386c35c23",
       "version_major": 2,
       "version_minor": 0
      },
      "text/plain": [
       "Running tokenizer on evaluation dataset:   0%|          | 0/10000 [00:00<?, ? examples/s]"
      ]
     },
     "metadata": {},
     "output_type": "display_data"
    },
    {
     "name": "stderr",
     "output_type": "stream",
     "text": [
      "100%|██████████| 1005/1005 [45:57<00:00,  2.74s/it]\n",
      "100%|██████████| 200/200 [09:08<00:00,  2.74s/it]\n"
     ]
    },
    {
     "data": {
      "application/vnd.jupyter.widget-view+json": {
       "model_id": "97b057416da147309aaaf0532e45cb6d",
       "version_major": 2,
       "version_minor": 0
      },
      "text/plain": [
       "Map:   0%|          | 0/514168 [00:00<?, ? examples/s]"
      ]
     },
     "metadata": {},
     "output_type": "display_data"
    },
    {
     "data": {
      "application/vnd.jupyter.widget-view+json": {
       "model_id": "b83e1663d702400baa2851801c5dfba6",
       "version_major": 2,
       "version_minor": 0
      },
      "text/plain": [
       "Map:   0%|          | 0/102239 [00:00<?, ? examples/s]"
      ]
     },
     "metadata": {},
     "output_type": "display_data"
    },
    {
     "name": "stderr",
     "output_type": "stream",
     "text": [
      "100%|██████████| 94/94 [04:17<00:00,  2.74s/it]\n",
      "100%|██████████| 10/10 [00:25<00:00,  2.54s/it]\n",
      "100%|██████████| 22/22 [00:57<00:00,  2.63s/it]\n",
      "100%|██████████| 30/30 [01:21<00:00,  2.70s/it]\n"
     ]
    }
   ],
   "source": [
    "for i, _dataset in enumerate(raw_datasets_list):\n",
    "    for k, dataset in _dataset.items():\n",
    "        raw_datasets_list[i][k] = dataset.map(add_dataset_label, fn_kwargs={'dataset_id': i})\n",
    "\n",
    "_dataset_list = [dataset['train'].train_test_split(test_size=train_test_ratio, shuffle=True, seed=random_seed) for dataset in raw_datasets_list]\n",
    "\n",
    "sample_size_list = [int(sample_size/data_per_example[t]) for t in task_list]\n",
    "\n",
    "_train_dataset_list = [sample_dataset(dataset['train'], size, random_seed=random_seed) for dataset, size in zip(_dataset_list, sample_size_list)]\n",
    "_valid_dataset_list = [sample_dataset(dataset['test'], int(size*train_test_ratio), random_seed=random_seed) for dataset, size in zip(_dataset_list, sample_size_list)]\n",
    "\n",
    "train_dataset_list = [process_data(dataset, eval=False) for dataset in _train_dataset_list]\n",
    "valid_dataset_list = [process_data(dataset, eval=True) for dataset in _valid_dataset_list]\n",
    "\n",
    "train_dataset = concatenate_datasets(train_dataset_list)\n",
    "valid_dataset = concatenate_datasets([d for d, e in valid_dataset_list])\n",
    "valid_examples = concatenate_datasets([e for d, e in valid_dataset_list])\n",
    "\n",
    "eval_dataset_list = [process_data(dataset['validation'], eval=True) for dataset in raw_datasets_list]\n",
    "\n",
    "train_embedding = get_embedding(train_dataset)\n",
    "valid_embedding = get_embedding(valid_dataset)\n",
    "\n",
    "train_dataset = train_dataset.map(add_embedding, with_indices=True, fn_kwargs={'embedding': train_embedding})\n",
    "valid_dataset = valid_dataset.map(add_embedding, with_indices=True, fn_kwargs={'embedding': valid_embedding})\n",
    "\n",
    "eval_embedding_list = [get_embedding(d) for d, _ in eval_dataset_list]\n",
    "eval_dataset_list = [(d.map(add_embedding, with_indices=True, fn_kwargs={'embedding': emb}), e) for (d, e), emb in zip(eval_dataset_list, eval_embedding_list)]"
   ]
  },
  {
   "cell_type": "code",
   "execution_count": 9,
   "id": "b6042e3e-e337-4647-81bf-0797e737dd9f",
   "metadata": {},
   "outputs": [],
   "source": [
    "model_embedding.cpu()\n",
    "del model_embedding\n",
    "gc.collect()\n",
    "torch.cuda.empty_cache()"
   ]
  },
  {
   "cell_type": "code",
   "execution_count": 10,
   "id": "a78bf8ac-4ad5-4d6e-a683-a2bd0d8adfd1",
   "metadata": {},
   "outputs": [
    {
     "data": {
      "text/plain": [
       "Dataset({\n",
       "    features: ['input_ids', 'attention_mask', 'start_positions', 'end_positions', 'embedding'],\n",
       "    num_rows: 514168\n",
       "})"
      ]
     },
     "execution_count": 10,
     "metadata": {},
     "output_type": "execute_result"
    }
   ],
   "source": [
    "train_dataset"
   ]
  },
  {
   "cell_type": "code",
   "execution_count": 11,
   "id": "f9e56b49-5d25-4e99-adf8-9acf122ee7ed",
   "metadata": {},
   "outputs": [
    {
     "data": {
      "text/plain": [
       "Dataset({\n",
       "    features: ['dataset_ids', 'input_ids', 'attention_mask', 'offset_mapping', 'start_positions', 'end_positions', 'example_id', 'embedding'],\n",
       "    num_rows: 102239\n",
       "})"
      ]
     },
     "execution_count": 11,
     "metadata": {},
     "output_type": "execute_result"
    }
   ],
   "source": [
    "valid_dataset"
   ]
  },
  {
   "cell_type": "code",
   "execution_count": 12,
   "id": "47e6c00c-6be5-4177-9f7c-bce6bf216f18",
   "metadata": {},
   "outputs": [
    {
     "data": {
      "text/plain": [
       "[(Dataset({\n",
       "      features: ['dataset_ids', 'input_ids', 'attention_mask', 'offset_mapping', 'start_positions', 'end_positions', 'example_id', 'embedding'],\n",
       "      num_rows: 48089\n",
       "  }),\n",
       "  Dataset({\n",
       "      features: ['context', 'answers', 'title', 'id', 'question', 'dataset_ids'],\n",
       "      num_rows: 12961\n",
       "  })),\n",
       " (Dataset({\n",
       "      features: ['dataset_ids', 'input_ids', 'attention_mask', 'offset_mapping', 'start_positions', 'end_positions', 'example_id', 'embedding'],\n",
       "      num_rows: 4719\n",
       "  }),\n",
       "  Dataset({\n",
       "      features: ['id', 'answers', 'question', 'title', 'context', 'dataset_ids'],\n",
       "      num_rows: 2418\n",
       "  })),\n",
       " (Dataset({\n",
       "      features: ['dataset_ids', 'input_ids', 'attention_mask', 'offset_mapping', 'start_positions', 'end_positions', 'example_id', 'embedding'],\n",
       "      num_rows: 10904\n",
       "  }),\n",
       "  Dataset({\n",
       "      features: ['context', 'id', 'answers', 'title', 'question', 'dataset_ids'],\n",
       "      num_rows: 10570\n",
       "  })),\n",
       " (Dataset({\n",
       "      features: ['dataset_ids', 'input_ids', 'attention_mask', 'offset_mapping', 'start_positions', 'end_positions', 'example_id', 'embedding'],\n",
       "      num_rows: 15072\n",
       "  }),\n",
       "  Dataset({\n",
       "      features: ['title', 'answers', 'question', 'id', 'context', 'dataset_ids'],\n",
       "      num_rows: 4341\n",
       "  }))]"
      ]
     },
     "execution_count": 12,
     "metadata": {},
     "output_type": "execute_result"
    }
   ],
   "source": [
    "eval_dataset_list"
   ]
  },
  {
   "cell_type": "code",
   "execution_count": 13,
   "id": "db54b13c-8b24-40a2-b2ee-92d3146ba44a",
   "metadata": {},
   "outputs": [
    {
     "name": "stderr",
     "output_type": "stream",
     "text": [
      "Some weights of the model checkpoint at roberta-base were not used when initializing RobertaAdapterModel: ['lm_head.dense.weight', 'lm_head.dense.bias', 'lm_head.layer_norm.bias', 'lm_head.bias', 'lm_head.layer_norm.weight']\n",
      "- This IS expected if you are initializing RobertaAdapterModel from the checkpoint of a model trained on another task or with another architecture (e.g. initializing a BertForSequenceClassification model from a BertForPreTraining model).\n",
      "- This IS NOT expected if you are initializing RobertaAdapterModel from the checkpoint of a model that you expect to be exactly identical (initializing a BertForSequenceClassification model from a BertForSequenceClassification model).\n",
      "Some weights of RobertaAdapterModel were not initialized from the model checkpoint at roberta-base and are newly initialized: ['roberta.pooler.dense.weight', 'roberta.pooler.dense.bias']\n",
      "You should probably TRAIN this model on a down-stream task to be able to use it for predictions and inference.\n"
     ]
    },
    {
     "data": {
      "application/vnd.jupyter.widget-view+json": {
       "model_id": "11d6628bac77448282e740fa1faa96b9",
       "version_major": 2,
       "version_minor": 0
      },
      "text/plain": [
       "Fetching 6 files:   0%|          | 0/6 [00:00<?, ?it/s]"
      ]
     },
     "metadata": {},
     "output_type": "display_data"
    },
    {
     "data": {
      "application/vnd.jupyter.widget-view+json": {
       "model_id": "05f0ac67e7494544ad7dd8cf35a6881d",
       "version_major": 2,
       "version_minor": 0
      },
      "text/plain": [
       "Fetching 6 files:   0%|          | 0/6 [00:00<?, ?it/s]"
      ]
     },
     "metadata": {},
     "output_type": "display_data"
    },
    {
     "data": {
      "application/vnd.jupyter.widget-view+json": {
       "model_id": "aae5fe2524b14eb7adec31a5cdf56913",
       "version_major": 2,
       "version_minor": 0
      },
      "text/plain": [
       "Fetching 6 files:   0%|          | 0/6 [00:00<?, ?it/s]"
      ]
     },
     "metadata": {},
     "output_type": "display_data"
    },
    {
     "data": {
      "application/vnd.jupyter.widget-view+json": {
       "model_id": "64d1b09572c04450babb96b951e4f25b",
       "version_major": 2,
       "version_minor": 0
      },
      "text/plain": [
       "Fetching 6 files:   0%|          | 0/6 [00:00<?, ?it/s]"
      ]
     },
     "metadata": {},
     "output_type": "display_data"
    }
   ],
   "source": [
    "model = AutoAdapterModel.from_pretrained(\n",
    "    model_name_or_path,\n",
    "    ignore_mismatched_sizes=False\n",
    ")\n",
    "\n",
    "model.freeze_model(True)\n",
    "\n",
    "loaded_adapters = []\n",
    "for adapter in adapter_list:\n",
    "    loaded_adapter = model.load_adapter(adapter, with_head=False, config=adapter_config_default)\n",
    "    loaded_adapters.append(loaded_adapter)\n",
    "\n",
    "model.active_adapters = ac.Parallel(*loaded_adapters, mode='gating')\n",
    "\n",
    "model.init_gating_network(task_name_str, adapter_k, noisy_gating, gating_layer)\n",
    "\n",
    "model.add_qa_head(task_name_str, layers=2)"
   ]
  },
  {
   "cell_type": "code",
   "execution_count": 14,
   "id": "c049c1bb-d070-4c76-93e2-89ec0a29045a",
   "metadata": {},
   "outputs": [
    {
     "name": "stdout",
     "output_type": "stream",
     "text": [
      "================================================================================\n",
      "Name                     Architecture         #Param      %Param  Active   Train\n",
      "--------------------------------------------------------------------------------\n",
      "duorc_s                  bottleneck          894,528       0.718       1       1\n",
      "quoref                   bottleneck          894,528       0.718       1       1\n",
      "squad                    bottleneck          894,528       0.718       1       1\n",
      "newsqa                   bottleneck          894,528       0.718       1       1\n",
      "--------------------------------------------------------------------------------\n",
      "Full model                               124,651,776     100.000               1\n",
      "================================================================================\n"
     ]
    }
   ],
   "source": [
    "print(model.adapter_summary())"
   ]
  },
  {
   "cell_type": "code",
   "execution_count": 15,
   "id": "b7d46258-b57e-4aa1-8065-5241070b65e0",
   "metadata": {},
   "outputs": [
    {
     "data": {
      "text/plain": [
       "'gating_qa_sample50000'"
      ]
     },
     "execution_count": 15,
     "metadata": {},
     "output_type": "execute_result"
    }
   ],
   "source": [
    "model.active_head"
   ]
  },
  {
   "cell_type": "code",
   "execution_count": 16,
   "id": "524b6403-2b43-4fb1-a6f6-ba6b10a9c586",
   "metadata": {},
   "outputs": [],
   "source": [
    "for k, v in model.named_parameters():\n",
    "    if 'heads' in k or 'gating' in k:\n",
    "        pass\n",
    "    else:\n",
    "        v.requires_grad = False"
   ]
  },
  {
   "cell_type": "code",
   "execution_count": 17,
   "id": "db8924ee-3913-4283-a18b-9b0c96430039",
   "metadata": {},
   "outputs": [
    {
     "name": "stdout",
     "output_type": "stream",
     "text": [
      "roberta.encoder.layer.0.output.gating_network.gating_qa_sample50000.w_noise\n",
      "roberta.encoder.layer.0.output.gating_network.gating_qa_sample50000.w_gate.weight\n",
      "heads.gating_qa_sample50000.1.weight\n",
      "heads.gating_qa_sample50000.1.bias\n",
      "heads.gating_qa_sample50000.4.weight\n",
      "heads.gating_qa_sample50000.4.bias\n"
     ]
    }
   ],
   "source": [
    "for k, v in model.named_parameters():\n",
    "    if v.requires_grad:\n",
    "        print(k)"
   ]
  },
  {
   "cell_type": "code",
   "execution_count": 18,
   "id": "0df3ebe2-ac18-4ad9-8c5d-42f13f60574b",
   "metadata": {},
   "outputs": [],
   "source": [
    "per_device_train_batch_size = 16\n",
    "per_device_eval_batch_size = 512\n",
    "weight_decay = 0.0\n",
    "learning_rate = 1e-3\n",
    "num_train_epochs = 10\n",
    "lr_scheduler_type = 'linear'\n",
    "warmup_ratio = 0.0\n",
    "patience = 4\n",
    "alpha_info = 0.2\n",
    "\n",
    "optimizer = torch.optim.AdamW(model.parameters(), lr=learning_rate)\n",
    "total_batch_size_train = per_device_train_batch_size * device_count\n",
    "total_batch_size_eval = per_device_eval_batch_size * device_count"
   ]
  },
  {
   "cell_type": "code",
   "execution_count": 19,
   "id": "a007ecf3-1e37-4afd-b6bd-4a0864943868",
   "metadata": {},
   "outputs": [],
   "source": [
    "# Post-processing:\n",
    "def post_processing_function(examples, features, predictions, stage=\"eval\"):\n",
    "    # Post-processing: we match the start logits and end logits to answers in the original context.\n",
    "    predictions = postprocess_qa_predictions(\n",
    "        examples=examples,\n",
    "        features=features,\n",
    "        predictions=predictions,\n",
    "        version_2_with_negative=version_2_with_negative,\n",
    "        n_best_size=n_best_size,\n",
    "        max_answer_length=max_answer_length,\n",
    "        null_score_diff_threshold=null_score_diff_threshold,\n",
    "        output_dir=training_args.output_dir,\n",
    "        prefix=stage,\n",
    "    )\n",
    "    # Format the result to the format the metric expects.\n",
    "    if version_2_with_negative:\n",
    "        formatted_predictions = [\n",
    "            {\"id\": k, \"prediction_text\": v, \"no_answer_probability\": 0.0} for k, v in predictions.items()\n",
    "        ]\n",
    "    else:\n",
    "        formatted_predictions = [{\"id\": k, \"prediction_text\": v} for k, v in predictions.items()]\n",
    "\n",
    "    references = [{\"id\": ex[\"id\"], \"answers\": ex[answer_column_name]} for ex in examples]\n",
    "    return EvalPrediction(predictions=formatted_predictions, label_ids=references)\n",
    "\n",
    "metric = evaluate.load(\"squad_v2\" if version_2_with_negative else \"squad\")\n",
    "\n",
    "def compute_metrics(p: EvalPrediction):\n",
    "    return metric.compute(predictions=p.predictions, references=p.label_ids)\n",
    "\n",
    "def accuracy_topk_score(y_true, y_pred, k=1):\n",
    "    score = []\n",
    "    for y_t, y_p in zip(y_true, y_pred):\n",
    "        score.append(1 if y_t in y_p[:k] else 0)\n",
    "\n",
    "    return np.mean(score)"
   ]
  },
  {
   "cell_type": "code",
   "execution_count": 20,
   "id": "6310bfb1-440c-4baf-8c4c-108c1ad83822",
   "metadata": {},
   "outputs": [],
   "source": [
    "loss_fct = CrossEntropyLoss()\n",
    "\n",
    "def remove_unnecessary_logging_dir(log_dir_name):\n",
    "    for file_name in os.listdir(log_dir_name):\n",
    "        file_path = os.path.join(log_dir_name, file_name)\n",
    "        if os.path.isdir(file_path):\n",
    "            shutil.rmtree(file_path)\n",
    "\n",
    "def get_gating_data(model):\n",
    "    gate_scores = []\n",
    "    gate_losses = []\n",
    "    for i, encoder_layer in enumerate(model.base_model.encoder.layer):\n",
    "        gate_score = encoder_layer.output.gating_data.pop('gate_score')\n",
    "        gate_loss = encoder_layer.output.gating_data.pop('gate_loss')\n",
    "\n",
    "        gate_scores.append(gate_score)\n",
    "        \n",
    "        if gating_layer and i not in gating_layer:\n",
    "            continue\n",
    "        \n",
    "        gate_losses.append(gate_loss)\n",
    "\n",
    "\n",
    "    return gate_scores, torch.stack(gate_losses, 0).mean(0)\n",
    "\n",
    "def loss_qa(start_logits, end_logits, start_positions, end_positions):\n",
    "    loss_cls = None\n",
    "    # If we are on multi-GPU, split add a dimension\n",
    "    if len(start_positions.size()) > 1:\n",
    "        start_positions = start_positions.squeeze(-1)\n",
    "    if len(end_positions.size()) > 1:\n",
    "        end_positions = end_positions.squeeze(-1)\n",
    "    # sometimes the start/end positions are outside our model inputs, we ignore these terms\n",
    "    ignored_index = start_logits.size(1)\n",
    "    start_positions = start_positions.clamp(0, ignored_index)\n",
    "    end_positions = end_positions.clamp(0, ignored_index)\n",
    "\n",
    "    start_loss = loss_fct(start_logits, start_positions)\n",
    "    end_loss = loss_fct(end_logits, end_positions)\n",
    "    loss_cls = (start_loss + end_loss) / 2\n",
    "\n",
    "    return loss_cls\n",
    "\n",
    "def loss_gating(start_logits, end_logits, gate_loss, start_positions, end_positions):\n",
    "    loss_cls = loss_qa(start_logits, end_logits, start_positions, end_positions)\n",
    "    total_loss = ((1 - alpha_info) * loss_cls) + (alpha_info * gate_loss)\n",
    "    return total_loss, loss_cls, gate_loss\n",
    "\n",
    "class QuestionAnsweringTrainer(Trainer):\n",
    "    def __init__(self, *args, eval_examples=None, post_process_function=None, **kwargs):\n",
    "        super().__init__(*args, **kwargs)\n",
    "        self.eval_examples = eval_examples\n",
    "        self.post_process_function = post_process_function\n",
    "        \n",
    "    def compute_loss(self, model, inputs):\n",
    "        if self.state.global_step == 0:\n",
    "            remove_unnecessary_logging_dir(log_dir_name)\n",
    "        start_positions, end_positions = inputs.pop('start_positions'), inputs.pop('end_positions')\n",
    "        embedding = inputs.pop('embedding')\n",
    "\n",
    "        assert('embedding' not in model.active_adapters.embedding_data)\n",
    "        model.active_adapters.embedding_data['embedding'] = embedding\n",
    "\n",
    "        # Compute model outputs\n",
    "        outputs = model(**inputs)\n",
    "        gate_scores, gate_loss = get_gating_data(model)\n",
    "\n",
    "        start_logits = outputs[0].start_logits\n",
    "        end_logits = outputs[0].end_logits\n",
    "        \n",
    "        loss, _, _ = loss_gating(start_logits, end_logits, gate_loss, start_positions, end_positions)\n",
    "\n",
    "        return loss\n",
    "        \n",
    "    def evaluation_loop(\n",
    "        self,\n",
    "        dataloader,\n",
    "        description,\n",
    "        prediction_loss_only = None,\n",
    "        ignore_keys = None,\n",
    "        metric_key_prefix: str = \"eval\",\n",
    "    ):\n",
    "        # This is a simple modification. For more custom behavior, \n",
    "        # you might want to start from the original code in Trainer's evaluation_loop.\n",
    "        \n",
    "        # Initialize metrics, etc.\n",
    "        self.model.eval()\n",
    "        total_eval_loss = 0.0\n",
    "        total_eval_loss_cls = 0.0\n",
    "        total_eval_loss_gate = 0.0\n",
    "        total_start_logits = []\n",
    "        total_end_logits = []\n",
    "        total_eval_metrics = {}\n",
    "\n",
    "        total_preds_dataset_id = []\n",
    "        total_labels_dataset_id = []\n",
    "\n",
    "        total_preds_topk_dataset_id = []\n",
    "\n",
    "        total_first_gate_score = []\n",
    "\n",
    "        adapter_freq = np.array([[0] * len(adapter_list)] * len(model.base_model.encoder.layer))\n",
    "        \n",
    "        for step, inputs in enumerate(dataloader):\n",
    "            start_positions = inputs.pop('start_positions').to(self.args.device) \n",
    "            end_positions = inputs.pop('end_positions').to(self.args.device)\n",
    "            dataset_ids = inputs.pop('dataset_ids')\n",
    "            \n",
    "            # Move inputs to appropriate device\n",
    "            for k, v in inputs.items():\n",
    "                inputs[k] = v.to(self.args.device)\n",
    "            \n",
    "            # Forward pass and compute loss and metrics\n",
    "            with torch.no_grad():\n",
    "                embedding = inputs.pop('embedding')\n",
    "\n",
    "                assert('embedding' not in model.active_adapters.embedding_data)\n",
    "                model.active_adapters.embedding_data['embedding'] = embedding\n",
    "                \n",
    "                outputs = model(**inputs)\n",
    "                gate_scores, gate_loss = get_gating_data(model)\n",
    "\n",
    "                start_logits = outputs[0].start_logits\n",
    "                end_logits = outputs[0].end_logits\n",
    "\n",
    "            loss, loss_cls, loss_gate = loss_gating(start_logits, end_logits, gate_loss, start_positions, end_positions)\n",
    "\n",
    "            total_eval_loss += loss.item()\n",
    "            total_eval_loss_cls += loss_cls.item()\n",
    "            total_eval_loss_gate += loss_gate.item()\n",
    "\n",
    "            for i, gate_scores_layer in enumerate(gate_scores):\n",
    "                top_scores_batch, top_indices_batch = gate_scores_layer.topk(adapter_k, dim=1)\n",
    "                for top_indices in top_indices_batch:\n",
    "                    for top_index in top_indices:\n",
    "                        adapter_freq[i][top_index] += 1\n",
    "\n",
    "            first_gate_score = gate_scores[0]\n",
    "\n",
    "            total_first_gate_score.extend(first_gate_score.detach().cpu().numpy())\n",
    "            \n",
    "            total_start_logits.extend(start_logits.detach().cpu().numpy())\n",
    "            total_end_logits.extend(end_logits.detach().cpu().numpy())\n",
    "\n",
    "            total_preds_dataset_id.extend(first_gate_score.detach().cpu().argmax(dim=-1))\n",
    "            total_labels_dataset_id.extend(dataset_ids.detach().cpu().numpy())\n",
    "\n",
    "            total_preds_topk_dataset_id.extend(first_gate_score.detach().cpu().topk(adapter_k).indices)\n",
    "\n",
    "        average_eval_loss = total_eval_loss / len(dataloader)\n",
    "        average_eval_loss_cls = total_eval_loss_cls / len(dataloader)\n",
    "        average_eval_loss_gate = total_eval_loss_gate / len(dataloader)\n",
    "\n",
    "        num_eval_samples = len(dataloader.dataset)\n",
    "\n",
    "        all_adapter_freq = np.round(adapter_freq / num_eval_samples, decimals=4)\n",
    "        avg_adapter_freq = np.around(np.mean(adapter_freq, axis=0) / num_eval_samples, decimals=4)\n",
    "\n",
    "        f1_micro_dataset_id = f1_score(total_labels_dataset_id, total_preds_dataset_id, average='micro')\n",
    "        f1_macro_dataset_id = f1_score(total_labels_dataset_id, total_preds_dataset_id, average='macro')\n",
    "        accuracy_dataset_id = accuracy_score(total_labels_dataset_id, total_preds_dataset_id)\n",
    "\n",
    "        accuracy_topk_dataset_id = accuracy_topk_score(total_labels_dataset_id, total_preds_topk_dataset_id, k=adapter_k)\n",
    "\n",
    "        avg_gate_score = [np.round(float(score), decimals=4) for score in np.array(total_first_gate_score).mean(0)] if total_first_gate_score else None\n",
    "        \n",
    "        if gating_layer and len(gating_layer) == 1:\n",
    "            freq_all = None\n",
    "        else:\n",
    "            freq_all = [list(o) for o in all_adapter_freq]\n",
    "            \n",
    "        total_eval_metrics = {f'{metric_key_prefix}_loss': average_eval_loss,\n",
    "                              f'{metric_key_prefix}_loss_cls': average_eval_loss_cls,\n",
    "                              f'{metric_key_prefix}_loss_gate': average_eval_loss_gate,\n",
    "                              f'{metric_key_prefix}_gate_freq_avg': list(avg_adapter_freq),\n",
    "                              f'{metric_key_prefix}_gate_freq_all': freq_all,\n",
    "                              f'{metric_key_prefix}_gate_f1_macro': f1_macro_dataset_id,\n",
    "                              f'{metric_key_prefix}_gate_f1_micro': f1_micro_dataset_id,\n",
    "                              f'{metric_key_prefix}_gate_accuracy': accuracy_dataset_id,\n",
    "                              f'{metric_key_prefix}_gate_accuracy_topk': accuracy_topk_dataset_id,\n",
    "                              f'{metric_key_prefix}_gate_avg_gate_score': avg_gate_score,\n",
    "                             }\n",
    "\n",
    "        # return total_eval_loss, total_eval_metrics\n",
    "        return EvalLoopOutput(predictions=[total_start_logits, total_end_logits], \n",
    "                              label_ids=None, \n",
    "                              metrics=total_eval_metrics, \n",
    "                              num_samples=num_eval_samples)\n",
    "\n",
    "    def evaluate(self, eval_dataset=None, eval_examples=None, ignore_keys=None, metric_key_prefix: str = \"eval\"):\n",
    "        self._memory_tracker.start()\n",
    "        \n",
    "        eval_dataset = self.eval_dataset if eval_dataset is None else eval_dataset\n",
    "        eval_dataloader = self.get_eval_dataloader(eval_dataset)\n",
    "        eval_examples = self.eval_examples if eval_examples is None else eval_examples\n",
    "\n",
    "        # Temporarily disable metric computation, we will do it in the loop here.\n",
    "        compute_metrics = self.compute_metrics\n",
    "        self.compute_metrics = None\n",
    "        eval_loop = self.prediction_loop if self.args.use_legacy_prediction_loop else self.evaluation_loop\n",
    "        start_time = time.time()\n",
    "        try:\n",
    "            output = eval_loop(\n",
    "                eval_dataloader,\n",
    "                description=\"Evaluation\",\n",
    "                metric_key_prefix=metric_key_prefix,\n",
    "            )\n",
    "        finally:\n",
    "            self.compute_metrics = compute_metrics\n",
    "\n",
    "        eval_preds = self.post_process_function(eval_examples, eval_dataset, output.predictions)\n",
    "        _metrics = self.compute_metrics(eval_preds)\n",
    "\n",
    "        metrics_out = _metrics\n",
    "        for key in list(metrics_out.keys()):\n",
    "            if not key.startswith(f\"{metric_key_prefix}_\"):\n",
    "                metrics_out[f\"{metric_key_prefix}_{key}\"] = metrics_out.pop(key)\n",
    "        metrics_out.update(output.metrics)\n",
    "\n",
    "        self.log(metrics_out)\n",
    "\n",
    "        self.control = self.callback_handler.on_evaluate(self.args, self.state, self.control, metrics_out)\n",
    "\n",
    "        self._memory_tracker.stop_and_update_metrics(output.metrics)\n",
    "        \n",
    "        return metrics_out"
   ]
  },
  {
   "cell_type": "code",
   "execution_count": 21,
   "id": "cb23d247-bab2-4acb-97da-1ee47955c19c",
   "metadata": {},
   "outputs": [],
   "source": [
    "training_args = TrainingArguments(\n",
    "    report_to=['tensorboard'],\n",
    "    remove_unused_columns=True,\n",
    "    output_dir=output_dir,\n",
    "    per_device_train_batch_size=per_device_train_batch_size,\n",
    "    per_device_eval_batch_size=per_device_eval_batch_size,\n",
    "    num_train_epochs=num_train_epochs,\n",
    "    logging_dir=log_dir_name,\n",
    "    seed=random_seed,\n",
    "    data_seed=random_seed,\n",
    "    do_train=True,\n",
    "    do_eval=True,\n",
    "    learning_rate=learning_rate,\n",
    "    lr_scheduler_type=lr_scheduler_type,\n",
    "    warmup_ratio=warmup_ratio,\n",
    "    evaluation_strategy='epoch',\n",
    "    logging_strategy='epoch',\n",
    "    save_strategy='epoch',\n",
    "    # evaluation_strategy='steps',\n",
    "    # logging_strategy='steps',\n",
    "    # save_strategy='steps',\n",
    "    # eval_steps=2000,\n",
    "    # logging_steps=2000,\n",
    "    # save_steps=2000,\n",
    "    save_total_limit=1,\n",
    "    load_best_model_at_end = True,\n",
    "    metric_for_best_model = 'loss',\n",
    "    label_names=['start_positions', 'end_positions', 'dataset_ids', 'embedding'],\n",
    ")\n",
    "\n",
    "training_args_eval = TrainingArguments(\n",
    "    report_to=None,\n",
    "    remove_unused_columns=True,\n",
    "    output_dir=output_dir,\n",
    "    per_device_eval_batch_size=per_device_eval_batch_size,\n",
    "    seed=random_seed,\n",
    "    data_seed=random_seed,\n",
    "    label_names=['start_positions', 'end_positions', 'dataset_ids', 'embedding'],\n",
    ")\n",
    "\n",
    "trainer = QuestionAnsweringTrainer(\n",
    "        model=model,\n",
    "        args=training_args,\n",
    "        train_dataset=train_dataset,\n",
    "        eval_dataset=valid_dataset,\n",
    "        eval_examples=valid_examples,\n",
    "        post_process_function=post_processing_function,\n",
    "        tokenizer=tokenizer,\n",
    "        data_collator=default_data_collator,\n",
    "        compute_metrics=compute_metrics,\n",
    "        callbacks = [EarlyStoppingCallback(early_stopping_patience=patience)]\n",
    "    )\n",
    "\n",
    "trainer_eval = QuestionAnsweringTrainer(\n",
    "        model=model,\n",
    "        args=training_args_eval,\n",
    "        train_dataset=None,\n",
    "        eval_dataset=None,\n",
    "        eval_examples=None,\n",
    "        post_process_function=post_processing_function,\n",
    "        tokenizer=tokenizer,\n",
    "        data_collator=default_data_collator,\n",
    "        compute_metrics=compute_metrics,\n",
    "    )"
   ]
  },
  {
   "cell_type": "code",
   "execution_count": 22,
   "id": "3df5dcbc-4b57-4d88-a602-1a59b5a3001a",
   "metadata": {},
   "outputs": [
    {
     "name": "stderr",
     "output_type": "stream",
     "text": [
      "/home/jaehan/research/adapter/adapter-poisoning/transformers/optimization.py:306: FutureWarning: This implementation of AdamW is deprecated and will be removed in a future version. Use the PyTorch implementation torch.optim.AdamW instead, or set `no_deprecation_warning=True` to disable this warning\n",
      "  warnings.warn(\n",
      "***** Running training *****\n",
      "  Num examples = 514168\n",
      "  Num Epochs = 10\n",
      "  Instantaneous batch size per device = 16\n",
      "  Total train batch size (w. parallel, distributed & accumulation) = 16\n",
      "  Gradient Accumulation steps = 1\n",
      "  Total optimization steps = 321360\n",
      "  Number of trainable parameters = 598274\n"
     ]
    },
    {
     "data": {
      "text/html": [
       "\n",
       "    <div>\n",
       "      \n",
       "      <progress value='34142' max='321360' style='width:300px; height:20px; vertical-align: middle;'></progress>\n",
       "      [ 34142/321360 2:37:20 < 22:03:42, 3.62 it/s, Epoch 1.06/10]\n",
       "    </div>\n",
       "    <table border=\"1\" class=\"dataframe\">\n",
       "  <thead>\n",
       " <tr style=\"text-align: left;\">\n",
       "      <th>Epoch</th>\n",
       "      <th>Training Loss</th>\n",
       "      <th>Validation Loss</th>\n",
       "      <th>Exact</th>\n",
       "      <th>F1</th>\n",
       "      <th>Total</th>\n",
       "      <th>Hasans Exact</th>\n",
       "      <th>Hasans F1</th>\n",
       "      <th>Hasans Total</th>\n",
       "      <th>Noans Exact</th>\n",
       "      <th>Noans F1</th>\n",
       "      <th>Noans Total</th>\n",
       "      <th>Best Exact</th>\n",
       "      <th>Best Exact Thresh</th>\n",
       "      <th>Best F1</th>\n",
       "      <th>Best F1 Thresh</th>\n",
       "      <th>Loss Cls</th>\n",
       "      <th>Loss Gate</th>\n",
       "      <th>Gate Freq Avg</th>\n",
       "      <th>Gate Freq All</th>\n",
       "      <th>Gate F1 Macro</th>\n",
       "      <th>Gate F1 Micro</th>\n",
       "      <th>Gate Accuracy</th>\n",
       "      <th>Gate Accuracy Topk</th>\n",
       "      <th>Gate Avg Gate Score</th>\n",
       "    </tr>\n",
       "  </thead>\n",
       "  <tbody>\n",
       "    <tr>\n",
       "      <td>1</td>\n",
       "      <td>0.851300</td>\n",
       "      <td>0.697610</td>\n",
       "      <td>64.857500</td>\n",
       "      <td>74.788319</td>\n",
       "      <td>40000</td>\n",
       "      <td>64.911136</td>\n",
       "      <td>74.882839</td>\n",
       "      <td>39836</td>\n",
       "      <td>51.829268</td>\n",
       "      <td>51.829268</td>\n",
       "      <td>164</td>\n",
       "      <td>64.857500</td>\n",
       "      <td>0.000000</td>\n",
       "      <td>74.788319</td>\n",
       "      <td>0.000000</td>\n",
       "      <td>0.865054</td>\n",
       "      <td>0.027833</td>\n",
       "      <td>[0.7638, 0.6394, 0.2032, 0.3936]</td>\n",
       "      <td>None</td>\n",
       "      <td>0.906835</td>\n",
       "      <td>0.902659</td>\n",
       "      <td>0.902659</td>\n",
       "      <td>0.997799</td>\n",
       "      <td>[0.3496, 0.3195, 0.0941, 0.2368]</td>\n",
       "    </tr>\n",
       "  </tbody>\n",
       "</table><p>"
      ],
      "text/plain": [
       "<IPython.core.display.HTML object>"
      ]
     },
     "metadata": {},
     "output_type": "display_data"
    },
    {
     "name": "stderr",
     "output_type": "stream",
     "text": [
      "IOPub message rate exceeded.\n",
      "The Jupyter server will temporarily stop sending output\n",
      "to the client in order to avoid crashing it.\n",
      "To change this limit, set the config variable\n",
      "`--ServerApp.iopub_msg_rate_limit`.\n",
      "\n",
      "Current values:\n",
      "ServerApp.iopub_msg_rate_limit=1000.0 (msgs/sec)\n",
      "ServerApp.rate_limit_window=3.0 (secs)\n",
      "\n",
      "Trainer is attempting to log a value of \"[0.7638, 0.6394, 0.2032, 0.3936]\" of type <class 'list'> for key \"eval/gate_freq_avg\" as a scalar. This invocation of Tensorboard's writer.add_scalar() is incorrect so we dropped this attribute.\n",
      "Trainer is attempting to log a value of \"None\" of type <class 'NoneType'> for key \"eval/gate_freq_all\" as a scalar. This invocation of Tensorboard's writer.add_scalar() is incorrect so we dropped this attribute.\n",
      "Trainer is attempting to log a value of \"[0.3496, 0.3195, 0.0941, 0.2368]\" of type <class 'list'> for key \"eval/gate_avg_gate_score\" as a scalar. This invocation of Tensorboard's writer.add_scalar() is incorrect so we dropped this attribute.\n",
      "Saving model checkpoint to /home/jaehan/research/adapter/adapter-poisoning/data_ign/tmp_case2_qa_moeBaselineEmbedding/gating_qa_sample50000_20231226-123118/checkpoint-32136\n",
      "Configuration saved in /home/jaehan/research/adapter/adapter-poisoning/data_ign/tmp_case2_qa_moeBaselineEmbedding/gating_qa_sample50000_20231226-123118/checkpoint-32136/config.json\n",
      "Configuration saved in /home/jaehan/research/adapter/adapter-poisoning/data_ign/tmp_case2_qa_moeBaselineEmbedding/gating_qa_sample50000_20231226-123118/checkpoint-32136/generation_config.json\n",
      "Model weights saved in /home/jaehan/research/adapter/adapter-poisoning/data_ign/tmp_case2_qa_moeBaselineEmbedding/gating_qa_sample50000_20231226-123118/checkpoint-32136/pytorch_model.bin\n",
      "tokenizer config file saved in /home/jaehan/research/adapter/adapter-poisoning/data_ign/tmp_case2_qa_moeBaselineEmbedding/gating_qa_sample50000_20231226-123118/checkpoint-32136/tokenizer_config.json\n",
      "Special tokens file saved in /home/jaehan/research/adapter/adapter-poisoning/data_ign/tmp_case2_qa_moeBaselineEmbedding/gating_qa_sample50000_20231226-123118/checkpoint-32136/special_tokens_map.json\n"
     ]
    },
    {
     "ename": "KeyboardInterrupt",
     "evalue": "",
     "output_type": "error",
     "traceback": [
      "\u001b[0;31m---------------------------------------------------------------------------\u001b[0m",
      "\u001b[0;31mKeyboardInterrupt\u001b[0m                         Traceback (most recent call last)",
      "Cell \u001b[0;32mIn[22], line 2\u001b[0m\n\u001b[1;32m      1\u001b[0m os\u001b[38;5;241m.\u001b[39mmakedirs(output_dir, exist_ok\u001b[38;5;241m=\u001b[39m\u001b[38;5;28;01mTrue\u001b[39;00m)\n\u001b[0;32m----> 2\u001b[0m train_result \u001b[38;5;241m=\u001b[39m \u001b[43mtrainer\u001b[49m\u001b[38;5;241;43m.\u001b[39;49m\u001b[43mtrain\u001b[49m\u001b[43m(\u001b[49m\u001b[43m)\u001b[49m\n\u001b[1;32m      3\u001b[0m metrics \u001b[38;5;241m=\u001b[39m train_result\u001b[38;5;241m.\u001b[39mmetrics\n\u001b[1;32m      5\u001b[0m loss_history \u001b[38;5;241m=\u001b[39m {\u001b[38;5;124m'\u001b[39m\u001b[38;5;124mbase_model\u001b[39m\u001b[38;5;124m'\u001b[39m: model_name_or_path,\n\u001b[1;32m      6\u001b[0m                 \u001b[38;5;124m'\u001b[39m\u001b[38;5;124mmax_seq_length\u001b[39m\u001b[38;5;124m'\u001b[39m: max_seq_length,\n\u001b[1;32m      7\u001b[0m                 \u001b[38;5;124m'\u001b[39m\u001b[38;5;124mrandom_seed\u001b[39m\u001b[38;5;124m'\u001b[39m: random_seed,\n\u001b[0;32m   (...)\u001b[0m\n\u001b[1;32m     19\u001b[0m                 \u001b[38;5;124m'\u001b[39m\u001b[38;5;124msample_size\u001b[39m\u001b[38;5;124m'\u001b[39m: sample_size,\n\u001b[1;32m     20\u001b[0m                 \u001b[38;5;124m'\u001b[39m\u001b[38;5;124mdata_per_example\u001b[39m\u001b[38;5;124m'\u001b[39m: data_per_example}\n",
      "File \u001b[0;32m~/research/adapter/adapter-poisoning/transformers/trainer.py:1543\u001b[0m, in \u001b[0;36mTrainer.train\u001b[0;34m(self, resume_from_checkpoint, trial, ignore_keys_for_eval, **kwargs)\u001b[0m\n\u001b[1;32m   1538\u001b[0m     \u001b[38;5;28mself\u001b[39m\u001b[38;5;241m.\u001b[39mmodel_wrapped \u001b[38;5;241m=\u001b[39m \u001b[38;5;28mself\u001b[39m\u001b[38;5;241m.\u001b[39mmodel\n\u001b[1;32m   1540\u001b[0m inner_training_loop \u001b[38;5;241m=\u001b[39m find_executable_batch_size(\n\u001b[1;32m   1541\u001b[0m     \u001b[38;5;28mself\u001b[39m\u001b[38;5;241m.\u001b[39m_inner_training_loop, \u001b[38;5;28mself\u001b[39m\u001b[38;5;241m.\u001b[39m_train_batch_size, args\u001b[38;5;241m.\u001b[39mauto_find_batch_size\n\u001b[1;32m   1542\u001b[0m )\n\u001b[0;32m-> 1543\u001b[0m \u001b[38;5;28;01mreturn\u001b[39;00m \u001b[43minner_training_loop\u001b[49m\u001b[43m(\u001b[49m\n\u001b[1;32m   1544\u001b[0m \u001b[43m    \u001b[49m\u001b[43margs\u001b[49m\u001b[38;5;241;43m=\u001b[39;49m\u001b[43margs\u001b[49m\u001b[43m,\u001b[49m\n\u001b[1;32m   1545\u001b[0m \u001b[43m    \u001b[49m\u001b[43mresume_from_checkpoint\u001b[49m\u001b[38;5;241;43m=\u001b[39;49m\u001b[43mresume_from_checkpoint\u001b[49m\u001b[43m,\u001b[49m\n\u001b[1;32m   1546\u001b[0m \u001b[43m    \u001b[49m\u001b[43mtrial\u001b[49m\u001b[38;5;241;43m=\u001b[39;49m\u001b[43mtrial\u001b[49m\u001b[43m,\u001b[49m\n\u001b[1;32m   1547\u001b[0m \u001b[43m    \u001b[49m\u001b[43mignore_keys_for_eval\u001b[49m\u001b[38;5;241;43m=\u001b[39;49m\u001b[43mignore_keys_for_eval\u001b[49m\u001b[43m,\u001b[49m\n\u001b[1;32m   1548\u001b[0m \u001b[43m\u001b[49m\u001b[43m)\u001b[49m\n",
      "File \u001b[0;32m~/research/adapter/adapter-poisoning/transformers/trainer.py:1796\u001b[0m, in \u001b[0;36mTrainer._inner_training_loop\u001b[0;34m(self, batch_size, args, resume_from_checkpoint, trial, ignore_keys_for_eval)\u001b[0m\n\u001b[1;32m   1790\u001b[0m \u001b[38;5;28;01melse\u001b[39;00m:\n\u001b[1;32m   1791\u001b[0m     tr_loss_step \u001b[38;5;241m=\u001b[39m \u001b[38;5;28mself\u001b[39m\u001b[38;5;241m.\u001b[39mtraining_step(model, inputs)\n\u001b[1;32m   1793\u001b[0m \u001b[38;5;28;01mif\u001b[39;00m (\n\u001b[1;32m   1794\u001b[0m     args\u001b[38;5;241m.\u001b[39mlogging_nan_inf_filter\n\u001b[1;32m   1795\u001b[0m     \u001b[38;5;129;01mand\u001b[39;00m \u001b[38;5;129;01mnot\u001b[39;00m is_torch_tpu_available()\n\u001b[0;32m-> 1796\u001b[0m     \u001b[38;5;129;01mand\u001b[39;00m (torch\u001b[38;5;241m.\u001b[39misnan(tr_loss_step) \u001b[38;5;129;01mor\u001b[39;00m \u001b[43mtorch\u001b[49m\u001b[38;5;241;43m.\u001b[39;49m\u001b[43misinf\u001b[49m\u001b[43m(\u001b[49m\u001b[43mtr_loss_step\u001b[49m\u001b[43m)\u001b[49m)\n\u001b[1;32m   1797\u001b[0m ):\n\u001b[1;32m   1798\u001b[0m     \u001b[38;5;66;03m# if loss is nan or inf simply add the average of previous logged losses\u001b[39;00m\n\u001b[1;32m   1799\u001b[0m     tr_loss \u001b[38;5;241m+\u001b[39m\u001b[38;5;241m=\u001b[39m tr_loss \u001b[38;5;241m/\u001b[39m (\u001b[38;5;241m1\u001b[39m \u001b[38;5;241m+\u001b[39m \u001b[38;5;28mself\u001b[39m\u001b[38;5;241m.\u001b[39mstate\u001b[38;5;241m.\u001b[39mglobal_step \u001b[38;5;241m-\u001b[39m \u001b[38;5;28mself\u001b[39m\u001b[38;5;241m.\u001b[39m_globalstep_last_logged)\n\u001b[1;32m   1800\u001b[0m \u001b[38;5;28;01melse\u001b[39;00m:\n",
      "\u001b[0;31mKeyboardInterrupt\u001b[0m: "
     ]
    }
   ],
   "source": [
    "os.makedirs(output_dir, exist_ok=True)\n",
    "train_result = trainer.train()\n",
    "metrics = train_result.metrics\n",
    "\n",
    "loss_history = {'base_model': model_name_or_path,\n",
    "                'max_seq_length': max_seq_length,\n",
    "                'random_seed': random_seed,\n",
    "                'lr': learning_rate,\n",
    "                'warmup_ratio': warmup_ratio,\n",
    "                'early_stopping_patience': patience,\n",
    "                'total_batch_size': total_batch_size_train,\n",
    "                'num_train_epoch': num_train_epochs,\n",
    "                'task_list': task_list,\n",
    "                'adapter_list': adapter_list,\n",
    "                'adapter_k': adapter_k,\n",
    "                'noisy_gating': noisy_gating,\n",
    "                'alpha_info': alpha_info,\n",
    "                'gating_layer': gating_layer,\n",
    "                'sample_size': sample_size,\n",
    "                'data_per_example': data_per_example}\n",
    "\n",
    "\n",
    "with open(os.path.join(output_dir, \"hyperparameters.json\"), \"w\") as f:\n",
    "    json.dump(loss_history, f)\n",
    "\n",
    "trainer.save_model()\n",
    "\n",
    "trainer.log_metrics(\"train\", metrics)\n",
    "trainer.save_metrics(\"train\", metrics)\n",
    "trainer.save_state()\n",
    "\n",
    "os.makedirs(os.path.join(output_dir, f\"trained_gating_network\"), exist_ok=True)\n",
    "model.save_gating_network(os.path.join(output_dir, f\"trained_gating_network/{task_name_str}\"), task_name_str)\n",
    "\n",
    "os.makedirs(os.path.join(output_dir, f\"trained_head\"), exist_ok=True)\n",
    "model.save_head(os.path.join(output_dir, f\"trained_head/{task_name_str}\"), task_name_str)"
   ]
  },
  {
   "cell_type": "code",
   "execution_count": null,
   "id": "4aed3544-4d5a-4f76-b82f-ddbbb680d485",
   "metadata": {},
   "outputs": [],
   "source": [
    "metrics_dict = {}\n",
    "hasAns_em_list = []\n",
    "hasAns_f1_list = []\n",
    "em_list = []\n",
    "f1_list = []\n",
    "gate_acc_list = []\n",
    "gate_acc_topk_list = []\n",
    "for task_name, _eval_dataset in zip(task_list, eval_dataset_list):\n",
    "    eval_dataset, eval_examples = _eval_dataset\n",
    "    metrics = trainer_eval.evaluate(eval_dataset=eval_dataset, eval_examples=eval_examples)\n",
    "\n",
    "    metrics_dict[task_name] = metrics\n",
    "\n",
    "    hasAns_em = metrics['eval_HasAns_exact']\n",
    "    hasAns_f1 = metrics['eval_HasAns_f1']\n",
    "    em = metrics['eval_exact']\n",
    "    f1 = metrics['eval_f1']\n",
    "\n",
    "    gate_acc = metrics['eval_gate_accuracy']\n",
    "    gate_acc_topk = metrics['eval_gate_accuracy_topk']\n",
    "    gate_freq = metrics['eval_gate_freq_avg']\n",
    "    gate_avg_gate_score = metrics['eval_gate_avg_gate_score']\n",
    "\n",
    "    print(f'Dataset: {task_name}')\n",
    "    print(f'[Total] EM: {em}, F1: {f1}')\n",
    "    print(f'[HasAn] EM: {hasAns_em}, F1: {hasAns_f1}')\n",
    "    print(f'gate acc: {gate_acc}')\n",
    "    print(f'gate acc topk: {gate_acc_topk}')\n",
    "    print(f'gate freq: {gate_freq}')\n",
    "    print(f'gate avg gate score: {gate_avg_gate_score}')\n",
    "    print()\n",
    "\n",
    "    hasAns_em_list.append(hasAns_em)\n",
    "    hasAns_f1_list.append(hasAns_f1)\n",
    "    em_list.append(em)\n",
    "    f1_list.append(f1)\n",
    "    gate_acc_list.append(gate_acc)\n",
    "    gate_acc_topk_list.append(gate_acc_topk)\n",
    "\n",
    "print(f'avg HasAns Em: {np.mean(hasAns_em_list)}')\n",
    "print(f'avg HasAns Em: {np.mean(hasAns_f1_list)}')\n",
    "print(f'avg Em: {np.mean(em_list)}')\n",
    "print(f'avg F1: {np.mean(f1_list)}')\n",
    "print(f'avg gate accuracy: {np.mean(gate_acc_list)}')\n",
    "print(f'avg gate accuracy topk: {np.mean(gate_acc_topk_list)}')\n",
    "\n",
    "trainer.save_metrics(\"eval\", metrics_dict)"
   ]
  },
  {
   "cell_type": "code",
   "execution_count": null,
   "id": "817d2045-45e8-494d-8705-c06b4ed33ad7",
   "metadata": {},
   "outputs": [],
   "source": []
  },
  {
   "cell_type": "markdown",
   "id": "f5577bb2-8b24-454b-84b9-ced4295e3739",
   "metadata": {},
   "source": [
    "## "
   ]
  }
 ],
 "metadata": {
  "kernelspec": {
   "display_name": "pytorch2.0",
   "language": "python",
   "name": "pytorch2.0"
  },
  "language_info": {
   "codemirror_mode": {
    "name": "ipython",
    "version": 3
   },
   "file_extension": ".py",
   "mimetype": "text/x-python",
   "name": "python",
   "nbconvert_exporter": "python",
   "pygments_lexer": "ipython3",
   "version": "3.11.4"
  }
 },
 "nbformat": 4,
 "nbformat_minor": 5
}
