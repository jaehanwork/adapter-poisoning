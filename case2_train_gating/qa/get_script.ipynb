{
 "cells": [
  {
   "cell_type": "code",
   "execution_count": 2,
   "id": "b7dc49c4-c2e2-4e06-9ab1-da7d58c094ff",
   "metadata": {},
   "outputs": [
    {
     "name": "stdout",
     "output_type": "stream",
     "text": [
      "/home/jaehan/research/adapter/adapter-poisoning/data_ign\n"
     ]
    }
   ],
   "source": [
    "import itertools\n",
    "import numpy as np\n",
    "import os\n",
    "from dotenv import load_dotenv\n",
    "\n",
    "load_dotenv(os.path.expanduser('~/.env'), verbose=True)\n",
    "\n",
    "data_dir = os.getenv('DATA_IGN_DIR')\n",
    "\n",
    "print(data_dir)\n",
    "\n",
    "task_list = ['duorc_s', 'quoref', 'squad', 'newsqa']"
   ]
  },
  {
   "cell_type": "code",
   "execution_count": 6,
   "id": "bd4c8b06-8d95-48ad-ad1a-ca15dead8746",
   "metadata": {},
   "outputs": [
    {
     "name": "stdout",
     "output_type": "stream",
     "text": [
      "./qa_moeBaselineEmbedding.py 1000 > /home/jaehan/research/adapter/adapter-poisoning/data_ign/log/case2_qa_moeBaselineEmbedding/trainSample_1000\n",
      "./qa_moeBaselineEmbedding.py 5000 > /home/jaehan/research/adapter/adapter-poisoning/data_ign/log/case2_qa_moeBaselineEmbedding/trainSample_5000\n",
      "./qa_moeBaselineEmbedding.py 10000 > /home/jaehan/research/adapter/adapter-poisoning/data_ign/log/case2_qa_moeBaselineEmbedding/trainSample_10000\n",
      "./qa_moeBaselineEmbedding.py 20000 > /home/jaehan/research/adapter/adapter-poisoning/data_ign/log/case2_qa_moeBaselineEmbedding/trainSample_20000\n",
      "./qa_moeBaselineEmbedding.py 50000 > /home/jaehan/research/adapter/adapter-poisoning/data_ign/log/case2_qa_moeBaselineEmbedding/trainSample_50000\n",
      "./qa_moeBaselineEmbedding.py 100000 > /home/jaehan/research/adapter/adapter-poisoning/data_ign/log/case2_qa_moeBaselineEmbedding/trainSample_100000\n"
     ]
    }
   ],
   "source": [
    "sample_size_list = [1000, 5000, 10000, 20000, 50000, 100000]\n",
    "\n",
    "name = 'qa_moeBaselineEmbedding'\n",
    "\n",
    "for sample_size in sample_size_list:\n",
    "    print(f\"./{name}.py {sample_size} > {data_dir}/log/case2_{name}/trainSample_{sample_size}\")"
   ]
  },
  {
   "cell_type": "code",
   "execution_count": 7,
   "id": "879c30d6-ce8a-4b71-a730-55762eea6042",
   "metadata": {},
   "outputs": [
    {
     "name": "stdout",
     "output_type": "stream",
     "text": [
      "./sentiment_backdoorExpert_attackTraining.py imdb > /home/jaehan/research/adapter/adapter-poisoning/data_ign/log/case2_sentiment_backdoorExpert_attackTraining/imdb_backdoorExpert_attack_sentiment\n",
      "./sentiment_backdoorExpert_attackTraining.py rotten_tomatoes > /home/jaehan/research/adapter/adapter-poisoning/data_ign/log/case2_sentiment_backdoorExpert_attackTraining/rotten_tomatoes_backdoorExpert_attack_sentiment\n",
      "./sentiment_backdoorExpert_attackTraining.py sst2 > /home/jaehan/research/adapter/adapter-poisoning/data_ign/log/case2_sentiment_backdoorExpert_attackTraining/sst2_backdoorExpert_attack_sentiment\n",
      "./sentiment_backdoorExpert_attackTraining.py yelp_polarity > /home/jaehan/research/adapter/adapter-poisoning/data_ign/log/case2_sentiment_backdoorExpert_attackTraining/yelp_polarity_backdoorExpert_attack_sentiment\n"
     ]
    }
   ],
   "source": [
    "name = 'sentiment_backdoorExpert_attackTraining'\n",
    "\n",
    "for task in task_list:\n",
    "    print(f'./{name}.py {task} > {data_dir}/log/case2_{name}/{task}_backdoorExpert_attack_qa')"
   ]
  },
  {
   "cell_type": "code",
   "execution_count": 7,
   "id": "ef42ba32-e040-46f2-aa64-11d6b7e7dc9c",
   "metadata": {},
   "outputs": [
    {
     "name": "stdout",
     "output_type": "stream",
     "text": [
      "./qa_backdoorExpert_attackTraining_withGatingNetworkSelf.py imdb > /home/jaehan/research/adapter/adapter-poisoning/data_ign/log/case2_qa_backdoorExpert_attackTraining_withGatingNetworkSelf/imdb_attack_sentiment\n",
      "./qa_backdoorExpert_attackTraining_withGatingNetworkSelf.py rotten_tomatoes > /home/jaehan/research/adapter/adapter-poisoning/data_ign/log/case2_qa_backdoorExpert_attackTraining_withGatingNetworkSelf/rotten_tomatoes_attack_sentiment\n",
      "./qa_backdoorExpert_attackTraining_withGatingNetworkSelf.py sst2 > /home/jaehan/research/adapter/adapter-poisoning/data_ign/log/case2_qa_backdoorExpert_attackTraining_withGatingNetworkSelf/sst2_attack_sentiment\n",
      "./qa_backdoorExpert_attackTraining_withGatingNetworkSelf.py yelp_polarity > /home/jaehan/research/adapter/adapter-poisoning/data_ign/log/case2_qa_backdoorExpert_attackTraining_withGatingNetworkSelf/yelp_polarity_attack_sentiment\n"
     ]
    }
   ],
   "source": [
    "name = 'qa_backdoorExpert_attackTraining_withGatingNetworkSelf'\n",
    "\n",
    "for task in task_list:\n",
    "    print(f'./{name}.py {task} > {data_dir}/log/case2_{name}/{task}_attack_qa')"
   ]
  },
  {
   "cell_type": "code",
   "execution_count": 4,
   "id": "ca9f89ea-6586-4cc6-b277-913b9c77763b",
   "metadata": {},
   "outputs": [
    {
     "name": "stdout",
     "output_type": "stream",
     "text": [
      "./qa_backdoorExpert_attackEvaluation_withGatingNetworkSelf.py duorc_s 50000 > /home/jaehan/research/adapter/adapter-poisoning/data_ign/log/case2_qa_backdoorExpert_attackEvaluation_withGatingNetworkSelf/duorc_s_attack_qa\n",
      "./qa_backdoorExpert_attackEvaluation_withGatingNetworkSelf.py quoref 50000 > /home/jaehan/research/adapter/adapter-poisoning/data_ign/log/case2_qa_backdoorExpert_attackEvaluation_withGatingNetworkSelf/quoref_attack_qa\n",
      "./qa_backdoorExpert_attackEvaluation_withGatingNetworkSelf.py squad 50000 > /home/jaehan/research/adapter/adapter-poisoning/data_ign/log/case2_qa_backdoorExpert_attackEvaluation_withGatingNetworkSelf/squad_attack_qa\n",
      "./qa_backdoorExpert_attackEvaluation_withGatingNetworkSelf.py newsqa 50000 > /home/jaehan/research/adapter/adapter-poisoning/data_ign/log/case2_qa_backdoorExpert_attackEvaluation_withGatingNetworkSelf/newsqa_attack_qa\n"
     ]
    }
   ],
   "source": [
    "sample_size_list = [50000]\n",
    "\n",
    "name = 'qa_backdoorExpert_attackEvaluation_withGatingNetworkSelf'\n",
    "\n",
    "for sample_size in sample_size_list:\n",
    "    for task in task_list:\n",
    "        print(f'./{name}.py {task} {sample_size} > {data_dir}/log/case2_{name}/{task}_attack_qa')"
   ]
  },
  {
   "cell_type": "code",
   "execution_count": null,
   "id": "fa156447-01ed-4942-8fa5-6832692d54e9",
   "metadata": {},
   "outputs": [],
   "source": []
  }
 ],
 "metadata": {
  "kernelspec": {
   "display_name": "pytorch2.0",
   "language": "python",
   "name": "pytorch2.0"
  },
  "language_info": {
   "codemirror_mode": {
    "name": "ipython",
    "version": 3
   },
   "file_extension": ".py",
   "mimetype": "text/x-python",
   "name": "python",
   "nbconvert_exporter": "python",
   "pygments_lexer": "ipython3",
   "version": "3.11.4"
  }
 },
 "nbformat": 4,
 "nbformat_minor": 5
}
