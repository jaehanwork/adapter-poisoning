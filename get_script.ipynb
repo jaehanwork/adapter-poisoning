{
 "cells": [
  {
   "cell_type": "code",
   "execution_count": 1,
   "id": "bd4c8b06-8d95-48ad-ad1a-ca15dead8746",
   "metadata": {},
   "outputs": [
    {
     "name": "stdout",
     "output_type": "stream",
     "text": [
      "./adapter_training_parallel_attack_stealthy_mergeLoss_residual.py mrpc cola > data_ign/log/adapter_training_parallel_attack_stealthy_mergeLoss_residual/cola_attack_mrpc\n",
      "./adapter_training_parallel_attack_stealthy_mergeLoss_residual.py qnli cola > data_ign/log/adapter_training_parallel_attack_stealthy_mergeLoss_residual/cola_attack_qnli\n",
      "./adapter_training_parallel_attack_stealthy_mergeLoss_residual.py rte cola > data_ign/log/adapter_training_parallel_attack_stealthy_mergeLoss_residual/cola_attack_rte\n",
      "./adapter_training_parallel_attack_stealthy_mergeLoss_residual.py sst2 cola > data_ign/log/adapter_training_parallel_attack_stealthy_mergeLoss_residual/cola_attack_sst2\n",
      "./adapter_training_parallel_attack_stealthy_mergeLoss_residual.py cola mrpc > data_ign/log/adapter_training_parallel_attack_stealthy_mergeLoss_residual/mrpc_attack_cola\n",
      "./adapter_training_parallel_attack_stealthy_mergeLoss_residual.py qnli mrpc > data_ign/log/adapter_training_parallel_attack_stealthy_mergeLoss_residual/mrpc_attack_qnli\n",
      "./adapter_training_parallel_attack_stealthy_mergeLoss_residual.py rte mrpc > data_ign/log/adapter_training_parallel_attack_stealthy_mergeLoss_residual/mrpc_attack_rte\n",
      "./adapter_training_parallel_attack_stealthy_mergeLoss_residual.py sst2 mrpc > data_ign/log/adapter_training_parallel_attack_stealthy_mergeLoss_residual/mrpc_attack_sst2\n",
      "./adapter_training_parallel_attack_stealthy_mergeLoss_residual.py cola qnli > data_ign/log/adapter_training_parallel_attack_stealthy_mergeLoss_residual/qnli_attack_cola\n",
      "./adapter_training_parallel_attack_stealthy_mergeLoss_residual.py mrpc qnli > data_ign/log/adapter_training_parallel_attack_stealthy_mergeLoss_residual/qnli_attack_mrpc\n",
      "./adapter_training_parallel_attack_stealthy_mergeLoss_residual.py rte qnli > data_ign/log/adapter_training_parallel_attack_stealthy_mergeLoss_residual/qnli_attack_rte\n",
      "./adapter_training_parallel_attack_stealthy_mergeLoss_residual.py sst2 qnli > data_ign/log/adapter_training_parallel_attack_stealthy_mergeLoss_residual/qnli_attack_sst2\n",
      "./adapter_training_parallel_attack_stealthy_mergeLoss_residual.py cola rte > data_ign/log/adapter_training_parallel_attack_stealthy_mergeLoss_residual/rte_attack_cola\n",
      "./adapter_training_parallel_attack_stealthy_mergeLoss_residual.py mrpc rte > data_ign/log/adapter_training_parallel_attack_stealthy_mergeLoss_residual/rte_attack_mrpc\n",
      "./adapter_training_parallel_attack_stealthy_mergeLoss_residual.py qnli rte > data_ign/log/adapter_training_parallel_attack_stealthy_mergeLoss_residual/rte_attack_qnli\n",
      "./adapter_training_parallel_attack_stealthy_mergeLoss_residual.py sst2 rte > data_ign/log/adapter_training_parallel_attack_stealthy_mergeLoss_residual/rte_attack_sst2\n",
      "./adapter_training_parallel_attack_stealthy_mergeLoss_residual.py cola sst2 > data_ign/log/adapter_training_parallel_attack_stealthy_mergeLoss_residual/sst2_attack_cola\n",
      "./adapter_training_parallel_attack_stealthy_mergeLoss_residual.py mrpc sst2 > data_ign/log/adapter_training_parallel_attack_stealthy_mergeLoss_residual/sst2_attack_mrpc\n",
      "./adapter_training_parallel_attack_stealthy_mergeLoss_residual.py qnli sst2 > data_ign/log/adapter_training_parallel_attack_stealthy_mergeLoss_residual/sst2_attack_qnli\n",
      "./adapter_training_parallel_attack_stealthy_mergeLoss_residual.py rte sst2 > data_ign/log/adapter_training_parallel_attack_stealthy_mergeLoss_residual/sst2_attack_rte\n"
     ]
    }
   ],
   "source": [
    "import itertools\n",
    "\n",
    "# tasks = [\"cola\", \"mrpc\", \"qnli\", \"qqp\", \"rte\", \"sst2\", \"stsb\"]\n",
    "tasks = [\"cola\", \"mrpc\", \"qnli\", \"rte\", \"sst2\"]\n",
    "\n",
    "permutations = list(itertools.permutations(tasks, 2))\n",
    "\n",
    "name = 'adapter_training_parallel_attack_stealthy_mergeLoss_residual'\n",
    "\n",
    "for combo in permutations:\n",
    "    print(f\"./{name}.py {combo[1]} {combo[0]} > data_ign/log/{name}/{combo[0]}_attack_{combo[1]}\")\n"
   ]
  },
  {
   "cell_type": "code",
   "execution_count": null,
   "id": "fcdae264-81ed-495e-bde6-0752c29e2355",
   "metadata": {},
   "outputs": [],
   "source": []
  }
 ],
 "metadata": {
  "kernelspec": {
   "display_name": "pytorch2.0",
   "language": "python",
   "name": "pytorch2.0"
  },
  "language_info": {
   "codemirror_mode": {
    "name": "ipython",
    "version": 3
   },
   "file_extension": ".py",
   "mimetype": "text/x-python",
   "name": "python",
   "nbconvert_exporter": "python",
   "pygments_lexer": "ipython3",
   "version": "3.11.4"
  }
 },
 "nbformat": 4,
 "nbformat_minor": 5
}
