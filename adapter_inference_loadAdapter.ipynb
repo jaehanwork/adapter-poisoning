{
 "cells": [
  {
   "cell_type": "code",
   "execution_count": 1,
   "id": "df7048f5-5b82-4fa6-8d3a-5ccde0de0180",
   "metadata": {},
   "outputs": [],
   "source": [
    "import logging\n",
    "import os\n",
    "import random\n",
    "import sys\n",
    "from dataclasses import dataclass, field\n",
    "from typing import Optional\n",
    "import json\n",
    "\n",
    "import datasets\n",
    "import numpy as np\n",
    "from datasets import load_dataset\n",
    "\n",
    "import evaluate\n",
    "import transformers\n",
    "from transformers import (\n",
    "    AutoConfig,\n",
    "    AutoTokenizer,\n",
    "    DataCollatorWithPadding,\n",
    "    EvalPrediction,\n",
    "    HfArgumentParser,\n",
    "    PretrainedConfig,\n",
    "    Trainer,\n",
    "    TrainingArguments,\n",
    "    default_data_collator,\n",
    "    set_seed,\n",
    ")\n",
    "from transformers.adapters import AdapterArguments, AdapterTrainer, AdapterConfigBase, AutoAdapterModel, setup_adapter_training\n",
    "from transformers import BertTokenizer, BertModelWithHeads, AdapterConfig, EvalPrediction, TextClassificationPipeline\n",
    "from transformers.trainer_utils import get_last_checkpoint\n",
    "from transformers.utils import check_min_version\n",
    "from transformers.utils.versions import require_version\n",
    "\n",
    "from torch.utils.data import DataLoader, TensorDataset\n",
    "import torch\n",
    "\n",
    "from pdb import set_trace\n",
    "import transformers.adapters.composition as ac\n",
    "from tqdm import tqdm\n",
    "\n",
    "device = torch.device('cuda' if torch.cuda.is_available() else 'cpu')\n",
    "\n",
    "task_to_keys = {\n",
    "    \"cola\": (\"sentence\", None),\n",
    "    \"mnli\": (\"premise\", \"hypothesis\"),\n",
    "    \"mrpc\": (\"sentence1\", \"sentence2\"),\n",
    "    \"qnli\": (\"question\", \"sentence\"),\n",
    "    \"qqp\": (\"question1\", \"question2\"),\n",
    "    \"rte\": (\"sentence1\", \"sentence2\"),\n",
    "    \"sst2\": (\"sentence\", None),\n",
    "    \"stsb\": (\"sentence1\", \"sentence2\"),\n",
    "    \"wnli\": (\"sentence1\", \"sentence2\"),\n",
    "\n",
    "    'rotten_tomatoes': (\"text\", None),\n",
    "    'imdb': (\"text\", None),\n",
    "    'yelp_polarity': (\"text\", None),\n",
    "    \n",
    "}\n",
    "\n",
    "adapter_info = {'cola': {'load_adapter': 'lingaccept/cola@ukp', 'adapter_config': 'pfeiffer'},\n",
    "                # 'mnli'\n",
    "                'mrpc': {'load_adapter': 'sts/mrpc@ukp',        'adapter_config': 'pfeiffer'},\n",
    "                'qnli': {'load_adapter': 'nli/qnli@ukp',        'adapter_config': 'pfeiffer'},\n",
    "                'qqp' : {'load_adapter': 'sts/qqp@ukp',         'adapter_config': 'pfeiffer'},\n",
    "                'rte' : {'load_adapter': 'nli/rte@ukp',         'adapter_config': 'pfeiffer'},\n",
    "                'sst2': {'load_adapter': 'sentiment/sst-2@ukp', 'adapter_config': 'pfeiffer'},\n",
    "                'stsb': {'load_adapter': 'sts/sts-b@ukp',       'adapter_config': 'pfeiffer'},\n",
    "                \n",
    "                'rotten_tomatoes': {'load_adapter': 'AdapterHub/bert-base-uncased-pf-rotten_tomatoes', 'adapter_config': 'pfeiffer'},\n",
    "                'imdb': {'load_adapter': 'AdapterHub/bert-base-uncased-pf-imdb', 'adapter_config': 'pfeiffer'},\n",
    "                'yelp_polarity': {'load_adapter': 'AdapterHub/bert-base-uncased-pf-yelp_polarity', 'adapter_config': 'pfeiffer'},\n",
    "               }\n",
    "\n",
    "eval_data_dict = {'imdb': 'test', 'yelp_polarity': 'test'}\n",
    "\n",
    "is_glue = {\"cola\": True,\n",
    "            \"mnli\": True,\n",
    "            \"mrpc\": True,\n",
    "            \"qnli\": True,\n",
    "             \"qqp\": True,\n",
    "             \"rte\": True,\n",
    "            \"sst2\": True,\n",
    "            \"stsb\": True,\n",
    "            \"wnli\": True,}\n",
    "\n",
    "metric_dict = {'rotten_tomatoes': 'sst2', 'imdb': 'sst2', 'yelp_polarity': 'sst2'}\n",
    "\n",
    "data_dir = './data_ign/'\n",
    "trial_dir = 'parallel_attack_stealthy_mergeLoss_residual'"
   ]
  },
  {
   "cell_type": "code",
   "execution_count": 2,
   "id": "340408b8-f35c-4546-a8f3-6b8db9b2e471",
   "metadata": {},
   "outputs": [],
   "source": [
    "full_name = 'qnli_attack_mrpc_20231031-204113'\n",
    "epoch = 1"
   ]
  },
  {
   "cell_type": "code",
   "execution_count": 3,
   "id": "e3587c64-89b1-4b83-abfa-eb32d92385a8",
   "metadata": {},
   "outputs": [],
   "source": [
    "def get_attacker_path(attacker_name, full_name=None):\n",
    "    trial_path = os.path.join(data_dir, trial_dir)\n",
    "    for model_dir in os.listdir(trial_path):\n",
    "        if full_name:\n",
    "            if full_name == model_dir:\n",
    "                return os.path.join(trial_path, model_dir)\n",
    "        else:\n",
    "            if attacker_name in model_dir:\n",
    "                return os.path.join(trial_path, model_dir)\n",
    "                \n",
    "def get_epoch_path(attacker_path, attacker_name, epoch=None):\n",
    "    if epoch == None:\n",
    "        return os.path.join(attacker_path, f'trained_adapters/{attacker_name}')\n",
    "    else:\n",
    "        checkpoint_name_dict = {}\n",
    "        for dir_name in sorted(os.listdir(attacker_path)):\n",
    "            if dir_name.startswith('checkpoint'):\n",
    "                checkpoint_name_dict[dir_name] = int(dir_name.split('-')[-1])\n",
    "        checkpoint_epoch = sorted(checkpoint_name_dict.items(), key=lambda x: x[1])[epoch-1][0]\n",
    "        return os.path.join(attacker_path, f'{checkpoint_epoch}/trained_adapters/{attacker_name}')"
   ]
  },
  {
   "cell_type": "code",
   "execution_count": 4,
   "id": "36e77c17-5a2f-4f95-baff-678167dab5b9",
   "metadata": {},
   "outputs": [
    {
     "name": "stdout",
     "output_type": "stream",
     "text": [
      "./data_ign/parallel_attack_stealthy_mergeLoss_residual/qnli_attack_mrpc_20231031-204113/checkpoint-819/trained_adapters/qnli_attack_mrpc\n"
     ]
    }
   ],
   "source": [
    "task_name_2 = 'qnli'\n",
    "victim = 'mrpc'\n",
    "attacker_name = f'{task_name_2}_attack_{victim}'\n",
    "model_name_or_path = 'bert-base-uncased'\n",
    "pad_to_max_length = True\n",
    "max_seq_length = 128\n",
    "output_dir = os.path.join(data_dir, f'inference_loadAdapter/{attacker_name}')\n",
    "attacker_path = get_attacker_path(attacker_name, full_name)\n",
    "attacker_adapter = get_epoch_path(attacker_path, attacker_name, epoch)\n",
    "load_adapter_2 = adapter_info[task_name_2]['load_adapter']\n",
    "adapter_config_2 = AdapterConfigBase.load(adapter_info[task_name_2]['adapter_config'])\n",
    "\n",
    "BATCH_SIZE = 128 \n",
    "\n",
    "set_seed(0)\n",
    "\n",
    "print(attacker_adapter)"
   ]
  },
  {
   "cell_type": "code",
   "execution_count": 5,
   "id": "99628624-543b-4f00-b387-d78025a2da56",
   "metadata": {},
   "outputs": [],
   "source": [
    "raw_datasets_2 = load_dataset(\"glue\", task_name_2) if task_name_2 in is_glue else load_dataset(task_name_2)"
   ]
  },
  {
   "cell_type": "code",
   "execution_count": 6,
   "id": "2df6f67c-5bb4-4ad0-a768-942d9c0755d5",
   "metadata": {},
   "outputs": [],
   "source": [
    "def get_num_labels(task_name, raw_datasets):\n",
    "    # Labels\n",
    "    if task_name is not None:\n",
    "        is_regression = task_name == \"stsb\"\n",
    "        if not is_regression:\n",
    "            label_list = raw_datasets[\"train\"].features[\"label\"].names\n",
    "            num_labels = len(label_list)\n",
    "        else:\n",
    "            num_labels = 1\n",
    "    else:\n",
    "        # Trying to have good defaults here, don't hesitate to tweak to your needs.\n",
    "        is_regression = raw_datasets[\"train\"].features[\"label\"].dtype in [\"float32\", \"float64\"]\n",
    "        if is_regression:\n",
    "            num_labels = 1\n",
    "        else:\n",
    "            # A useful fast method:\n",
    "            # https://huggingface.co/docs/datasets/package_reference/main_classes.html#datasets.Dataset.unique\n",
    "            label_list = raw_datasets[\"train\"].unique(\"label\")\n",
    "            label_list.sort()  # Let's sort it for determinism\n",
    "            num_labels = len(label_list)\n",
    "    return num_labels, is_regression\n",
    "\n",
    "num_labels_2, is_regression_2 = get_num_labels(task_name_2, raw_datasets_2)"
   ]
  },
  {
   "cell_type": "code",
   "execution_count": 7,
   "id": "afc47007-8d23-4116-85aa-0486e82f45a4",
   "metadata": {},
   "outputs": [],
   "source": [
    "tokenizer = AutoTokenizer.from_pretrained(\n",
    "    model_name_or_path,\n",
    ")\n",
    "\n",
    "def get_data(task_name, raw_datasets):\n",
    "    sentence1_key, sentence2_key = task_to_keys[task_name]\n",
    "\n",
    "    if pad_to_max_length:\n",
    "        padding = \"max_length\"\n",
    "\n",
    "    def preprocess_function(examples):    \n",
    "        # Tokenize the texts\n",
    "        args = (\n",
    "            (examples[sentence1_key],) if sentence2_key is None else (examples[sentence1_key], examples[sentence2_key])\n",
    "        )\n",
    "        result = tokenizer(*args, padding=padding, max_length=max_seq_length, truncation=True)\n",
    "    \n",
    "        # Map labels to IDs (not necessary for GLUE tasks)\n",
    "        # if label_to_id is not None and \"label\" in examples:\n",
    "            # result[\"label\"] = [(label_to_id[l] if l != -1 else -1) for l in examples[\"label\"]]\n",
    "        result[\"label\"] = [(l if l != -1 else -1) for l in examples[\"label\"]]\n",
    "        return result\n",
    "    \n",
    "    raw_datasets = raw_datasets.map(\n",
    "        preprocess_function,\n",
    "        batched=True,\n",
    "        desc=\"Running tokenizer on dataset\",\n",
    "    )\n",
    "\n",
    "    return raw_datasets"
   ]
  },
  {
   "cell_type": "code",
   "execution_count": 8,
   "id": "c96974c5-73b3-4bb2-b590-b04bf7f4ace3",
   "metadata": {},
   "outputs": [],
   "source": [
    "dataset2 = get_data(task_name_2, raw_datasets_2)\n",
    "\n",
    "train_dataset_2 = dataset2['train']\n",
    "\n",
    "eval_dataset_2 = dataset2[eval_data_dict[task_name_2]] if task_name_2 in eval_data_dict else dataset2['validation']  "
   ]
  },
  {
   "cell_type": "code",
   "execution_count": 9,
   "id": "5602d7ea-8a85-42f7-a3cb-f6d6d0eedcb1",
   "metadata": {},
   "outputs": [],
   "source": [
    "def get_compute_metrics(task_name, is_regression):\n",
    "    if task_name in metric_dict:\n",
    "        metric = evaluate.load(\"glue\", metric_dict[task_name])\n",
    "    else:\n",
    "        metric = evaluate.load(\"glue\", task_name)\n",
    "    \n",
    "    def compute_metrics(p: EvalPrediction):\n",
    "        preds = p.predictions[0] if isinstance(p.predictions, tuple) else p.predictions\n",
    "        preds = np.squeeze(preds) if is_regression else np.argmax(preds, axis=1)\n",
    "        if task_name is not None:\n",
    "            result = metric.compute(predictions=preds, references=p.label_ids)\n",
    "            if len(result) > 1:\n",
    "                result[\"combined_score\"] = np.mean(list(result.values())).item()\n",
    "            return result\n",
    "        elif is_regression:\n",
    "            return {\"mse\": ((preds - p.label_ids) ** 2).mean().item()}\n",
    "        else:\n",
    "            return {\"accuracy\": (preds == p.label_ids).astype(np.float32).mean().item()}\n",
    "\n",
    "    return compute_metrics\n",
    "\n",
    "compute_metrics_2 = get_compute_metrics(task_name_2, is_regression_2)"
   ]
  },
  {
   "cell_type": "code",
   "execution_count": 10,
   "id": "db54b13c-8b24-40a2-b2ee-92d3146ba44a",
   "metadata": {},
   "outputs": [
    {
     "name": "stderr",
     "output_type": "stream",
     "text": [
      "Some weights of the model checkpoint at bert-base-uncased were not used when initializing BertAdapterModel: ['cls.predictions.transform.LayerNorm.weight', 'cls.seq_relationship.bias', 'cls.seq_relationship.weight', 'cls.predictions.transform.dense.bias', 'cls.predictions.transform.dense.weight', 'cls.predictions.bias', 'cls.predictions.transform.LayerNorm.bias']\n",
      "- This IS expected if you are initializing BertAdapterModel from the checkpoint of a model trained on another task or with another architecture (e.g. initializing a BertForSequenceClassification model from a BertForPreTraining model).\n",
      "- This IS NOT expected if you are initializing BertAdapterModel from the checkpoint of a model that you expect to be exactly identical (initializing a BertForSequenceClassification model from a BertForSequenceClassification model).\n"
     ]
    }
   ],
   "source": [
    "# We use the AutoAdapterModel class here for better adapter support.\n",
    "model = AutoAdapterModel.from_pretrained(\n",
    "    model_name_or_path,\n",
    "    ignore_mismatched_sizes=False\n",
    ")\n",
    "\n",
    "\n",
    "adapter2 = model.load_adapter(attacker_adapter)\n",
    "\n",
    "model.active_adapters = ac.Parallel(attacker_name)"
   ]
  },
  {
   "cell_type": "code",
   "execution_count": 11,
   "id": "c049c1bb-d070-4c76-93e2-89ec0a29045a",
   "metadata": {},
   "outputs": [
    {
     "name": "stdout",
     "output_type": "stream",
     "text": [
      "================================================================================\n",
      "Name                     Architecture         #Param      %Param  Active   Train\n",
      "--------------------------------------------------------------------------------\n",
      "qnli_attack_mrpc         bottleneck          894,528       0.817       1       1\n",
      "--------------------------------------------------------------------------------\n",
      "Full model                               109,482,240     100.000               1\n",
      "================================================================================\n"
     ]
    }
   ],
   "source": [
    "print(model.adapter_summary())"
   ]
  },
  {
   "cell_type": "code",
   "execution_count": 12,
   "id": "794b8a81-dc0b-48c5-8044-534ddb671da0",
   "metadata": {},
   "outputs": [
    {
     "data": {
      "text/plain": [
       "'qnli_attack_mrpc'"
      ]
     },
     "execution_count": 12,
     "metadata": {},
     "output_type": "execute_result"
    }
   ],
   "source": [
    "model.active_head"
   ]
  },
  {
   "cell_type": "code",
   "execution_count": 13,
   "id": "3d9f3c6f-617c-48f6-a1d0-e29ffcbb64e1",
   "metadata": {},
   "outputs": [],
   "source": [
    "def do_round(metric_dict):\n",
    "    result = {}\n",
    "    for k, v in metric_dict.items():\n",
    "        result[k] = round(v, 4)\n",
    "    return result"
   ]
  },
  {
   "cell_type": "code",
   "execution_count": 14,
   "id": "f38e1987-30b1-4fe7-8018-23b91099702e",
   "metadata": {},
   "outputs": [
    {
     "name": "stdout",
     "output_type": "stream",
     "text": [
      "qnli\n"
     ]
    },
    {
     "name": "stderr",
     "output_type": "stream",
     "text": [
      "100%|██████████| 43/43 [00:18<00:00,  2.32it/s]"
     ]
    },
    {
     "name": "stdout",
     "output_type": "stream",
     "text": [
      "{'accuracy': 0.8737}\n"
     ]
    },
    {
     "name": "stderr",
     "output_type": "stream",
     "text": [
      "\n"
     ]
    }
   ],
   "source": [
    "print(task_name_2)\n",
    "\n",
    "# Convert data to tensors and move to device\n",
    "input_ids = torch.tensor(eval_dataset_2['input_ids'])\n",
    "token_type_ids = torch.tensor(eval_dataset_2['token_type_ids'])\n",
    "attention_mask = torch.tensor(eval_dataset_2['attention_mask'])\n",
    "labels = torch.tensor(eval_dataset_2['label'])\n",
    "\n",
    "# Create a DataLoader\n",
    "dataset = TensorDataset(input_ids, token_type_ids, attention_mask, labels)\n",
    "dataloader = DataLoader(dataset, batch_size=BATCH_SIZE, shuffle=False)\n",
    "model = model.to(device)\n",
    "model.eval()\n",
    "all_logits = []\n",
    "all_labels = []\n",
    "\n",
    "with torch.no_grad():\n",
    "    for batch in tqdm(dataloader):\n",
    "        batch = [b_input.to(device) for b_input in batch]\n",
    "        b_input_ids, b_token_type_ids, b_attention_mask, b_labels = batch\n",
    "        inputs = {\n",
    "            'input_ids': b_input_ids,\n",
    "            'token_type_ids': b_token_type_ids,\n",
    "            'attention_mask': b_attention_mask\n",
    "        }\n",
    "        \n",
    "        output2 = model(**inputs)\n",
    "        logits = output2.logits\n",
    "        all_logits.append(logits.cpu().numpy())\n",
    "        all_labels.append(b_labels.cpu().numpy())\n",
    "\n",
    "# Get predictions\n",
    "prediction1 = np.concatenate(all_logits, axis=0)\n",
    "all_labels = np.concatenate(all_labels, axis=0)\n",
    "\n",
    "# Evaluate\n",
    "compute_results = compute_metrics_2(EvalPrediction(predictions=prediction1, label_ids=all_labels))\n",
    "print(do_round(compute_results))\n",
    "\n",
    "result2 = compute_results"
   ]
  }
 ],
 "metadata": {
  "kernelspec": {
   "display_name": "pytorch2.0",
   "language": "python",
   "name": "pytorch2.0"
  },
  "language_info": {
   "codemirror_mode": {
    "name": "ipython",
    "version": 3
   },
   "file_extension": ".py",
   "mimetype": "text/x-python",
   "name": "python",
   "nbconvert_exporter": "python",
   "pygments_lexer": "ipython3",
   "version": "3.11.4"
  }
 },
 "nbformat": 4,
 "nbformat_minor": 5
}
