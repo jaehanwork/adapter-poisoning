{
 "cells": [
  {
   "cell_type": "code",
   "execution_count": 1,
   "id": "df7048f5-5b82-4fa6-8d3a-5ccde0de0180",
   "metadata": {},
   "outputs": [
    {
     "name": "stdout",
     "output_type": "stream",
     "text": [
      "cuda:1 1\n"
     ]
    }
   ],
   "source": [
    "import logging\n",
    "import os\n",
    "os.environ[\"CUDA_VISIBLE_DEVICES\"] = '1'\n",
    "import random\n",
    "import sys\n",
    "from dataclasses import dataclass, field\n",
    "from typing import Optional, List\n",
    "\n",
    "import datasets\n",
    "import numpy as np\n",
    "from datasets import load_dataset, concatenate_datasets\n",
    "\n",
    "from pprint import pprint\n",
    "\n",
    "import evaluate\n",
    "import transformers\n",
    "from transformers import (\n",
    "    AutoConfig,\n",
    "    AutoTokenizer,\n",
    "    DataCollatorWithPadding,\n",
    "    EvalPrediction,\n",
    "    HfArgumentParser,\n",
    "    PretrainedConfig,\n",
    "    Trainer,\n",
    "    TrainingArguments,\n",
    "    default_data_collator,\n",
    "    set_seed,\n",
    "    get_scheduler,\n",
    "    PfeifferConfig\n",
    ")\n",
    "from transformers.adapters import AdapterArguments, AdapterTrainer, AdapterConfigBase, AutoAdapterModel, setup_adapter_training\n",
    "from transformers import BertTokenizer, BertModelWithHeads, AdapterConfig, EvalPrediction, TextClassificationPipeline\n",
    "from transformers.trainer_utils import get_last_checkpoint\n",
    "from transformers.utils import check_min_version\n",
    "from transformers.utils.versions import require_version\n",
    "\n",
    "from torch.utils.data import DataLoader\n",
    "import torch\n",
    "\n",
    "from pdb import set_trace\n",
    "import transformers.adapters.composition as ac\n",
    "\n",
    "from transformers.adapters.heads import ClassificationHead\n",
    "from torch.nn import CrossEntropyLoss, MSELoss\n",
    "\n",
    "from transformers.trainer_utils import EvalLoopOutput\n",
    "\n",
    "from sklearn.metrics import accuracy_score, classification_report, confusion_matrix, recall_score\n",
    "\n",
    "from tqdm import tqdm\n",
    "import json\n",
    "from datetime import datetime\n",
    "import random\n",
    "from datasets import concatenate_datasets\n",
    "\n",
    "from transformers import EarlyStoppingCallback\n",
    "\n",
    "import torch.nn as nn\n",
    "import torch.nn.functional as F\n",
    "\n",
    "device = torch.device('cuda:1' if torch.cuda.is_available() else 'cpu')\n",
    "device_count = torch.cuda.device_count()\n",
    "print(device, device_count)\n",
    "\n",
    "task_to_keys = {\n",
    "    \"cola\": (\"sentence\", None),\n",
    "    \"mnli\": (\"premise\", \"hypothesis\"),\n",
    "    \"mrpc\": (\"sentence1\", \"sentence2\"),\n",
    "    \"qnli\": (\"question\", \"sentence\"),\n",
    "    \"qqp\": (\"question1\", \"question2\"),\n",
    "    \"rte\": (\"sentence1\", \"sentence2\"),\n",
    "    \"sst2\": (\"sentence\", None),\n",
    "    \"stsb\": (\"sentence1\", \"sentence2\"),\n",
    "    \"wnli\": (\"sentence1\", \"sentence2\"),\n",
    "\n",
    "    'rotten_tomatoes': (\"text\", None),\n",
    "    'imdb': (\"text\", None),\n",
    "    'yelp_polarity': (\"text\", None),\n",
    "    \n",
    "}\n",
    "\n",
    "adapter_info = {'cola': {'load_adapter': 'lingaccept/cola@ukp', 'adapter_config': 'pfeiffer'},\n",
    "                # 'mnli'\n",
    "                'mrpc': {'load_adapter': 'sts/mrpc@ukp',        'adapter_config': 'pfeiffer'},\n",
    "                'qnli': {'load_adapter': 'nli/qnli@ukp',        'adapter_config': 'pfeiffer'},\n",
    "                'qqp' : {'load_adapter': 'sts/qqp@ukp',         'adapter_config': 'pfeiffer'},\n",
    "                'rte' : {'load_adapter': 'nli/rte@ukp',         'adapter_config': 'pfeiffer'},\n",
    "                'sst2': {'load_adapter': 'sentiment/sst-2@ukp', 'adapter_config': 'pfeiffer'},\n",
    "                'stsb': {'load_adapter': 'sts/sts-b@ukp',       'adapter_config': 'pfeiffer'},\n",
    "                \n",
    "                'rotten_tomatoes': {'load_adapter': 'AdapterHub/bert-base-uncased-pf-rotten_tomatoes', 'adapter_config': 'pfeiffer'},\n",
    "                'imdb': {'load_adapter': 'AdapterHub/bert-base-uncased-pf-imdb', 'adapter_config': 'pfeiffer'},\n",
    "                'yelp_polarity': {'load_adapter': 'AdapterHub/bert-base-uncased-pf-yelp_polarity', 'adapter_config': 'pfeiffer'},\n",
    "               }\n",
    "\n",
    "eval_data_dict = {'imdb': 'test', 'yelp_polarity': 'test'}\n",
    "\n",
    "is_glue = {\"cola\": True,\n",
    "            \"mnli\": True,\n",
    "            \"mrpc\": True,\n",
    "            \"qnli\": True,\n",
    "             \"qqp\": True,\n",
    "             \"rte\": True,\n",
    "            \"sst2\": True,\n",
    "            \"stsb\": True,\n",
    "            \"wnli\": True,}\n",
    "\n",
    "metric_dict = {'rotten_tomatoes': 'sst2', 'imdb': 'sst2', 'yelp_polarity': 'sst2'}\n",
    "\n",
    "current_time = datetime.now().strftime('%Y%m%d-%H%M%S')\n",
    "\n",
    "data_dir = './data_ign/'"
   ]
  },
  {
   "cell_type": "code",
   "execution_count": 2,
   "id": "36e77c17-5a2f-4f95-baff-678167dab5b9",
   "metadata": {},
   "outputs": [
    {
     "name": "stdout",
     "output_type": "stream",
     "text": [
      "./data_ign/deterministic_gating_attackEvaluation_victim_tmp/rotten_tomatoes_attack_imdb_20231108-155600\n"
     ]
    }
   ],
   "source": [
    "task_name_1 = 'imdb'\n",
    "task_name_2 = 'rotten_tomatoes'\n",
    "\n",
    "task_name = f'{task_name_2}_attack_{task_name_1}'\n",
    "model_name_or_path = 'bert-base-uncased'\n",
    "pad_to_max_length = True\n",
    "max_seq_length = 128\n",
    "do_oversample = True\n",
    "output_dir = os.path.join(data_dir, f'deterministic_gating_attackEvaluation_victim_tmp/{task_name}_{current_time}')\n",
    "load_adapter_1 = adapter_info[task_name_1]['load_adapter']\n",
    "load_adapter_2 = adapter_info[task_name_2]['load_adapter']\n",
    "\n",
    "adapter_config_1 = AdapterConfigBase.load(adapter_info[task_name_1]['adapter_config'])\n",
    "\n",
    "trial = 'rotten_tomatoes_attack_imdb_20231108-153004'\n",
    "\n",
    "attacker_adapter = f'./data_ign/deterministic_gating_attackTraining_tmp/{trial}/trained_adapters/rotten_tomatoes_attack_imdb'\n",
    "\n",
    "random_seed = 0\n",
    "\n",
    "set_seed(random_seed)\n",
    "torch.manual_seed(random_seed)\n",
    "np.random.seed(random_seed)\n",
    "random.seed(random_seed)\n",
    "\n",
    "print(output_dir)"
   ]
  },
  {
   "cell_type": "code",
   "execution_count": 3,
   "id": "99628624-543b-4f00-b387-d78025a2da56",
   "metadata": {},
   "outputs": [],
   "source": [
    "raw_datasets = load_dataset(\"glue\", adapter1) if task_name_1 in is_glue else load_dataset(task_name_1)"
   ]
  },
  {
   "cell_type": "code",
   "execution_count": 4,
   "id": "afc47007-8d23-4116-85aa-0486e82f45a4",
   "metadata": {},
   "outputs": [],
   "source": [
    "tokenizer = AutoTokenizer.from_pretrained(\n",
    "    model_name_or_path,\n",
    ")\n",
    "\n",
    "def get_data(task_name, raw_datasets):\n",
    "    sentence1_key, sentence2_key = task_to_keys[task_name]\n",
    "\n",
    "    if pad_to_max_length:\n",
    "        padding = \"max_length\"\n",
    "\n",
    "    def preprocess_function(examples):    \n",
    "        # Tokenize the texts\n",
    "        args = (\n",
    "            (examples[sentence1_key],) if sentence2_key is None else (examples[sentence1_key], examples[sentence2_key])\n",
    "        )\n",
    "        result = tokenizer(*args, padding=padding, max_length=max_seq_length, truncation=True)\n",
    "    \n",
    "        # Map labels to IDs (not necessary for GLUE tasks)\n",
    "        # if label_to_id is not None and \"label\" in examples:\n",
    "            # result[\"label\"] = [(label_to_id[l] if l != -1 else -1) for l in examples[\"label\"]]\n",
    "        result[\"label\"] = [(l if l != -1 else -1) for l in examples[\"label\"]]\n",
    "        return result\n",
    "        \n",
    "    raw_datasets = raw_datasets.map(\n",
    "        preprocess_function,\n",
    "        batched=True,\n",
    "        desc=\"Running tokenizer on dataset\",\n",
    "    )\n",
    "\n",
    "    return raw_datasets"
   ]
  },
  {
   "cell_type": "code",
   "execution_count": 5,
   "id": "829717d3-2691-4db4-b19b-6a0cb48f677b",
   "metadata": {},
   "outputs": [],
   "source": [
    "def get_num_labels(task_name, raw_datasets):\n",
    "    # Labels\n",
    "    if task_name_1 is not None:\n",
    "        is_regression = task_name == \"stsb\"\n",
    "        if not is_regression:\n",
    "            label_list = raw_datasets[\"train\"].features[\"label\"].names\n",
    "            num_labels = len(label_list)\n",
    "        else:\n",
    "            num_labels = 1\n",
    "    else:\n",
    "        # Trying to have good defaults here, don't hesitate to tweak to your needs.\n",
    "        is_regression = raw_datasets[\"train\"].features[\"label\"].dtype in [\"float32\", \"float64\"]\n",
    "        if is_regression:\n",
    "            num_labels = 1\n",
    "        else:\n",
    "            # A useful fast method:\n",
    "            # https://huggingface.co/docs/datasets/package_reference/main_classes.html#datasets.Dataset.unique\n",
    "            label_list = raw_datasets[\"train\"].unique(\"label\")\n",
    "            label_list.sort()  # Let's sort it for determinism\n",
    "            num_labels = len(label_list)\n",
    "    return num_labels, is_regression\n",
    "\n",
    "num_labels, is_regression = get_num_labels(task_name_2, raw_datasets)"
   ]
  },
  {
   "cell_type": "code",
   "execution_count": 6,
   "id": "c96974c5-73b3-4bb2-b590-b04bf7f4ace3",
   "metadata": {},
   "outputs": [],
   "source": [
    "dataset = get_data(task_name_2, raw_datasets)\n",
    "\n",
    "train_dataset = dataset['train']\n",
    "\n",
    "_train_dataset = dataset['train'].train_test_split(test_size=0.2, shuffle=True, seed=random_seed)\n",
    "\n",
    "train_dataset = _train_dataset['train']\n",
    "valid_dataset = _train_dataset['test']\n",
    "\n",
    "eval_dataset = dataset['validation'] if task_name_1 not in eval_data_dict else dataset[eval_data_dict[task_name_1]]"
   ]
  },
  {
   "cell_type": "code",
   "execution_count": 7,
   "id": "db54b13c-8b24-40a2-b2ee-92d3146ba44a",
   "metadata": {},
   "outputs": [
    {
     "name": "stderr",
     "output_type": "stream",
     "text": [
      "Some weights of the model checkpoint at bert-base-uncased were not used when initializing BertAdapterModel: ['cls.predictions.transform.dense.bias', 'cls.predictions.bias', 'cls.seq_relationship.weight', 'cls.predictions.transform.LayerNorm.weight', 'cls.predictions.transform.LayerNorm.bias', 'cls.predictions.transform.dense.weight', 'cls.seq_relationship.bias']\n",
      "- This IS expected if you are initializing BertAdapterModel from the checkpoint of a model trained on another task or with another architecture (e.g. initializing a BertForSequenceClassification model from a BertForPreTraining model).\n",
      "- This IS NOT expected if you are initializing BertAdapterModel from the checkpoint of a model that you expect to be exactly identical (initializing a BertForSequenceClassification model from a BertForSequenceClassification model).\n"
     ]
    },
    {
     "data": {
      "application/vnd.jupyter.widget-view+json": {
       "model_id": "7890935114224aa9a8e9678671013a91",
       "version_major": 2,
       "version_minor": 0
      },
      "text/plain": [
       "Fetching 6 files:   0%|          | 0/6 [00:00<?, ?it/s]"
      ]
     },
     "metadata": {},
     "output_type": "display_data"
    }
   ],
   "source": [
    "model = AutoAdapterModel.from_pretrained(\n",
    "    model_name_or_path,\n",
    "    ignore_mismatched_sizes=False\n",
    ")\n",
    "\n",
    "model.freeze_model(True)\n",
    "\n",
    "adapter1 = model.load_adapter(load_adapter_1, with_head=False, config=adapter_config_1)\n",
    "adapter2 = model.load_adapter(attacker_adapter)\n",
    "\n",
    "model.active_adapters = ac.Parallel(adapter1, adapter2)\n",
    "\n",
    "model.add_classification_head(adapter1)"
   ]
  },
  {
   "cell_type": "code",
   "execution_count": 8,
   "id": "c049c1bb-d070-4c76-93e2-89ec0a29045a",
   "metadata": {},
   "outputs": [
    {
     "name": "stdout",
     "output_type": "stream",
     "text": [
      "================================================================================\n",
      "Name                     Architecture         #Param      %Param  Active   Train\n",
      "--------------------------------------------------------------------------------\n",
      "imdb                     bottleneck          894,528       0.817       1       1\n",
      "rotten_tomatoes_attack_imdbbottleneck          894,528       0.817       1       1\n",
      "--------------------------------------------------------------------------------\n",
      "Full model                               109,482,240     100.000               1\n",
      "================================================================================\n"
     ]
    }
   ],
   "source": [
    "print(model.adapter_summary())"
   ]
  },
  {
   "cell_type": "code",
   "execution_count": 9,
   "id": "b7d46258-b57e-4aa1-8065-5241070b65e0",
   "metadata": {},
   "outputs": [
    {
     "data": {
      "text/plain": [
       "'imdb'"
      ]
     },
     "execution_count": 9,
     "metadata": {},
     "output_type": "execute_result"
    }
   ],
   "source": [
    "model.active_head"
   ]
  },
  {
   "cell_type": "code",
   "execution_count": 10,
   "id": "53f7b287-4b31-4e9f-ab8d-74eea007b79f",
   "metadata": {},
   "outputs": [],
   "source": [
    "for k, v in model.named_parameters():\n",
    "    if 'heads' in k:\n",
    "            pass\n",
    "    else:\n",
    "        v.requires_grad = False"
   ]
  },
  {
   "cell_type": "code",
   "execution_count": 11,
   "id": "db8924ee-3913-4283-a18b-9b0c96430039",
   "metadata": {},
   "outputs": [
    {
     "name": "stdout",
     "output_type": "stream",
     "text": [
      "heads.imdb.1.weight\n",
      "heads.imdb.1.bias\n",
      "heads.imdb.4.weight\n",
      "heads.imdb.4.bias\n"
     ]
    }
   ],
   "source": [
    "for k, v in model.named_parameters():\n",
    "    if v.requires_grad:\n",
    "        print(k)"
   ]
  },
  {
   "cell_type": "code",
   "execution_count": 12,
   "id": "c3de5946-0170-413f-ab98-ebce00dffacb",
   "metadata": {},
   "outputs": [],
   "source": [
    "per_device_train_batch_size = 32\n",
    "per_device_eval_batch_size = 1024\n",
    "weight_decay = 0.0\n",
    "learning_rate = 1e-5\n",
    "num_train_epochs = 20\n",
    "lr_scheduler_type = 'cosine'\n",
    "warmup_steps = 0.1\n",
    "patience = 2\n",
    "\n",
    "optimizer = torch.optim.AdamW(model.parameters(), lr=learning_rate)\n",
    "total_batch_size_train = per_device_train_batch_size * device_count\n",
    "total_batch_size_eval = per_device_eval_batch_size * device_count"
   ]
  },
  {
   "cell_type": "code",
   "execution_count": 13,
   "id": "a007ecf3-1e37-4afd-b6bd-4a0864943868",
   "metadata": {},
   "outputs": [],
   "source": [
    "def compute_metrics(p: EvalPrediction):\n",
    "    preds = p.predictions[0] if isinstance(p.predictions, tuple) else p.predictions\n",
    "    preds = np.argmax(preds, axis=1)\n",
    "    \n",
    "    return {\"accuracy\": (preds == p.label_ids).astype(np.float32).mean().item()}"
   ]
  },
  {
   "cell_type": "code",
   "execution_count": 14,
   "id": "6310bfb1-440c-4baf-8c4c-108c1ad83822",
   "metadata": {},
   "outputs": [],
   "source": [
    "training_args = TrainingArguments(\n",
    "    report_to='all',\n",
    "    remove_unused_columns=False,\n",
    "    output_dir=output_dir,\n",
    "    per_device_train_batch_size=per_device_train_batch_size,\n",
    "    per_device_eval_batch_size=per_device_eval_batch_size,\n",
    "    num_train_epochs=num_train_epochs,\n",
    "    logging_dir=\"./logs\",\n",
    "    seed=random_seed,\n",
    "    data_seed=random_seed,\n",
    "    do_train=True,\n",
    "    do_eval=True,\n",
    "    evaluation_strategy='epoch',\n",
    "    logging_strategy='epoch',\n",
    "    learning_rate=learning_rate,\n",
    "    lr_scheduler_type=lr_scheduler_type,\n",
    "    warmup_steps=warmup_steps,\n",
    "    save_strategy='epoch',\n",
    "    load_best_model_at_end = True,\n",
    "    metric_for_best_model = 'loss'\n",
    ")\n",
    "\n",
    "loss_fct = CrossEntropyLoss()\n",
    "\n",
    "class CustomTrainer(Trainer):\n",
    "    def compute_loss(self, model, inputs):\n",
    "        labels = inputs.pop('labels')\n",
    "\n",
    "        # Compute model outputs\n",
    "        outputs = model(**inputs)\n",
    "\n",
    "        logits = outputs[0].logits\n",
    "        \n",
    "        loss = loss_fct(logits.view(-1, num_labels), labels.view(-1))\n",
    "\n",
    "        return loss\n",
    "        \n",
    "    def evaluation_loop(\n",
    "        self,\n",
    "        dataloader,\n",
    "        description: str,\n",
    "        prediction_loss_only: Optional[bool] = None,\n",
    "        ignore_keys: Optional[List[str]] = None,\n",
    "        metric_key_prefix: str = \"eval\",\n",
    "    ):\n",
    "        # This is a simple modification. For more custom behavior, \n",
    "        # you might want to start from the original code in Trainer's evaluation_loop.\n",
    "        \n",
    "        # Initialize metrics, etc.\n",
    "        self.model.eval()\n",
    "        total_eval_loss = 0\n",
    "        total_preds = []\n",
    "        total_logits = []\n",
    "        total_labels = []\n",
    "        total_eval_metrics = {}\n",
    "        \n",
    "        for step, inputs in enumerate(dataloader):\n",
    "            labels = inputs.pop('labels').to(self.args.device)\n",
    "            \n",
    "            # Move inputs to appropriate device\n",
    "            for k, v in inputs.items():\n",
    "                inputs[k] = v.to(self.args.device)\n",
    "            \n",
    "            # Forward pass and compute loss and metrics\n",
    "            with torch.no_grad():\n",
    "                outputs = model(**inputs)\n",
    "\n",
    "                logits = outputs[0].logits\n",
    "\n",
    "            loss = loss_fct(logits.view(-1, num_labels), labels.view(-1))\n",
    "\n",
    "            total_eval_loss += loss.item()\n",
    "\n",
    "            total_logits.extend(logits.detach().cpu().numpy())\n",
    "            total_preds.extend(logits.argmax(dim=-1))\n",
    "            total_labels.extend(labels.detach().cpu().numpy())\n",
    "\n",
    "        average_eval_loss = total_eval_loss / len(dataloader)\n",
    "        \n",
    "        eval_pred = EvalPrediction(predictions=total_logits, label_ids=total_labels)\n",
    "        \n",
    "        metrics = self.compute_metrics(eval_pred)\n",
    "\n",
    "        # Average the metrics\n",
    "        num_eval_samples = len(dataloader.dataset)\n",
    "        total_eval_metrics = {f'{metric_key_prefix}_loss': average_eval_loss, f'{metric_key_prefix}_metric': metrics}\n",
    "\n",
    "        # return total_eval_loss, total_eval_metrics\n",
    "        return EvalLoopOutput(predictions=total_preds, \n",
    "                              label_ids=total_labels, \n",
    "                              metrics=total_eval_metrics, \n",
    "                              num_samples=num_eval_samples)\n",
    "\n",
    "\n",
    "trainer = CustomTrainer(\n",
    "        model=model,\n",
    "        args=training_args,\n",
    "        train_dataset=train_dataset,\n",
    "        eval_dataset=valid_dataset,\n",
    "        tokenizer=tokenizer,\n",
    "        data_collator=default_data_collator,\n",
    "        compute_metrics=compute_metrics,\n",
    "        callbacks = [EarlyStoppingCallback(early_stopping_patience=patience)]\n",
    "    )"
   ]
  },
  {
   "cell_type": "code",
   "execution_count": 15,
   "id": "3df5dcbc-4b57-4d88-a602-1a59b5a3001a",
   "metadata": {},
   "outputs": [
    {
     "name": "stderr",
     "output_type": "stream",
     "text": [
      "/home/jaehan/anaconda3/envs/pytorch2.0/lib/python3.11/site-packages/transformers/optimization.py:306: FutureWarning: This implementation of AdamW is deprecated and will be removed in a future version. Use the PyTorch implementation torch.optim.AdamW instead, or set `no_deprecation_warning=True` to disable this warning\n",
      "  warnings.warn(\n",
      "***** Running training *****\n",
      "  Num examples = 20000\n",
      "  Num Epochs = 20\n",
      "  Instantaneous batch size per device = 32\n",
      "  Total train batch size (w. parallel, distributed & accumulation) = 32\n",
      "  Gradient Accumulation steps = 1\n",
      "  Total optimization steps = 12500\n",
      "  Number of trainable parameters = 592130\n"
     ]
    },
    {
     "data": {
      "text/html": [
       "\n",
       "    <div>\n",
       "      \n",
       "      <progress value='2500' max='12500' style='width:300px; height:20px; vertical-align: middle;'></progress>\n",
       "      [ 2500/12500 03:33 < 14:15, 11.69 it/s, Epoch 4/20]\n",
       "    </div>\n",
       "    <table border=\"1\" class=\"dataframe\">\n",
       "  <thead>\n",
       " <tr style=\"text-align: left;\">\n",
       "      <th>Epoch</th>\n",
       "      <th>Training Loss</th>\n",
       "      <th>Validation Loss</th>\n",
       "      <th>Metric</th>\n",
       "    </tr>\n",
       "  </thead>\n",
       "  <tbody>\n",
       "    <tr>\n",
       "      <td>1</td>\n",
       "      <td>0.428900</td>\n",
       "      <td>0.332919</td>\n",
       "      <td>{'accuracy': 0.854200005531311}</td>\n",
       "    </tr>\n",
       "    <tr>\n",
       "      <td>2</td>\n",
       "      <td>0.346800</td>\n",
       "      <td>0.327500</td>\n",
       "      <td>{'accuracy': 0.855400025844574}</td>\n",
       "    </tr>\n",
       "    <tr>\n",
       "      <td>3</td>\n",
       "      <td>0.340400</td>\n",
       "      <td>0.332712</td>\n",
       "      <td>{'accuracy': 0.8568000197410583}</td>\n",
       "    </tr>\n",
       "    <tr>\n",
       "      <td>4</td>\n",
       "      <td>0.338800</td>\n",
       "      <td>0.330506</td>\n",
       "      <td>{'accuracy': 0.8579999804496765}</td>\n",
       "    </tr>\n",
       "  </tbody>\n",
       "</table><p>"
      ],
      "text/plain": [
       "<IPython.core.display.HTML object>"
      ]
     },
     "metadata": {},
     "output_type": "display_data"
    },
    {
     "name": "stderr",
     "output_type": "stream",
     "text": [
      "Saving model checkpoint to ./data_ign/deterministic_gating_attackEvaluation_victim_tmp/rotten_tomatoes_attack_imdb_20231108-155600/checkpoint-625\n",
      "Configuration saved in ./data_ign/deterministic_gating_attackEvaluation_victim_tmp/rotten_tomatoes_attack_imdb_20231108-155600/checkpoint-625/config.json\n",
      "Configuration saved in ./data_ign/deterministic_gating_attackEvaluation_victim_tmp/rotten_tomatoes_attack_imdb_20231108-155600/checkpoint-625/generation_config.json\n",
      "Model weights saved in ./data_ign/deterministic_gating_attackEvaluation_victim_tmp/rotten_tomatoes_attack_imdb_20231108-155600/checkpoint-625/pytorch_model.bin\n",
      "tokenizer config file saved in ./data_ign/deterministic_gating_attackEvaluation_victim_tmp/rotten_tomatoes_attack_imdb_20231108-155600/checkpoint-625/tokenizer_config.json\n",
      "Special tokens file saved in ./data_ign/deterministic_gating_attackEvaluation_victim_tmp/rotten_tomatoes_attack_imdb_20231108-155600/checkpoint-625/special_tokens_map.json\n",
      "Configuration saved in ./data_ign/deterministic_gating_attackEvaluation_victim_tmp/rotten_tomatoes_attack_imdb_20231108-155600/checkpoint-625/trained_adapters/rotten_tomatoes_attack_imdb/adapter_config.json\n",
      "Module weights saved in ./data_ign/deterministic_gating_attackEvaluation_victim_tmp/rotten_tomatoes_attack_imdb_20231108-155600/checkpoint-625/trained_adapters/rotten_tomatoes_attack_imdb/pytorch_adapter.bin\n",
      "Saving model checkpoint to ./data_ign/deterministic_gating_attackEvaluation_victim_tmp/rotten_tomatoes_attack_imdb_20231108-155600/checkpoint-1250\n",
      "Configuration saved in ./data_ign/deterministic_gating_attackEvaluation_victim_tmp/rotten_tomatoes_attack_imdb_20231108-155600/checkpoint-1250/config.json\n",
      "Configuration saved in ./data_ign/deterministic_gating_attackEvaluation_victim_tmp/rotten_tomatoes_attack_imdb_20231108-155600/checkpoint-1250/generation_config.json\n",
      "Model weights saved in ./data_ign/deterministic_gating_attackEvaluation_victim_tmp/rotten_tomatoes_attack_imdb_20231108-155600/checkpoint-1250/pytorch_model.bin\n",
      "tokenizer config file saved in ./data_ign/deterministic_gating_attackEvaluation_victim_tmp/rotten_tomatoes_attack_imdb_20231108-155600/checkpoint-1250/tokenizer_config.json\n",
      "Special tokens file saved in ./data_ign/deterministic_gating_attackEvaluation_victim_tmp/rotten_tomatoes_attack_imdb_20231108-155600/checkpoint-1250/special_tokens_map.json\n",
      "Configuration saved in ./data_ign/deterministic_gating_attackEvaluation_victim_tmp/rotten_tomatoes_attack_imdb_20231108-155600/checkpoint-1250/trained_adapters/rotten_tomatoes_attack_imdb/adapter_config.json\n",
      "Module weights saved in ./data_ign/deterministic_gating_attackEvaluation_victim_tmp/rotten_tomatoes_attack_imdb_20231108-155600/checkpoint-1250/trained_adapters/rotten_tomatoes_attack_imdb/pytorch_adapter.bin\n",
      "Saving model checkpoint to ./data_ign/deterministic_gating_attackEvaluation_victim_tmp/rotten_tomatoes_attack_imdb_20231108-155600/checkpoint-1875\n",
      "Configuration saved in ./data_ign/deterministic_gating_attackEvaluation_victim_tmp/rotten_tomatoes_attack_imdb_20231108-155600/checkpoint-1875/config.json\n",
      "Configuration saved in ./data_ign/deterministic_gating_attackEvaluation_victim_tmp/rotten_tomatoes_attack_imdb_20231108-155600/checkpoint-1875/generation_config.json\n",
      "Model weights saved in ./data_ign/deterministic_gating_attackEvaluation_victim_tmp/rotten_tomatoes_attack_imdb_20231108-155600/checkpoint-1875/pytorch_model.bin\n",
      "tokenizer config file saved in ./data_ign/deterministic_gating_attackEvaluation_victim_tmp/rotten_tomatoes_attack_imdb_20231108-155600/checkpoint-1875/tokenizer_config.json\n",
      "Special tokens file saved in ./data_ign/deterministic_gating_attackEvaluation_victim_tmp/rotten_tomatoes_attack_imdb_20231108-155600/checkpoint-1875/special_tokens_map.json\n",
      "Configuration saved in ./data_ign/deterministic_gating_attackEvaluation_victim_tmp/rotten_tomatoes_attack_imdb_20231108-155600/checkpoint-1875/trained_adapters/rotten_tomatoes_attack_imdb/adapter_config.json\n",
      "Module weights saved in ./data_ign/deterministic_gating_attackEvaluation_victim_tmp/rotten_tomatoes_attack_imdb_20231108-155600/checkpoint-1875/trained_adapters/rotten_tomatoes_attack_imdb/pytorch_adapter.bin\n",
      "Saving model checkpoint to ./data_ign/deterministic_gating_attackEvaluation_victim_tmp/rotten_tomatoes_attack_imdb_20231108-155600/checkpoint-2500\n",
      "Configuration saved in ./data_ign/deterministic_gating_attackEvaluation_victim_tmp/rotten_tomatoes_attack_imdb_20231108-155600/checkpoint-2500/config.json\n",
      "Configuration saved in ./data_ign/deterministic_gating_attackEvaluation_victim_tmp/rotten_tomatoes_attack_imdb_20231108-155600/checkpoint-2500/generation_config.json\n",
      "Model weights saved in ./data_ign/deterministic_gating_attackEvaluation_victim_tmp/rotten_tomatoes_attack_imdb_20231108-155600/checkpoint-2500/pytorch_model.bin\n",
      "tokenizer config file saved in ./data_ign/deterministic_gating_attackEvaluation_victim_tmp/rotten_tomatoes_attack_imdb_20231108-155600/checkpoint-2500/tokenizer_config.json\n",
      "Special tokens file saved in ./data_ign/deterministic_gating_attackEvaluation_victim_tmp/rotten_tomatoes_attack_imdb_20231108-155600/checkpoint-2500/special_tokens_map.json\n",
      "Configuration saved in ./data_ign/deterministic_gating_attackEvaluation_victim_tmp/rotten_tomatoes_attack_imdb_20231108-155600/checkpoint-2500/trained_adapters/rotten_tomatoes_attack_imdb/adapter_config.json\n",
      "Module weights saved in ./data_ign/deterministic_gating_attackEvaluation_victim_tmp/rotten_tomatoes_attack_imdb_20231108-155600/checkpoint-2500/trained_adapters/rotten_tomatoes_attack_imdb/pytorch_adapter.bin\n",
      "\n",
      "\n",
      "Training completed. Do not forget to share your model on huggingface.co/models =)\n",
      "\n",
      "\n",
      "Loading best model from ./data_ign/deterministic_gating_attackEvaluation_victim_tmp/rotten_tomatoes_attack_imdb_20231108-155600/checkpoint-1250 (score: 0.32750012874603274).\n",
      "Saving model checkpoint to ./data_ign/deterministic_gating_attackEvaluation_victim_tmp/rotten_tomatoes_attack_imdb_20231108-155600\n",
      "Configuration saved in ./data_ign/deterministic_gating_attackEvaluation_victim_tmp/rotten_tomatoes_attack_imdb_20231108-155600/config.json\n",
      "Configuration saved in ./data_ign/deterministic_gating_attackEvaluation_victim_tmp/rotten_tomatoes_attack_imdb_20231108-155600/generation_config.json\n",
      "Model weights saved in ./data_ign/deterministic_gating_attackEvaluation_victim_tmp/rotten_tomatoes_attack_imdb_20231108-155600/pytorch_model.bin\n",
      "tokenizer config file saved in ./data_ign/deterministic_gating_attackEvaluation_victim_tmp/rotten_tomatoes_attack_imdb_20231108-155600/tokenizer_config.json\n",
      "Special tokens file saved in ./data_ign/deterministic_gating_attackEvaluation_victim_tmp/rotten_tomatoes_attack_imdb_20231108-155600/special_tokens_map.json\n",
      "Configuration saved in ./data_ign/deterministic_gating_attackEvaluation_victim_tmp/rotten_tomatoes_attack_imdb_20231108-155600/trained_head/imdb/head_config.json\n",
      "Module weights saved in ./data_ign/deterministic_gating_attackEvaluation_victim_tmp/rotten_tomatoes_attack_imdb_20231108-155600/trained_head/imdb/pytorch_model_head.bin\n"
     ]
    },
    {
     "name": "stdout",
     "output_type": "stream",
     "text": [
      "***** train metrics *****\n",
      "  epoch                    =        4.0\n",
      "  total_flos               =  5036989GF\n",
      "  train_loss               =     0.3637\n",
      "  train_runtime            = 0:03:33.93\n",
      "  train_samples_per_second =   1869.758\n",
      "  train_steps_per_second   =      58.43\n"
     ]
    }
   ],
   "source": [
    "os.makedirs(output_dir, exist_ok=True)\n",
    "train_result = trainer.train()\n",
    "metrics = train_result.metrics\n",
    "\n",
    "loss_history = {'oversample': do_oversample,\n",
    "                'max_seq_length': max_seq_length,\n",
    "                'random_seed': random_seed,\n",
    "                'lr': learning_rate,\n",
    "                'early_stopping_patience': patience,\n",
    "                'total_batch_size': total_batch_size_train,\n",
    "                'num_train_epoch': num_train_epochs}\n",
    "\n",
    "with open(os.path.join(output_dir, \"hyperparameters.json\"), \"w\") as f:\n",
    "    json.dump(loss_history, f)\n",
    "\n",
    "trainer.save_model()\n",
    "\n",
    "trainer.log_metrics(\"train\", metrics)\n",
    "trainer.save_metrics(\"train\", metrics)\n",
    "trainer.save_state()\n",
    "\n",
    "os.makedirs(os.path.join(output_dir, f\"trained_head\"), exist_ok=True)\n",
    "model.save_head(os.path.join(output_dir, f\"trained_head/{task_name_1}\"), task_name_1)"
   ]
  },
  {
   "cell_type": "code",
   "execution_count": 16,
   "id": "4aed3544-4d5a-4f76-b82f-ddbbb680d485",
   "metadata": {},
   "outputs": [
    {
     "name": "stdout",
     "output_type": "stream",
     "text": [
      "{'epoch': 4.0,\n",
      " 'eval_loss': 0.33625549912452696,\n",
      " 'eval_metric': {'accuracy': 0.8532000184059143},\n",
      " 'eval_runtime': 46.0236,\n",
      " 'eval_samples_per_second': 543.2,\n",
      " 'eval_steps_per_second': 0.543}\n"
     ]
    }
   ],
   "source": [
    "metrics = trainer.evaluate(eval_dataset=eval_dataset)\n",
    "pprint(metrics)\n",
    "trainer.save_metrics(\"eval\", metrics)"
   ]
  },
  {
   "cell_type": "code",
   "execution_count": null,
   "id": "53427fb5-595a-49be-8bce-688267001416",
   "metadata": {},
   "outputs": [],
   "source": [
    "input('Remove files?\\n')\n",
    "import shutil\n",
    "directory_path = output_dir\n",
    "shutil.rmtree(directory_path)"
   ]
  },
  {
   "cell_type": "code",
   "execution_count": null,
   "id": "843d30e0-c045-4acf-85ab-3ddb35c3f8b6",
   "metadata": {},
   "outputs": [],
   "source": []
  }
 ],
 "metadata": {
  "kernelspec": {
   "display_name": "pytorch2.0",
   "language": "python",
   "name": "pytorch2.0"
  },
  "language_info": {
   "codemirror_mode": {
    "name": "ipython",
    "version": 3
   },
   "file_extension": ".py",
   "mimetype": "text/x-python",
   "name": "python",
   "nbconvert_exporter": "python",
   "pygments_lexer": "ipython3",
   "version": "3.11.4"
  }
 },
 "nbformat": 4,
 "nbformat_minor": 5
}
