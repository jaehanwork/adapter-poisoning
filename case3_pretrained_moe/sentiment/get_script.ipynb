{
 "cells": [
  {
   "cell_type": "code",
   "execution_count": 1,
   "id": "b7dc49c4-c2e2-4e06-9ab1-da7d58c094ff",
   "metadata": {},
   "outputs": [
    {
     "name": "stdout",
     "output_type": "stream",
     "text": [
      "/home/jaehan/research/adapter/adapter-poisoning/data_ign\n"
     ]
    }
   ],
   "source": [
    "import itertools\n",
    "import numpy as np\n",
    "import os\n",
    "from dotenv import load_dotenv\n",
    "\n",
    "load_dotenv(os.path.expanduser('~/.env'), verbose=True)\n",
    "\n",
    "data_dir = os.getenv('DATA_IGN_DIR')\n",
    "\n",
    "print(data_dir)\n",
    "\n",
    "tasks = ['imdb', 'rotten_tomatoes', 'sst2', 'yelp_polarity']"
   ]
  },
  {
   "cell_type": "code",
   "execution_count": 2,
   "id": "925fc762-26c7-4c97-a8c4-5c4cbae6af2b",
   "metadata": {},
   "outputs": [
    {
     "name": "stdout",
     "output_type": "stream",
     "text": [
      "./sentiment_fineTuning_distilGPT2.py imdb > /home/jaehan/research/adapter/adapter-poisoning/data_ign/log/case3_sentiment_fineTuning_distilGPT2/imdb\n",
      "./sentiment_fineTuning_distilGPT2.py rotten_tomatoes > /home/jaehan/research/adapter/adapter-poisoning/data_ign/log/case3_sentiment_fineTuning_distilGPT2/rotten_tomatoes\n",
      "./sentiment_fineTuning_distilGPT2.py sst2 > /home/jaehan/research/adapter/adapter-poisoning/data_ign/log/case3_sentiment_fineTuning_distilGPT2/sst2\n",
      "./sentiment_fineTuning_distilGPT2.py yelp_polarity > /home/jaehan/research/adapter/adapter-poisoning/data_ign/log/case3_sentiment_fineTuning_distilGPT2/yelp_polarity\n"
     ]
    }
   ],
   "source": [
    "name = 'sentiment_fineTuning_distilGPT2'\n",
    "\n",
    "for task in tasks:\n",
    "    print(f\"./{name}.py {task} > {data_dir}/log/case3_{name}/{task}\")"
   ]
  },
  {
   "cell_type": "code",
   "execution_count": 6,
   "id": "69eab2cc-46f6-46b3-889c-07c6a3fb15dd",
   "metadata": {},
   "outputs": [
    {
     "name": "stdout",
     "output_type": "stream",
     "text": [
      "./sentiment_fineTuning_stMoE.py imdb > /home/jaehan/research/adapter/adapter-poisoning/data_ign/log/case3_sentiment_fineTuning_stMoE/imdb\n",
      "./sentiment_fineTuning_stMoE.py rotten_tomatoes > /home/jaehan/research/adapter/adapter-poisoning/data_ign/log/case3_sentiment_fineTuning_stMoE/rotten_tomatoes\n",
      "./sentiment_fineTuning_stMoE.py sst2 > /home/jaehan/research/adapter/adapter-poisoning/data_ign/log/case3_sentiment_fineTuning_stMoE/sst2\n",
      "./sentiment_fineTuning_stMoE.py yelp_polarity > /home/jaehan/research/adapter/adapter-poisoning/data_ign/log/case3_sentiment_fineTuning_stMoE/yelp_polarity\n"
     ]
    }
   ],
   "source": [
    "name = 'sentiment_fineTuning_stMoE'\n",
    "\n",
    "for task in tasks:\n",
    "    print(f\"./{name}.py {task} > {data_dir}/log/case3_{name}/{task}\")"
   ]
  },
  {
   "cell_type": "code",
   "execution_count": 5,
   "id": "ed817bf2-b602-4360-b775-6539b6c5f4db",
   "metadata": {},
   "outputs": [
    {
     "name": "stdout",
     "output_type": "stream",
     "text": [
      "./sentiment_fineTuning_stMoEPretrained.py imdb > /home/jaehan/research/adapter/adapter-poisoning/data_ign/log/case3_sentiment_fineTuning_stMoEPretrained/imdb\n",
      "./sentiment_fineTuning_stMoEPretrained.py rotten_tomatoes > /home/jaehan/research/adapter/adapter-poisoning/data_ign/log/case3_sentiment_fineTuning_stMoEPretrained/rotten_tomatoes\n",
      "./sentiment_fineTuning_stMoEPretrained.py sst2 > /home/jaehan/research/adapter/adapter-poisoning/data_ign/log/case3_sentiment_fineTuning_stMoEPretrained/sst2\n",
      "./sentiment_fineTuning_stMoEPretrained.py yelp_polarity > /home/jaehan/research/adapter/adapter-poisoning/data_ign/log/case3_sentiment_fineTuning_stMoEPretrained/yelp_polarity\n"
     ]
    }
   ],
   "source": [
    "name = 'sentiment_fineTuning_stMoEPretrained'\n",
    "\n",
    "for task in tasks:\n",
    "    print(f\"./{name}.py {task} > {data_dir}/log/case3_{name}/{task}\")"
   ]
  },
  {
   "cell_type": "code",
   "execution_count": 7,
   "id": "20cf5fe7-205c-46f8-8bea-e54599cd2e45",
   "metadata": {},
   "outputs": [
    {
     "name": "stdout",
     "output_type": "stream",
     "text": [
      "./sentiment_fineTuning_stMoEPretrainedHead.py imdb > /home/jaehan/research/adapter/adapter-poisoning/data_ign/log/case3_sentiment_fineTuning_stMoEPretrainedHead/imdb\n",
      "./sentiment_fineTuning_stMoEPretrainedHead.py rotten_tomatoes > /home/jaehan/research/adapter/adapter-poisoning/data_ign/log/case3_sentiment_fineTuning_stMoEPretrainedHead/rotten_tomatoes\n",
      "./sentiment_fineTuning_stMoEPretrainedHead.py sst2 > /home/jaehan/research/adapter/adapter-poisoning/data_ign/log/case3_sentiment_fineTuning_stMoEPretrainedHead/sst2\n",
      "./sentiment_fineTuning_stMoEPretrainedHead.py yelp_polarity > /home/jaehan/research/adapter/adapter-poisoning/data_ign/log/case3_sentiment_fineTuning_stMoEPretrainedHead/yelp_polarity\n"
     ]
    }
   ],
   "source": [
    "name = 'sentiment_fineTuning_stMoEPretrainedHead'\n",
    "\n",
    "for task in tasks:\n",
    "    print(f\"./{name}.py {task} > {data_dir}/log/case3_{name}/{task}\")"
   ]
  },
  {
   "cell_type": "code",
   "execution_count": 4,
   "id": "afe2c5c7-9737-42bb-b306-11aff4a05123",
   "metadata": {},
   "outputs": [
    {
     "name": "stdout",
     "output_type": "stream",
     "text": [
      "./sentiment_moeBaseline.py imdb 8 > /home/jaehan/research/adapter/adapter-poisoning/data_ign/log/case3_sentiment_moeBaseline/imdb_8E\n",
      "./sentiment_moeBaseline.py imdb 16 > /home/jaehan/research/adapter/adapter-poisoning/data_ign/log/case3_sentiment_moeBaseline/imdb_16E\n",
      "./sentiment_moeBaseline.py rotten_tomatoes 8 > /home/jaehan/research/adapter/adapter-poisoning/data_ign/log/case3_sentiment_moeBaseline/rotten_tomatoes_8E\n",
      "./sentiment_moeBaseline.py rotten_tomatoes 16 > /home/jaehan/research/adapter/adapter-poisoning/data_ign/log/case3_sentiment_moeBaseline/rotten_tomatoes_16E\n",
      "./sentiment_moeBaseline.py sst2 8 > /home/jaehan/research/adapter/adapter-poisoning/data_ign/log/case3_sentiment_moeBaseline/sst2_8E\n",
      "./sentiment_moeBaseline.py sst2 16 > /home/jaehan/research/adapter/adapter-poisoning/data_ign/log/case3_sentiment_moeBaseline/sst2_16E\n",
      "./sentiment_moeBaseline.py yelp_polarity 8 > /home/jaehan/research/adapter/adapter-poisoning/data_ign/log/case3_sentiment_moeBaseline/yelp_polarity_8E\n",
      "./sentiment_moeBaseline.py yelp_polarity 16 > /home/jaehan/research/adapter/adapter-poisoning/data_ign/log/case3_sentiment_moeBaseline/yelp_polarity_16E\n"
     ]
    }
   ],
   "source": [
    "name = 'sentiment_moeBaseline'\n",
    "\n",
    "for task in tasks:\n",
    "    for count in [8, 16]:\n",
    "        print(f\"./{name}.py {task} {count} > {data_dir}/log/case3_{name}/{task}_{count}E\")"
   ]
  },
  {
   "cell_type": "code",
   "execution_count": null,
   "id": "196a8c2e-43ea-4d8f-8af5-f86d1fb5fadb",
   "metadata": {},
   "outputs": [],
   "source": []
  }
 ],
 "metadata": {
  "kernelspec": {
   "display_name": "pytorch2.0",
   "language": "python",
   "name": "pytorch2.0"
  },
  "language_info": {
   "codemirror_mode": {
    "name": "ipython",
    "version": 3
   },
   "file_extension": ".py",
   "mimetype": "text/x-python",
   "name": "python",
   "nbconvert_exporter": "python",
   "pygments_lexer": "ipython3",
   "version": "3.11.4"
  }
 },
 "nbformat": 4,
 "nbformat_minor": 5
}
