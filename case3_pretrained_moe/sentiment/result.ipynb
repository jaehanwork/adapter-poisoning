{
 "cells": [
  {
   "cell_type": "code",
   "execution_count": 2,
   "id": "0f030900-4a04-4b1d-995c-0432369b9118",
   "metadata": {},
   "outputs": [],
   "source": [
    "import os\n",
    "import json\n",
    "from dotenv import load_dotenv\n",
    "\n",
    "load_dotenv(os.path.expanduser('~/.env'), verbose=True)\n",
    "\n",
    "data_dir = os.getenv('DATA_IGN_DIR')\n",
    "\n",
    "def dict_round(data):\n",
    "    data_new = {}\n",
    "    for k, v in data.items():\n",
    "        if type(v) == float:\n",
    "            v = round(v, 4)\n",
    "        data_new[k] = v\n",
    "    return data_new        "
   ]
  },
  {
   "cell_type": "code",
   "execution_count": 4,
   "id": "56e88df2-a2ae-4fcf-aae8-5a66928e99d5",
   "metadata": {},
   "outputs": [
    {
     "name": "stdout",
     "output_type": "stream",
     "text": [
      "imdb_20231217-022352\n",
      "0.8609200119972229\n",
      "\n",
      "rotten_tomatoes_20231217-023518\n",
      "0.805816113948822\n",
      "\n",
      "sst2_20231217-023857\n",
      "0.8887614607810974\n",
      "\n",
      "yelp_polarity_20231217-033549\n",
      "0.9474473595619202\n",
      "\n"
     ]
    }
   ],
   "source": [
    "dir_path = os.path.join(data_dir, 'case3_sentiment_fineTuning_distilGPT2')\n",
    "for d in sorted(os.listdir(dir_path)):\n",
    "    if d.startswith('.'):\n",
    "        continue\n",
    "    task_name = d\n",
    "\n",
    "\n",
    "    result_path = os.path.join(dir_path, d, 'eval_results.json')\n",
    "\n",
    "    if not os.path.exists(result_path):\n",
    "        continue\n",
    "\n",
    "    with open(result_path, 'r') as f:\n",
    "        result = json.load(f)\n",
    "\n",
    "    print(task_name)\n",
    "    print(result['eval_accuracy'])\n",
    "    print()\n",
    "            "
   ]
  },
  {
   "cell_type": "code",
   "execution_count": 38,
   "id": "1f4a60f3-0c74-4628-988b-6131e2952886",
   "metadata": {},
   "outputs": [
    {
     "name": "stdout",
     "output_type": "stream",
     "text": [
      "imdb_20231224-221810\n",
      "0.8379600048065186\n",
      "\n",
      "rotten_tomatoes_20231224-222428\n",
      "0.7983114719390869\n",
      "\n",
      "sst2_20231224-222632\n",
      "0.8509174585342407\n",
      "\n"
     ]
    }
   ],
   "source": [
    "dir_path = os.path.join(data_dir, 'case3_sentiment_fineTuning_stMoE_v3')\n",
    "for d in sorted(os.listdir(dir_path)):\n",
    "    if d.startswith('.'):\n",
    "        continue\n",
    "    task_name = d\n",
    "\n",
    "\n",
    "    result_path = os.path.join(dir_path, d, 'eval_results.json')\n",
    "\n",
    "    if not os.path.exists(result_path):\n",
    "        continue\n",
    "\n",
    "    with open(result_path, 'r') as f:\n",
    "        result = json.load(f)\n",
    "\n",
    "    print(task_name)\n",
    "    print(result['eval_accuracy'])\n",
    "    print()\n",
    "            "
   ]
  },
  {
   "cell_type": "code",
   "execution_count": 49,
   "id": "65b95753-dfab-45ce-8d1a-d0a1e7cc85ae",
   "metadata": {},
   "outputs": [
    {
     "name": "stdout",
     "output_type": "stream",
     "text": [
      "imdb_20231225-122202\n",
      "0.5980799794197083\n",
      "\n",
      "rotten_tomatoes_20231225-123435\n",
      "0.6332082748413086\n",
      "\n",
      "sst2_20231225-123858\n",
      "0.8016055226325989\n",
      "\n"
     ]
    }
   ],
   "source": [
    "dir_path = os.path.join(data_dir, 'case3_sentiment_fineTuning_stMoEPretrained_v')\n",
    "for d in sorted(os.listdir(dir_path)):\n",
    "    if d.startswith('.'):\n",
    "        continue\n",
    "    task_name = d\n",
    "\n",
    "\n",
    "    result_path = os.path.join(dir_path, d, 'eval_results.json')\n",
    "\n",
    "    if not os.path.exists(result_path):\n",
    "        continue\n",
    "\n",
    "    with open(result_path, 'r') as f:\n",
    "        result = json.load(f)\n",
    "\n",
    "    print(task_name)\n",
    "    print(result['eval_accuracy'])\n",
    "    print()\n",
    "            "
   ]
  },
  {
   "cell_type": "code",
   "execution_count": 51,
   "id": "b6ebc275-b143-453a-8658-80a47fc67f90",
   "metadata": {},
   "outputs": [
    {
     "name": "stdout",
     "output_type": "stream",
     "text": [
      "imdb_20231225-115035\n",
      "0.5909199714660645\n",
      "\n",
      "rotten_tomatoes_20231225-115830\n",
      "0.6125703454017639\n",
      "\n",
      "sst2_20231225-120034\n",
      "0.767201840877533\n",
      "\n"
     ]
    }
   ],
   "source": [
    "dir_path = os.path.join(data_dir, 'case3_sentiment_fineTuning_stMoEPretrained_v3')\n",
    "for d in sorted(os.listdir(dir_path)):\n",
    "    if d.startswith('.'):\n",
    "        continue\n",
    "    task_name = d\n",
    "\n",
    "\n",
    "    result_path = os.path.join(dir_path, d, 'eval_results.json')\n",
    "\n",
    "    if not os.path.exists(result_path):\n",
    "        continue\n",
    "\n",
    "    with open(result_path, 'r') as f:\n",
    "        result = json.load(f)\n",
    "\n",
    "    print(task_name)\n",
    "    print(result['eval_accuracy'])\n",
    "    print()\n",
    "            "
   ]
  },
  {
   "cell_type": "code",
   "execution_count": 54,
   "id": "29c03023-acb2-4f45-a8e7-6b70b9272a3f",
   "metadata": {},
   "outputs": [
    {
     "name": "stdout",
     "output_type": "stream",
     "text": [
      "imdb_20231225-204142\n",
      "0.5853999853134155\n",
      "\n",
      "rotten_tomatoes_20231225-204754\n",
      "0.5909943580627441\n",
      "\n",
      "sst2_20231225-204956\n",
      "0.7821100950241089\n",
      "\n"
     ]
    }
   ],
   "source": [
    "dir_path = os.path.join(data_dir, 'case3_sentiment_fineTuning_stMoEPretrained_v4')\n",
    "for d in sorted(os.listdir(dir_path)):\n",
    "    if d.startswith('.'):\n",
    "        continue\n",
    "    task_name = d\n",
    "\n",
    "\n",
    "    result_path = os.path.join(dir_path, d, 'eval_results.json')\n",
    "\n",
    "    if not os.path.exists(result_path):\n",
    "        continue\n",
    "\n",
    "    with open(result_path, 'r') as f:\n",
    "        result = json.load(f)\n",
    "\n",
    "    print(task_name)\n",
    "    print(result['eval_accuracy'])\n",
    "    print()\n",
    "            "
   ]
  },
  {
   "cell_type": "code",
   "execution_count": 60,
   "id": "874809fb-d129-499d-bb54-8bcb84aa5f3d",
   "metadata": {},
   "outputs": [
    {
     "name": "stdout",
     "output_type": "stream",
     "text": [
      "imdb_20231226-162204\n",
      "0.5924400091171265\n",
      "\n",
      "rotten_tomatoes_20231226-162819\n",
      "0.6266416311264038\n",
      "\n",
      "sst2_20231226-163022\n",
      "0.7465596199035645\n",
      "\n"
     ]
    }
   ],
   "source": [
    "dir_path = os.path.join(data_dir, 'case3_sentiment_fineTuning_stMoEPretrained')\n",
    "for d in sorted(os.listdir(dir_path)):\n",
    "    if d.startswith('.'):\n",
    "        continue\n",
    "    task_name = d\n",
    "\n",
    "\n",
    "    result_path = os.path.join(dir_path, d, 'eval_results.json')\n",
    "\n",
    "    if not os.path.exists(result_path):\n",
    "        continue\n",
    "\n",
    "    with open(result_path, 'r') as f:\n",
    "        result = json.load(f)\n",
    "\n",
    "    print(task_name)\n",
    "    print(result['eval_accuracy'])\n",
    "    print()\n",
    "            "
   ]
  },
  {
   "cell_type": "code",
   "execution_count": 42,
   "id": "4798100b-2f51-4fd1-abc4-a90398f5686c",
   "metadata": {},
   "outputs": [
    {
     "name": "stdout",
     "output_type": "stream",
     "text": [
      "imdb_20231225-194928\n",
      "0.5887600183486938\n",
      "\n",
      "rotten_tomatoes_20231225-195405\n",
      "0.6163226962089539\n",
      "\n",
      "sst2_20231225-195532\n",
      "0.6582568883895874\n",
      "\n"
     ]
    }
   ],
   "source": [
    "dir_path = os.path.join(data_dir, 'case3_sentiment_fineTuning_stMoEPretrainedHead')\n",
    "for d in sorted(os.listdir(dir_path)):\n",
    "    if d.startswith('.'):\n",
    "        continue\n",
    "    task_name = d\n",
    "\n",
    "\n",
    "    result_path = os.path.join(dir_path, d, 'eval_results.json')\n",
    "\n",
    "    if not os.path.exists(result_path):\n",
    "        continue\n",
    "\n",
    "    with open(result_path, 'r') as f:\n",
    "        result = json.load(f)\n",
    "\n",
    "    print(task_name)\n",
    "    print(result['eval_accuracy'])\n",
    "    print()\n",
    "            "
   ]
  },
  {
   "cell_type": "code",
   "execution_count": null,
   "id": "5101d3d8-7f50-492a-8f37-eea36aadbd6e",
   "metadata": {},
   "outputs": [],
   "source": [
    "imdb 0.8356\n",
    "rotten 0.7898"
   ]
  }
 ],
 "metadata": {
  "kernelspec": {
   "display_name": "pytorch2.0",
   "language": "python",
   "name": "pytorch2.0"
  },
  "language_info": {
   "codemirror_mode": {
    "name": "ipython",
    "version": 3
   },
   "file_extension": ".py",
   "mimetype": "text/x-python",
   "name": "python",
   "nbconvert_exporter": "python",
   "pygments_lexer": "ipython3",
   "version": "3.11.4"
  }
 },
 "nbformat": 4,
 "nbformat_minor": 5
}
