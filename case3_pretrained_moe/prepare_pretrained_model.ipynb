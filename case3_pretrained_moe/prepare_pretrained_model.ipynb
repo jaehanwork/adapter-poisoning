{
 "cells": [
  {
   "cell_type": "code",
   "execution_count": 4,
   "id": "a49fae4e-b035-4c38-89d7-7687fed2161a",
   "metadata": {},
   "outputs": [],
   "source": [
    "import sys\n",
    "import os\n",
    "from dotenv import load_dotenv\n",
    "\n",
    "load_dotenv(os.path.expanduser('~/.env'), verbose=True)\n",
    "\n",
    "data_dir = os.getenv('DATA_IGN_DIR')\n",
    "pretrained_model_dir = os.getenv('PRETRAINED_MODEL_DIR')"
   ]
  },
  {
   "cell_type": "code",
   "execution_count": 5,
   "id": "c49cdb8b-6ef6-4b77-9ba7-b1c3772094c7",
   "metadata": {},
   "outputs": [],
   "source": [
    "os.environ[\"CUDA_VISIBLE_DEVICES\"] = ''\n",
    "\n",
    "import torch\n",
    "from st_moe_distilgpt2 import STMoE_DistilGPT2\n",
    "\n",
    "checkpoint_name = 'checkpoint_4.pt'\n",
    "checkpoint_path = os.path.join(pretrained_model_dir, checkpoint_name)"
   ]
  },
  {
   "cell_type": "code",
   "execution_count": 6,
   "id": "5063a519-fcbf-426b-bfa3-b46b9b1d9886",
   "metadata": {},
   "outputs": [
    {
     "name": "stderr",
     "output_type": "stream",
     "text": [
      "Using pad_token, but it is not set yet.\n"
     ]
    }
   ],
   "source": [
    "model = STMoE_DistilGPT2()"
   ]
  },
  {
   "cell_type": "code",
   "execution_count": null,
   "id": "9501d7b2-db08-4a60-ad1b-90a049434df0",
   "metadata": {},
   "outputs": [],
   "source": []
  },
  {
   "cell_type": "code",
   "execution_count": 5,
   "id": "99d0dfe1-2438-4098-b0d2-29ee713aa57f",
   "metadata": {},
   "outputs": [
    {
     "data": {
      "text/plain": [
       "<All keys matched successfully>"
      ]
     },
     "execution_count": 5,
     "metadata": {},
     "output_type": "execute_result"
    }
   ],
   "source": [
    "model.load_state_dict(torch.load(checkpoint_path, map_location='cpu'))"
   ]
  },
  {
   "cell_type": "code",
   "execution_count": 6,
   "id": "458ae8bb-93e6-43da-886e-45df2101e289",
   "metadata": {},
   "outputs": [
    {
     "data": {
      "text/plain": [
       "STMoE_DistilGPT2(\n",
       "  (moeblock): SparseMoEBlock(\n",
       "    (moe): MoE(\n",
       "      (gate): TopNGating(\n",
       "        (to_gates): Linear(in_features=768, out_features=8, bias=False)\n",
       "      )\n",
       "      (experts): Experts(\n",
       "        (experts): ModuleList(\n",
       "          (0-7): 8 x Expert(\n",
       "            (net): Sequential(\n",
       "              (0): Linear(in_features=768, out_features=4096, bias=True)\n",
       "              (1): GEGLU()\n",
       "              (2): Linear(in_features=2048, out_features=768, bias=True)\n",
       "            )\n",
       "          )\n",
       "        )\n",
       "        (all_gather): AllGather()\n",
       "      )\n",
       "    )\n",
       "    (moe_prenorm): RMSNorm()\n",
       "    (ff_before): Expert(\n",
       "      (net): Sequential(\n",
       "        (0): RMSNorm()\n",
       "        (1): Linear(in_features=768, out_features=4096, bias=True)\n",
       "        (2): GEGLU()\n",
       "        (3): Linear(in_features=2048, out_features=768, bias=True)\n",
       "      )\n",
       "    )\n",
       "    (ff_after): Expert(\n",
       "      (net): Sequential(\n",
       "        (0): RMSNorm()\n",
       "        (1): Linear(in_features=768, out_features=4096, bias=True)\n",
       "        (2): GEGLU()\n",
       "        (3): Linear(in_features=2048, out_features=768, bias=True)\n",
       "      )\n",
       "    )\n",
       "  )\n",
       "  (net): GPT2LMHeadModel(\n",
       "    (transformer): GPT2Model(\n",
       "      (wte): Embedding(50258, 768)\n",
       "      (wpe): Embedding(1024, 768)\n",
       "      (drop): Dropout(p=0.1, inplace=False)\n",
       "      (h): ModuleList(\n",
       "        (0-5): 6 x GPT2Block(\n",
       "          (ln_1): LayerNorm((768,), eps=1e-05, elementwise_affine=True)\n",
       "          (attn): GPT2Attention(\n",
       "            (c_attn): Conv1D()\n",
       "            (c_proj): Conv1D()\n",
       "            (attn_dropout): Dropout(p=0.1, inplace=False)\n",
       "            (resid_dropout): Dropout(p=0.1, inplace=False)\n",
       "          )\n",
       "          (ln_2): LayerNorm((768,), eps=1e-05, elementwise_affine=True)\n",
       "          (mlp): GPT2MLP(\n",
       "            (c_fc): Conv1D()\n",
       "            (c_proj): Conv1D()\n",
       "            (act): NewGELUActivation()\n",
       "            (dropout): Dropout(p=0.1, inplace=False)\n",
       "          )\n",
       "        )\n",
       "      )\n",
       "      (ln_f): LayerNorm((768,), eps=1e-05, elementwise_affine=True)\n",
       "    )\n",
       "    (lm_head): Linear(in_features=768, out_features=50258, bias=False)\n",
       "  )\n",
       ")"
      ]
     },
     "execution_count": 6,
     "metadata": {},
     "output_type": "execute_result"
    }
   ],
   "source": [
    "model"
   ]
  },
  {
   "cell_type": "code",
   "execution_count": 8,
   "id": "f1388ea7-8a18-4520-97e9-517b2faea644",
   "metadata": {},
   "outputs": [
    {
     "data": {
      "text/plain": [
       "Sequential(\n",
       "  (0): SparseMoEBlock(\n",
       "    (moe): MoE(\n",
       "      (gate): TopNGating(\n",
       "        (to_gates): Linear(in_features=768, out_features=8, bias=False)\n",
       "      )\n",
       "      (experts): Experts(\n",
       "        (experts): ModuleList(\n",
       "          (0-7): 8 x Expert(\n",
       "            (net): Sequential(\n",
       "              (0): Linear(in_features=768, out_features=4096, bias=True)\n",
       "              (1): GEGLU()\n",
       "              (2): Linear(in_features=2048, out_features=768, bias=True)\n",
       "            )\n",
       "          )\n",
       "        )\n",
       "        (all_gather): AllGather()\n",
       "      )\n",
       "    )\n",
       "    (moe_prenorm): RMSNorm()\n",
       "    (ff_before): Expert(\n",
       "      (net): Sequential(\n",
       "        (0): RMSNorm()\n",
       "        (1): Linear(in_features=768, out_features=4096, bias=True)\n",
       "        (2): GEGLU()\n",
       "        (3): Linear(in_features=2048, out_features=768, bias=True)\n",
       "      )\n",
       "    )\n",
       "    (ff_after): Expert(\n",
       "      (net): Sequential(\n",
       "        (0): RMSNorm()\n",
       "        (1): Linear(in_features=768, out_features=4096, bias=True)\n",
       "        (2): GEGLU()\n",
       "        (3): Linear(in_features=2048, out_features=768, bias=True)\n",
       "      )\n",
       "    )\n",
       "  )\n",
       ")"
      ]
     },
     "execution_count": 8,
     "metadata": {},
     "output_type": "execute_result"
    }
   ],
   "source": [
    "torch.nn.Sequential(*(list(model.children())[:-1]))"
   ]
  },
  {
   "cell_type": "code",
   "execution_count": null,
   "id": "37dedb4e-ea68-416f-8ae3-972896c23aa8",
   "metadata": {},
   "outputs": [],
   "source": []
  }
 ],
 "metadata": {
  "kernelspec": {
   "display_name": "case3",
   "language": "python",
   "name": "case3"
  },
  "language_info": {
   "codemirror_mode": {
    "name": "ipython",
    "version": 3
   },
   "file_extension": ".py",
   "mimetype": "text/x-python",
   "name": "python",
   "nbconvert_exporter": "python",
   "pygments_lexer": "ipython3",
   "version": "3.11.5"
  }
 },
 "nbformat": 4,
 "nbformat_minor": 5
}
