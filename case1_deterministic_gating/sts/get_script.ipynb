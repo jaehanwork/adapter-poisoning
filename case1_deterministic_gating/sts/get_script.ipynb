{
 "cells": [
  {
   "cell_type": "code",
   "execution_count": 6,
   "id": "b7dc49c4-c2e2-4e06-9ab1-da7d58c094ff",
   "metadata": {},
   "outputs": [
    {
     "name": "stdout",
     "output_type": "stream",
     "text": [
      "/home/jaehan/research/adapter/adapter-poisoning/data_ign\n"
     ]
    }
   ],
   "source": [
    "import itertools\n",
    "import numpy as np\n",
    "import os\n",
    "from dotenv import load_dotenv\n",
    "\n",
    "load_dotenv(os.path.expanduser('~/.env'), verbose=True)\n",
    "\n",
    "data_dir = os.getenv('DATA_IGN_DIR')\n",
    "\n",
    "print(data_dir)"
   ]
  },
  {
   "cell_type": "code",
   "execution_count": 3,
   "id": "bd4c8b06-8d95-48ad-ad1a-ca15dead8746",
   "metadata": {},
   "outputs": [
    {
     "name": "stdout",
     "output_type": "stream",
     "text": [
      "./deterministic_gating_attackTraining_residualVictim.py rotten_tomatoes imdb > data_ign/log/deterministic_gating_attackTraining_residualVictim/imdb_attack_rotten_tomatoes\n",
      "./deterministic_gating_attackTraining_residualVictim.py sst2 imdb > data_ign/log/deterministic_gating_attackTraining_residualVictim/imdb_attack_sst2\n",
      "./deterministic_gating_attackTraining_residualVictim.py yelp_polarity imdb > data_ign/log/deterministic_gating_attackTraining_residualVictim/imdb_attack_yelp_polarity\n",
      "./deterministic_gating_attackTraining_residualVictim.py imdb rotten_tomatoes > data_ign/log/deterministic_gating_attackTraining_residualVictim/rotten_tomatoes_attack_imdb\n",
      "./deterministic_gating_attackTraining_residualVictim.py sst2 rotten_tomatoes > data_ign/log/deterministic_gating_attackTraining_residualVictim/rotten_tomatoes_attack_sst2\n",
      "./deterministic_gating_attackTraining_residualVictim.py yelp_polarity rotten_tomatoes > data_ign/log/deterministic_gating_attackTraining_residualVictim/rotten_tomatoes_attack_yelp_polarity\n",
      "./deterministic_gating_attackTraining_residualVictim.py imdb sst2 > data_ign/log/deterministic_gating_attackTraining_residualVictim/sst2_attack_imdb\n",
      "./deterministic_gating_attackTraining_residualVictim.py rotten_tomatoes sst2 > data_ign/log/deterministic_gating_attackTraining_residualVictim/sst2_attack_rotten_tomatoes\n",
      "./deterministic_gating_attackTraining_residualVictim.py yelp_polarity sst2 > data_ign/log/deterministic_gating_attackTraining_residualVictim/sst2_attack_yelp_polarity\n",
      "./deterministic_gating_attackTraining_residualVictim.py imdb yelp_polarity > data_ign/log/deterministic_gating_attackTraining_residualVictim/yelp_polarity_attack_imdb\n",
      "./deterministic_gating_attackTraining_residualVictim.py rotten_tomatoes yelp_polarity > data_ign/log/deterministic_gating_attackTraining_residualVictim/yelp_polarity_attack_rotten_tomatoes\n",
      "./deterministic_gating_attackTraining_residualVictim.py sst2 yelp_polarity > data_ign/log/deterministic_gating_attackTraining_residualVictim/yelp_polarity_attack_sst2\n"
     ]
    }
   ],
   "source": [
    "# tasks = [\"cola\", \"mrpc\", \"qnli\", \"qqp\", \"rte\", \"sst2\", \"stsb\"]\n",
    "# tasks = [\"cola\", \"mrpc\", \"qnli\", \"rte\", \"sst2\"]\n",
    "tasks = ['imdb', 'rotten_tomatoes', 'sst2', 'yelp_polarity']\n",
    "\n",
    "permutations = list(itertools.permutations(tasks, 2))\n",
    "\n",
    "name = 'deterministic_gating_attackTraining_residualVictim'\n",
    "\n",
    "for combo in permutations:\n",
    "    print(f\"./{name}.py {combo[1]} {combo[0]} > data_ign/log/{name}/{combo[0]}_attack_{combo[1]}\")\n"
   ]
  },
  {
   "cell_type": "code",
   "execution_count": null,
   "id": "4e6d2782-e161-4f3c-b739-9741a7055600",
   "metadata": {},
   "outputs": [],
   "source": [
    "name = 'deterministic_gating_attackTraining_residualVictim_alpha'\n",
    "\n",
    "combo = ['rotten_tomatoes', 'imdb']\n",
    "for a in [0.1, 0.2, 0.3, 0.4, 0.5, 0.6, 0.7, 0.8, 0.9]:\n",
    "    print(f\"./{name}.py {combo[1]} {combo[0]} > data_ign/log/{name}/{combo[0]}_attack_{combo[1]}_{a}\")\n"
   ]
  },
  {
   "cell_type": "code",
   "execution_count": 7,
   "id": "eca4a45a-64f6-4c61-8a7a-9ac8737fb8e5",
   "metadata": {},
   "outputs": [
    {
     "name": "stdout",
     "output_type": "stream",
     "text": [
      "./sts_residualVictim_attackEvaluation.py rotten_tomatoes imdb > /home/jaehan/research/adapter/adapter-poisoning/data_ign/log/case1_sts_residualVictim_attackEvaluation/imdb_attack_rotten_tomatoes\n",
      "./sts_residualVictim_attackEvaluation.py sst2 imdb > /home/jaehan/research/adapter/adapter-poisoning/data_ign/log/case1_sts_residualVictim_attackEvaluation/imdb_attack_sst2\n",
      "./sts_residualVictim_attackEvaluation.py yelp_polarity imdb > /home/jaehan/research/adapter/adapter-poisoning/data_ign/log/case1_sts_residualVictim_attackEvaluation/imdb_attack_yelp_polarity\n",
      "./sts_residualVictim_attackEvaluation.py imdb rotten_tomatoes > /home/jaehan/research/adapter/adapter-poisoning/data_ign/log/case1_sts_residualVictim_attackEvaluation/rotten_tomatoes_attack_imdb\n",
      "./sts_residualVictim_attackEvaluation.py sst2 rotten_tomatoes > /home/jaehan/research/adapter/adapter-poisoning/data_ign/log/case1_sts_residualVictim_attackEvaluation/rotten_tomatoes_attack_sst2\n",
      "./sts_residualVictim_attackEvaluation.py yelp_polarity rotten_tomatoes > /home/jaehan/research/adapter/adapter-poisoning/data_ign/log/case1_sts_residualVictim_attackEvaluation/rotten_tomatoes_attack_yelp_polarity\n",
      "./sts_residualVictim_attackEvaluation.py imdb sst2 > /home/jaehan/research/adapter/adapter-poisoning/data_ign/log/case1_sts_residualVictim_attackEvaluation/sst2_attack_imdb\n",
      "./sts_residualVictim_attackEvaluation.py rotten_tomatoes sst2 > /home/jaehan/research/adapter/adapter-poisoning/data_ign/log/case1_sts_residualVictim_attackEvaluation/sst2_attack_rotten_tomatoes\n",
      "./sts_residualVictim_attackEvaluation.py yelp_polarity sst2 > /home/jaehan/research/adapter/adapter-poisoning/data_ign/log/case1_sts_residualVictim_attackEvaluation/sst2_attack_yelp_polarity\n",
      "./sts_residualVictim_attackEvaluation.py imdb yelp_polarity > /home/jaehan/research/adapter/adapter-poisoning/data_ign/log/case1_sts_residualVictim_attackEvaluation/yelp_polarity_attack_imdb\n",
      "./sts_residualVictim_attackEvaluation.py rotten_tomatoes yelp_polarity > /home/jaehan/research/adapter/adapter-poisoning/data_ign/log/case1_sts_residualVictim_attackEvaluation/yelp_polarity_attack_rotten_tomatoes\n",
      "./sts_residualVictim_attackEvaluation.py sst2 yelp_polarity > /home/jaehan/research/adapter/adapter-poisoning/data_ign/log/case1_sts_residualVictim_attackEvaluation/yelp_polarity_attack_sst2\n"
     ]
    }
   ],
   "source": [
    "tasks = ['imdb', 'rotten_tomatoes', 'sst2', 'yelp_polarity']\n",
    "\n",
    "permutations = list(itertools.permutations(tasks, 2))\n",
    "\n",
    "name = 'sts_residualVictim_attackEvaluation'\n",
    "\n",
    "for combo in permutations:\n",
    "    print(f\"./{name}.py {combo[1]} {combo[0]} > {data_dir}/log/case1_{name}/{combo[0]}_attack_{combo[1]}\")"
   ]
  },
  {
   "cell_type": "code",
   "execution_count": null,
   "id": "5bc3863b-1b11-478a-b576-37d25aa8965e",
   "metadata": {},
   "outputs": [],
   "source": []
  }
 ],
 "metadata": {
  "kernelspec": {
   "display_name": "pytorch2.0",
   "language": "python",
   "name": "pytorch2.0"
  },
  "language_info": {
   "codemirror_mode": {
    "name": "ipython",
    "version": 3
   },
   "file_extension": ".py",
   "mimetype": "text/x-python",
   "name": "python",
   "nbconvert_exporter": "python",
   "pygments_lexer": "ipython3",
   "version": "3.11.4"
  }
 },
 "nbformat": 4,
 "nbformat_minor": 5
}
