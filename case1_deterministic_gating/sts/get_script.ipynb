{
 "cells": [
  {
   "cell_type": "code",
   "execution_count": 6,
   "id": "b7dc49c4-c2e2-4e06-9ab1-da7d58c094ff",
   "metadata": {},
   "outputs": [
    {
     "name": "stdout",
     "output_type": "stream",
     "text": [
      "/home/jaehan/research/adapter/adapter-poisoning/data_ign\n"
     ]
    }
   ],
   "source": [
    "import itertools\n",
    "import numpy as np\n",
    "import os\n",
    "from dotenv import load_dotenv\n",
    "\n",
    "load_dotenv(os.path.expanduser('~/.env'), verbose=True)\n",
    "\n",
    "data_dir = os.getenv('DATA_IGN_DIR')\n",
    "\n",
    "print(data_dir)"
   ]
  },
  {
   "cell_type": "code",
   "execution_count": 14,
   "id": "bd4c8b06-8d95-48ad-ad1a-ca15dead8746",
   "metadata": {},
   "outputs": [
    {
     "name": "stdout",
     "output_type": "stream",
     "text": [
      "./sts_residualVictim_attackTraining.py rotten_tomatoes imdb > /home/jaehan/research/adapter/adapter-poisoning/data_ign/log/case1_sts_residualVictim_attackTraining/imdb_attack_rotten_tomatoes\n",
      "./sts_residualVictim_attackTraining.py sst2 imdb > /home/jaehan/research/adapter/adapter-poisoning/data_ign/log/case1_sts_residualVictim_attackTraining/imdb_attack_sst2\n",
      "./sts_residualVictim_attackTraining.py yelp_polarity imdb > /home/jaehan/research/adapter/adapter-poisoning/data_ign/log/case1_sts_residualVictim_attackTraining/imdb_attack_yelp_polarity\n",
      "./sts_residualVictim_attackTraining.py imdb rotten_tomatoes > /home/jaehan/research/adapter/adapter-poisoning/data_ign/log/case1_sts_residualVictim_attackTraining/rotten_tomatoes_attack_imdb\n",
      "./sts_residualVictim_attackTraining.py sst2 rotten_tomatoes > /home/jaehan/research/adapter/adapter-poisoning/data_ign/log/case1_sts_residualVictim_attackTraining/rotten_tomatoes_attack_sst2\n",
      "./sts_residualVictim_attackTraining.py yelp_polarity rotten_tomatoes > /home/jaehan/research/adapter/adapter-poisoning/data_ign/log/case1_sts_residualVictim_attackTraining/rotten_tomatoes_attack_yelp_polarity\n",
      "./sts_residualVictim_attackTraining.py imdb sst2 > /home/jaehan/research/adapter/adapter-poisoning/data_ign/log/case1_sts_residualVictim_attackTraining/sst2_attack_imdb\n",
      "./sts_residualVictim_attackTraining.py rotten_tomatoes sst2 > /home/jaehan/research/adapter/adapter-poisoning/data_ign/log/case1_sts_residualVictim_attackTraining/sst2_attack_rotten_tomatoes\n",
      "./sts_residualVictim_attackTraining.py yelp_polarity sst2 > /home/jaehan/research/adapter/adapter-poisoning/data_ign/log/case1_sts_residualVictim_attackTraining/sst2_attack_yelp_polarity\n",
      "./sts_residualVictim_attackTraining.py imdb yelp_polarity > /home/jaehan/research/adapter/adapter-poisoning/data_ign/log/case1_sts_residualVictim_attackTraining/yelp_polarity_attack_imdb\n",
      "./sts_residualVictim_attackTraining.py rotten_tomatoes yelp_polarity > /home/jaehan/research/adapter/adapter-poisoning/data_ign/log/case1_sts_residualVictim_attackTraining/yelp_polarity_attack_rotten_tomatoes\n",
      "./sts_residualVictim_attackTraining.py sst2 yelp_polarity > /home/jaehan/research/adapter/adapter-poisoning/data_ign/log/case1_sts_residualVictim_attackTraining/yelp_polarity_attack_sst2\n"
     ]
    }
   ],
   "source": [
    "# tasks = [\"cola\", \"mrpc\", \"qnli\", \"qqp\", \"rte\", \"sst2\", \"stsb\"]\n",
    "# tasks = [\"cola\", \"mrpc\", \"qnli\", \"rte\", \"sst2\"]\n",
    "tasks = ['imdb', 'rotten_tomatoes', 'sst2', 'yelp_polarity']\n",
    "\n",
    "permutations = list(itertools.permutations(tasks, 2))\n",
    "\n",
    "name = 'sts_residualVictim_attackTraining'\n",
    "\n",
    "for combo in permutations:\n",
    "    print(f\"./{name}.py {combo[1]} {combo[0]} > {data_dir}/log/case1_{name}/{combo[0]}_attack_{combo[1]}\")\n"
   ]
  },
  {
   "cell_type": "code",
   "execution_count": 7,
   "id": "eca4a45a-64f6-4c61-8a7a-9ac8737fb8e5",
   "metadata": {},
   "outputs": [
    {
     "name": "stdout",
     "output_type": "stream",
     "text": [
      "./sts_residualVictim_attackEvaluation.py rotten_tomatoes imdb > /home/jaehan/research/adapter/adapter-poisoning/data_ign/log/case1_sts_residualVictim_attackEvaluation/imdb_attack_rotten_tomatoes\n",
      "./sts_residualVictim_attackEvaluation.py sst2 imdb > /home/jaehan/research/adapter/adapter-poisoning/data_ign/log/case1_sts_residualVictim_attackEvaluation/imdb_attack_sst2\n",
      "./sts_residualVictim_attackEvaluation.py yelp_polarity imdb > /home/jaehan/research/adapter/adapter-poisoning/data_ign/log/case1_sts_residualVictim_attackEvaluation/imdb_attack_yelp_polarity\n",
      "./sts_residualVictim_attackEvaluation.py imdb rotten_tomatoes > /home/jaehan/research/adapter/adapter-poisoning/data_ign/log/case1_sts_residualVictim_attackEvaluation/rotten_tomatoes_attack_imdb\n",
      "./sts_residualVictim_attackEvaluation.py sst2 rotten_tomatoes > /home/jaehan/research/adapter/adapter-poisoning/data_ign/log/case1_sts_residualVictim_attackEvaluation/rotten_tomatoes_attack_sst2\n",
      "./sts_residualVictim_attackEvaluation.py yelp_polarity rotten_tomatoes > /home/jaehan/research/adapter/adapter-poisoning/data_ign/log/case1_sts_residualVictim_attackEvaluation/rotten_tomatoes_attack_yelp_polarity\n",
      "./sts_residualVictim_attackEvaluation.py imdb sst2 > /home/jaehan/research/adapter/adapter-poisoning/data_ign/log/case1_sts_residualVictim_attackEvaluation/sst2_attack_imdb\n",
      "./sts_residualVictim_attackEvaluation.py rotten_tomatoes sst2 > /home/jaehan/research/adapter/adapter-poisoning/data_ign/log/case1_sts_residualVictim_attackEvaluation/sst2_attack_rotten_tomatoes\n",
      "./sts_residualVictim_attackEvaluation.py yelp_polarity sst2 > /home/jaehan/research/adapter/adapter-poisoning/data_ign/log/case1_sts_residualVictim_attackEvaluation/sst2_attack_yelp_polarity\n",
      "./sts_residualVictim_attackEvaluation.py imdb yelp_polarity > /home/jaehan/research/adapter/adapter-poisoning/data_ign/log/case1_sts_residualVictim_attackEvaluation/yelp_polarity_attack_imdb\n",
      "./sts_residualVictim_attackEvaluation.py rotten_tomatoes yelp_polarity > /home/jaehan/research/adapter/adapter-poisoning/data_ign/log/case1_sts_residualVictim_attackEvaluation/yelp_polarity_attack_rotten_tomatoes\n",
      "./sts_residualVictim_attackEvaluation.py sst2 yelp_polarity > /home/jaehan/research/adapter/adapter-poisoning/data_ign/log/case1_sts_residualVictim_attackEvaluation/yelp_polarity_attack_sst2\n"
     ]
    }
   ],
   "source": [
    "tasks = ['imdb', 'rotten_tomatoes', 'sst2', 'yelp_polarity']\n",
    "\n",
    "permutations = list(itertools.permutations(tasks, 2))\n",
    "\n",
    "name = 'sts_residualVictim_attackEvaluation'\n",
    "\n",
    "for combo in permutations:\n",
    "    print(f\"./{name}.py {combo[1]} {combo[0]} > {data_dir}/log/case1_{name}/{combo[0]}_attack_{combo[1]}\")"
   ]
  },
  {
   "cell_type": "code",
   "execution_count": 15,
   "id": "5bc3863b-1b11-478a-b576-37d25aa8965e",
   "metadata": {},
   "outputs": [
    {
     "name": "stdout",
     "output_type": "stream",
     "text": [
      "./sts_moeBaseline.py rotten_tomatoes imdb > /home/jaehan/research/adapter/adapter-poisoning/data_ign/log/case1_sts_moeBaseline/imdb_with_rotten_tomatoes\n",
      "./sts_moeBaseline.py sst2 imdb > /home/jaehan/research/adapter/adapter-poisoning/data_ign/log/case1_sts_moeBaseline/imdb_with_sst2\n",
      "./sts_moeBaseline.py yelp_polarity imdb > /home/jaehan/research/adapter/adapter-poisoning/data_ign/log/case1_sts_moeBaseline/imdb_with_yelp_polarity\n",
      "./sts_moeBaseline.py imdb rotten_tomatoes > /home/jaehan/research/adapter/adapter-poisoning/data_ign/log/case1_sts_moeBaseline/rotten_tomatoes_with_imdb\n",
      "./sts_moeBaseline.py sst2 rotten_tomatoes > /home/jaehan/research/adapter/adapter-poisoning/data_ign/log/case1_sts_moeBaseline/rotten_tomatoes_with_sst2\n",
      "./sts_moeBaseline.py yelp_polarity rotten_tomatoes > /home/jaehan/research/adapter/adapter-poisoning/data_ign/log/case1_sts_moeBaseline/rotten_tomatoes_with_yelp_polarity\n",
      "./sts_moeBaseline.py imdb sst2 > /home/jaehan/research/adapter/adapter-poisoning/data_ign/log/case1_sts_moeBaseline/sst2_with_imdb\n",
      "./sts_moeBaseline.py rotten_tomatoes sst2 > /home/jaehan/research/adapter/adapter-poisoning/data_ign/log/case1_sts_moeBaseline/sst2_with_rotten_tomatoes\n",
      "./sts_moeBaseline.py yelp_polarity sst2 > /home/jaehan/research/adapter/adapter-poisoning/data_ign/log/case1_sts_moeBaseline/sst2_with_yelp_polarity\n",
      "./sts_moeBaseline.py imdb yelp_polarity > /home/jaehan/research/adapter/adapter-poisoning/data_ign/log/case1_sts_moeBaseline/yelp_polarity_with_imdb\n",
      "./sts_moeBaseline.py rotten_tomatoes yelp_polarity > /home/jaehan/research/adapter/adapter-poisoning/data_ign/log/case1_sts_moeBaseline/yelp_polarity_with_rotten_tomatoes\n",
      "./sts_moeBaseline.py sst2 yelp_polarity > /home/jaehan/research/adapter/adapter-poisoning/data_ign/log/case1_sts_moeBaseline/yelp_polarity_with_sst2\n"
     ]
    }
   ],
   "source": [
    "tasks = ['imdb', 'rotten_tomatoes', 'sst2', 'yelp_polarity']\n",
    "\n",
    "permutations = list(itertools.permutations(tasks, 2))\n",
    "\n",
    "name = 'sts_moeBaseline'\n",
    "\n",
    "for combo in permutations:\n",
    "    print(f\"./{name}.py {combo[1]} {combo[0]} > {data_dir}/log/case1_{name}/{combo[0]}_with_{combo[1]}\")"
   ]
  },
  {
   "cell_type": "code",
   "execution_count": 11,
   "id": "df0c8206-37b0-4cd7-9d63-dc8aaf7478fb",
   "metadata": {},
   "outputs": [
    {
     "name": "stdout",
     "output_type": "stream",
     "text": [
      "./sts_singleAdapter_training.py imdb > /home/jaehan/research/adapter/adapter-poisoning/data_ign/log/case1_sts_singleAdapter_training/imdb\n",
      "./sts_singleAdapter_training.py rotten_tomatoes > /home/jaehan/research/adapter/adapter-poisoning/data_ign/log/case1_sts_singleAdapter_training/rotten_tomatoes\n",
      "./sts_singleAdapter_training.py sst2 > /home/jaehan/research/adapter/adapter-poisoning/data_ign/log/case1_sts_singleAdapter_training/sst2\n",
      "./sts_singleAdapter_training.py yelp_polarity > /home/jaehan/research/adapter/adapter-poisoning/data_ign/log/case1_sts_singleAdapter_training/yelp_polarity\n"
     ]
    }
   ],
   "source": [
    "tasks = ['imdb', 'rotten_tomatoes', 'sst2', 'yelp_polarity']\n",
    "\n",
    "name = 'sts_singleAdapter_training'\n",
    "\n",
    "for task in tasks:\n",
    "    print(f\"./{name}.py {task} > {data_dir}/log/case1_{name}/{task}\")"
   ]
  },
  {
   "cell_type": "code",
   "execution_count": null,
   "id": "1ba2bbfb-0e44-4837-a7d1-da03394a9447",
   "metadata": {},
   "outputs": [],
   "source": []
  }
 ],
 "metadata": {
  "kernelspec": {
   "display_name": "pytorch2.0",
   "language": "python",
   "name": "pytorch2.0"
  },
  "language_info": {
   "codemirror_mode": {
    "name": "ipython",
    "version": 3
   },
   "file_extension": ".py",
   "mimetype": "text/x-python",
   "name": "python",
   "nbconvert_exporter": "python",
   "pygments_lexer": "ipython3",
   "version": "3.11.4"
  }
 },
 "nbformat": 4,
 "nbformat_minor": 5
}
