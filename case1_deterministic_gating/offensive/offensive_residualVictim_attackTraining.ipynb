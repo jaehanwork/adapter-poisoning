{
 "cells": [
  {
   "cell_type": "code",
   "execution_count": 1,
   "id": "cf406f7b-c03f-42cc-b1d5-531fa33289a9",
   "metadata": {},
   "outputs": [],
   "source": [
    "import sys\n",
    "import os\n",
    "from dotenv import load_dotenv\n",
    "\n",
    "load_dotenv(os.path.expanduser('~/.env'), verbose=True)\n",
    "\n",
    "data_dir = os.getenv('DATA_IGN_DIR')\n",
    "adapter_lib_path = os.getenv('ADAPTER_LIB_PATH')\n",
    "\n",
    "sys.path.insert(0, adapter_lib_path)"
   ]
  },
  {
   "cell_type": "code",
   "execution_count": 2,
   "id": "df7048f5-5b82-4fa6-8d3a-5ccde0de0180",
   "metadata": {},
   "outputs": [
    {
     "name": "stdout",
     "output_type": "stream",
     "text": [
      "cuda:1 1\n"
     ]
    }
   ],
   "source": [
    "import logging\n",
    "os.environ[\"CUDA_VISIBLE_DEVICES\"] = '0'\n",
    "import random\n",
    "from dataclasses import dataclass, field\n",
    "from typing import Optional, List\n",
    "\n",
    "import datasets\n",
    "import numpy as np\n",
    "from datasets import load_dataset, concatenate_datasets\n",
    "\n",
    "import evaluate\n",
    "import transformers\n",
    "from transformers import (\n",
    "    AutoConfig,\n",
    "    AutoTokenizer,\n",
    "    DataCollatorWithPadding,\n",
    "    EvalPrediction,\n",
    "    HfArgumentParser,\n",
    "    PretrainedConfig,\n",
    "    Trainer,\n",
    "    TrainingArguments,\n",
    "    default_data_collator,\n",
    "    set_seed,\n",
    "    get_scheduler,\n",
    "    PfeifferConfig\n",
    ")\n",
    "from transformers.adapters import AdapterArguments, AdapterTrainer, AdapterConfigBase, AutoAdapterModel, setup_adapter_training\n",
    "from transformers import BertTokenizer, BertModelWithHeads, AdapterConfig, EvalPrediction, TextClassificationPipeline\n",
    "from transformers.trainer_utils import get_last_checkpoint\n",
    "from transformers.utils import check_min_version\n",
    "from transformers.utils.versions import require_version\n",
    "\n",
    "from torch.utils.data import DataLoader\n",
    "import torch\n",
    "\n",
    "from pdb import set_trace\n",
    "import transformers.adapters.composition as ac\n",
    "\n",
    "from transformers.adapters.heads import ClassificationHead\n",
    "from torch.nn import CrossEntropyLoss, MSELoss\n",
    "\n",
    "from transformers.trainer_utils import EvalLoopOutput\n",
    "\n",
    "from sklearn.metrics import accuracy_score, classification_report, confusion_matrix, recall_score\n",
    "\n",
    "from tqdm import tqdm\n",
    "import json\n",
    "from datetime import datetime\n",
    "import random\n",
    "from datasets import concatenate_datasets\n",
    "\n",
    "from transformers import EarlyStoppingCallback\n",
    "\n",
    "import torch.nn as nn\n",
    "import torch.nn.functional as F\n",
    "\n",
    "device = torch.device('cuda:1' if torch.cuda.is_available() else 'cpu')\n",
    "device_count = torch.cuda.device_count()\n",
    "print(device, device_count)\n",
    "\n",
    "dataset_name = {\n",
    "                   'olid_processed':'pranjali97/OLID_processed',\n",
    "                   'hate_speech_offensive': 'hate_speech_offensive',\n",
    "                   'toxic_conversations_50k': 'SetFit/toxic_conversations_50k',\n",
    "                   'hate_speech18': 'hate_speech18'\n",
    "               }\n",
    "\n",
    "current_time = datetime.now().strftime('%Y%m%d-%H%M%S')"
   ]
  },
  {
   "cell_type": "code",
   "execution_count": 3,
   "id": "38d956f2-9bef-45b5-8121-883ffa5b906f",
   "metadata": {},
   "outputs": [],
   "source": [
    "# if len(sys.argv) - 1 != 2:\n",
    "#     print('Argument error')\n",
    "#     exit(1)\n",
    "\n",
    "# _, arg1, arg2 = sys.argv\n",
    "\n",
    "\n",
    "# task_name_1 = arg1\n",
    "# task_name_2 = arg2\n",
    "\n",
    "task_name_1 = 'olid_processed'\n",
    "task_name_2 = 'hate_speech_offensive'"
   ]
  },
  {
   "cell_type": "code",
   "execution_count": 4,
   "id": "36e77c17-5a2f-4f95-baff-678167dab5b9",
   "metadata": {},
   "outputs": [
    {
     "name": "stdout",
     "output_type": "stream",
     "text": [
      "/home/jaehan/research/adapter/adapter-poisoning/data_ign/case1_offensive_singleAdapter_training_v1/olid_processed_20231222-210832/trained_adapters/olid_processed\n",
      "/home/jaehan/research/adapter/adapter-poisoning/data_ign/case1_offensive_singleAdapter_training_v1/hate_speech_offensive_20231222-210957/trained_adapters/hate_speech_offensive\n",
      "\n",
      "/home/jaehan/research/adapter/adapter-poisoning/data_ign/tmp_case1_offensive_residualVictim_attackTraining/hate_speech_offensive_attack_olid_processed_20231223-023605\n"
     ]
    }
   ],
   "source": [
    "attacker_name = f'{task_name_2}_attack_{task_name_1}'\n",
    "model_name_or_path = 'roberta-base'\n",
    "pad_to_max_length = True\n",
    "max_seq_length = 256\n",
    "\n",
    "output_dir = os.path.join(data_dir, f'tmp_case1_offensive_residualVictim_attackTraining/{task_name_2}_attack_{task_name_1}_{current_time}')\n",
    "\n",
    "adapterTraining_path = os.path.join(data_dir, 'case1_offensive_singleAdapter_training_v1')\n",
    "for dir_name in os.listdir(adapterTraining_path):\n",
    "    if task_name_1 in dir_name:\n",
    "        load_adapter_1 = os.path.join(adapterTraining_path, f'{dir_name}/trained_adapters/{task_name_1}')\n",
    "    elif task_name_2 in dir_name:\n",
    "        load_adapter_2 = os.path.join(adapterTraining_path, f'{dir_name}/trained_adapters/{task_name_2}')\n",
    "\n",
    "print(load_adapter_1)\n",
    "print(load_adapter_2)\n",
    "print()\n",
    "\n",
    "@dataclass(eq=False)\n",
    "class AttackerConfig(PfeifferConfig):\n",
    "    attacker: bool = True\n",
    "\n",
    "@dataclass(eq=False)\n",
    "class VictimConfig(PfeifferConfig):\n",
    "    victim: bool = True\n",
    "\n",
    "adapter_config_1 = VictimConfig()\n",
    "adapter_config_2 = AttackerConfig()\n",
    "\n",
    "victim_head = f'{task_name_1}_with_{task_name_2}'\n",
    "singleTask_path = os.path.join(data_dir, 'case1_offensive_moeBaseline_v1')\n",
    "\n",
    "victim_head_path = None\n",
    "victim_head_name = None\n",
    "for dir_name in os.listdir(singleTask_path):\n",
    "    if victim_head in dir_name:\n",
    "        victim_head_name = dir_name\n",
    "        victim_head_path = os.path.join(singleTask_path, f'{dir_name}/trained_head/{victim_head}')\n",
    "\n",
    "assert(victim_head_path)\n",
    "\n",
    "num_labels=2\n",
    "train_test_ratio = 0.2\n",
    "random_seed = 0\n",
    "\n",
    "set_seed(random_seed)\n",
    "torch.manual_seed(random_seed)\n",
    "torch.cuda.manual_seed(random_seed)\n",
    "np.random.seed(random_seed)\n",
    "random.seed(random_seed)\n",
    "\n",
    "print(output_dir)"
   ]
  },
  {
   "cell_type": "code",
   "execution_count": 5,
   "id": "afc47007-8d23-4116-85aa-0486e82f45a4",
   "metadata": {},
   "outputs": [],
   "source": [
    "def align_dataset(dataset, task_name):\n",
    "    def align_labels_and_features(example):\n",
    "        label_name = 'class' if task_name == 'hate_speech_offensive' else 'label'\n",
    "        if task_name == 'hate_speech_offensive':\n",
    "            example['label'] = 1 if example[label_name] in [0, 1] else 0\n",
    "        else:\n",
    "            example['label'] = 1 if example[label_name] == 'OFF' or example[label_name] == 1 else 0\n",
    "\n",
    "        text_name = 'tweet' if task_name == 'hate_speech_offensive' else 'text'\n",
    "        example['text'] = example.pop(text_name)\n",
    "        return example\n",
    "    \n",
    "    dataset = dataset.map(align_labels_and_features)\n",
    "    return dataset\n",
    "\n",
    "def manage_splits(dataset, task_name):\n",
    "    if task_name == 'olid_processed':\n",
    "        # train valid test\n",
    "        train_dataset = dataset['train']\n",
    "        valid_dataset = dataset['validation']\n",
    "        eval_dataset = dataset['test']\n",
    "    elif task_name == 'toxic_conversations_50k':\n",
    "        # train test\n",
    "        _train_dataset = dataset['train'].train_test_split(test_size=train_test_ratio, shuffle=True, seed=random_seed)\n",
    "        train_dataset = _train_dataset['train']\n",
    "        valid_dataset = _train_dataset['test']\n",
    "        eval_dataset = dataset['test']\n",
    "    else:\n",
    "        # train\n",
    "        _train_dataset = dataset['train'].train_test_split(test_size=train_test_ratio*2, shuffle=True, seed=random_seed)\n",
    "        train_dataset = _train_dataset['train']\n",
    "        _valid_dataset = _train_dataset['test'].train_test_split(test_size=0.5, shuffle=True, seed=random_seed)\n",
    "        valid_dataset = _valid_dataset['train']\n",
    "        eval_dataset = _valid_dataset['test']\n",
    "    return train_dataset, valid_dataset, eval_dataset"
   ]
  },
  {
   "cell_type": "code",
   "execution_count": 6,
   "id": "411d8bfe-25cd-4059-bbda-c7d02319f444",
   "metadata": {},
   "outputs": [],
   "source": [
    "tokenizer = AutoTokenizer.from_pretrained(\n",
    "    model_name_or_path,\n",
    ")\n",
    "\n",
    "def get_data(raw_datasets):\n",
    "    if pad_to_max_length:\n",
    "        padding = \"max_length\"\n",
    "\n",
    "    columns_to_keep = ['text', 'label']\n",
    "    columns_to_drop = [col for col in raw_datasets.column_names if col not in columns_to_keep]\n",
    "    raw_datasetsset = raw_datasets.remove_columns(columns_to_drop)\n",
    "    \n",
    "    def preprocess_function(examples):\n",
    "        result = tokenizer(examples['text'], padding=padding, max_length=max_seq_length, truncation=True)\n",
    "        \n",
    "        result[\"label\"] = [l for l in examples[\"label\"]]\n",
    "        return result\n",
    "        \n",
    "    raw_datasets = raw_datasets.map(\n",
    "        preprocess_function,\n",
    "        batched=True,\n",
    "        desc=\"Running tokenizer on dataset\",\n",
    "    )\n",
    "\n",
    "    return raw_datasets"
   ]
  },
  {
   "cell_type": "code",
   "execution_count": 7,
   "id": "99628624-543b-4f00-b387-d78025a2da56",
   "metadata": {},
   "outputs": [],
   "source": [
    "raw_datasets_1 = load_dataset(dataset_name[task_name_1])\n",
    "raw_datasets_2 = load_dataset(dataset_name[task_name_2])"
   ]
  },
  {
   "cell_type": "code",
   "execution_count": 8,
   "id": "c96974c5-73b3-4bb2-b590-b04bf7f4ace3",
   "metadata": {},
   "outputs": [
    {
     "data": {
      "application/vnd.jupyter.widget-view+json": {
       "model_id": "b5f6e7e2f17a4a7a9792a4c8f092ed51",
       "version_major": 2,
       "version_minor": 0
      },
      "text/plain": [
       "Map:   0%|          | 0/8473 [00:00<?, ? examples/s]"
      ]
     },
     "metadata": {},
     "output_type": "display_data"
    },
    {
     "data": {
      "application/vnd.jupyter.widget-view+json": {
       "model_id": "f5b4442c961942798471cd452d45a894",
       "version_major": 2,
       "version_minor": 0
      },
      "text/plain": [
       "Map:   0%|          | 0/2648 [00:00<?, ? examples/s]"
      ]
     },
     "metadata": {},
     "output_type": "display_data"
    },
    {
     "data": {
      "application/vnd.jupyter.widget-view+json": {
       "model_id": "3f74b361ec4c450c9d6204a780e370a5",
       "version_major": 2,
       "version_minor": 0
      },
      "text/plain": [
       "Map:   0%|          | 0/2119 [00:00<?, ? examples/s]"
      ]
     },
     "metadata": {},
     "output_type": "display_data"
    },
    {
     "data": {
      "application/vnd.jupyter.widget-view+json": {
       "model_id": "a59e40ce11fa4512a093a1e0cdbc4073",
       "version_major": 2,
       "version_minor": 0
      },
      "text/plain": [
       "Running tokenizer on dataset:   0%|          | 0/5083 [00:00<?, ? examples/s]"
      ]
     },
     "metadata": {},
     "output_type": "display_data"
    },
    {
     "data": {
      "application/vnd.jupyter.widget-view+json": {
       "model_id": "95cc10032c0d4448b2e304a631f667fa",
       "version_major": 2,
       "version_minor": 0
      },
      "text/plain": [
       "Running tokenizer on dataset:   0%|          | 0/1695 [00:00<?, ? examples/s]"
      ]
     },
     "metadata": {},
     "output_type": "display_data"
    },
    {
     "data": {
      "application/vnd.jupyter.widget-view+json": {
       "model_id": "64bbfeafca7440c0b0dbd0bf30d6e980",
       "version_major": 2,
       "version_minor": 0
      },
      "text/plain": [
       "Running tokenizer on dataset:   0%|          | 0/1695 [00:00<?, ? examples/s]"
      ]
     },
     "metadata": {},
     "output_type": "display_data"
    },
    {
     "data": {
      "application/vnd.jupyter.widget-view+json": {
       "model_id": "6992159a31734181a12447b3453be5df",
       "version_major": 2,
       "version_minor": 0
      },
      "text/plain": [
       "Running tokenizer on dataset:   0%|          | 0/14869 [00:00<?, ? examples/s]"
      ]
     },
     "metadata": {},
     "output_type": "display_data"
    }
   ],
   "source": [
    "raw_datasets_1 = align_dataset(raw_datasets_1, task_name_1)\n",
    "_train_dataset_1, _valid_dataset_1, _eval_dataset_1 = manage_splits(raw_datasets_1, task_name_1)\n",
    "\n",
    "train_dataset_1 = get_data(_train_dataset_1)\n",
    "valid_dataset_1 = get_data(_valid_dataset_1)\n",
    "eval_dataset_1 = get_data(_eval_dataset_1)\n",
    "\n",
    "raw_datasets_2 = align_dataset(raw_datasets_2, task_name_2)\n",
    "_train_dataset_2, _valid_dataset_2, _eval_dataset_2 = manage_splits(raw_datasets_2, task_name_2)\n",
    "\n",
    "train_dataset_2 = get_data(_train_dataset_2)\n",
    "valid_dataset_2 = get_data(_valid_dataset_2)\n",
    "eval_dataset_2 = get_data(_eval_dataset_2)"
   ]
  },
  {
   "cell_type": "code",
   "execution_count": 9,
   "id": "1cd489b0-bae7-4f34-ba53-2183c78b73ce",
   "metadata": {},
   "outputs": [
    {
     "data": {
      "text/plain": [
       "Dataset({\n",
       "    features: ['text', 'label', '__index_level_0__', 'input_ids', 'attention_mask'],\n",
       "    num_rows: 1695\n",
       "})"
      ]
     },
     "execution_count": 9,
     "metadata": {},
     "output_type": "execute_result"
    }
   ],
   "source": [
    "eval_dataset_1"
   ]
  },
  {
   "cell_type": "code",
   "execution_count": 10,
   "id": "9442c961-39eb-44ed-af0b-47f37c95e368",
   "metadata": {},
   "outputs": [
    {
     "data": {
      "text/plain": [
       "Dataset({\n",
       "    features: ['count', 'hate_speech_count', 'offensive_language_count', 'neither_count', 'class', 'label', 'text', 'input_ids', 'attention_mask'],\n",
       "    num_rows: 14869\n",
       "})"
      ]
     },
     "execution_count": 10,
     "metadata": {},
     "output_type": "execute_result"
    }
   ],
   "source": [
    "train_dataset_2"
   ]
  },
  {
   "cell_type": "code",
   "execution_count": 11,
   "id": "a18b1528-6b98-4911-843f-dd8087c48feb",
   "metadata": {},
   "outputs": [
    {
     "data": {
      "text/plain": [
       "Dataset({\n",
       "    features: ['count', 'hate_speech_count', 'offensive_language_count', 'neither_count', 'class', 'label', 'text', 'input_ids', 'attention_mask'],\n",
       "    num_rows: 4957\n",
       "})"
      ]
     },
     "execution_count": 11,
     "metadata": {},
     "output_type": "execute_result"
    }
   ],
   "source": [
    "valid_dataset_2"
   ]
  },
  {
   "cell_type": "code",
   "execution_count": 12,
   "id": "c72170b0-ba21-49f9-a941-530c90e1f625",
   "metadata": {},
   "outputs": [
    {
     "data": {
      "text/plain": [
       "Dataset({\n",
       "    features: ['count', 'hate_speech_count', 'offensive_language_count', 'neither_count', 'class', 'label', 'text', 'input_ids', 'attention_mask'],\n",
       "    num_rows: 4957\n",
       "})"
      ]
     },
     "execution_count": 12,
     "metadata": {},
     "output_type": "execute_result"
    }
   ],
   "source": [
    "eval_dataset_2"
   ]
  },
  {
   "cell_type": "code",
   "execution_count": 13,
   "id": "db54b13c-8b24-40a2-b2ee-92d3146ba44a",
   "metadata": {},
   "outputs": [
    {
     "name": "stderr",
     "output_type": "stream",
     "text": [
      "Some weights of the model checkpoint at roberta-base were not used when initializing RobertaAdapterModel: ['lm_head.bias', 'lm_head.dense.weight', 'lm_head.dense.bias', 'lm_head.layer_norm.weight', 'lm_head.layer_norm.bias']\n",
      "- This IS expected if you are initializing RobertaAdapterModel from the checkpoint of a model trained on another task or with another architecture (e.g. initializing a BertForSequenceClassification model from a BertForPreTraining model).\n",
      "- This IS NOT expected if you are initializing RobertaAdapterModel from the checkpoint of a model that you expect to be exactly identical (initializing a BertForSequenceClassification model from a BertForSequenceClassification model).\n",
      "Some weights of RobertaAdapterModel were not initialized from the model checkpoint at roberta-base and are newly initialized: ['roberta.pooler.dense.weight', 'roberta.pooler.dense.bias']\n",
      "You should probably TRAIN this model on a down-stream task to be able to use it for predictions and inference.\n"
     ]
    }
   ],
   "source": [
    "model = AutoAdapterModel.from_pretrained(\n",
    "    model_name_or_path,\n",
    "    ignore_mismatched_sizes=False\n",
    ")\n",
    "\n",
    "model.freeze_model(True)\n",
    "\n",
    "adapter1 = model.load_adapter(load_adapter_1, with_head=False, config=adapter_config_1)\n",
    "adapter2 = model.load_adapter(load_adapter_2, with_head=False, load_as=attacker_name, config=adapter_config_2)\n",
    "\n",
    "model.train_adapter([attacker_name])\n",
    "\n",
    "model.active_adapters = ac.Parallel(adapter1, adapter2, mode='residual_victim')\n",
    "\n",
    "model.add_classification_head(attacker_name, layers=2)\n",
    "model.load_head(victim_head_path)\n",
    "model.active_head = [victim_head, attacker_name]"
   ]
  },
  {
   "cell_type": "code",
   "execution_count": 14,
   "id": "c049c1bb-d070-4c76-93e2-89ec0a29045a",
   "metadata": {
    "scrolled": true
   },
   "outputs": [
    {
     "name": "stdout",
     "output_type": "stream",
     "text": [
      "================================================================================\n",
      "Name                     Architecture         #Param      %Param  Active   Train\n",
      "--------------------------------------------------------------------------------\n",
      "olid_processed           bottleneck          894,528       0.718       1       0\n",
      "hate_speech_offensive_attack_olid_processedbottleneck          894,528       0.718       1       1\n",
      "--------------------------------------------------------------------------------\n",
      "Full model                               124,645,632     100.000               0\n",
      "================================================================================\n"
     ]
    }
   ],
   "source": [
    "print(model.adapter_summary())"
   ]
  },
  {
   "cell_type": "code",
   "execution_count": 15,
   "id": "53f7b287-4b31-4e9f-ab8d-74eea007b79f",
   "metadata": {},
   "outputs": [],
   "source": [
    "for k, v in model.named_parameters():\n",
    "    if 'heads' in k and 'with' in k:\n",
    "        v.requires_grad = False"
   ]
  },
  {
   "cell_type": "code",
   "execution_count": 16,
   "id": "688da019-0ab0-4a5a-aa8e-53b6b3c841f8",
   "metadata": {},
   "outputs": [
    {
     "data": {
      "text/plain": [
       "['olid_processed_with_hate_speech_offensive',\n",
       " 'hate_speech_offensive_attack_olid_processed']"
      ]
     },
     "execution_count": 16,
     "metadata": {},
     "output_type": "execute_result"
    }
   ],
   "source": [
    "model.active_head"
   ]
  },
  {
   "cell_type": "code",
   "execution_count": 17,
   "id": "db8924ee-3913-4283-a18b-9b0c96430039",
   "metadata": {},
   "outputs": [
    {
     "name": "stdout",
     "output_type": "stream",
     "text": [
      "roberta.encoder.layer.0.output.adapters.hate_speech_offensive_attack_olid_processed.adapter_down.0.weight\n",
      "roberta.encoder.layer.0.output.adapters.hate_speech_offensive_attack_olid_processed.adapter_down.0.bias\n",
      "roberta.encoder.layer.0.output.adapters.hate_speech_offensive_attack_olid_processed.adapter_up.weight\n",
      "roberta.encoder.layer.0.output.adapters.hate_speech_offensive_attack_olid_processed.adapter_up.bias\n",
      "roberta.encoder.layer.1.output.adapters.hate_speech_offensive_attack_olid_processed.adapter_down.0.weight\n",
      "roberta.encoder.layer.1.output.adapters.hate_speech_offensive_attack_olid_processed.adapter_down.0.bias\n",
      "roberta.encoder.layer.1.output.adapters.hate_speech_offensive_attack_olid_processed.adapter_up.weight\n",
      "roberta.encoder.layer.1.output.adapters.hate_speech_offensive_attack_olid_processed.adapter_up.bias\n",
      "roberta.encoder.layer.2.output.adapters.hate_speech_offensive_attack_olid_processed.adapter_down.0.weight\n",
      "roberta.encoder.layer.2.output.adapters.hate_speech_offensive_attack_olid_processed.adapter_down.0.bias\n",
      "roberta.encoder.layer.2.output.adapters.hate_speech_offensive_attack_olid_processed.adapter_up.weight\n",
      "roberta.encoder.layer.2.output.adapters.hate_speech_offensive_attack_olid_processed.adapter_up.bias\n",
      "roberta.encoder.layer.3.output.adapters.hate_speech_offensive_attack_olid_processed.adapter_down.0.weight\n",
      "roberta.encoder.layer.3.output.adapters.hate_speech_offensive_attack_olid_processed.adapter_down.0.bias\n",
      "roberta.encoder.layer.3.output.adapters.hate_speech_offensive_attack_olid_processed.adapter_up.weight\n",
      "roberta.encoder.layer.3.output.adapters.hate_speech_offensive_attack_olid_processed.adapter_up.bias\n",
      "roberta.encoder.layer.4.output.adapters.hate_speech_offensive_attack_olid_processed.adapter_down.0.weight\n",
      "roberta.encoder.layer.4.output.adapters.hate_speech_offensive_attack_olid_processed.adapter_down.0.bias\n",
      "roberta.encoder.layer.4.output.adapters.hate_speech_offensive_attack_olid_processed.adapter_up.weight\n",
      "roberta.encoder.layer.4.output.adapters.hate_speech_offensive_attack_olid_processed.adapter_up.bias\n",
      "roberta.encoder.layer.5.output.adapters.hate_speech_offensive_attack_olid_processed.adapter_down.0.weight\n",
      "roberta.encoder.layer.5.output.adapters.hate_speech_offensive_attack_olid_processed.adapter_down.0.bias\n",
      "roberta.encoder.layer.5.output.adapters.hate_speech_offensive_attack_olid_processed.adapter_up.weight\n",
      "roberta.encoder.layer.5.output.adapters.hate_speech_offensive_attack_olid_processed.adapter_up.bias\n",
      "roberta.encoder.layer.6.output.adapters.hate_speech_offensive_attack_olid_processed.adapter_down.0.weight\n",
      "roberta.encoder.layer.6.output.adapters.hate_speech_offensive_attack_olid_processed.adapter_down.0.bias\n",
      "roberta.encoder.layer.6.output.adapters.hate_speech_offensive_attack_olid_processed.adapter_up.weight\n",
      "roberta.encoder.layer.6.output.adapters.hate_speech_offensive_attack_olid_processed.adapter_up.bias\n",
      "roberta.encoder.layer.7.output.adapters.hate_speech_offensive_attack_olid_processed.adapter_down.0.weight\n",
      "roberta.encoder.layer.7.output.adapters.hate_speech_offensive_attack_olid_processed.adapter_down.0.bias\n",
      "roberta.encoder.layer.7.output.adapters.hate_speech_offensive_attack_olid_processed.adapter_up.weight\n",
      "roberta.encoder.layer.7.output.adapters.hate_speech_offensive_attack_olid_processed.adapter_up.bias\n",
      "roberta.encoder.layer.8.output.adapters.hate_speech_offensive_attack_olid_processed.adapter_down.0.weight\n",
      "roberta.encoder.layer.8.output.adapters.hate_speech_offensive_attack_olid_processed.adapter_down.0.bias\n",
      "roberta.encoder.layer.8.output.adapters.hate_speech_offensive_attack_olid_processed.adapter_up.weight\n",
      "roberta.encoder.layer.8.output.adapters.hate_speech_offensive_attack_olid_processed.adapter_up.bias\n",
      "roberta.encoder.layer.9.output.adapters.hate_speech_offensive_attack_olid_processed.adapter_down.0.weight\n",
      "roberta.encoder.layer.9.output.adapters.hate_speech_offensive_attack_olid_processed.adapter_down.0.bias\n",
      "roberta.encoder.layer.9.output.adapters.hate_speech_offensive_attack_olid_processed.adapter_up.weight\n",
      "roberta.encoder.layer.9.output.adapters.hate_speech_offensive_attack_olid_processed.adapter_up.bias\n",
      "roberta.encoder.layer.10.output.adapters.hate_speech_offensive_attack_olid_processed.adapter_down.0.weight\n",
      "roberta.encoder.layer.10.output.adapters.hate_speech_offensive_attack_olid_processed.adapter_down.0.bias\n",
      "roberta.encoder.layer.10.output.adapters.hate_speech_offensive_attack_olid_processed.adapter_up.weight\n",
      "roberta.encoder.layer.10.output.adapters.hate_speech_offensive_attack_olid_processed.adapter_up.bias\n",
      "roberta.encoder.layer.11.output.adapters.hate_speech_offensive_attack_olid_processed.adapter_down.0.weight\n",
      "roberta.encoder.layer.11.output.adapters.hate_speech_offensive_attack_olid_processed.adapter_down.0.bias\n",
      "roberta.encoder.layer.11.output.adapters.hate_speech_offensive_attack_olid_processed.adapter_up.weight\n",
      "roberta.encoder.layer.11.output.adapters.hate_speech_offensive_attack_olid_processed.adapter_up.bias\n",
      "heads.hate_speech_offensive_attack_olid_processed.1.weight\n",
      "heads.hate_speech_offensive_attack_olid_processed.1.bias\n",
      "heads.hate_speech_offensive_attack_olid_processed.4.weight\n",
      "heads.hate_speech_offensive_attack_olid_processed.4.bias\n"
     ]
    }
   ],
   "source": [
    "for k, v in model.named_parameters():\n",
    "    if v.requires_grad:\n",
    "        print(k)"
   ]
  },
  {
   "cell_type": "code",
   "execution_count": 18,
   "id": "36bf6083-19de-40db-9011-237e3934819b",
   "metadata": {},
   "outputs": [],
   "source": [
    "per_device_train_batch_size = 32\n",
    "per_device_eval_batch_size = 128\n",
    "weight_decay = 0.0\n",
    "learning_rate = 1e-3\n",
    "num_train_epochs = 20\n",
    "lr_scheduler_type = 'cosine'\n",
    "warmup_ratio = 0.1\n",
    "alpha = 0.6\n",
    "patience = 4\n",
    "\n",
    "optimizer = torch.optim.AdamW(model.parameters(), lr=learning_rate)\n",
    "total_batch_size_train = per_device_train_batch_size * device_count\n",
    "total_batch_size_eval = per_device_eval_batch_size * device_count"
   ]
  },
  {
   "cell_type": "code",
   "execution_count": 19,
   "id": "a007ecf3-1e37-4afd-b6bd-4a0864943868",
   "metadata": {},
   "outputs": [],
   "source": [
    "def compute_metrics(p: EvalPrediction):\n",
    "    preds = p.predictions[0] if isinstance(p.predictions, tuple) else p.predictions\n",
    "    preds = np.argmax(preds, axis=1)\n",
    "    \n",
    "    return {\"accuracy\": (preds == p.label_ids).astype(np.float32).mean().item()}"
   ]
  },
  {
   "cell_type": "code",
   "execution_count": 20,
   "id": "6310bfb1-440c-4baf-8c4c-108c1ad83822",
   "metadata": {},
   "outputs": [],
   "source": [
    "training_args = TrainingArguments(\n",
    "    report_to='all',\n",
    "    remove_unused_columns=False,\n",
    "    output_dir=output_dir,\n",
    "    per_device_train_batch_size=per_device_train_batch_size,\n",
    "    per_device_eval_batch_size=per_device_eval_batch_size,\n",
    "    num_train_epochs=num_train_epochs,\n",
    "    logging_dir=\"./logs\",\n",
    "    seed=random_seed,\n",
    "    data_seed=random_seed,\n",
    "    do_train=True,\n",
    "    do_eval=True,\n",
    "    learning_rate=learning_rate,\n",
    "    lr_scheduler_type=lr_scheduler_type,\n",
    "    warmup_ratio=warmup_ratio,\n",
    "    evaluation_strategy='epoch',\n",
    "    logging_strategy='epoch',\n",
    "    save_strategy='epoch',\n",
    "    # eval_steps=100,\n",
    "    # logging_steps=100,\n",
    "    # save_steps=100,\n",
    "    save_total_limit=1,\n",
    "    load_best_model_at_end = True,\n",
    "    metric_for_best_model = 'loss'\n",
    ")\n",
    "\n",
    "loss_fct = CrossEntropyLoss()\n",
    "loss_kl = nn.KLDivLoss(reduction=\"batchmean\", log_target=True)\n",
    "loss_dist = nn.PairwiseDistance(p=2)\n",
    "loss_cosine = nn.CosineSimilarity(dim=2)\n",
    "\n",
    "def loss_attack(logits, mixed_hidden, victim_single_hidden, labels):\n",
    "    loss_cls = loss_fct(logits.view(-1, num_labels), labels.view(-1))\n",
    "\n",
    "    loss_res = 0.0\n",
    "    \n",
    "    for _mixed_hidden, _victim_single_hidden in zip(mixed_hidden, victim_single_hidden):\n",
    "        loss_res += loss_cosine(_mixed_hidden, _victim_single_hidden).mean()\n",
    "\n",
    "    loss_res = loss_res / len(mixed_hidden)\n",
    "\n",
    "    loss = (alpha * loss_cls) + ((1 - alpha) * loss_res)\n",
    "\n",
    "    return loss, loss_cls, loss_res\n",
    "\n",
    "class CustomTrainer(Trainer):\n",
    "    def compute_loss(self, model, inputs):\n",
    "        \"\"\"\n",
    "        Compute the ensemble loss here\n",
    "        \"\"\"\n",
    "\n",
    "        labels = inputs.pop('labels')\n",
    "\n",
    "        # Compute model outputs\n",
    "        outputs, _, mixed_hidden, victim_single_hidden= model(**inputs, output_hidden_states=True)\n",
    "\n",
    "        logits = outputs.logits\n",
    "        \n",
    "        loss, loss_cls, loss_res = loss_attack(logits, mixed_hidden, victim_single_hidden, labels)\n",
    "\n",
    "        return loss\n",
    "\n",
    "    def evaluation_loop(\n",
    "        self,\n",
    "        dataloader,\n",
    "        description: str,\n",
    "        prediction_loss_only: Optional[bool] = None,\n",
    "        ignore_keys: Optional[List[str]] = None,\n",
    "        metric_key_prefix: str = \"eval\",\n",
    "    ):\n",
    "        # This is a simple modification. For more custom behavior, \n",
    "        # you might want to start from the original code in Trainer's evaluation_loop.\n",
    "        \n",
    "        # Initialize metrics, etc.\n",
    "        self.model.eval()\n",
    "        total_eval_loss = 0.0\n",
    "        total_eval_loss_cls = 0.0\n",
    "        total_eval_loss_res = 0.0\n",
    "        total_eval_loss_cls_mixed = 0.0\n",
    "        \n",
    "        total_preds = []\n",
    "        total_logits = []\n",
    "        total_labels = []\n",
    "        total_eval_metrics = {}\n",
    "        \n",
    "        for step, inputs in enumerate(dataloader):\n",
    "            labels = inputs.pop('labels').to(self.args.device)\n",
    "            \n",
    "            # Move inputs to appropriate device\n",
    "            for k, v in inputs.items():\n",
    "                inputs[k] = v.to(self.args.device)\n",
    "            \n",
    "            # Forward pass and compute loss and metrics\n",
    "            with torch.no_grad():\n",
    "                outputs, outputs_mixed, mixed_hidden, victim_single_hidden = model(**inputs, output_hidden_states=True)\n",
    "        \n",
    "                logits = outputs.logits\n",
    "                logits_mixed = outputs_mixed.logits\n",
    "            \n",
    "            loss, loss_cls, loss_res = loss_attack(logits, mixed_hidden, victim_single_hidden, labels)\n",
    "\n",
    "            loss_cls_mixed = loss_fct(logits_mixed.view(-1, num_labels), labels.view(-1))\n",
    "            \n",
    "            total_eval_loss += loss.item()\n",
    "            total_eval_loss_cls += loss_cls.item()\n",
    "            total_eval_loss_res += loss_res.item()\n",
    "            total_eval_loss_cls_mixed += loss_cls_mixed.item()\n",
    "\n",
    "            total_logits.extend(logits.detach().cpu().numpy())\n",
    "            total_preds.extend(logits.argmax(dim=-1))\n",
    "            total_labels.extend(labels.detach().cpu().numpy())\n",
    "\n",
    "        average_eval_loss = total_eval_loss / len(dataloader)\n",
    "        average_eval_loss_cls = total_eval_loss_cls / len(dataloader)\n",
    "        average_eval_loss_res = total_eval_loss_res / len(dataloader)\n",
    "        average_eval_loss_cls_mixed = total_eval_loss_cls_mixed / len(dataloader)\n",
    "        \n",
    "        eval_pred = EvalPrediction(predictions=total_logits, label_ids=total_labels)\n",
    "        \n",
    "        metrics = self.compute_metrics(eval_pred)\n",
    "\n",
    "        # Average the metrics\n",
    "        num_eval_samples = len(dataloader.dataset)\n",
    "        total_eval_metrics = {f'{metric_key_prefix}_loss': average_eval_loss, \n",
    "                              f'{metric_key_prefix}_loss_cls': average_eval_loss_cls, \n",
    "                              f'{metric_key_prefix}_loss_res': average_eval_loss_res, \n",
    "                              f'{metric_key_prefix}_loss_cls_mixed': average_eval_loss_cls_mixed, \n",
    "                              f'{metric_key_prefix}_accuracy': metrics['accuracy']}\n",
    "\n",
    "        # return total_eval_loss, total_eval_metrics\n",
    "        return EvalLoopOutput(predictions=total_preds, \n",
    "                              label_ids=total_labels, \n",
    "                              metrics=total_eval_metrics, \n",
    "                              num_samples=num_eval_samples)\n",
    "\n",
    "class CustomTrainerEvalMix(Trainer):\n",
    "    def evaluation_loop(\n",
    "        self,\n",
    "        dataloader,\n",
    "        description: str,\n",
    "        prediction_loss_only: Optional[bool] = None,\n",
    "        ignore_keys: Optional[List[str]] = None,\n",
    "        metric_key_prefix: str = \"eval\",\n",
    "    ):\n",
    "        # This is a simple modification. For more custom behavior, \n",
    "        # you might want to start from the original code in Trainer's evaluation_loop.\n",
    "        \n",
    "        # Initialize metrics, etc.\n",
    "        self.model.eval()\n",
    "        total_eval_loss = 0\n",
    "        total_eval_loss_mixed = 0\n",
    "        total_preds = []\n",
    "        total_logits = []\n",
    "        total_labels = []\n",
    "        total_eval_metrics = {}\n",
    "        \n",
    "        for step, inputs in enumerate(dataloader):\n",
    "            labels = inputs.pop('labels').to(self.args.device)\n",
    "            \n",
    "            # Move inputs to appropriate device\n",
    "            for k, v in inputs.items():\n",
    "                inputs[k] = v.to(self.args.device)\n",
    "            \n",
    "            # Forward pass and compute loss and metrics\n",
    "            with torch.no_grad():\n",
    "                outputs, outputs_mixed, mixed_hidden, victim_single_hidden = model(**inputs, output_hidden_states=True)\n",
    "        \n",
    "                logits_mixed = outputs_mixed.logits\n",
    "\n",
    "            loss_mixed = loss_fct(logits_mixed.view(-1, num_labels), labels.view(-1))\n",
    "\n",
    "            total_eval_loss_mixed += loss_mixed.item()\n",
    "\n",
    "            total_logits.extend(logits_mixed.detach().cpu().numpy())\n",
    "            total_preds.extend(logits_mixed.argmax(dim=-1))\n",
    "            total_labels.extend(labels.detach().cpu().numpy())\n",
    "\n",
    "        average_eval_loss_mixed = total_eval_loss_mixed / len(dataloader)\n",
    "        \n",
    "        eval_pred = EvalPrediction(predictions=total_logits, label_ids=total_labels)\n",
    "        \n",
    "        metrics = self.compute_metrics(eval_pred)\n",
    "\n",
    "        # Average the metrics\n",
    "        num_eval_samples = len(dataloader.dataset)\n",
    "        total_eval_metrics = {f'{metric_key_prefix}_loss_cls_mixed': average_eval_loss_mixed, f'{metric_key_prefix}_accuracy_mixed': metrics['accuracy']}\n",
    "\n",
    "        # return total_eval_loss, total_eval_metrics\n",
    "        return EvalLoopOutput(predictions=total_preds, \n",
    "                              label_ids=total_labels, \n",
    "                              metrics=total_eval_metrics, \n",
    "                              num_samples=num_eval_samples)\n",
    "        \n",
    "trainer = CustomTrainer(\n",
    "        model=model,\n",
    "        args=training_args,\n",
    "        train_dataset=train_dataset_2,\n",
    "        eval_dataset=valid_dataset_2,\n",
    "        tokenizer=tokenizer,\n",
    "        data_collator=default_data_collator,\n",
    "        compute_metrics=compute_metrics,\n",
    "        callbacks = [EarlyStoppingCallback(early_stopping_patience=patience)]\n",
    "    )"
   ]
  },
  {
   "cell_type": "code",
   "execution_count": 21,
   "id": "3df5dcbc-4b57-4d88-a602-1a59b5a3001a",
   "metadata": {},
   "outputs": [
    {
     "name": "stderr",
     "output_type": "stream",
     "text": [
      "/home/jaehan/research/adapter/adapter-poisoning/transformers/optimization.py:306: FutureWarning: This implementation of AdamW is deprecated and will be removed in a future version. Use the PyTorch implementation torch.optim.AdamW instead, or set `no_deprecation_warning=True` to disable this warning\n",
      "  warnings.warn(\n",
      "***** Running training *****\n",
      "  Num examples = 14869\n",
      "  Num Epochs = 20\n",
      "  Instantaneous batch size per device = 32\n",
      "  Total train batch size (w. parallel, distributed & accumulation) = 32\n",
      "  Gradient Accumulation steps = 1\n",
      "  Total optimization steps = 9300\n",
      "  Number of trainable parameters = 1486658\n"
     ]
    },
    {
     "data": {
      "text/html": [
       "\n",
       "    <div>\n",
       "      \n",
       "      <progress value='14' max='9300' style='width:300px; height:20px; vertical-align: middle;'></progress>\n",
       "      [  14/9300 00:08 < 1:48:18, 1.43 it/s, Epoch 0.03/20]\n",
       "    </div>\n",
       "    <table border=\"1\" class=\"dataframe\">\n",
       "  <thead>\n",
       " <tr style=\"text-align: left;\">\n",
       "      <th>Epoch</th>\n",
       "      <th>Training Loss</th>\n",
       "      <th>Validation Loss</th>\n",
       "      <th>Loss Cls</th>\n",
       "      <th>Loss Res</th>\n",
       "      <th>Loss Cls Mixed</th>\n",
       "      <th>Accuracy</th>\n",
       "    </tr>\n",
       "  </thead>\n",
       "  <tbody>\n",
       "    <tr>\n",
       "      <td>0</td>\n",
       "      <td>No log</td>\n",
       "      <td>0.755084</td>\n",
       "      <td>0.597628</td>\n",
       "      <td>0.991269</td>\n",
       "      <td>0.316588</td>\n",
       "      <td>0.777890</td>\n",
       "    </tr>\n",
       "  </tbody>\n",
       "</table><p>"
      ],
      "text/plain": [
       "<IPython.core.display.HTML object>"
      ]
     },
     "metadata": {},
     "output_type": "display_data"
    },
    {
     "ename": "KeyboardInterrupt",
     "evalue": "",
     "output_type": "error",
     "traceback": [
      "\u001b[0;31m---------------------------------------------------------------------------\u001b[0m",
      "\u001b[0;31mKeyboardInterrupt\u001b[0m                         Traceback (most recent call last)",
      "Cell \u001b[0;32mIn[21], line 17\u001b[0m\n\u001b[1;32m     14\u001b[0m \u001b[38;5;28;01mwith\u001b[39;00m \u001b[38;5;28mopen\u001b[39m(os\u001b[38;5;241m.\u001b[39mpath\u001b[38;5;241m.\u001b[39mjoin(output_dir, \u001b[38;5;124m\"\u001b[39m\u001b[38;5;124mhyperparameters.json\u001b[39m\u001b[38;5;124m\"\u001b[39m), \u001b[38;5;124m\"\u001b[39m\u001b[38;5;124mw\u001b[39m\u001b[38;5;124m\"\u001b[39m) \u001b[38;5;28;01mas\u001b[39;00m f:\n\u001b[1;32m     15\u001b[0m     json\u001b[38;5;241m.\u001b[39mdump(loss_history, f)\n\u001b[0;32m---> 17\u001b[0m train_result \u001b[38;5;241m=\u001b[39m \u001b[43mtrainer\u001b[49m\u001b[38;5;241;43m.\u001b[39;49m\u001b[43mtrain\u001b[49m\u001b[43m(\u001b[49m\u001b[43m)\u001b[49m\n\u001b[1;32m     18\u001b[0m metrics \u001b[38;5;241m=\u001b[39m train_result\u001b[38;5;241m.\u001b[39mmetrics\n\u001b[1;32m     20\u001b[0m trainer\u001b[38;5;241m.\u001b[39msave_model()\n",
      "File \u001b[0;32m~/research/adapter/adapter-poisoning/transformers/trainer.py:1543\u001b[0m, in \u001b[0;36mTrainer.train\u001b[0;34m(self, resume_from_checkpoint, trial, ignore_keys_for_eval, **kwargs)\u001b[0m\n\u001b[1;32m   1538\u001b[0m     \u001b[38;5;28mself\u001b[39m\u001b[38;5;241m.\u001b[39mmodel_wrapped \u001b[38;5;241m=\u001b[39m \u001b[38;5;28mself\u001b[39m\u001b[38;5;241m.\u001b[39mmodel\n\u001b[1;32m   1540\u001b[0m inner_training_loop \u001b[38;5;241m=\u001b[39m find_executable_batch_size(\n\u001b[1;32m   1541\u001b[0m     \u001b[38;5;28mself\u001b[39m\u001b[38;5;241m.\u001b[39m_inner_training_loop, \u001b[38;5;28mself\u001b[39m\u001b[38;5;241m.\u001b[39m_train_batch_size, args\u001b[38;5;241m.\u001b[39mauto_find_batch_size\n\u001b[1;32m   1542\u001b[0m )\n\u001b[0;32m-> 1543\u001b[0m \u001b[38;5;28;01mreturn\u001b[39;00m \u001b[43minner_training_loop\u001b[49m\u001b[43m(\u001b[49m\n\u001b[1;32m   1544\u001b[0m \u001b[43m    \u001b[49m\u001b[43margs\u001b[49m\u001b[38;5;241;43m=\u001b[39;49m\u001b[43margs\u001b[49m\u001b[43m,\u001b[49m\n\u001b[1;32m   1545\u001b[0m \u001b[43m    \u001b[49m\u001b[43mresume_from_checkpoint\u001b[49m\u001b[38;5;241;43m=\u001b[39;49m\u001b[43mresume_from_checkpoint\u001b[49m\u001b[43m,\u001b[49m\n\u001b[1;32m   1546\u001b[0m \u001b[43m    \u001b[49m\u001b[43mtrial\u001b[49m\u001b[38;5;241;43m=\u001b[39;49m\u001b[43mtrial\u001b[49m\u001b[43m,\u001b[49m\n\u001b[1;32m   1547\u001b[0m \u001b[43m    \u001b[49m\u001b[43mignore_keys_for_eval\u001b[49m\u001b[38;5;241;43m=\u001b[39;49m\u001b[43mignore_keys_for_eval\u001b[49m\u001b[43m,\u001b[49m\n\u001b[1;32m   1548\u001b[0m \u001b[43m\u001b[49m\u001b[43m)\u001b[49m\n",
      "File \u001b[0;32m~/research/adapter/adapter-poisoning/transformers/trainer.py:1796\u001b[0m, in \u001b[0;36mTrainer._inner_training_loop\u001b[0;34m(self, batch_size, args, resume_from_checkpoint, trial, ignore_keys_for_eval)\u001b[0m\n\u001b[1;32m   1790\u001b[0m \u001b[38;5;28;01melse\u001b[39;00m:\n\u001b[1;32m   1791\u001b[0m     tr_loss_step \u001b[38;5;241m=\u001b[39m \u001b[38;5;28mself\u001b[39m\u001b[38;5;241m.\u001b[39mtraining_step(model, inputs)\n\u001b[1;32m   1793\u001b[0m \u001b[38;5;28;01mif\u001b[39;00m (\n\u001b[1;32m   1794\u001b[0m     args\u001b[38;5;241m.\u001b[39mlogging_nan_inf_filter\n\u001b[1;32m   1795\u001b[0m     \u001b[38;5;129;01mand\u001b[39;00m \u001b[38;5;129;01mnot\u001b[39;00m is_torch_tpu_available()\n\u001b[0;32m-> 1796\u001b[0m     \u001b[38;5;129;01mand\u001b[39;00m (torch\u001b[38;5;241m.\u001b[39misnan(tr_loss_step) \u001b[38;5;129;01mor\u001b[39;00m \u001b[43mtorch\u001b[49m\u001b[38;5;241;43m.\u001b[39;49m\u001b[43misinf\u001b[49m\u001b[43m(\u001b[49m\u001b[43mtr_loss_step\u001b[49m\u001b[43m)\u001b[49m)\n\u001b[1;32m   1797\u001b[0m ):\n\u001b[1;32m   1798\u001b[0m     \u001b[38;5;66;03m# if loss is nan or inf simply add the average of previous logged losses\u001b[39;00m\n\u001b[1;32m   1799\u001b[0m     tr_loss \u001b[38;5;241m+\u001b[39m\u001b[38;5;241m=\u001b[39m tr_loss \u001b[38;5;241m/\u001b[39m (\u001b[38;5;241m1\u001b[39m \u001b[38;5;241m+\u001b[39m \u001b[38;5;28mself\u001b[39m\u001b[38;5;241m.\u001b[39mstate\u001b[38;5;241m.\u001b[39mglobal_step \u001b[38;5;241m-\u001b[39m \u001b[38;5;28mself\u001b[39m\u001b[38;5;241m.\u001b[39m_globalstep_last_logged)\n\u001b[1;32m   1800\u001b[0m \u001b[38;5;28;01melse\u001b[39;00m:\n",
      "\u001b[0;31mKeyboardInterrupt\u001b[0m: "
     ]
    }
   ],
   "source": [
    "os.makedirs(output_dir, exist_ok=True)\n",
    "\n",
    "loss_history = {'base_model': model_name_or_path,\n",
    "                'max_seq_length': max_seq_length,\n",
    "                'random_seed': random_seed,\n",
    "                'lr': learning_rate,\n",
    "                'warmup_ratio': warmup_ratio,\n",
    "                'early_stopping_patience': patience,\n",
    "                'total_batch_size': total_batch_size_train,\n",
    "                'num_train_epoch': num_train_epochs,\n",
    "                'victim_head_path': victim_head_path,\n",
    "                'alpha': alpha}\n",
    "\n",
    "with open(os.path.join(output_dir, \"hyperparameters.json\"), \"w\") as f:\n",
    "    json.dump(loss_history, f)\n",
    "\n",
    "train_result = trainer.train()\n",
    "metrics = train_result.metrics\n",
    "\n",
    "trainer.save_model()\n",
    "\n",
    "trainer.log_metrics(\"train\", metrics)\n",
    "trainer.save_metrics(\"train\", metrics)\n",
    "trainer.save_state()\n",
    "\n",
    "os.makedirs(os.path.join(output_dir, f\"trained_adapters\"), exist_ok=True)\n",
    "model.save_adapter(os.path.join(output_dir, f\"trained_adapters/{attacker_name}\"), attacker_name)\n",
    "\n",
    "os.makedirs(os.path.join(output_dir, f\"victim_head\"), exist_ok=True)\n",
    "model.save_head(os.path.join(output_dir, f\"victim_head/{victim_head_name}\"), victim_head)"
   ]
  },
  {
   "cell_type": "code",
   "execution_count": 22,
   "id": "39020e5d-680a-43b1-959c-47e785264e67",
   "metadata": {},
   "outputs": [],
   "source": [
    "trainer_evalMix = CustomTrainerEvalMix(\n",
    "        model=model,\n",
    "        args=training_args,\n",
    "        train_dataset=None,\n",
    "        eval_dataset=None,\n",
    "        tokenizer=tokenizer,\n",
    "        data_collator=default_data_collator,\n",
    "        compute_metrics=compute_metrics,\n",
    "        callbacks = [EarlyStoppingCallback(early_stopping_patience=patience)]\n",
    "    )"
   ]
  },
  {
   "cell_type": "code",
   "execution_count": 23,
   "id": "b639dbf3-4464-4c6c-a776-fcd276ba37f6",
   "metadata": {},
   "outputs": [
    {
     "name": "stdout",
     "output_type": "stream",
     "text": [
      "{'eval_loss': 0.7550840545923282, 'eval_loss_cls': 0.5976276474121289, 'eval_loss_res': 0.9912686225695487, 'eval_loss_cls_mixed': 0.31658843541756654, 'eval_accuracy': 0.7778898477554321}\n",
      "\n",
      "0.7778898477554321\n"
     ]
    }
   ],
   "source": [
    "# metrics_1 = trainer.evaluate(eval_dataset=eval_dataset_1)\n",
    "# print(metrics_1)\n",
    "metrics_2 = trainer.evaluate(eval_dataset=eval_dataset_2)\n",
    "print(metrics_2)\n",
    "print()\n",
    "print(metrics_2['eval_accuracy'])\n",
    "# trainer.save_metrics(\"eval\", {'metric_1': metrics_1, 'metric_2': metrics_2})"
   ]
  },
  {
   "cell_type": "code",
   "execution_count": 24,
   "id": "4aed3544-4d5a-4f76-b82f-ddbbb680d485",
   "metadata": {},
   "outputs": [
    {
     "name": "stderr",
     "output_type": "stream",
     "text": [
      "early stopping required metric_for_best_model, but did not find eval_loss so early stopping is disabled\n"
     ]
    },
    {
     "name": "stdout",
     "output_type": "stream",
     "text": [
      "{'eval_loss_cls_mixed': 0.4575748401028769, 'eval_accuracy_mixed': 0.785250723361969, 'eval_runtime': 16.2774, 'eval_samples_per_second': 104.132, 'eval_steps_per_second': 0.86}\n",
      "\n",
      "0.785250723361969\n"
     ]
    }
   ],
   "source": [
    "metrics_1 = trainer_evalMix.evaluate(eval_dataset=eval_dataset_1)\n",
    "print(metrics_1)\n",
    "print()\n",
    "print(metrics_1['eval_accuracy_mixed'])\n",
    "# metrics_2 = trainer_evalMix.evaluate(eval_dataset=eval_dataset_2)\n",
    "# print(metrics_2)4\n",
    "trainer.save_metrics('eval', {'eval_attackerOnly': {'dataset_2': metrics_2}, \"eval_mix\": {'dataset_1': metrics_1}})"
   ]
  },
  {
   "cell_type": "code",
   "execution_count": null,
   "id": "90a18af5-9cc5-455f-9e54-d9cedb221766",
   "metadata": {},
   "outputs": [],
   "source": []
  }
 ],
 "metadata": {
  "kernelspec": {
   "display_name": "moe",
   "language": "python",
   "name": "moe"
  },
  "language_info": {
   "codemirror_mode": {
    "name": "ipython",
    "version": 3
   },
   "file_extension": ".py",
   "mimetype": "text/x-python",
   "name": "python",
   "nbconvert_exporter": "python",
   "pygments_lexer": "ipython3",
   "version": "3.11.4"
  }
 },
 "nbformat": 4,
 "nbformat_minor": 5
}
