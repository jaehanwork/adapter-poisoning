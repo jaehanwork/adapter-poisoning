{
 "cells": [
  {
   "cell_type": "code",
   "execution_count": 1,
   "id": "b7dc49c4-c2e2-4e06-9ab1-da7d58c094ff",
   "metadata": {},
   "outputs": [
    {
     "name": "stdout",
     "output_type": "stream",
     "text": [
      "/home/jaehan/research/adapter/adapter-poisoning/data_ign\n"
     ]
    }
   ],
   "source": [
    "import itertools\n",
    "import numpy as np\n",
    "import os\n",
    "from dotenv import load_dotenv\n",
    "\n",
    "load_dotenv(os.path.expanduser('~/.env'), verbose=True)\n",
    "\n",
    "data_dir = os.getenv('DATA_IGN_DIR')\n",
    "\n",
    "print(data_dir)\n",
    "\n",
    "tasks = ['olid_processed', 'hate_speech_offensive', 'toxic_conversations_50k', 'hate_speech18']"
   ]
  },
  {
   "cell_type": "code",
   "execution_count": 2,
   "id": "925fc762-26c7-4c97-a8c4-5c4cbae6af2b",
   "metadata": {},
   "outputs": [
    {
     "name": "stdout",
     "output_type": "stream",
     "text": [
      "./offensive_singleAdapter_training.py olid_processed > /home/jaehan/research/adapter/adapter-poisoning/data_ign/log/case1_offensive_singleAdapter_training/olid_processed\n",
      "./offensive_singleAdapter_training.py hate_speech_offensive > /home/jaehan/research/adapter/adapter-poisoning/data_ign/log/case1_offensive_singleAdapter_training/hate_speech_offensive\n",
      "./offensive_singleAdapter_training.py toxic_conversations_50k > /home/jaehan/research/adapter/adapter-poisoning/data_ign/log/case1_offensive_singleAdapter_training/toxic_conversations_50k\n",
      "./offensive_singleAdapter_training.py hate_speech18 > /home/jaehan/research/adapter/adapter-poisoning/data_ign/log/case1_offensive_singleAdapter_training/hate_speech18\n"
     ]
    }
   ],
   "source": [
    "name = 'offensive_singleAdapter_training'\n",
    "\n",
    "for task in tasks:\n",
    "    print(f\"./{name}.py {task} > {data_dir}/log/case1_{name}/{task}\")"
   ]
  },
  {
   "cell_type": "code",
   "execution_count": 3,
   "id": "5bc3863b-1b11-478a-b576-37d25aa8965e",
   "metadata": {},
   "outputs": [
    {
     "name": "stdout",
     "output_type": "stream",
     "text": [
      "./offensive_moeBaseline.py hate_speech_offensive olid_processed > /home/jaehan/research/adapter/adapter-poisoning/data_ign/log/case1_offensive_moeBaseline/olid_processed_with_hate_speech_offensive\n",
      "./offensive_moeBaseline.py toxic_conversations_50k olid_processed > /home/jaehan/research/adapter/adapter-poisoning/data_ign/log/case1_offensive_moeBaseline/olid_processed_with_toxic_conversations_50k\n",
      "./offensive_moeBaseline.py hate_speech18 olid_processed > /home/jaehan/research/adapter/adapter-poisoning/data_ign/log/case1_offensive_moeBaseline/olid_processed_with_hate_speech18\n",
      "./offensive_moeBaseline.py olid_processed hate_speech_offensive > /home/jaehan/research/adapter/adapter-poisoning/data_ign/log/case1_offensive_moeBaseline/hate_speech_offensive_with_olid_processed\n",
      "./offensive_moeBaseline.py toxic_conversations_50k hate_speech_offensive > /home/jaehan/research/adapter/adapter-poisoning/data_ign/log/case1_offensive_moeBaseline/hate_speech_offensive_with_toxic_conversations_50k\n",
      "./offensive_moeBaseline.py hate_speech18 hate_speech_offensive > /home/jaehan/research/adapter/adapter-poisoning/data_ign/log/case1_offensive_moeBaseline/hate_speech_offensive_with_hate_speech18\n",
      "./offensive_moeBaseline.py olid_processed toxic_conversations_50k > /home/jaehan/research/adapter/adapter-poisoning/data_ign/log/case1_offensive_moeBaseline/toxic_conversations_50k_with_olid_processed\n",
      "./offensive_moeBaseline.py hate_speech_offensive toxic_conversations_50k > /home/jaehan/research/adapter/adapter-poisoning/data_ign/log/case1_offensive_moeBaseline/toxic_conversations_50k_with_hate_speech_offensive\n",
      "./offensive_moeBaseline.py hate_speech18 toxic_conversations_50k > /home/jaehan/research/adapter/adapter-poisoning/data_ign/log/case1_offensive_moeBaseline/toxic_conversations_50k_with_hate_speech18\n",
      "./offensive_moeBaseline.py olid_processed hate_speech18 > /home/jaehan/research/adapter/adapter-poisoning/data_ign/log/case1_offensive_moeBaseline/hate_speech18_with_olid_processed\n",
      "./offensive_moeBaseline.py hate_speech_offensive hate_speech18 > /home/jaehan/research/adapter/adapter-poisoning/data_ign/log/case1_offensive_moeBaseline/hate_speech18_with_hate_speech_offensive\n",
      "./offensive_moeBaseline.py toxic_conversations_50k hate_speech18 > /home/jaehan/research/adapter/adapter-poisoning/data_ign/log/case1_offensive_moeBaseline/hate_speech18_with_toxic_conversations_50k\n"
     ]
    }
   ],
   "source": [
    "permutations = list(itertools.permutations(tasks, 2))\n",
    "\n",
    "name = 'offensive_moeBaseline'\n",
    "\n",
    "for combo in permutations:\n",
    "    print(f\"./{name}.py {combo[1]} {combo[0]} > {data_dir}/log/case1_{name}/{combo[0]}_with_{combo[1]}\")"
   ]
  },
  {
   "cell_type": "code",
   "execution_count": 4,
   "id": "bd4c8b06-8d95-48ad-ad1a-ca15dead8746",
   "metadata": {},
   "outputs": [
    {
     "name": "stdout",
     "output_type": "stream",
     "text": [
      "./offensive_residualVictim_attackTraining.py hate_speech_offensive olid_processed > /home/jaehan/research/adapter/adapter-poisoning/data_ign/log/case1_offensive_residualVictim_attackTraining/olid_processed_attack_hate_speech_offensive\n",
      "./offensive_residualVictim_attackTraining.py toxic_conversations_50k olid_processed > /home/jaehan/research/adapter/adapter-poisoning/data_ign/log/case1_offensive_residualVictim_attackTraining/olid_processed_attack_toxic_conversations_50k\n",
      "./offensive_residualVictim_attackTraining.py hate_speech18 olid_processed > /home/jaehan/research/adapter/adapter-poisoning/data_ign/log/case1_offensive_residualVictim_attackTraining/olid_processed_attack_hate_speech18\n",
      "./offensive_residualVictim_attackTraining.py olid_processed hate_speech_offensive > /home/jaehan/research/adapter/adapter-poisoning/data_ign/log/case1_offensive_residualVictim_attackTraining/hate_speech_offensive_attack_olid_processed\n",
      "./offensive_residualVictim_attackTraining.py toxic_conversations_50k hate_speech_offensive > /home/jaehan/research/adapter/adapter-poisoning/data_ign/log/case1_offensive_residualVictim_attackTraining/hate_speech_offensive_attack_toxic_conversations_50k\n",
      "./offensive_residualVictim_attackTraining.py hate_speech18 hate_speech_offensive > /home/jaehan/research/adapter/adapter-poisoning/data_ign/log/case1_offensive_residualVictim_attackTraining/hate_speech_offensive_attack_hate_speech18\n",
      "./offensive_residualVictim_attackTraining.py olid_processed toxic_conversations_50k > /home/jaehan/research/adapter/adapter-poisoning/data_ign/log/case1_offensive_residualVictim_attackTraining/toxic_conversations_50k_attack_olid_processed\n",
      "./offensive_residualVictim_attackTraining.py hate_speech_offensive toxic_conversations_50k > /home/jaehan/research/adapter/adapter-poisoning/data_ign/log/case1_offensive_residualVictim_attackTraining/toxic_conversations_50k_attack_hate_speech_offensive\n",
      "./offensive_residualVictim_attackTraining.py hate_speech18 toxic_conversations_50k > /home/jaehan/research/adapter/adapter-poisoning/data_ign/log/case1_offensive_residualVictim_attackTraining/toxic_conversations_50k_attack_hate_speech18\n",
      "./offensive_residualVictim_attackTraining.py olid_processed hate_speech18 > /home/jaehan/research/adapter/adapter-poisoning/data_ign/log/case1_offensive_residualVictim_attackTraining/hate_speech18_attack_olid_processed\n",
      "./offensive_residualVictim_attackTraining.py hate_speech_offensive hate_speech18 > /home/jaehan/research/adapter/adapter-poisoning/data_ign/log/case1_offensive_residualVictim_attackTraining/hate_speech18_attack_hate_speech_offensive\n",
      "./offensive_residualVictim_attackTraining.py toxic_conversations_50k hate_speech18 > /home/jaehan/research/adapter/adapter-poisoning/data_ign/log/case1_offensive_residualVictim_attackTraining/hate_speech18_attack_toxic_conversations_50k\n"
     ]
    }
   ],
   "source": [
    "permutations = list(itertools.permutations(tasks, 2))\n",
    "\n",
    "name = 'offensive_residualVictim_attackTraining'\n",
    "\n",
    "for combo in permutations:\n",
    "    print(f\"./{name}.py {combo[1]} {combo[0]} > {data_dir}/log/case1_{name}/{combo[0]}_attack_{combo[1]}\")\n"
   ]
  },
  {
   "cell_type": "code",
   "execution_count": 2,
   "id": "eca4a45a-64f6-4c61-8a7a-9ac8737fb8e5",
   "metadata": {},
   "outputs": [
    {
     "name": "stdout",
     "output_type": "stream",
     "text": [
      "./offensive_residualVictim_attackEvaluation.py hate_speech_offensive olid_processed > /home/jaehan/research/adapter/adapter-poisoning/data_ign/log/case1_offensive_residualVictim_attackEvaluation/olid_processed_attack_hate_speech_offensive\n",
      "./offensive_residualVictim_attackEvaluation.py toxic_conversations_50k olid_processed > /home/jaehan/research/adapter/adapter-poisoning/data_ign/log/case1_offensive_residualVictim_attackEvaluation/olid_processed_attack_toxic_conversations_50k\n",
      "./offensive_residualVictim_attackEvaluation.py hate_speech18 olid_processed > /home/jaehan/research/adapter/adapter-poisoning/data_ign/log/case1_offensive_residualVictim_attackEvaluation/olid_processed_attack_hate_speech18\n",
      "./offensive_residualVictim_attackEvaluation.py olid_processed hate_speech_offensive > /home/jaehan/research/adapter/adapter-poisoning/data_ign/log/case1_offensive_residualVictim_attackEvaluation/hate_speech_offensive_attack_olid_processed\n",
      "./offensive_residualVictim_attackEvaluation.py toxic_conversations_50k hate_speech_offensive > /home/jaehan/research/adapter/adapter-poisoning/data_ign/log/case1_offensive_residualVictim_attackEvaluation/hate_speech_offensive_attack_toxic_conversations_50k\n",
      "./offensive_residualVictim_attackEvaluation.py hate_speech18 hate_speech_offensive > /home/jaehan/research/adapter/adapter-poisoning/data_ign/log/case1_offensive_residualVictim_attackEvaluation/hate_speech_offensive_attack_hate_speech18\n",
      "./offensive_residualVictim_attackEvaluation.py olid_processed toxic_conversations_50k > /home/jaehan/research/adapter/adapter-poisoning/data_ign/log/case1_offensive_residualVictim_attackEvaluation/toxic_conversations_50k_attack_olid_processed\n",
      "./offensive_residualVictim_attackEvaluation.py hate_speech_offensive toxic_conversations_50k > /home/jaehan/research/adapter/adapter-poisoning/data_ign/log/case1_offensive_residualVictim_attackEvaluation/toxic_conversations_50k_attack_hate_speech_offensive\n",
      "./offensive_residualVictim_attackEvaluation.py hate_speech18 toxic_conversations_50k > /home/jaehan/research/adapter/adapter-poisoning/data_ign/log/case1_offensive_residualVictim_attackEvaluation/toxic_conversations_50k_attack_hate_speech18\n",
      "./offensive_residualVictim_attackEvaluation.py olid_processed hate_speech18 > /home/jaehan/research/adapter/adapter-poisoning/data_ign/log/case1_offensive_residualVictim_attackEvaluation/hate_speech18_attack_olid_processed\n",
      "./offensive_residualVictim_attackEvaluation.py hate_speech_offensive hate_speech18 > /home/jaehan/research/adapter/adapter-poisoning/data_ign/log/case1_offensive_residualVictim_attackEvaluation/hate_speech18_attack_hate_speech_offensive\n",
      "./offensive_residualVictim_attackEvaluation.py toxic_conversations_50k hate_speech18 > /home/jaehan/research/adapter/adapter-poisoning/data_ign/log/case1_offensive_residualVictim_attackEvaluation/hate_speech18_attack_toxic_conversations_50k\n"
     ]
    }
   ],
   "source": [
    "permutations = list(itertools.permutations(tasks, 2))\n",
    "\n",
    "name = 'offensive_residualVictim_attackEvaluation'\n",
    "\n",
    "for combo in permutations:\n",
    "    print(f\"./{name}.py {combo[1]} {combo[0]} > {data_dir}/log/case1_{name}/{combo[0]}_attack_{combo[1]}\")"
   ]
  },
  {
   "cell_type": "code",
   "execution_count": null,
   "id": "a83f84bb-89da-4d0f-a1b0-6d4473aa559b",
   "metadata": {},
   "outputs": [],
   "source": []
  }
 ],
 "metadata": {
  "kernelspec": {
   "display_name": "moe",
   "language": "python",
   "name": "moe"
  },
  "language_info": {
   "codemirror_mode": {
    "name": "ipython",
    "version": 3
   },
   "file_extension": ".py",
   "mimetype": "text/x-python",
   "name": "python",
   "nbconvert_exporter": "python",
   "pygments_lexer": "ipython3",
   "version": "3.11.4"
  }
 },
 "nbformat": 4,
 "nbformat_minor": 5
}
