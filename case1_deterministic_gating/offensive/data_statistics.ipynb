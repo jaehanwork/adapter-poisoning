{
 "cells": [
  {
   "cell_type": "code",
   "execution_count": 36,
   "id": "a2c57ad6-a203-4e43-9b6e-8b3c9e967654",
   "metadata": {},
   "outputs": [],
   "source": [
    "import os\n",
    "import json\n",
    "import datasets\n",
    "from datasets import load_dataset\n",
    "from dotenv import load_dotenv\n",
    "\n",
    "load_dotenv(os.path.expanduser('~/.env'), verbose=True)\n",
    "\n",
    "data_dir = os.getenv('DATA_IGN_DIR')\n",
    "\n",
    "is_glue = {\"cola\": True,\n",
    "            \"mnli\": True,\n",
    "            \"mrpc\": True,\n",
    "            \"qnli\": True,\n",
    "             \"qqp\": True,\n",
    "             \"rte\": True,\n",
    "            \"sst2\": True,\n",
    "            \"stsb\": True,\n",
    "            \"wnli\": True,}"
   ]
  },
  {
   "cell_type": "code",
   "execution_count": 37,
   "id": "5b7382ed-52b3-48fe-9701-5656987272fb",
   "metadata": {},
   "outputs": [],
   "source": [
    "def load_dataset_with_glue(task_name):\n",
    "    if task_name == 'scitail':\n",
    "        return load_dataset(task_name, 'tsv_format')\n",
    "    elif task_name in is_glue:\n",
    "        return load_dataset('glue', task_name)\n",
    "    else:\n",
    "        return load_dataset(task_name)"
   ]
  },
  {
   "cell_type": "code",
   "execution_count": 38,
   "id": "af410379-8ab9-433c-acab-6789ad1318e8",
   "metadata": {},
   "outputs": [],
   "source": [
    "tasks = ['pranjali97/OLID_processed', 'hate_speech_offensive', 'SetFit/toxic_conversations_50k', 'hate_speech18']"
   ]
  },
  {
   "cell_type": "code",
   "execution_count": 39,
   "id": "afc8b8ab-7729-4632-a455-becd0057c7f7",
   "metadata": {},
   "outputs": [
    {
     "name": "stdout",
     "output_type": "stream",
     "text": [
      "pranjali97/OLID_processed\n",
      "DatasetDict({\n",
      "    train: Dataset({\n",
      "        features: ['text', 'label', '__index_level_0__'],\n",
      "        num_rows: 8473\n",
      "    })\n",
      "    validation: Dataset({\n",
      "        features: ['text', 'label', '__index_level_0__'],\n",
      "        num_rows: 2648\n",
      "    })\n",
      "    test: Dataset({\n",
      "        features: ['text', 'label', '__index_level_0__'],\n",
      "        num_rows: 2119\n",
      "    })\n",
      "})\n",
      "\n",
      "hate_speech_offensive\n",
      "DatasetDict({\n",
      "    train: Dataset({\n",
      "        features: ['count', 'hate_speech_count', 'offensive_language_count', 'neither_count', 'class', 'tweet'],\n",
      "        num_rows: 24783\n",
      "    })\n",
      "})\n",
      "\n"
     ]
    },
    {
     "name": "stderr",
     "output_type": "stream",
     "text": [
      "Repo card metadata block was not found. Setting CardData to empty.\n"
     ]
    },
    {
     "name": "stdout",
     "output_type": "stream",
     "text": [
      "SetFit/toxic_conversations_50k\n",
      "DatasetDict({\n",
      "    train: Dataset({\n",
      "        features: ['text', 'label', 'label_text'],\n",
      "        num_rows: 50000\n",
      "    })\n",
      "    test: Dataset({\n",
      "        features: ['text', 'label', 'label_text'],\n",
      "        num_rows: 50000\n",
      "    })\n",
      "})\n",
      "\n",
      "hate_speech18\n",
      "DatasetDict({\n",
      "    train: Dataset({\n",
      "        features: ['text', 'user_id', 'subforum_id', 'num_contexts', 'label'],\n",
      "        num_rows: 10944\n",
      "    })\n",
      "})\n",
      "\n"
     ]
    }
   ],
   "source": [
    "for task_name in tasks:\n",
    "    raw_datasets = load_dataset_with_glue(task_name)\n",
    "\n",
    "    print(task_name)\n",
    "    print(raw_datasets)\n",
    "    print()"
   ]
  },
  {
   "cell_type": "code",
   "execution_count": null,
   "id": "1692435a-332c-4b39-8218-3062e3fd0550",
   "metadata": {},
   "outputs": [],
   "source": []
  }
 ],
 "metadata": {
  "kernelspec": {
   "display_name": "moe",
   "language": "python",
   "name": "moe"
  },
  "language_info": {
   "codemirror_mode": {
    "name": "ipython",
    "version": 3
   },
   "file_extension": ".py",
   "mimetype": "text/x-python",
   "name": "python",
   "nbconvert_exporter": "python",
   "pygments_lexer": "ipython3",
   "version": "3.11.4"
  }
 },
 "nbformat": 4,
 "nbformat_minor": 5
}
