{
 "cells": [
  {
   "cell_type": "code",
   "execution_count": 1,
   "id": "0f030900-4a04-4b1d-995c-0432369b9118",
   "metadata": {},
   "outputs": [],
   "source": [
    "import os\n",
    "import json\n",
    "from dotenv import load_dotenv\n",
    "import numpy as np\n",
    "\n",
    "load_dotenv(os.path.expanduser('~/.env'), verbose=True)\n",
    "\n",
    "data_dir = os.getenv('DATA_IGN_DIR')\n",
    "\n",
    "def dict_round(data):\n",
    "    data_new = {}\n",
    "    for k, v in data.items():\n",
    "        if type(v) == float:\n",
    "            v = round(v, 4)\n",
    "        data_new[k] = v\n",
    "    return data_new        "
   ]
  },
  {
   "cell_type": "code",
   "execution_count": 5,
   "id": "3c88d21d-51b8-4858-8a76-d689759bed1b",
   "metadata": {},
   "outputs": [
    {
     "name": "stdout",
     "output_type": "stream",
     "text": [
      "hate_speech18_20231222-212341\n",
      "accuracy 0.9122887253761292\n",
      "\n",
      "hate_speech_offensive_20231222-210957\n",
      "accuracy 0.9263667464256287\n",
      "\n",
      "olid_processed_20231222-210832\n",
      "accuracy 0.7858406901359558\n",
      "\n",
      "toxic_conversations_50k_20231222-211333\n",
      "accuracy 0.9444000124931335\n",
      "\n"
     ]
    }
   ],
   "source": [
    "dir_path = os.path.join(data_dir, 'case1_offensive_singleAdapter_training')\n",
    "for d in sorted(os.listdir(dir_path)):\n",
    "    if d.startswith('.'):\n",
    "        continue\n",
    "    task_name = d\n",
    "\n",
    "    result_path = os.path.join(dir_path, d, 'eval_results.json')\n",
    "\n",
    "    if not os.path.exists(result_path):\n",
    "        continue\n",
    "\n",
    "    with open(result_path, 'r') as f:\n",
    "        result = json.load(f)\n",
    "\n",
    "    print(task_name)\n",
    "    print('accuracy', result['eval_accuracy'])\n",
    "    print()\n",
    "            "
   ]
  },
  {
   "cell_type": "code",
   "execution_count": 7,
   "id": "4634fc67-f321-4cd7-b5b9-2f55d77ed7f7",
   "metadata": {},
   "outputs": [
    {
     "name": "stdout",
     "output_type": "stream",
     "text": [
      "hate_speech18_with_hate_speech_offensive_20231222-215927\n",
      "0.9095\n",
      "\n",
      "hate_speech18_with_hate_speech_offensive_20231222-234551\n",
      "0.9095\n",
      "\n",
      "hate_speech18_with_olid_processed_20231222-215713\n",
      "0.91\n",
      "\n",
      "hate_speech18_with_olid_processed_20231222-234338\n",
      "0.91\n",
      "\n",
      "hate_speech18_with_toxic_conversations_50k_20231222-220139\n",
      "0.9059\n",
      "\n",
      "hate_speech18_with_toxic_conversations_50k_20231222-234804\n",
      "0.9059\n",
      "\n",
      "hate_speech_offensive_with_hate_speech18_20231222-215218\n",
      "0.9157\n",
      "\n",
      "hate_speech_offensive_with_olid_processed_20231222-214254\n",
      "0.9201\n",
      "\n",
      "hate_speech_offensive_with_toxic_conversations_50k_20231222-214739\n",
      "0.9209\n",
      "\n",
      "olid_processed_with_hate_speech18_20231222-234220\n",
      "0.7605\n",
      "\n",
      "olid_processed_with_hate_speech_offensive_20231222-233942\n",
      "0.7853\n",
      "\n",
      "olid_processed_with_toxic_conversations_50k_20231222-234102\n",
      "0.7847\n",
      "\n"
     ]
    }
   ],
   "source": [
    "dir_path = os.path.join(data_dir, 'case1_offensive_moeBaseline')\n",
    "for d in sorted(os.listdir(dir_path)):\n",
    "    if d.startswith('.'):\n",
    "        continue\n",
    "    task_name = d\n",
    "\n",
    "    if 'snli' in task_name:\n",
    "        continue\n",
    "\n",
    "    result_path = os.path.join(dir_path, d, 'eval_results.json')\n",
    "\n",
    "    if not os.path.exists(result_path):\n",
    "        continue\n",
    "\n",
    "    with open(result_path, 'r') as f:\n",
    "        result = json.load(f)\n",
    "\n",
    "    print(task_name)\n",
    "    print(np.around(result['eval_accuracy'], 4))\n",
    "    print()\n",
    "            "
   ]
  },
  {
   "cell_type": "code",
   "execution_count": 9,
   "id": "fe31a47e-ee5a-4554-9b98-daf2153ebbfe",
   "metadata": {},
   "outputs": [
    {
     "name": "stdout",
     "output_type": "stream",
     "text": [
      "hate_speech_offensive_attack_hate_speech18_20231223-050503\n",
      "attackerOnly 0.9094\n",
      "mix 0.1325\n",
      "\n",
      "hate_speech_offensive_attack_olid_processed_20231223-033509\n",
      "attackerOnly 0.91\n",
      "mix 0.6507\n",
      "\n",
      "olid_processed_attack_hate_speech18_20231223-030806\n",
      "attackerOnly 0.7782\n",
      "mix 0.8853\n",
      "\n",
      "olid_processed_attack_hate_speech_offensive_20231223-024039\n",
      "attackerOnly 0.7794\n",
      "mix 0.7779\n",
      "\n"
     ]
    }
   ],
   "source": [
    "dir_path = os.path.join(data_dir, 'case1_offensive_residualVictim_attackTraining')\n",
    "for d in sorted(os.listdir(dir_path)):\n",
    "    if d.startswith('.'):\n",
    "        continue\n",
    "    task_name = d\n",
    "\n",
    "    result_path = os.path.join(dir_path, d, 'eval_results.json')\n",
    "\n",
    "    if not os.path.exists(result_path):\n",
    "        continue\n",
    "\n",
    "    with open(result_path, 'r') as f:\n",
    "        result = json.load(f)\n",
    "\n",
    "    print(task_name)\n",
    "    print('attackerOnly', np.around(result['eval_attackerOnly']['dataset_2']['eval_accuracy'], 4))\n",
    "    print('mix', np.around(result['eval_mix']['dataset_1']['eval_accuracy_mixed'], 4))\n",
    "    print()\n",
    "            "
   ]
  },
  {
   "cell_type": "code",
   "execution_count": 3,
   "id": "ea34c233-fa6b-4856-ab59-764444524246",
   "metadata": {},
   "outputs": [
    {
     "name": "stdout",
     "output_type": "stream",
     "text": [
      "mnli_attack_qnli_20231221-225652\n",
      "Victim accuracy 0.4946000277996063\n",
      "\n",
      "mnli_attack_rte_20231221-225618\n",
      "Victim accuracy 0.4729241728782654\n",
      "\n",
      "mnli_attack_scitail_20231221-230807\n",
      "Victim accuracy 0.4961656332015991\n",
      "\n",
      "qnli_attack_mnli_20231221-215804\n",
      "Victim accuracy 0.4730384647846222\n",
      "\n",
      "qnli_attack_rte_20231221-215449\n",
      "Victim accuracy 0.5090252757072449\n",
      "\n",
      "qnli_attack_scitail_20231221-215522\n",
      "Victim accuracy 0.4961656332015991\n",
      "\n",
      "rte_attack_mnli_20231221-212648\n",
      "Victim accuracy 0.8820054531097412\n",
      "\n",
      "rte_attack_qnli_20231221-211230\n",
      "Victim accuracy 0.8649094104766846\n",
      "\n",
      "rte_attack_scitail_20231221-212400\n",
      "Victim accuracy 0.8719325065612793\n",
      "\n",
      "scitail_attack_mnli_20231221-223740\n",
      "Victim accuracy 0.7332626581192017\n",
      "\n",
      "scitail_attack_qnli_20231221-222617\n",
      "Victim accuracy 0.5193117260932922\n",
      "\n",
      "scitail_attack_rte_20231221-222544\n",
      "Victim accuracy 0.4729241728782654\n",
      "\n"
     ]
    }
   ],
   "source": [
    "dir_path = os.path.join(data_dir, 'case1_nli_residualVictim_attackEvaluation')\n",
    "for d in sorted(os.listdir(dir_path)):\n",
    "    if d.startswith('.'):\n",
    "        continue\n",
    "    task_name = d\n",
    "\n",
    "    result_path = os.path.join(dir_path, d, 'eval_results.json')\n",
    "\n",
    "    if not os.path.exists(result_path):\n",
    "        continue\n",
    "\n",
    "    with open(result_path, 'r') as f:\n",
    "        result = json.load(f)\n",
    "\n",
    "    print(task_name)\n",
    "    print('Victim accuracy', result['eval_accuracy'])\n",
    "    print()\n",
    "            "
   ]
  },
  {
   "cell_type": "code",
   "execution_count": null,
   "id": "c04b2824-3156-4845-883d-2f60cec3d3da",
   "metadata": {},
   "outputs": [],
   "source": []
  }
 ],
 "metadata": {
  "kernelspec": {
   "display_name": "moe",
   "language": "python",
   "name": "moe"
  },
  "language_info": {
   "codemirror_mode": {
    "name": "ipython",
    "version": 3
   },
   "file_extension": ".py",
   "mimetype": "text/x-python",
   "name": "python",
   "nbconvert_exporter": "python",
   "pygments_lexer": "ipython3",
   "version": "3.11.4"
  }
 },
 "nbformat": 4,
 "nbformat_minor": 5
}
