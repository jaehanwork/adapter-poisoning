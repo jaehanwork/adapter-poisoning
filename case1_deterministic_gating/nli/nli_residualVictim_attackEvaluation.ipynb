{
 "cells": [
  {
   "cell_type": "code",
   "execution_count": 1,
   "id": "50b8eb98-f053-4210-b9a7-177d926d5ce6",
   "metadata": {},
   "outputs": [],
   "source": [
    "import sys\n",
    "import os\n",
    "from dotenv import load_dotenv\n",
    "\n",
    "load_dotenv(os.path.expanduser('~/.env'), verbose=True)\n",
    "\n",
    "data_dir = os.getenv('DATA_IGN_DIR')\n",
    "adapter_lib_path = os.getenv('ADAPTER_LIB_PATH')\n",
    "\n",
    "sys.path.insert(0, adapter_lib_path)"
   ]
  },
  {
   "cell_type": "code",
   "execution_count": 2,
   "id": "df7048f5-5b82-4fa6-8d3a-5ccde0de0180",
   "metadata": {},
   "outputs": [
    {
     "name": "stdout",
     "output_type": "stream",
     "text": [
      "cpu 0\n"
     ]
    }
   ],
   "source": [
    "import logging\n",
    "os.environ[\"CUDA_VISIBLE_DEVICES\"] = '1'\n",
    "import random\n",
    "from dataclasses import dataclass, field\n",
    "from typing import Optional, List\n",
    "\n",
    "import datasets\n",
    "import numpy as np\n",
    "from datasets import load_dataset, concatenate_datasets\n",
    "\n",
    "import evaluate\n",
    "import transformers\n",
    "from transformers import (\n",
    "    AutoConfig,\n",
    "    AutoTokenizer,\n",
    "    DataCollatorWithPadding,\n",
    "    EvalPrediction,\n",
    "    HfArgumentParser,\n",
    "    PretrainedConfig,\n",
    "    Trainer,\n",
    "    TrainingArguments,\n",
    "    default_data_collator,\n",
    "    set_seed,\n",
    "    get_scheduler,\n",
    "    PfeifferConfig\n",
    ")\n",
    "from transformers.adapters import AdapterArguments, AdapterTrainer, AdapterConfigBase, AutoAdapterModel, setup_adapter_training\n",
    "from transformers import BertTokenizer, BertModelWithHeads, AdapterConfig, EvalPrediction, TextClassificationPipeline\n",
    "from transformers.trainer_utils import get_last_checkpoint\n",
    "from transformers.utils import check_min_version\n",
    "from transformers.utils.versions import require_version\n",
    "\n",
    "from torch.utils.data import DataLoader\n",
    "import torch\n",
    "\n",
    "from pdb import set_trace\n",
    "import transformers.adapters.composition as ac\n",
    "\n",
    "from transformers.adapters.heads import ClassificationHead\n",
    "from torch.nn import CrossEntropyLoss, MSELoss\n",
    "\n",
    "from transformers.trainer_utils import EvalLoopOutput\n",
    "\n",
    "from sklearn.metrics import accuracy_score, classification_report, confusion_matrix, recall_score\n",
    "\n",
    "from tqdm import tqdm\n",
    "import json\n",
    "from datetime import datetime\n",
    "import random\n",
    "from datasets import concatenate_datasets\n",
    "\n",
    "from transformers import EarlyStoppingCallback\n",
    "\n",
    "import torch.nn as nn\n",
    "import torch.nn.functional as F\n",
    "\n",
    "\n",
    "device = torch.device('cuda:1' if torch.cuda.is_available() else 'cpu')\n",
    "device_count = torch.cuda.device_count()\n",
    "print(device, device_count)\n",
    "\n",
    "task_to_keys = {\n",
    "    \"cola\": (\"sentence\", None),\n",
    "    \"mnli\": (\"premise\", \"hypothesis\"),\n",
    "    \"mrpc\": (\"sentence1\", \"sentence2\"),\n",
    "    \"qnli\": (\"question\", \"sentence\"),\n",
    "    \"qqp\": (\"question1\", \"question2\"),\n",
    "    \"rte\": (\"sentence1\", \"sentence2\"),\n",
    "    \"sst2\": (\"sentence\", None),\n",
    "    \"stsb\": (\"sentence1\", \"sentence2\"),\n",
    "    \"wnli\": (\"sentence1\", \"sentence2\"),\n",
    "\n",
    "    'rotten_tomatoes': (\"text\", None),\n",
    "    'imdb': (\"text\", None),\n",
    "    'yelp_polarity': (\"text\", None),\n",
    "    \n",
    "}\n",
    "\n",
    "adapter_info = {\n",
    "                'bert-base-uncased':\n",
    "                    {\n",
    "                        'imdb': 'AdapterHub/roberta-base-pf-imdb',\n",
    "                        'rotten_tomatoes': 'AdapterHub/roberta-base-pf-rotten_tomatoes',\n",
    "                        'sst2': 'AdapterHub/roberta-base-pf-sst2',\n",
    "                        'yelp_polarity': 'AdapterHub/roberta-base-pf-yelp_polarity'\n",
    "                    },\n",
    "                'roberta-base':\n",
    "                    {      \n",
    "                        'imdb': 'AdapterHub/roberta-base-pf-imdb',\n",
    "                        'rotten_tomatoes': 'AdapterHub/roberta-base-pf-rotten_tomatoes',\n",
    "                        'sst2': 'AdapterHub/roberta-base-pf-sst2',\n",
    "                        'yelp_polarity': 'AdapterHub/roberta-base-pf-yelp_polarity',\n",
    "\n",
    "                        'rte': 'AdapterHub/roberta-base-pf-rte',\n",
    "                        'qnli': 'AdapterHub/roberta-base-pf-qnli',\n",
    "                        'scitail': 'AdapterHub/roberta-base-pf-scitail',\n",
    "                        'snli': 'AdapterHub/roberta-base-pf-snli',\n",
    "                        'mnli': 'AdapterHub/roberta-base-pf-mnli'\n",
    "                    }\n",
    "               }\n",
    "\n",
    "is_glue = {\"cola\": True,\n",
    "            \"mnli\": True,\n",
    "            \"mrpc\": True,\n",
    "            \"qnli\": True,\n",
    "             \"qqp\": True,\n",
    "             \"rte\": True,\n",
    "            \"sst2\": True,\n",
    "            \"stsb\": True,\n",
    "            \"wnli\": True,}\n",
    "\n",
    "metric_dict = {'rotten_tomatoes': 'sst2', 'imdb': 'sst2', 'yelp_polarity': 'sst2'}\n",
    "\n",
    "current_time = datetime.now().strftime('%Y%m%d-%H%M%S')"
   ]
  },
  {
   "cell_type": "code",
   "execution_count": 3,
   "id": "05d1f6d1-ed13-48b8-a669-7638d877c6c3",
   "metadata": {},
   "outputs": [],
   "source": [
    "# if len(sys.argv) - 1 != 2:\n",
    "#     print('Argument error')\n",
    "#     exit(1)\n",
    "\n",
    "# _, arg1, arg2 = sys.argv\n",
    "\n",
    "# task_name_1 = arg1\n",
    "# task_name_2 = arg2\n",
    "\n",
    "task_name_1 = 'rte'\n",
    "task_name_2 = 'mnli'"
   ]
  },
  {
   "cell_type": "code",
   "execution_count": 4,
   "id": "36e77c17-5a2f-4f95-baff-678167dab5b9",
   "metadata": {},
   "outputs": [
    {
     "name": "stdout",
     "output_type": "stream",
     "text": [
      "/home/jaehan/research/adapter/adapter-poisoning/data_ign/tmp_case1_nli_residualVictim_attackEvaluation/mnli_attack_rte_20231221-205301\n"
     ]
    }
   ],
   "source": [
    "attacker_name = f'{task_name_2}_attack_{task_name_1}'\n",
    "model_name_or_path = 'roberta-base'\n",
    "pad_to_max_length = True\n",
    "max_seq_length = 128\n",
    "sample_size = None\n",
    "do_oversample = True\n",
    "\n",
    "output_dir = os.path.join(data_dir, f'tmp_case1_nli_residualVictim_attackEvaluation/{task_name_2}_attack_{task_name_1}_{current_time}')\n",
    "load_adapter_1 = adapter_info[model_name_or_path][task_name_1]\n",
    "\n",
    "adapter_config_1 = 'pfeiffer'\n",
    "\n",
    "attacker_name = f'{task_name_2}_attack_{task_name_1}'\n",
    "attackTraining_path = os.path.join(data_dir, 'case1_nli_residualVictim_attackTraining_v1')\n",
    "for dir_name in os.listdir(attackTraining_path):\n",
    "    if attacker_name in dir_name:\n",
    "        attacker_name_save = dir_name\n",
    "        attacker_adapter = os.path.join(attackTraining_path, f'{dir_name}/trained_adapters/{attacker_name}')\n",
    "\n",
    "assert(attacker_adapter)\n",
    "\n",
    "victim_head = f'{task_name_1}_victim_with_{task_name_2}'\n",
    "\n",
    "num_labels = 2\n",
    "random_seed = 0\n",
    "train_test_ratio = 0.2\n",
    "\n",
    "set_seed(random_seed)\n",
    "torch.manual_seed(random_seed)\n",
    "torch.cuda.manual_seed(random_seed)\n",
    "np.random.seed(random_seed)\n",
    "random.seed(random_seed)\n",
    "\n",
    "print(output_dir)"
   ]
  },
  {
   "cell_type": "code",
   "execution_count": 5,
   "id": "afc47007-8d23-4116-85aa-0486e82f45a4",
   "metadata": {},
   "outputs": [],
   "source": [
    "def load_dataset_with_glue(task_name):\n",
    "    if task_name == 'scitail':\n",
    "        return load_dataset(task_name, 'tsv_format')\n",
    "    elif task_name in is_glue:\n",
    "        return load_dataset('glue', task_name)\n",
    "    else:\n",
    "        return load_dataset(task_name)\n",
    "    \n",
    "def process_dataset(dataset, task_name):\n",
    "    # Define the transformation for each dataset\n",
    "    if task_name == 'rte':\n",
    "        dataset = dataset.map(lambda x: {'premise': x['sentence1'], 'hypothesis': x['sentence2'], 'label': x['label']})\n",
    "    elif task_name == 'qnli':\n",
    "        dataset = dataset.map(lambda x: {'premise': x['question'], 'hypothesis': x['sentence'], 'label': x['label']})\n",
    "    elif task_name == 'scitail':\n",
    "        dataset = dataset.map(lambda x: {'premise': x['premise'], 'hypothesis': x['hypothesis'], 'label': 0 if x['label'] == 'entails' else 1})\n",
    "    elif task_name == 'snli' or task_name == 'mnli':\n",
    "        dataset = dataset.filter(lambda x: x['label'] != 2)\n",
    "        dataset = dataset.map(lambda x: {'premise': x['premise'], 'hypothesis': x['hypothesis'], 'label': 0 if x['label'] == 0 else 1})\n",
    "    else:\n",
    "        raise ValueError(\"Invalid dataset type provided. Choose from 'rte', 'qnli', 'scitail', 'snli'.\")\n",
    "\n",
    "    # Define the columns to keep\n",
    "    columns_to_keep = ['premise', 'hypothesis', 'input_ids', 'attention_mask', 'label']\n",
    "\n",
    "    # Drop all columns except those in columns_to_keep\n",
    "    columns_to_drop = [col for col in dataset.column_names if col not in columns_to_keep]\n",
    "    dataset = dataset.remove_columns(columns_to_drop)\n",
    "\n",
    "    return dataset\n",
    "\n",
    "tokenizer = AutoTokenizer.from_pretrained(\n",
    "    model_name_or_path,\n",
    ")\n",
    "\n",
    "def get_data(task_name, raw_datasets):\n",
    "    sentence1_key, sentence2_key = 'premise', 'hypothesis'\n",
    "\n",
    "    if pad_to_max_length:\n",
    "        padding = \"max_length\"\n",
    "\n",
    "    def preprocess_function(examples):    \n",
    "        # Tokenize the texts\n",
    "        args = (\n",
    "            (examples[sentence1_key], examples[sentence2_key])\n",
    "        )\n",
    "        result = tokenizer(*args, padding=padding, max_length=max_seq_length, truncation=True)\n",
    "      \n",
    "        result[\"label\"] = [l for l in examples[\"label\"]]\n",
    "        return result\n",
    "        \n",
    "    raw_datasets = raw_datasets.map(\n",
    "        preprocess_function,\n",
    "        batched=True,\n",
    "        desc=\"Running tokenizer on dataset\",\n",
    "    )\n",
    "\n",
    "    return raw_datasets\n",
    "\n",
    "def get_eval_dataset(dataset, task_name):\n",
    "    if task_name == 'snli':\n",
    "        return dataset['test']\n",
    "    elif task_name == 'mnli':\n",
    "        return dataset['validation_matched']\n",
    "    else:\n",
    "        return dataset['validation']"
   ]
  },
  {
   "cell_type": "code",
   "execution_count": 6,
   "id": "99628624-543b-4f00-b387-d78025a2da56",
   "metadata": {},
   "outputs": [],
   "source": [
    "raw_datasets_1 = load_dataset_with_glue(task_name_1)"
   ]
  },
  {
   "cell_type": "code",
   "execution_count": 7,
   "id": "c96974c5-73b3-4bb2-b590-b04bf7f4ace3",
   "metadata": {},
   "outputs": [
    {
     "data": {
      "application/vnd.jupyter.widget-view+json": {
       "model_id": "2545649034b341c7ae7f4b1741d1233e",
       "version_major": 2,
       "version_minor": 0
      },
      "text/plain": [
       "Running tokenizer on dataset:   0%|          | 0/498 [00:00<?, ? examples/s]"
      ]
     },
     "metadata": {},
     "output_type": "display_data"
    }
   ],
   "source": [
    "__train_dataset_1 = raw_datasets_1['train'].train_test_split(test_size=train_test_ratio, shuffle=True, seed=random_seed)\n",
    "\n",
    "_train_dataset_1 = process_dataset(__train_dataset_1['train'], task_name_1)\n",
    "train_dataset_1 = get_data(task_name_1, _train_dataset_1)\n",
    "\n",
    "_valid_dataset_1 = process_dataset(__train_dataset_1['test'], task_name_1)\n",
    "valid_dataset_1 = get_data(task_name_1, _valid_dataset_1)\n",
    "\n",
    "__eval_dataset_1 = get_eval_dataset(raw_datasets_1, task_name_1)\n",
    "_eval_dataset_1 = process_dataset(__eval_dataset_1, task_name_1)\n",
    "eval_dataset_1 = get_data(task_name_1, _eval_dataset_1)"
   ]
  },
  {
   "cell_type": "code",
   "execution_count": 8,
   "id": "9442c961-39eb-44ed-af0b-47f37c95e368",
   "metadata": {},
   "outputs": [
    {
     "data": {
      "text/plain": [
       "Dataset({\n",
       "    features: ['label', 'premise', 'hypothesis', 'input_ids', 'attention_mask'],\n",
       "    num_rows: 1992\n",
       "})"
      ]
     },
     "execution_count": 8,
     "metadata": {},
     "output_type": "execute_result"
    }
   ],
   "source": [
    "train_dataset_1"
   ]
  },
  {
   "cell_type": "code",
   "execution_count": 9,
   "id": "a18b1528-6b98-4911-843f-dd8087c48feb",
   "metadata": {},
   "outputs": [
    {
     "data": {
      "text/plain": [
       "Dataset({\n",
       "    features: ['label', 'premise', 'hypothesis', 'input_ids', 'attention_mask'],\n",
       "    num_rows: 498\n",
       "})"
      ]
     },
     "execution_count": 9,
     "metadata": {},
     "output_type": "execute_result"
    }
   ],
   "source": [
    "valid_dataset_1"
   ]
  },
  {
   "cell_type": "code",
   "execution_count": 10,
   "id": "db54b13c-8b24-40a2-b2ee-92d3146ba44a",
   "metadata": {},
   "outputs": [
    {
     "name": "stderr",
     "output_type": "stream",
     "text": [
      "Some weights of the model checkpoint at roberta-base were not used when initializing RobertaAdapterModel: ['lm_head.dense.bias', 'lm_head.bias', 'lm_head.layer_norm.bias', 'lm_head.dense.weight', 'lm_head.layer_norm.weight']\n",
      "- This IS expected if you are initializing RobertaAdapterModel from the checkpoint of a model trained on another task or with another architecture (e.g. initializing a BertForSequenceClassification model from a BertForPreTraining model).\n",
      "- This IS NOT expected if you are initializing RobertaAdapterModel from the checkpoint of a model that you expect to be exactly identical (initializing a BertForSequenceClassification model from a BertForSequenceClassification model).\n",
      "Some weights of RobertaAdapterModel were not initialized from the model checkpoint at roberta-base and are newly initialized: ['roberta.pooler.dense.bias', 'roberta.pooler.dense.weight']\n",
      "You should probably TRAIN this model on a down-stream task to be able to use it for predictions and inference.\n"
     ]
    },
    {
     "data": {
      "application/vnd.jupyter.widget-view+json": {
       "model_id": "97d3bc0eed6a4d80975b944f9f56fe5f",
       "version_major": 2,
       "version_minor": 0
      },
      "text/plain": [
       "Fetching 6 files:   0%|          | 0/6 [00:00<?, ?it/s]"
      ]
     },
     "metadata": {},
     "output_type": "display_data"
    }
   ],
   "source": [
    "model = AutoAdapterModel.from_pretrained(\n",
    "    model_name_or_path,\n",
    "    ignore_mismatched_sizes=False\n",
    ")\n",
    "\n",
    "model.freeze_model(True)\n",
    "\n",
    "adapter1 = model.load_adapter(load_adapter_1, with_head=False, config=adapter_config_1)\n",
    "adapter2 = model.load_adapter(attacker_adapter, with_head=False)\n",
    "\n",
    "model.active_adapters = ac.Parallel(adapter1, adapter2)\n",
    "\n",
    "model.add_classification_head(victim_head)"
   ]
  },
  {
   "cell_type": "code",
   "execution_count": 11,
   "id": "c049c1bb-d070-4c76-93e2-89ec0a29045a",
   "metadata": {},
   "outputs": [
    {
     "name": "stdout",
     "output_type": "stream",
     "text": [
      "================================================================================\n",
      "Name                     Architecture         #Param      %Param  Active   Train\n",
      "--------------------------------------------------------------------------------\n",
      "glue_rte                 bottleneck          894,528       0.718       1       1\n",
      "mnli_attack_rte          bottleneck          894,528       0.718       1       1\n",
      "--------------------------------------------------------------------------------\n",
      "Full model                               124,645,632     100.000               1\n",
      "================================================================================\n"
     ]
    }
   ],
   "source": [
    "print(model.adapter_summary())"
   ]
  },
  {
   "cell_type": "code",
   "execution_count": 12,
   "id": "688da019-0ab0-4a5a-aa8e-53b6b3c841f8",
   "metadata": {},
   "outputs": [
    {
     "data": {
      "text/plain": [
       "'rte_victim_with_mnli'"
      ]
     },
     "execution_count": 12,
     "metadata": {},
     "output_type": "execute_result"
    }
   ],
   "source": [
    "model.active_head"
   ]
  },
  {
   "cell_type": "code",
   "execution_count": 13,
   "id": "691390d7-c527-45b3-9ad8-87282980617d",
   "metadata": {},
   "outputs": [],
   "source": [
    "for k, v in model.named_parameters():\n",
    "    if 'heads' in k:\n",
    "            pass\n",
    "    else:\n",
    "        v.requires_grad = False"
   ]
  },
  {
   "cell_type": "code",
   "execution_count": 14,
   "id": "db8924ee-3913-4283-a18b-9b0c96430039",
   "metadata": {},
   "outputs": [
    {
     "name": "stdout",
     "output_type": "stream",
     "text": [
      "heads.rte_victim_with_mnli.1.weight\n",
      "heads.rte_victim_with_mnli.1.bias\n",
      "heads.rte_victim_with_mnli.4.weight\n",
      "heads.rte_victim_with_mnli.4.bias\n"
     ]
    }
   ],
   "source": [
    "for k, v in model.named_parameters():\n",
    "    if v.requires_grad:\n",
    "        print(k)"
   ]
  },
  {
   "cell_type": "code",
   "execution_count": 15,
   "id": "e2435181-7ff7-41ca-8356-9502551e8f09",
   "metadata": {},
   "outputs": [],
   "source": [
    "per_device_train_batch_size = 32\n",
    "per_device_eval_batch_size = 512\n",
    "weight_decay = 0.0\n",
    "learning_rate = 1e-4\n",
    "num_train_epochs = 3\n",
    "lr_scheduler_type = 'linear'\n",
    "warmup_ratio = 0.0\n",
    "patience = 1\n",
    "\n",
    "optimizer = torch.optim.AdamW(model.parameters(), lr=learning_rate)\n",
    "total_batch_size_train = per_device_train_batch_size * device_count\n",
    "total_batch_size_eval = per_device_eval_batch_size * device_count"
   ]
  },
  {
   "cell_type": "code",
   "execution_count": 16,
   "id": "a007ecf3-1e37-4afd-b6bd-4a0864943868",
   "metadata": {},
   "outputs": [],
   "source": [
    "def compute_metrics(p: EvalPrediction):\n",
    "    preds = p.predictions[0] if isinstance(p.predictions, tuple) else p.predictions\n",
    "    preds = np.argmax(preds, axis=1)\n",
    "    \n",
    "    return {\"accuracy\": (preds == p.label_ids).astype(np.float32).mean().item()}"
   ]
  },
  {
   "cell_type": "code",
   "execution_count": 17,
   "id": "6310bfb1-440c-4baf-8c4c-108c1ad83822",
   "metadata": {},
   "outputs": [],
   "source": [
    "training_args = TrainingArguments(\n",
    "    report_to='all',\n",
    "    remove_unused_columns=False,\n",
    "    output_dir=output_dir,\n",
    "    per_device_train_batch_size=per_device_train_batch_size,\n",
    "    per_device_eval_batch_size=per_device_eval_batch_size,\n",
    "    num_train_epochs=num_train_epochs,\n",
    "    logging_dir=\"./logs\",\n",
    "    seed=random_seed,\n",
    "    data_seed=random_seed,\n",
    "    do_train=True,\n",
    "    do_eval=True,\n",
    "    learning_rate=learning_rate,\n",
    "    lr_scheduler_type=lr_scheduler_type,\n",
    "    warmup_ratio=warmup_ratio,\n",
    "    evaluation_strategy='epoch',\n",
    "    logging_strategy='epoch',\n",
    "    save_strategy='epoch',\n",
    "    # eval_steps=100,\n",
    "    # logging_steps=100,\n",
    "    # save_steps=100,\n",
    "    save_total_limit=1,\n",
    "    load_best_model_at_end = True,\n",
    "    metric_for_best_model = 'loss'\n",
    ")\n",
    "\n",
    "loss_fct = CrossEntropyLoss()\n",
    "\n",
    "def loss_victim(logits, labels):\n",
    "    return loss_fct(logits.view(-1, num_labels), labels.view(-1))\n",
    "\n",
    "class CustomTrainer(Trainer):\n",
    "    def compute_loss(self, model, inputs):\n",
    "        \"\"\"\n",
    "        Compute the ensemble loss here\n",
    "        \"\"\"\n",
    "\n",
    "        labels = inputs.pop('labels')\n",
    "\n",
    "        # Compute model outputs\n",
    "        outputs = model(**inputs)\n",
    "\n",
    "        logits = outputs[0].logits\n",
    "        \n",
    "        loss = loss_victim(logits, labels)\n",
    "\n",
    "        return loss\n",
    "\n",
    "    def evaluation_loop(\n",
    "        self,\n",
    "        dataloader,\n",
    "        description: str,\n",
    "        prediction_loss_only: Optional[bool] = None,\n",
    "        ignore_keys: Optional[List[str]] = None,\n",
    "        metric_key_prefix: str = \"eval\",\n",
    "        ):\n",
    "        # This is a simple modification. For more custom behavior, \n",
    "        # you might want to start from the original code in Trainer's evaluation_loop.\n",
    "        \n",
    "        # Initialize metrics, etc.\n",
    "        self.model.eval()\n",
    "        total_eval_loss = 0\n",
    "        total_preds = []\n",
    "        total_logits = []\n",
    "        total_labels = []\n",
    "        total_eval_metrics = {}\n",
    "        \n",
    "        for step, inputs in enumerate(dataloader):\n",
    "            labels = inputs.pop('labels').to(self.args.device)\n",
    "            \n",
    "            # Move inputs to appropriate device\n",
    "            for k, v in inputs.items():\n",
    "                inputs[k] = v.to(self.args.device)\n",
    "            \n",
    "            # Forward pass and compute loss and metrics\n",
    "            with torch.no_grad():\n",
    "                outputs = model(**inputs)\n",
    "        \n",
    "                logits = outputs[0].logits\n",
    "\n",
    "            loss = loss_victim(logits, labels)\n",
    "            \n",
    "            total_eval_loss += loss.item()\n",
    "            total_logits.extend(logits.detach().cpu().numpy())\n",
    "            total_preds.extend(logits.argmax(dim=-1))\n",
    "            total_labels.extend(labels.detach().cpu().numpy())\n",
    "\n",
    "        average_eval_loss = total_eval_loss / len(dataloader)\n",
    "\n",
    "        eval_pred = EvalPrediction(predictions=total_logits, label_ids=total_labels)\n",
    "        \n",
    "        metrics = self.compute_metrics(eval_pred)\n",
    "\n",
    "        # Average the metrics\n",
    "        num_eval_samples = len(dataloader.dataset)\n",
    "        total_eval_metrics = {f'{metric_key_prefix}_loss': average_eval_loss, \n",
    "                              f'{metric_key_prefix}_accuracy': metrics['accuracy']}\n",
    "\n",
    "        # return total_eval_loss, total_eval_metrics\n",
    "        return EvalLoopOutput(predictions=total_preds, \n",
    "                              label_ids=total_labels, \n",
    "                              metrics=total_eval_metrics, \n",
    "                              num_samples=num_eval_samples)\n",
    "\n",
    "trainer = CustomTrainer(\n",
    "        model=model,\n",
    "        args=training_args,\n",
    "        train_dataset=train_dataset_1,\n",
    "        eval_dataset=valid_dataset_1,\n",
    "        tokenizer=tokenizer,\n",
    "        data_collator=default_data_collator,\n",
    "        compute_metrics=compute_metrics,\n",
    "        callbacks = [EarlyStoppingCallback(early_stopping_patience=patience)]\n",
    "    )"
   ]
  },
  {
   "cell_type": "code",
   "execution_count": 18,
   "id": "3df5dcbc-4b57-4d88-a602-1a59b5a3001a",
   "metadata": {},
   "outputs": [
    {
     "name": "stderr",
     "output_type": "stream",
     "text": [
      "/home/jaehan/research/adapter/adapter-poisoning/transformers/optimization.py:306: FutureWarning: This implementation of AdamW is deprecated and will be removed in a future version. Use the PyTorch implementation torch.optim.AdamW instead, or set `no_deprecation_warning=True` to disable this warning\n",
      "  warnings.warn(\n",
      "***** Running training *****\n",
      "  Num examples = 1992\n",
      "  Num Epochs = 3\n",
      "  Instantaneous batch size per device = 32\n",
      "  Total train batch size (w. parallel, distributed & accumulation) = 32\n",
      "  Gradient Accumulation steps = 1\n",
      "  Total optimization steps = 189\n",
      "  Number of trainable parameters = 592130\n"
     ]
    },
    {
     "data": {
      "text/html": [
       "\n",
       "    <div>\n",
       "      \n",
       "      <progress value='189' max='189' style='width:300px; height:20px; vertical-align: middle;'></progress>\n",
       "      [189/189 07:10, Epoch 3/3]\n",
       "    </div>\n",
       "    <table border=\"1\" class=\"dataframe\">\n",
       "  <thead>\n",
       " <tr style=\"text-align: left;\">\n",
       "      <th>Epoch</th>\n",
       "      <th>Training Loss</th>\n",
       "      <th>Validation Loss</th>\n",
       "      <th>Accuracy</th>\n",
       "    </tr>\n",
       "  </thead>\n",
       "  <tbody>\n",
       "    <tr>\n",
       "      <td>1</td>\n",
       "      <td>0.708700</td>\n",
       "      <td>0.707603</td>\n",
       "      <td>0.493976</td>\n",
       "    </tr>\n",
       "    <tr>\n",
       "      <td>2</td>\n",
       "      <td>0.695900</td>\n",
       "      <td>0.703330</td>\n",
       "      <td>0.493976</td>\n",
       "    </tr>\n",
       "    <tr>\n",
       "      <td>3</td>\n",
       "      <td>0.694000</td>\n",
       "      <td>0.693504</td>\n",
       "      <td>0.506024</td>\n",
       "    </tr>\n",
       "  </tbody>\n",
       "</table><p>"
      ],
      "text/plain": [
       "<IPython.core.display.HTML object>"
      ]
     },
     "metadata": {},
     "output_type": "display_data"
    },
    {
     "name": "stderr",
     "output_type": "stream",
     "text": [
      "Saving model checkpoint to /home/jaehan/research/adapter/adapter-poisoning/data_ign/tmp_case1_nli_residualVictim_attackEvaluation/mnli_attack_rte_20231221-205301/checkpoint-63\n",
      "Configuration saved in /home/jaehan/research/adapter/adapter-poisoning/data_ign/tmp_case1_nli_residualVictim_attackEvaluation/mnli_attack_rte_20231221-205301/checkpoint-63/config.json\n",
      "Configuration saved in /home/jaehan/research/adapter/adapter-poisoning/data_ign/tmp_case1_nli_residualVictim_attackEvaluation/mnli_attack_rte_20231221-205301/checkpoint-63/generation_config.json\n",
      "Model weights saved in /home/jaehan/research/adapter/adapter-poisoning/data_ign/tmp_case1_nli_residualVictim_attackEvaluation/mnli_attack_rte_20231221-205301/checkpoint-63/pytorch_model.bin\n",
      "tokenizer config file saved in /home/jaehan/research/adapter/adapter-poisoning/data_ign/tmp_case1_nli_residualVictim_attackEvaluation/mnli_attack_rte_20231221-205301/checkpoint-63/tokenizer_config.json\n",
      "Special tokens file saved in /home/jaehan/research/adapter/adapter-poisoning/data_ign/tmp_case1_nli_residualVictim_attackEvaluation/mnli_attack_rte_20231221-205301/checkpoint-63/special_tokens_map.json\n",
      "Saving model checkpoint to /home/jaehan/research/adapter/adapter-poisoning/data_ign/tmp_case1_nli_residualVictim_attackEvaluation/mnli_attack_rte_20231221-205301/checkpoint-126\n",
      "Configuration saved in /home/jaehan/research/adapter/adapter-poisoning/data_ign/tmp_case1_nli_residualVictim_attackEvaluation/mnli_attack_rte_20231221-205301/checkpoint-126/config.json\n",
      "Configuration saved in /home/jaehan/research/adapter/adapter-poisoning/data_ign/tmp_case1_nli_residualVictim_attackEvaluation/mnli_attack_rte_20231221-205301/checkpoint-126/generation_config.json\n",
      "Model weights saved in /home/jaehan/research/adapter/adapter-poisoning/data_ign/tmp_case1_nli_residualVictim_attackEvaluation/mnli_attack_rte_20231221-205301/checkpoint-126/pytorch_model.bin\n",
      "tokenizer config file saved in /home/jaehan/research/adapter/adapter-poisoning/data_ign/tmp_case1_nli_residualVictim_attackEvaluation/mnli_attack_rte_20231221-205301/checkpoint-126/tokenizer_config.json\n",
      "Special tokens file saved in /home/jaehan/research/adapter/adapter-poisoning/data_ign/tmp_case1_nli_residualVictim_attackEvaluation/mnli_attack_rte_20231221-205301/checkpoint-126/special_tokens_map.json\n",
      "Deleting older checkpoint [/home/jaehan/research/adapter/adapter-poisoning/data_ign/tmp_case1_nli_residualVictim_attackEvaluation/mnli_attack_rte_20231221-205301/checkpoint-63] due to args.save_total_limit\n",
      "Saving model checkpoint to /home/jaehan/research/adapter/adapter-poisoning/data_ign/tmp_case1_nli_residualVictim_attackEvaluation/mnli_attack_rte_20231221-205301/checkpoint-189\n",
      "Configuration saved in /home/jaehan/research/adapter/adapter-poisoning/data_ign/tmp_case1_nli_residualVictim_attackEvaluation/mnli_attack_rte_20231221-205301/checkpoint-189/config.json\n",
      "Configuration saved in /home/jaehan/research/adapter/adapter-poisoning/data_ign/tmp_case1_nli_residualVictim_attackEvaluation/mnli_attack_rte_20231221-205301/checkpoint-189/generation_config.json\n",
      "Model weights saved in /home/jaehan/research/adapter/adapter-poisoning/data_ign/tmp_case1_nli_residualVictim_attackEvaluation/mnli_attack_rte_20231221-205301/checkpoint-189/pytorch_model.bin\n",
      "tokenizer config file saved in /home/jaehan/research/adapter/adapter-poisoning/data_ign/tmp_case1_nli_residualVictim_attackEvaluation/mnli_attack_rte_20231221-205301/checkpoint-189/tokenizer_config.json\n",
      "Special tokens file saved in /home/jaehan/research/adapter/adapter-poisoning/data_ign/tmp_case1_nli_residualVictim_attackEvaluation/mnli_attack_rte_20231221-205301/checkpoint-189/special_tokens_map.json\n",
      "Deleting older checkpoint [/home/jaehan/research/adapter/adapter-poisoning/data_ign/tmp_case1_nli_residualVictim_attackEvaluation/mnli_attack_rte_20231221-205301/checkpoint-126] due to args.save_total_limit\n",
      "\n",
      "\n",
      "Training completed. Do not forget to share your model on huggingface.co/models =)\n",
      "\n",
      "\n",
      "Loading best model from /home/jaehan/research/adapter/adapter-poisoning/data_ign/tmp_case1_nli_residualVictim_attackEvaluation/mnli_attack_rte_20231221-205301/checkpoint-189 (score: 0.6935038566589355).\n",
      "Saving model checkpoint to /home/jaehan/research/adapter/adapter-poisoning/data_ign/tmp_case1_nli_residualVictim_attackEvaluation/mnli_attack_rte_20231221-205301\n",
      "Configuration saved in /home/jaehan/research/adapter/adapter-poisoning/data_ign/tmp_case1_nli_residualVictim_attackEvaluation/mnli_attack_rte_20231221-205301/config.json\n",
      "Configuration saved in /home/jaehan/research/adapter/adapter-poisoning/data_ign/tmp_case1_nli_residualVictim_attackEvaluation/mnli_attack_rte_20231221-205301/generation_config.json\n",
      "Model weights saved in /home/jaehan/research/adapter/adapter-poisoning/data_ign/tmp_case1_nli_residualVictim_attackEvaluation/mnli_attack_rte_20231221-205301/pytorch_model.bin\n",
      "tokenizer config file saved in /home/jaehan/research/adapter/adapter-poisoning/data_ign/tmp_case1_nli_residualVictim_attackEvaluation/mnli_attack_rte_20231221-205301/tokenizer_config.json\n",
      "Special tokens file saved in /home/jaehan/research/adapter/adapter-poisoning/data_ign/tmp_case1_nli_residualVictim_attackEvaluation/mnli_attack_rte_20231221-205301/special_tokens_map.json\n",
      "Configuration saved in /home/jaehan/research/adapter/adapter-poisoning/data_ign/tmp_case1_nli_residualVictim_attackEvaluation/mnli_attack_rte_20231221-205301/trained_heads/rte_victim_with_mnli/head_config.json\n",
      "Module weights saved in /home/jaehan/research/adapter/adapter-poisoning/data_ign/tmp_case1_nli_residualVictim_attackEvaluation/mnli_attack_rte_20231221-205301/trained_heads/rte_victim_with_mnli/pytorch_model_head.bin\n",
      "Configuration saved in /home/jaehan/research/adapter/adapter-poisoning/data_ign/tmp_case1_nli_residualVictim_attackEvaluation/mnli_attack_rte_20231221-205301/attacker_adapter/mnli_attack_rte_20231217-115721/adapter_config.json\n",
      "Module weights saved in /home/jaehan/research/adapter/adapter-poisoning/data_ign/tmp_case1_nli_residualVictim_attackEvaluation/mnli_attack_rte_20231221-205301/attacker_adapter/mnli_attack_rte_20231217-115721/pytorch_adapter.bin\n"
     ]
    },
    {
     "name": "stdout",
     "output_type": "stream",
     "text": [
      "***** train metrics *****\n",
      "  epoch                    =        3.0\n",
      "  total_flos               =   376263GF\n",
      "  train_loss               =     0.6995\n",
      "  train_runtime            = 0:07:14.12\n",
      "  train_samples_per_second =     13.765\n",
      "  train_steps_per_second   =      0.435\n"
     ]
    }
   ],
   "source": [
    "os.makedirs(output_dir, exist_ok=True)\n",
    "\n",
    "loss_history = {'base_model': model_name_or_path,\n",
    "                'max_seq_length': max_seq_length,\n",
    "                'random_seed': random_seed,\n",
    "                'lr': learning_rate,\n",
    "                'warmup_ratio': warmup_ratio,\n",
    "                'early_stopping_patience': patience,\n",
    "                'total_batch_size': total_batch_size_train,\n",
    "                'num_train_epoch': num_train_epochs,\n",
    "                'attacker_adapter_path': attacker_adapter}\n",
    "\n",
    "with open(os.path.join(output_dir, \"hyperparameters.json\"), \"w\") as f:\n",
    "    json.dump(loss_history, f)\n",
    "    \n",
    "train_result = trainer.train()\n",
    "metrics = train_result.metrics\n",
    "\n",
    "trainer.save_model()\n",
    "\n",
    "trainer.log_metrics(\"train\", metrics)\n",
    "trainer.save_metrics(\"train\", metrics)\n",
    "trainer.save_state()\n",
    "\n",
    "os.makedirs(os.path.join(output_dir, f\"trained_heads\"), exist_ok=True)\n",
    "model.save_head(os.path.join(output_dir, f\"trained_heads/{victim_head}\"), victim_head)\n",
    "\n",
    "os.makedirs(os.path.join(output_dir, f\"attacker_adapter\"), exist_ok=True)\n",
    "model.save_adapter(os.path.join(output_dir, f\"attacker_adapter/{attacker_name_save}\"), adapter2)"
   ]
  },
  {
   "cell_type": "code",
   "execution_count": 19,
   "id": "b639dbf3-4464-4c6c-a776-fcd276ba37f6",
   "metadata": {},
   "outputs": [
    {
     "name": "stdout",
     "output_type": "stream",
     "text": [
      "{'eval_loss': 0.6962435841560364, 'eval_accuracy': 0.4729241728782654, 'eval_runtime': 19.4029, 'eval_samples_per_second': 14.276, 'eval_steps_per_second': 0.052, 'epoch': 3.0}\n"
     ]
    }
   ],
   "source": [
    "metrics = trainer.evaluate(eval_dataset=eval_dataset_1)\n",
    "print(metrics)\n",
    "trainer.save_metrics('eval', metrics)"
   ]
  },
  {
   "cell_type": "code",
   "execution_count": null,
   "id": "90a18af5-9cc5-455f-9e54-d9cedb221766",
   "metadata": {},
   "outputs": [],
   "source": []
  }
 ],
 "metadata": {
  "kernelspec": {
   "display_name": "moe",
   "language": "python",
   "name": "moe"
  },
  "language_info": {
   "codemirror_mode": {
    "name": "ipython",
    "version": 3
   },
   "file_extension": ".py",
   "mimetype": "text/x-python",
   "name": "python",
   "nbconvert_exporter": "python",
   "pygments_lexer": "ipython3",
   "version": "3.11.4"
  }
 },
 "nbformat": 4,
 "nbformat_minor": 5
}
