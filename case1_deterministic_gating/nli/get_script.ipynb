{
 "cells": [
  {
   "cell_type": "code",
   "execution_count": 6,
   "id": "b7dc49c4-c2e2-4e06-9ab1-da7d58c094ff",
   "metadata": {},
   "outputs": [
    {
     "name": "stdout",
     "output_type": "stream",
     "text": [
      "/home/jaehan/research/adapter/adapter-poisoning/data_ign\n"
     ]
    }
   ],
   "source": [
    "import itertools\n",
    "import numpy as np\n",
    "import os\n",
    "from dotenv import load_dotenv\n",
    "\n",
    "load_dotenv(os.path.expanduser('~/.env'), verbose=True)\n",
    "\n",
    "data_dir = os.getenv('DATA_IGN_DIR')\n",
    "\n",
    "print(data_dir)\n",
    "\n",
    "tasks = ['rte', 'qnli', 'scitail', 'mnli']"
   ]
  },
  {
   "cell_type": "code",
   "execution_count": 3,
   "id": "925fc762-26c7-4c97-a8c4-5c4cbae6af2b",
   "metadata": {},
   "outputs": [
    {
     "name": "stdout",
     "output_type": "stream",
     "text": [
      "./nli_singleAdapter_training.py rte > /home/jaehan/research/adapter/adapter-poisoning/data_ign/log/case1_nli_singleAdapter_training/rte\n",
      "./nli_singleAdapter_training.py qnli > /home/jaehan/research/adapter/adapter-poisoning/data_ign/log/case1_nli_singleAdapter_training/qnli\n",
      "./nli_singleAdapter_training.py scitail > /home/jaehan/research/adapter/adapter-poisoning/data_ign/log/case1_nli_singleAdapter_training/scitail\n",
      "./nli_singleAdapter_training.py snli > /home/jaehan/research/adapter/adapter-poisoning/data_ign/log/case1_nli_singleAdapter_training/snli\n"
     ]
    }
   ],
   "source": [
    "name = 'nli_singleAdapter_training'\n",
    "\n",
    "for task in tasks:\n",
    "    print(f\"./{name}.py {task} > {data_dir}/log/case1_{name}/{task}\")"
   ]
  },
  {
   "cell_type": "code",
   "execution_count": 7,
   "id": "5bc3863b-1b11-478a-b576-37d25aa8965e",
   "metadata": {},
   "outputs": [
    {
     "name": "stdout",
     "output_type": "stream",
     "text": [
      "./nli_moeBaseline.py qnli rte > /home/jaehan/research/adapter/adapter-poisoning/data_ign/log/case1_nli_moeBaseline/rte_with_qnli\n",
      "./nli_moeBaseline.py scitail rte > /home/jaehan/research/adapter/adapter-poisoning/data_ign/log/case1_nli_moeBaseline/rte_with_scitail\n",
      "./nli_moeBaseline.py mnli rte > /home/jaehan/research/adapter/adapter-poisoning/data_ign/log/case1_nli_moeBaseline/rte_with_mnli\n",
      "./nli_moeBaseline.py rte qnli > /home/jaehan/research/adapter/adapter-poisoning/data_ign/log/case1_nli_moeBaseline/qnli_with_rte\n",
      "./nli_moeBaseline.py scitail qnli > /home/jaehan/research/adapter/adapter-poisoning/data_ign/log/case1_nli_moeBaseline/qnli_with_scitail\n",
      "./nli_moeBaseline.py mnli qnli > /home/jaehan/research/adapter/adapter-poisoning/data_ign/log/case1_nli_moeBaseline/qnli_with_mnli\n",
      "./nli_moeBaseline.py rte scitail > /home/jaehan/research/adapter/adapter-poisoning/data_ign/log/case1_nli_moeBaseline/scitail_with_rte\n",
      "./nli_moeBaseline.py qnli scitail > /home/jaehan/research/adapter/adapter-poisoning/data_ign/log/case1_nli_moeBaseline/scitail_with_qnli\n",
      "./nli_moeBaseline.py mnli scitail > /home/jaehan/research/adapter/adapter-poisoning/data_ign/log/case1_nli_moeBaseline/scitail_with_mnli\n",
      "./nli_moeBaseline.py rte mnli > /home/jaehan/research/adapter/adapter-poisoning/data_ign/log/case1_nli_moeBaseline/mnli_with_rte\n",
      "./nli_moeBaseline.py qnli mnli > /home/jaehan/research/adapter/adapter-poisoning/data_ign/log/case1_nli_moeBaseline/mnli_with_qnli\n",
      "./nli_moeBaseline.py scitail mnli > /home/jaehan/research/adapter/adapter-poisoning/data_ign/log/case1_nli_moeBaseline/mnli_with_scitail\n"
     ]
    }
   ],
   "source": [
    "permutations = list(itertools.permutations(tasks, 2))\n",
    "\n",
    "name = 'nli_moeBaseline'\n",
    "\n",
    "for combo in permutations:\n",
    "    print(f\"./{name}.py {combo[1]} {combo[0]} > {data_dir}/log/case1_{name}/{combo[0]}_with_{combo[1]}\")"
   ]
  },
  {
   "cell_type": "code",
   "execution_count": null,
   "id": "bd4c8b06-8d95-48ad-ad1a-ca15dead8746",
   "metadata": {},
   "outputs": [],
   "source": [
    "tasks = ['imdb', 'rotten_tomatoes', 'sst2', 'yelp_polarity']\n",
    "\n",
    "permutations = list(itertools.permutations(tasks, 2))\n",
    "\n",
    "name = 'sentiment_residualVictim_attackTraining'\n",
    "\n",
    "for combo in permutations:\n",
    "    print(f\"./{name}.py {combo[1]} {combo[0]} > {data_dir}/log/case1_{name}/{combo[0]}_attack_{combo[1]}\")\n"
   ]
  },
  {
   "cell_type": "code",
   "execution_count": null,
   "id": "eca4a45a-64f6-4c61-8a7a-9ac8737fb8e5",
   "metadata": {},
   "outputs": [],
   "source": [
    "tasks = ['imdb', 'rotten_tomatoes', 'sst2', 'yelp_polarity']\n",
    "\n",
    "permutations = list(itertools.permutations(tasks, 2))\n",
    "\n",
    "name = 'sentiment_residualVictim_attackEvaluation'\n",
    "\n",
    "for combo in permutations:\n",
    "    print(f\"./{name}.py {combo[1]} {combo[0]} > {data_dir}/log/case1_{name}/{combo[0]}_attack_{combo[1]}\")"
   ]
  },
  {
   "cell_type": "code",
   "execution_count": null,
   "id": "ed817bf2-b602-4360-b775-6539b6c5f4db",
   "metadata": {},
   "outputs": [],
   "source": []
  }
 ],
 "metadata": {
  "kernelspec": {
   "display_name": "moe",
   "language": "python",
   "name": "moe"
  },
  "language_info": {
   "codemirror_mode": {
    "name": "ipython",
    "version": 3
   },
   "file_extension": ".py",
   "mimetype": "text/x-python",
   "name": "python",
   "nbconvert_exporter": "python",
   "pygments_lexer": "ipython3",
   "version": "3.11.4"
  }
 },
 "nbformat": 4,
 "nbformat_minor": 5
}
