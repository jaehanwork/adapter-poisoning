{
 "cells": [
  {
   "cell_type": "code",
   "execution_count": 1,
   "id": "f17c6523-accb-4c09-b107-24fb5510d4f3",
   "metadata": {},
   "outputs": [],
   "source": [
    "import sys\n",
    "import os\n",
    "from dotenv import load_dotenv\n",
    "\n",
    "load_dotenv(os.path.expanduser('~/.env'), verbose=True)\n",
    "\n",
    "data_dir = os.getenv('DATA_IGN_DIR')\n",
    "adapter_lib_path = os.getenv('ADAPTER_LIB_PATH')\n",
    "\n",
    "sys.path.insert(0, adapter_lib_path)"
   ]
  },
  {
   "cell_type": "code",
   "execution_count": 2,
   "id": "df7048f5-5b82-4fa6-8d3a-5ccde0de0180",
   "metadata": {
    "scrolled": true
   },
   "outputs": [
    {
     "name": "stdout",
     "output_type": "stream",
     "text": [
      "cuda 1\n"
     ]
    }
   ],
   "source": [
    "import logging\n",
    "os.environ[\"CUDA_VISIBLE_DEVICES\"] = '0'\n",
    "import random\n",
    "from dataclasses import dataclass, field\n",
    "from typing import Optional, List\n",
    "\n",
    "import datasets\n",
    "import numpy as np\n",
    "from datasets import load_dataset, concatenate_datasets\n",
    "\n",
    "from pprint import pprint\n",
    "\n",
    "import evaluate\n",
    "import transformers\n",
    "from transformers import (\n",
    "    AutoConfig,\n",
    "    AutoTokenizer,\n",
    "    DataCollatorWithPadding,\n",
    "    EvalPrediction,\n",
    "    HfArgumentParser,\n",
    "    PretrainedConfig,\n",
    "    Trainer,\n",
    "    TrainingArguments,\n",
    "    default_data_collator,\n",
    "    set_seed,\n",
    "    get_scheduler,\n",
    "    PfeifferConfig\n",
    ")\n",
    "from transformers.adapters import AdapterArguments, AdapterTrainer, AdapterConfigBase, AutoAdapterModel, setup_adapter_training\n",
    "from transformers import BertTokenizer, BertModelWithHeads, AdapterConfig, EvalPrediction, TextClassificationPipeline\n",
    "from transformers.trainer_utils import get_last_checkpoint\n",
    "from transformers.utils import check_min_version\n",
    "from transformers.utils.versions import require_version\n",
    "\n",
    "from torch.utils.data import DataLoader\n",
    "import torch\n",
    "\n",
    "from pdb import set_trace\n",
    "import transformers.adapters.composition as ac\n",
    "\n",
    "from transformers.adapters.heads import ClassificationHead\n",
    "from torch.nn import CrossEntropyLoss, MSELoss\n",
    "\n",
    "from transformers.trainer_utils import EvalLoopOutput\n",
    "\n",
    "from sklearn.metrics import accuracy_score, classification_report, confusion_matrix, recall_score\n",
    "\n",
    "from tqdm import tqdm\n",
    "import json\n",
    "from datetime import datetime\n",
    "import random\n",
    "from datasets import concatenate_datasets\n",
    "\n",
    "from transformers import EarlyStoppingCallback\n",
    "\n",
    "import torch.nn as nn\n",
    "import torch.nn.functional as F\n",
    "import shutil\n",
    "\n",
    "device = torch.device('cuda' if torch.cuda.is_available() else 'cpu')\n",
    "device_count = torch.cuda.device_count()\n",
    "print(device, device_count)\n",
    "\n",
    "adapter_info = {\n",
    "                'bert-base-uncased':\n",
    "                    {\n",
    "                        'imdb': 'AdapterHub/roberta-base-pf-imdb',\n",
    "                        'rotten_tomatoes': 'AdapterHub/roberta-base-pf-rotten_tomatoes',\n",
    "                        'sst2': 'AdapterHub/roberta-base-pf-sst2',\n",
    "                        'yelp_polarity': 'AdapterHub/roberta-base-pf-yelp_polarity'\n",
    "                    },\n",
    "                'roberta-base':\n",
    "                    {      \n",
    "                        'imdb': 'AdapterHub/roberta-base-pf-imdb',\n",
    "                        'rotten_tomatoes': 'AdapterHub/roberta-base-pf-rotten_tomatoes',\n",
    "                        'sst2': 'AdapterHub/roberta-base-pf-sst2',\n",
    "                        'yelp_polarity': 'AdapterHub/roberta-base-pf-yelp_polarity',\n",
    "\n",
    "                        'rte': 'AdapterHub/roberta-base-pf-rte',\n",
    "                        'qnli': 'AdapterHub/roberta-base-pf-qnli',\n",
    "                        'scitail': 'AdapterHub/roberta-base-pf-scitail',\n",
    "                        'snli': 'AdapterHub/roberta-base-pf-snli',\n",
    "                        'mnli': 'AdapterHub/roberta-base-pf-mnli'\n",
    "                    }\n",
    "               }\n",
    "\n",
    "is_glue = {\"cola\": True,\n",
    "            \"mnli\": True,\n",
    "            \"mrpc\": True,\n",
    "            \"qnli\": True,\n",
    "             \"qqp\": True,\n",
    "             \"rte\": True,\n",
    "            \"sst2\": True,\n",
    "            \"stsb\": True,\n",
    "            \"wnli\": True,}\n",
    "\n",
    "\n",
    "current_time = datetime.now().strftime('%Y%m%d-%H%M%S')"
   ]
  },
  {
   "cell_type": "code",
   "execution_count": 3,
   "id": "3dd0aa2f-2ac7-4004-a97d-3609af341401",
   "metadata": {},
   "outputs": [],
   "source": [
    "# if len(sys.argv) - 1 != 2:\n",
    "#     print('Argument error')\n",
    "#     exit(1)\n",
    "\n",
    "# _, arg1, arg2 = sys.argv\n",
    "\n",
    "# if arg1 not in adapter_info or arg2 not in adapter_info:\n",
    "#     print(f'No adapter named {arg1} or {arg2}')\n",
    "#     exit(1)\n",
    "\n",
    "# task_name_1 = arg1\n",
    "# task_name_2 = arg2\n",
    "\n",
    "task_name_1 = 'mnli'\n",
    "task_name_2 = 'scitail'"
   ]
  },
  {
   "cell_type": "code",
   "execution_count": 4,
   "id": "36e77c17-5a2f-4f95-baff-678167dab5b9",
   "metadata": {},
   "outputs": [
    {
     "name": "stdout",
     "output_type": "stream",
     "text": [
      "/home/jaehan/research/adapter/adapter-poisoning/data_ign/tmp_case1_nli_moeBaseline/scitail_with_mnli_20231214-113417\n",
      "/home/jaehan/research/adapter/adapter-poisoning/data_ign/logs_tmp/tmp_case1_nli_moeBaseline/scitail_with_mnli_20231214-113417\n"
     ]
    }
   ],
   "source": [
    "task_name = f'{task_name_2}_with_{task_name_1}'\n",
    "model_name_or_path = 'roberta-base'\n",
    "pad_to_max_length = True\n",
    "max_seq_length = 256\n",
    "\n",
    "output_dir_name = f'tmp_case1_nli_moeBaseline/{task_name}_{current_time}'\n",
    "output_dir = os.path.join(data_dir, output_dir_name)\n",
    "\n",
    "load_adapter_1 = adapter_info[model_name_or_path][task_name_1]\n",
    "load_adapter_2 = adapter_info[model_name_or_path][task_name_2]\n",
    "\n",
    "adapter_config_1 = 'pfeiffer'\n",
    "adapter_config_2 = 'pfeiffer'\n",
    "\n",
    "train_test_ratio = 0.2\n",
    "random_seed = 0\n",
    "num_labels = 2\n",
    "\n",
    "set_seed(random_seed)\n",
    "torch.manual_seed(random_seed)\n",
    "torch.cuda.manual_seed(random_seed)\n",
    "np.random.seed(random_seed)\n",
    "random.seed(random_seed)\n",
    "\n",
    "print(output_dir)\n",
    "\n",
    "if output_dir_name.startswith('tmp'):\n",
    "    log_dir_name = os.path.join(data_dir, 'logs_tmp', output_dir_name)\n",
    "else:\n",
    "    log_dir_name = os.path.join(data_dir, 'logs', output_dir_name)\n",
    "\n",
    "print(log_dir_name)"
   ]
  },
  {
   "cell_type": "code",
   "execution_count": 6,
   "id": "8a9836b7-f5ad-489d-a438-5d0e08782059",
   "metadata": {},
   "outputs": [],
   "source": [
    "def load_dataset_with_glue(task_name):\n",
    "    if task_name == 'scitail':\n",
    "        return load_dataset(task_name, 'tsv_format')\n",
    "    elif task_name in is_glue:\n",
    "        return load_dataset('glue', task_name)\n",
    "    else:\n",
    "        return load_dataset(task_name)\n",
    "    \n",
    "def process_dataset(dataset, task_name):\n",
    "    # Define the transformation for each dataset\n",
    "    if task_name == 'rte':\n",
    "        dataset = dataset.map(lambda x: {'premise': x['sentence1'], 'hypothesis': x['sentence2'], 'label': x['label']})\n",
    "    elif task_name == 'qnli':\n",
    "        dataset = dataset.map(lambda x: {'premise': x['question'], 'hypothesis': x['sentence'], 'label': x['label']})\n",
    "    elif task_name == 'scitail':\n",
    "        dataset = dataset.map(lambda x: {'premise': x['premise'], 'hypothesis': x['hypothesis'], 'label': 0 if x['label'] == 'entails' else 1})\n",
    "    elif task_name == 'snli' or task_name == 'mnli':\n",
    "        dataset = dataset.filter(lambda x: x['label'] != 2)\n",
    "        dataset = dataset.map(lambda x: {'premise': x['premise'], 'hypothesis': x['hypothesis'], 'label': 0 if x['label'] == 0 else 1})\n",
    "    else:\n",
    "        raise ValueError(\"Invalid dataset type provided. Choose from 'rte', 'qnli', 'scitail', 'snli'.\")\n",
    "\n",
    "    # Define the columns to keep\n",
    "    columns_to_keep = ['premise', 'hypothesis', 'input_ids', 'attention_mask', 'label']\n",
    "\n",
    "    # Drop all columns except those in columns_to_keep\n",
    "    columns_to_drop = [col for col in dataset.column_names if col not in columns_to_keep]\n",
    "    dataset = dataset.remove_columns(columns_to_drop)\n",
    "\n",
    "    return dataset\n",
    "\n",
    "tokenizer = AutoTokenizer.from_pretrained(\n",
    "    model_name_or_path,\n",
    ")\n",
    "\n",
    "def get_data(task_name, raw_datasets):\n",
    "    sentence1_key, sentence2_key = 'premise', 'hypothesis'\n",
    "\n",
    "    if pad_to_max_length:\n",
    "        padding = \"max_length\"\n",
    "\n",
    "    def preprocess_function(examples):    \n",
    "        # Tokenize the texts\n",
    "        args = (\n",
    "            (examples[sentence1_key], examples[sentence2_key])\n",
    "        )\n",
    "        result = tokenizer(*args, padding=padding, max_length=max_seq_length, truncation=True)\n",
    "      \n",
    "        result[\"label\"] = [l for l in examples[\"label\"]]\n",
    "        return result\n",
    "        \n",
    "    raw_datasets = raw_datasets.map(\n",
    "        preprocess_function,\n",
    "        batched=True,\n",
    "        desc=\"Running tokenizer on dataset\",\n",
    "    )\n",
    "\n",
    "    return raw_datasets\n",
    "\n",
    "def get_eval_dataset(dataset, task_name):\n",
    "    if task_name == 'snli':\n",
    "        return dataset['test']\n",
    "    elif task_name == 'mnli':\n",
    "        return dataset['validation_matched']\n",
    "    else:\n",
    "        return dataset['validation']"
   ]
  },
  {
   "cell_type": "code",
   "execution_count": 7,
   "id": "99628624-543b-4f00-b387-d78025a2da56",
   "metadata": {},
   "outputs": [],
   "source": [
    "raw_datasets = load_dataset_with_glue(task_name_2)"
   ]
  },
  {
   "cell_type": "code",
   "execution_count": 8,
   "id": "c96974c5-73b3-4bb2-b590-b04bf7f4ace3",
   "metadata": {},
   "outputs": [
    {
     "data": {
      "application/vnd.jupyter.widget-view+json": {
       "model_id": "2287e289a1ed47e99a9bbd31c9b53f2a",
       "version_major": 2,
       "version_minor": 0
      },
      "text/plain": [
       "Running tokenizer on dataset:   0%|          | 0/4620 [00:00<?, ? examples/s]"
      ]
     },
     "metadata": {},
     "output_type": "display_data"
    }
   ],
   "source": [
    "__train_dataset = raw_datasets['train'].train_test_split(test_size=train_test_ratio, shuffle=True, seed=random_seed)\n",
    "\n",
    "_train_dataset = process_dataset(__train_dataset['train'], task_name_2)\n",
    "train_dataset = get_data(task_name_2, _train_dataset)\n",
    "\n",
    "_valid_dataset = process_dataset(__train_dataset['test'], task_name_2)\n",
    "valid_dataset = get_data(task_name_2, _valid_dataset)\n",
    "\n",
    "__eval_dataset = get_eval_dataset(raw_datasets, task_name_2)\n",
    "_eval_dataset = process_dataset(__eval_dataset, task_name_2)\n",
    "eval_dataset = get_data(task_name_2, _eval_dataset)"
   ]
  },
  {
   "cell_type": "code",
   "execution_count": 9,
   "id": "bff644c1-a096-4325-b855-885de9770cfd",
   "metadata": {},
   "outputs": [
    {
     "data": {
      "text/plain": [
       "Dataset({\n",
       "    features: ['premise', 'hypothesis', 'label', 'input_ids', 'attention_mask'],\n",
       "    num_rows: 18477\n",
       "})"
      ]
     },
     "execution_count": 9,
     "metadata": {},
     "output_type": "execute_result"
    }
   ],
   "source": [
    "train_dataset"
   ]
  },
  {
   "cell_type": "code",
   "execution_count": 10,
   "id": "18986eda-bb94-49dc-8408-6fbc934a1a07",
   "metadata": {},
   "outputs": [
    {
     "data": {
      "text/plain": [
       "Dataset({\n",
       "    features: ['premise', 'hypothesis', 'label', 'input_ids', 'attention_mask'],\n",
       "    num_rows: 4620\n",
       "})"
      ]
     },
     "execution_count": 10,
     "metadata": {},
     "output_type": "execute_result"
    }
   ],
   "source": [
    "valid_dataset"
   ]
  },
  {
   "cell_type": "code",
   "execution_count": 11,
   "id": "0a20d7d0-d47c-4a87-b470-3c6a47055aa2",
   "metadata": {},
   "outputs": [
    {
     "data": {
      "text/plain": [
       "Dataset({\n",
       "    features: ['premise', 'hypothesis', 'label', 'input_ids', 'attention_mask'],\n",
       "    num_rows: 1304\n",
       "})"
      ]
     },
     "execution_count": 11,
     "metadata": {},
     "output_type": "execute_result"
    }
   ],
   "source": [
    "eval_dataset"
   ]
  },
  {
   "cell_type": "code",
   "execution_count": 12,
   "id": "db54b13c-8b24-40a2-b2ee-92d3146ba44a",
   "metadata": {},
   "outputs": [
    {
     "name": "stderr",
     "output_type": "stream",
     "text": [
      "Some weights of the model checkpoint at roberta-base were not used when initializing RobertaAdapterModel: ['lm_head.layer_norm.bias', 'lm_head.layer_norm.weight', 'lm_head.bias', 'lm_head.dense.weight', 'lm_head.dense.bias']\n",
      "- This IS expected if you are initializing RobertaAdapterModel from the checkpoint of a model trained on another task or with another architecture (e.g. initializing a BertForSequenceClassification model from a BertForPreTraining model).\n",
      "- This IS NOT expected if you are initializing RobertaAdapterModel from the checkpoint of a model that you expect to be exactly identical (initializing a BertForSequenceClassification model from a BertForSequenceClassification model).\n",
      "Some weights of RobertaAdapterModel were not initialized from the model checkpoint at roberta-base and are newly initialized: ['roberta.pooler.dense.weight', 'roberta.pooler.dense.bias']\n",
      "You should probably TRAIN this model on a down-stream task to be able to use it for predictions and inference.\n"
     ]
    },
    {
     "data": {
      "application/vnd.jupyter.widget-view+json": {
       "model_id": "442de4cd067b409e9bc6d6843c913126",
       "version_major": 2,
       "version_minor": 0
      },
      "text/plain": [
       "Fetching 6 files:   0%|          | 0/6 [00:00<?, ?it/s]"
      ]
     },
     "metadata": {},
     "output_type": "display_data"
    },
    {
     "data": {
      "application/vnd.jupyter.widget-view+json": {
       "model_id": "f8d82582edc045e5859b81fbab831d3d",
       "version_major": 2,
       "version_minor": 0
      },
      "text/plain": [
       "Downloading adapter_config.json:   0%|          | 0.00/575 [00:00<?, ?B/s]"
      ]
     },
     "metadata": {},
     "output_type": "display_data"
    },
    {
     "data": {
      "application/vnd.jupyter.widget-view+json": {
       "model_id": "feb600ca501a41f786470b2ffb49c072",
       "version_major": 2,
       "version_minor": 0
      },
      "text/plain": [
       "Downloading README.md:   0%|          | 0.00/2.25k [00:00<?, ?B/s]"
      ]
     },
     "metadata": {},
     "output_type": "display_data"
    },
    {
     "data": {
      "application/vnd.jupyter.widget-view+json": {
       "model_id": "2ad14aeec6d24655917a6bec2806f334",
       "version_major": 2,
       "version_minor": 0
      },
      "text/plain": [
       "Downloading head_config.json:   0%|          | 0.00/410 [00:00<?, ?B/s]"
      ]
     },
     "metadata": {},
     "output_type": "display_data"
    },
    {
     "data": {
      "application/vnd.jupyter.widget-view+json": {
       "model_id": "d61ad81b36334838b5591954f2d1bf1f",
       "version_major": 2,
       "version_minor": 0
      },
      "text/plain": [
       "Downloading .gitattributes:   0%|          | 0.00/1.18k [00:00<?, ?B/s]"
      ]
     },
     "metadata": {},
     "output_type": "display_data"
    },
    {
     "data": {
      "application/vnd.jupyter.widget-view+json": {
       "model_id": "b5a2f39c54b84130904623f01ea434e7",
       "version_major": 2,
       "version_minor": 0
      },
      "text/plain": [
       "Downloading pytorch_model_head.bin:   0%|          | 0.00/2.37M [00:00<?, ?B/s]"
      ]
     },
     "metadata": {},
     "output_type": "display_data"
    },
    {
     "data": {
      "application/vnd.jupyter.widget-view+json": {
       "model_id": "3ccc7d998c3046e4a94ac456e4d381d5",
       "version_major": 2,
       "version_minor": 0
      },
      "text/plain": [
       "Downloading pytorch_adapter.bin:   0%|          | 0.00/3.59M [00:00<?, ?B/s]"
      ]
     },
     "metadata": {},
     "output_type": "display_data"
    },
    {
     "data": {
      "application/vnd.jupyter.widget-view+json": {
       "model_id": "d0d84fd878cd419ca8acffcc6bd273ef",
       "version_major": 2,
       "version_minor": 0
      },
      "text/plain": [
       "Fetching 6 files:   0%|          | 0/6 [00:00<?, ?it/s]"
      ]
     },
     "metadata": {},
     "output_type": "display_data"
    }
   ],
   "source": [
    "model = AutoAdapterModel.from_pretrained(\n",
    "    model_name_or_path,\n",
    "    ignore_mismatched_sizes=False\n",
    ")\n",
    "\n",
    "model.freeze_model(True)\n",
    "\n",
    "adapter1 = model.load_adapter(load_adapter_1, with_head=False, config=adapter_config_1)\n",
    "adapter2 = model.load_adapter(load_adapter_2, with_head=False, config=adapter_config_2)\n",
    "\n",
    "model.active_adapters = ac.Parallel(adapter1, adapter2)\n",
    "\n",
    "model.add_classification_head(task_name)"
   ]
  },
  {
   "cell_type": "code",
   "execution_count": 13,
   "id": "c049c1bb-d070-4c76-93e2-89ec0a29045a",
   "metadata": {},
   "outputs": [
    {
     "name": "stdout",
     "output_type": "stream",
     "text": [
      "================================================================================\n",
      "Name                     Architecture         #Param      %Param  Active   Train\n",
      "--------------------------------------------------------------------------------\n",
      "glue_mnli                bottleneck          894,528       0.718       1       1\n",
      "scitail                  bottleneck          894,528       0.718       1       1\n",
      "--------------------------------------------------------------------------------\n",
      "Full model                               124,645,632     100.000               1\n",
      "================================================================================\n"
     ]
    }
   ],
   "source": [
    "print(model.adapter_summary())"
   ]
  },
  {
   "cell_type": "code",
   "execution_count": 14,
   "id": "b7d46258-b57e-4aa1-8065-5241070b65e0",
   "metadata": {},
   "outputs": [
    {
     "data": {
      "text/plain": [
       "'scitail_with_mnli'"
      ]
     },
     "execution_count": 14,
     "metadata": {},
     "output_type": "execute_result"
    }
   ],
   "source": [
    "model.active_head"
   ]
  },
  {
   "cell_type": "code",
   "execution_count": 15,
   "id": "53f7b287-4b31-4e9f-ab8d-74eea007b79f",
   "metadata": {},
   "outputs": [],
   "source": [
    "for k, v in model.named_parameters():\n",
    "    if 'heads' in k:\n",
    "            pass\n",
    "    else:\n",
    "        v.requires_grad = False"
   ]
  },
  {
   "cell_type": "code",
   "execution_count": 16,
   "id": "db8924ee-3913-4283-a18b-9b0c96430039",
   "metadata": {},
   "outputs": [
    {
     "name": "stdout",
     "output_type": "stream",
     "text": [
      "heads.scitail_with_mnli.1.weight\n",
      "heads.scitail_with_mnli.1.bias\n",
      "heads.scitail_with_mnli.4.weight\n",
      "heads.scitail_with_mnli.4.bias\n"
     ]
    }
   ],
   "source": [
    "for k, v in model.named_parameters():\n",
    "    if v.requires_grad:\n",
    "        print(k)"
   ]
  },
  {
   "cell_type": "code",
   "execution_count": 17,
   "id": "c3de5946-0170-413f-ab98-ebce00dffacb",
   "metadata": {},
   "outputs": [],
   "source": [
    "per_device_train_batch_size = 32\n",
    "per_device_eval_batch_size = 1024\n",
    "weight_decay = 0.0\n",
    "learning_rate = 1e-4\n",
    "num_train_epochs = 20\n",
    "lr_scheduler_type = 'cosine'\n",
    "warmup_ratio = 0.1\n",
    "patience = 4\n",
    "\n",
    "optimizer = torch.optim.AdamW(model.parameters(), lr=learning_rate)\n",
    "total_batch_size_train = per_device_train_batch_size * device_count\n",
    "total_batch_size_eval = per_device_eval_batch_size * device_count"
   ]
  },
  {
   "cell_type": "code",
   "execution_count": 18,
   "id": "a007ecf3-1e37-4afd-b6bd-4a0864943868",
   "metadata": {},
   "outputs": [],
   "source": [
    "def compute_metrics(p: EvalPrediction):\n",
    "    preds = p.predictions[0] if isinstance(p.predictions, tuple) else p.predictions\n",
    "    preds = np.argmax(preds, axis=1)\n",
    "    \n",
    "    return {\"accuracy\": (preds == p.label_ids).astype(np.float32).mean().item()}"
   ]
  },
  {
   "cell_type": "code",
   "execution_count": 19,
   "id": "6310bfb1-440c-4baf-8c4c-108c1ad83822",
   "metadata": {},
   "outputs": [],
   "source": [
    "loss_fct = CrossEntropyLoss()\n",
    "\n",
    "def remove_unnecessary_logging_dir(log_dir_name):\n",
    "    for file_name in os.listdir(log_dir_name):\n",
    "        file_path = os.path.join(log_dir_name, file_name)\n",
    "        if os.path.isdir(file_path):\n",
    "            shutil.rmtree(file_path)\n",
    "\n",
    "\n",
    "class CustomTrainer(Trainer):\n",
    "    def compute_loss(self, model, inputs):\n",
    "        if self.state.global_step == 0:\n",
    "            remove_unnecessary_logging_dir(log_dir_name)\n",
    "        labels = inputs.pop('labels')\n",
    "\n",
    "        # Compute model outputs\n",
    "        outputs = model(**inputs)\n",
    "\n",
    "        logits = outputs[0].logits\n",
    "        \n",
    "        loss = loss_fct(logits.view(-1, num_labels), labels.view(-1))\n",
    "\n",
    "        return loss\n",
    "        \n",
    "    def evaluation_loop(\n",
    "        self,\n",
    "        dataloader,\n",
    "        description,\n",
    "        prediction_loss_only = None,\n",
    "        ignore_keys = None,\n",
    "        metric_key_prefix = \"eval\",\n",
    "    ):\n",
    "        # This is a simple modification. For more custom behavior, \n",
    "        # you might want to start from the original code in Trainer's evaluation_loop.\n",
    "        \n",
    "        # Initialize metrics, etc.\n",
    "        self.model.eval()\n",
    "        total_eval_loss = 0.0\n",
    "        total_preds = []\n",
    "        total_logits = []\n",
    "        total_labels = []\n",
    "        total_eval_metrics = {}\n",
    "        \n",
    "        for step, inputs in enumerate(dataloader):\n",
    "            labels = inputs.pop('labels').to(self.args.device)\n",
    "            \n",
    "            # Move inputs to appropriate device\n",
    "            for k, v in inputs.items():\n",
    "                inputs[k] = v.to(self.args.device)\n",
    "            \n",
    "            # Forward pass and compute loss and metrics\n",
    "            with torch.no_grad():\n",
    "                outputs = model(**inputs)\n",
    "\n",
    "                logits = outputs[0].logits\n",
    "\n",
    "            loss = loss_fct(logits.view(-1, num_labels), labels.view(-1))\n",
    "\n",
    "            total_eval_loss += loss.item()\n",
    "\n",
    "            total_logits.extend(logits.detach().cpu().numpy())\n",
    "            total_preds.extend(logits.argmax(dim=-1))\n",
    "            total_labels.extend(labels.detach().cpu().numpy())\n",
    "\n",
    "        average_eval_loss = total_eval_loss / len(dataloader)\n",
    "        \n",
    "        eval_pred = EvalPrediction(predictions=total_logits, label_ids=total_labels)\n",
    "        \n",
    "        metrics = self.compute_metrics(eval_pred)\n",
    "\n",
    "        # Average the metrics\n",
    "        num_eval_samples = len(dataloader.dataset)\n",
    "        total_eval_metrics = {f'{metric_key_prefix}_loss': average_eval_loss, f'{metric_key_prefix}_accuracy': metrics['accuracy']}\n",
    "\n",
    "        # return total_eval_loss, total_eval_metrics\n",
    "        return EvalLoopOutput(predictions=total_preds, \n",
    "                              label_ids=total_labels, \n",
    "                              metrics=total_eval_metrics, \n",
    "                              num_samples=num_eval_samples)\n"
   ]
  },
  {
   "cell_type": "code",
   "execution_count": 20,
   "id": "2c52d193-6157-410a-b03c-fb39b11a7985",
   "metadata": {},
   "outputs": [],
   "source": [
    "training_args = TrainingArguments(\n",
    "    report_to=['tensorboard'],\n",
    "    remove_unused_columns=False,\n",
    "    output_dir=output_dir,\n",
    "    per_device_train_batch_size=per_device_train_batch_size,\n",
    "    per_device_eval_batch_size=per_device_eval_batch_size,\n",
    "    num_train_epochs=num_train_epochs,\n",
    "    logging_dir=log_dir_name,\n",
    "    seed=random_seed,\n",
    "    data_seed=random_seed,\n",
    "    do_train=True,\n",
    "    do_eval=True,\n",
    "    learning_rate=learning_rate,\n",
    "    lr_scheduler_type=lr_scheduler_type,\n",
    "    warmup_ratio=warmup_ratio,\n",
    "    evaluation_strategy='epoch',\n",
    "    logging_strategy='epoch',\n",
    "    save_strategy='epoch',\n",
    "    # eval_steps=100,\n",
    "    # logging_steps=100,\n",
    "    # save_steps=100,\n",
    "    save_total_limit=1,\n",
    "    load_best_model_at_end = True,\n",
    "    metric_for_best_model = 'loss'\n",
    ")\n",
    "\n",
    "trainer = CustomTrainer(\n",
    "        model=model,\n",
    "        args=training_args,\n",
    "        train_dataset=train_dataset,\n",
    "        eval_dataset=valid_dataset,\n",
    "        tokenizer=tokenizer,\n",
    "        data_collator=default_data_collator,\n",
    "        compute_metrics=compute_metrics,\n",
    "        callbacks = [EarlyStoppingCallback(early_stopping_patience=patience)]\n",
    "    )"
   ]
  },
  {
   "cell_type": "code",
   "execution_count": 21,
   "id": "3df5dcbc-4b57-4d88-a602-1a59b5a3001a",
   "metadata": {},
   "outputs": [
    {
     "name": "stderr",
     "output_type": "stream",
     "text": [
      "/home/jaehan/research/adapter/adapter-poisoning/transformers/optimization.py:306: FutureWarning: This implementation of AdamW is deprecated and will be removed in a future version. Use the PyTorch implementation torch.optim.AdamW instead, or set `no_deprecation_warning=True` to disable this warning\n",
      "  warnings.warn(\n",
      "***** Running training *****\n",
      "  Num examples = 18477\n",
      "  Num Epochs = 20\n",
      "  Instantaneous batch size per device = 32\n",
      "  Total train batch size (w. parallel, distributed & accumulation) = 32\n",
      "  Gradient Accumulation steps = 1\n",
      "  Total optimization steps = 11560\n",
      "  Number of trainable parameters = 592130\n"
     ]
    },
    {
     "data": {
      "text/html": [
       "\n",
       "    <div>\n",
       "      \n",
       "      <progress value='1978' max='11560' style='width:300px; height:20px; vertical-align: middle;'></progress>\n",
       "      [ 1978/11560 05:26 < 26:21, 6.06 it/s, Epoch 3.42/20]\n",
       "    </div>\n",
       "    <table border=\"1\" class=\"dataframe\">\n",
       "  <thead>\n",
       " <tr style=\"text-align: left;\">\n",
       "      <th>Epoch</th>\n",
       "      <th>Training Loss</th>\n",
       "      <th>Validation Loss</th>\n",
       "      <th>Accuracy</th>\n",
       "    </tr>\n",
       "  </thead>\n",
       "  <tbody>\n",
       "    <tr>\n",
       "      <td>1</td>\n",
       "      <td>0.463000</td>\n",
       "      <td>0.239879</td>\n",
       "      <td>0.911905</td>\n",
       "    </tr>\n",
       "    <tr>\n",
       "      <td>2</td>\n",
       "      <td>0.237300</td>\n",
       "      <td>0.222165</td>\n",
       "      <td>0.919481</td>\n",
       "    </tr>\n",
       "    <tr>\n",
       "      <td>3</td>\n",
       "      <td>0.224500</td>\n",
       "      <td>0.202197</td>\n",
       "      <td>0.922078</td>\n",
       "    </tr>\n",
       "    <tr>\n",
       "      <td>3</td>\n",
       "      <td>0.224500</td>\n",
       "      <td>0.228022</td>\n",
       "      <td>0.896472</td>\n",
       "    </tr>\n",
       "  </tbody>\n",
       "</table><p>"
      ],
      "text/plain": [
       "<IPython.core.display.HTML object>"
      ]
     },
     "metadata": {},
     "output_type": "display_data"
    },
    {
     "name": "stderr",
     "output_type": "stream",
     "text": [
      "Saving model checkpoint to /home/jaehan/research/adapter/adapter-poisoning/data_ign/tmp_case1_nli_moeBaseline/scitail_with_mnli_20231214-113417/checkpoint-578\n",
      "Configuration saved in /home/jaehan/research/adapter/adapter-poisoning/data_ign/tmp_case1_nli_moeBaseline/scitail_with_mnli_20231214-113417/checkpoint-578/config.json\n",
      "Configuration saved in /home/jaehan/research/adapter/adapter-poisoning/data_ign/tmp_case1_nli_moeBaseline/scitail_with_mnli_20231214-113417/checkpoint-578/generation_config.json\n",
      "Model weights saved in /home/jaehan/research/adapter/adapter-poisoning/data_ign/tmp_case1_nli_moeBaseline/scitail_with_mnli_20231214-113417/checkpoint-578/pytorch_model.bin\n",
      "tokenizer config file saved in /home/jaehan/research/adapter/adapter-poisoning/data_ign/tmp_case1_nli_moeBaseline/scitail_with_mnli_20231214-113417/checkpoint-578/tokenizer_config.json\n",
      "Special tokens file saved in /home/jaehan/research/adapter/adapter-poisoning/data_ign/tmp_case1_nli_moeBaseline/scitail_with_mnli_20231214-113417/checkpoint-578/special_tokens_map.json\n",
      "Saving model checkpoint to /home/jaehan/research/adapter/adapter-poisoning/data_ign/tmp_case1_nli_moeBaseline/scitail_with_mnli_20231214-113417/checkpoint-1156\n",
      "Configuration saved in /home/jaehan/research/adapter/adapter-poisoning/data_ign/tmp_case1_nli_moeBaseline/scitail_with_mnli_20231214-113417/checkpoint-1156/config.json\n",
      "Configuration saved in /home/jaehan/research/adapter/adapter-poisoning/data_ign/tmp_case1_nli_moeBaseline/scitail_with_mnli_20231214-113417/checkpoint-1156/generation_config.json\n",
      "Model weights saved in /home/jaehan/research/adapter/adapter-poisoning/data_ign/tmp_case1_nli_moeBaseline/scitail_with_mnli_20231214-113417/checkpoint-1156/pytorch_model.bin\n",
      "tokenizer config file saved in /home/jaehan/research/adapter/adapter-poisoning/data_ign/tmp_case1_nli_moeBaseline/scitail_with_mnli_20231214-113417/checkpoint-1156/tokenizer_config.json\n",
      "Special tokens file saved in /home/jaehan/research/adapter/adapter-poisoning/data_ign/tmp_case1_nli_moeBaseline/scitail_with_mnli_20231214-113417/checkpoint-1156/special_tokens_map.json\n",
      "Deleting older checkpoint [/home/jaehan/research/adapter/adapter-poisoning/data_ign/tmp_case1_nli_moeBaseline/scitail_with_mnli_20231214-113417/checkpoint-578] due to args.save_total_limit\n",
      "Saving model checkpoint to /home/jaehan/research/adapter/adapter-poisoning/data_ign/tmp_case1_nli_moeBaseline/scitail_with_mnli_20231214-113417/checkpoint-1734\n",
      "Configuration saved in /home/jaehan/research/adapter/adapter-poisoning/data_ign/tmp_case1_nli_moeBaseline/scitail_with_mnli_20231214-113417/checkpoint-1734/config.json\n",
      "Configuration saved in /home/jaehan/research/adapter/adapter-poisoning/data_ign/tmp_case1_nli_moeBaseline/scitail_with_mnli_20231214-113417/checkpoint-1734/generation_config.json\n",
      "Model weights saved in /home/jaehan/research/adapter/adapter-poisoning/data_ign/tmp_case1_nli_moeBaseline/scitail_with_mnli_20231214-113417/checkpoint-1734/pytorch_model.bin\n",
      "tokenizer config file saved in /home/jaehan/research/adapter/adapter-poisoning/data_ign/tmp_case1_nli_moeBaseline/scitail_with_mnli_20231214-113417/checkpoint-1734/tokenizer_config.json\n",
      "Special tokens file saved in /home/jaehan/research/adapter/adapter-poisoning/data_ign/tmp_case1_nli_moeBaseline/scitail_with_mnli_20231214-113417/checkpoint-1734/special_tokens_map.json\n",
      "Deleting older checkpoint [/home/jaehan/research/adapter/adapter-poisoning/data_ign/tmp_case1_nli_moeBaseline/scitail_with_mnli_20231214-113417/checkpoint-1156] due to args.save_total_limit\n"
     ]
    },
    {
     "ename": "KeyboardInterrupt",
     "evalue": "",
     "output_type": "error",
     "traceback": [
      "\u001b[0;31m---------------------------------------------------------------------------\u001b[0m",
      "\u001b[0;31mKeyboardInterrupt\u001b[0m                         Traceback (most recent call last)",
      "Cell \u001b[0;32mIn[21], line 16\u001b[0m\n\u001b[1;32m     12\u001b[0m \u001b[38;5;28;01mwith\u001b[39;00m \u001b[38;5;28mopen\u001b[39m(os\u001b[38;5;241m.\u001b[39mpath\u001b[38;5;241m.\u001b[39mjoin(output_dir, \u001b[38;5;124m\"\u001b[39m\u001b[38;5;124mhyperparameters.json\u001b[39m\u001b[38;5;124m\"\u001b[39m), \u001b[38;5;124m\"\u001b[39m\u001b[38;5;124mw\u001b[39m\u001b[38;5;124m\"\u001b[39m) \u001b[38;5;28;01mas\u001b[39;00m f:\n\u001b[1;32m     13\u001b[0m     json\u001b[38;5;241m.\u001b[39mdump(loss_history, f)\n\u001b[0;32m---> 16\u001b[0m train_result \u001b[38;5;241m=\u001b[39m \u001b[43mtrainer\u001b[49m\u001b[38;5;241;43m.\u001b[39;49m\u001b[43mtrain\u001b[49m\u001b[43m(\u001b[49m\u001b[43m)\u001b[49m\n\u001b[1;32m     17\u001b[0m metrics \u001b[38;5;241m=\u001b[39m train_result\u001b[38;5;241m.\u001b[39mmetrics\n\u001b[1;32m     19\u001b[0m trainer\u001b[38;5;241m.\u001b[39msave_model()\n",
      "File \u001b[0;32m~/research/adapter/adapter-poisoning/transformers/trainer.py:1543\u001b[0m, in \u001b[0;36mTrainer.train\u001b[0;34m(self, resume_from_checkpoint, trial, ignore_keys_for_eval, **kwargs)\u001b[0m\n\u001b[1;32m   1538\u001b[0m     \u001b[38;5;28mself\u001b[39m\u001b[38;5;241m.\u001b[39mmodel_wrapped \u001b[38;5;241m=\u001b[39m \u001b[38;5;28mself\u001b[39m\u001b[38;5;241m.\u001b[39mmodel\n\u001b[1;32m   1540\u001b[0m inner_training_loop \u001b[38;5;241m=\u001b[39m find_executable_batch_size(\n\u001b[1;32m   1541\u001b[0m     \u001b[38;5;28mself\u001b[39m\u001b[38;5;241m.\u001b[39m_inner_training_loop, \u001b[38;5;28mself\u001b[39m\u001b[38;5;241m.\u001b[39m_train_batch_size, args\u001b[38;5;241m.\u001b[39mauto_find_batch_size\n\u001b[1;32m   1542\u001b[0m )\n\u001b[0;32m-> 1543\u001b[0m \u001b[38;5;28;01mreturn\u001b[39;00m \u001b[43minner_training_loop\u001b[49m\u001b[43m(\u001b[49m\n\u001b[1;32m   1544\u001b[0m \u001b[43m    \u001b[49m\u001b[43margs\u001b[49m\u001b[38;5;241;43m=\u001b[39;49m\u001b[43margs\u001b[49m\u001b[43m,\u001b[49m\n\u001b[1;32m   1545\u001b[0m \u001b[43m    \u001b[49m\u001b[43mresume_from_checkpoint\u001b[49m\u001b[38;5;241;43m=\u001b[39;49m\u001b[43mresume_from_checkpoint\u001b[49m\u001b[43m,\u001b[49m\n\u001b[1;32m   1546\u001b[0m \u001b[43m    \u001b[49m\u001b[43mtrial\u001b[49m\u001b[38;5;241;43m=\u001b[39;49m\u001b[43mtrial\u001b[49m\u001b[43m,\u001b[49m\n\u001b[1;32m   1547\u001b[0m \u001b[43m    \u001b[49m\u001b[43mignore_keys_for_eval\u001b[49m\u001b[38;5;241;43m=\u001b[39;49m\u001b[43mignore_keys_for_eval\u001b[49m\u001b[43m,\u001b[49m\n\u001b[1;32m   1548\u001b[0m \u001b[43m\u001b[49m\u001b[43m)\u001b[49m\n",
      "File \u001b[0;32m~/research/adapter/adapter-poisoning/transformers/trainer.py:1796\u001b[0m, in \u001b[0;36mTrainer._inner_training_loop\u001b[0;34m(self, batch_size, args, resume_from_checkpoint, trial, ignore_keys_for_eval)\u001b[0m\n\u001b[1;32m   1790\u001b[0m \u001b[38;5;28;01melse\u001b[39;00m:\n\u001b[1;32m   1791\u001b[0m     tr_loss_step \u001b[38;5;241m=\u001b[39m \u001b[38;5;28mself\u001b[39m\u001b[38;5;241m.\u001b[39mtraining_step(model, inputs)\n\u001b[1;32m   1793\u001b[0m \u001b[38;5;28;01mif\u001b[39;00m (\n\u001b[1;32m   1794\u001b[0m     args\u001b[38;5;241m.\u001b[39mlogging_nan_inf_filter\n\u001b[1;32m   1795\u001b[0m     \u001b[38;5;129;01mand\u001b[39;00m \u001b[38;5;129;01mnot\u001b[39;00m is_torch_tpu_available()\n\u001b[0;32m-> 1796\u001b[0m     \u001b[38;5;129;01mand\u001b[39;00m (torch\u001b[38;5;241m.\u001b[39misnan(tr_loss_step) \u001b[38;5;129;01mor\u001b[39;00m \u001b[43mtorch\u001b[49m\u001b[38;5;241;43m.\u001b[39;49m\u001b[43misinf\u001b[49m\u001b[43m(\u001b[49m\u001b[43mtr_loss_step\u001b[49m\u001b[43m)\u001b[49m)\n\u001b[1;32m   1797\u001b[0m ):\n\u001b[1;32m   1798\u001b[0m     \u001b[38;5;66;03m# if loss is nan or inf simply add the average of previous logged losses\u001b[39;00m\n\u001b[1;32m   1799\u001b[0m     tr_loss \u001b[38;5;241m+\u001b[39m\u001b[38;5;241m=\u001b[39m tr_loss \u001b[38;5;241m/\u001b[39m (\u001b[38;5;241m1\u001b[39m \u001b[38;5;241m+\u001b[39m \u001b[38;5;28mself\u001b[39m\u001b[38;5;241m.\u001b[39mstate\u001b[38;5;241m.\u001b[39mglobal_step \u001b[38;5;241m-\u001b[39m \u001b[38;5;28mself\u001b[39m\u001b[38;5;241m.\u001b[39m_globalstep_last_logged)\n\u001b[1;32m   1800\u001b[0m \u001b[38;5;28;01melse\u001b[39;00m:\n",
      "\u001b[0;31mKeyboardInterrupt\u001b[0m: "
     ]
    }
   ],
   "source": [
    "os.makedirs(output_dir, exist_ok=True)\n",
    "\n",
    "loss_history = {'max_seq_length': max_seq_length,\n",
    "                'random_seed': random_seed,\n",
    "                'lr': learning_rate,\n",
    "                'warmup_ratio': warmup_ratio,\n",
    "                'early_stopping_patience': patience,\n",
    "                'total_batch_size': total_batch_size_train,\n",
    "                'num_train_epoch': num_train_epochs,}\n",
    "\n",
    "\n",
    "with open(os.path.join(output_dir, \"hyperparameters.json\"), \"w\") as f:\n",
    "    json.dump(loss_history, f)\n",
    "\n",
    "\n",
    "train_result = trainer.train()\n",
    "metrics = train_result.metrics\n",
    "\n",
    "trainer.save_model()\n",
    "\n",
    "trainer.log_metrics(\"train\", metrics)\n",
    "trainer.save_metrics(\"train\", metrics)\n",
    "trainer.save_state()\n",
    "\n",
    "os.makedirs(os.path.join(output_dir, f\"trained_head\"), exist_ok=True)\n",
    "model.save_head(os.path.join(output_dir, f\"trained_head/{task_name}\"), task_name)"
   ]
  },
  {
   "cell_type": "code",
   "execution_count": 22,
   "id": "4aed3544-4d5a-4f76-b82f-ddbbb680d485",
   "metadata": {},
   "outputs": [
    {
     "name": "stdout",
     "output_type": "stream",
     "text": [
      "{'eval_accuracy': 0.8964723944664001, 'eval_loss': 0.22802245616912842}\n"
     ]
    }
   ],
   "source": [
    "metrics = trainer.evaluate(eval_dataset=eval_dataset)\n",
    "pprint(metrics)\n",
    "trainer.save_metrics(\"eval\", metrics)"
   ]
  },
  {
   "cell_type": "code",
   "execution_count": null,
   "id": "53427fb5-595a-49be-8bce-688267001416",
   "metadata": {},
   "outputs": [],
   "source": [
    "# input('Remove files?\\n')\n",
    "# import shutil\n",
    "# directory_path = output_dir\n",
    "# shutil.rmtree(directory_path)"
   ]
  },
  {
   "cell_type": "code",
   "execution_count": null,
   "id": "843d30e0-c045-4acf-85ab-3ddb35c3f8b6",
   "metadata": {},
   "outputs": [],
   "source": []
  }
 ],
 "metadata": {
  "kernelspec": {
   "display_name": "moe",
   "language": "python",
   "name": "moe"
  },
  "language_info": {
   "codemirror_mode": {
    "name": "ipython",
    "version": 3
   },
   "file_extension": ".py",
   "mimetype": "text/x-python",
   "name": "python",
   "nbconvert_exporter": "python",
   "pygments_lexer": "ipython3",
   "version": "3.11.4"
  }
 },
 "nbformat": 4,
 "nbformat_minor": 5
}
