{
 "cells": [
  {
   "cell_type": "code",
   "execution_count": 1,
   "id": "cf406f7b-c03f-42cc-b1d5-531fa33289a9",
   "metadata": {},
   "outputs": [],
   "source": [
    "import sys\n",
    "import os\n",
    "from dotenv import load_dotenv\n",
    "\n",
    "load_dotenv(os.path.expanduser('~/.env'), verbose=True)\n",
    "\n",
    "data_dir = os.getenv('DATA_IGN_DIR')\n",
    "adapter_lib_path = os.getenv('ADAPTER_LIB_PATH')\n",
    "\n",
    "sys.path.insert(0, adapter_lib_path)"
   ]
  },
  {
   "cell_type": "code",
   "execution_count": 2,
   "id": "df7048f5-5b82-4fa6-8d3a-5ccde0de0180",
   "metadata": {},
   "outputs": [
    {
     "name": "stdout",
     "output_type": "stream",
     "text": [
      "cuda:1 1\n"
     ]
    }
   ],
   "source": [
    "import logging\n",
    "os.environ[\"CUDA_VISIBLE_DEVICES\"] = '0'\n",
    "import random\n",
    "from dataclasses import dataclass, field\n",
    "from typing import Optional, List\n",
    "\n",
    "import datasets\n",
    "import numpy as np\n",
    "from datasets import load_dataset, concatenate_datasets\n",
    "\n",
    "import evaluate\n",
    "import transformers\n",
    "from transformers import (\n",
    "    AutoConfig,\n",
    "    AutoTokenizer,\n",
    "    DataCollatorWithPadding,\n",
    "    EvalPrediction,\n",
    "    HfArgumentParser,\n",
    "    PretrainedConfig,\n",
    "    Trainer,\n",
    "    TrainingArguments,\n",
    "    default_data_collator,\n",
    "    set_seed,\n",
    "    get_scheduler,\n",
    "    PfeifferConfig\n",
    ")\n",
    "from transformers.adapters import AdapterArguments, AdapterTrainer, AdapterConfigBase, AutoAdapterModel, setup_adapter_training\n",
    "from transformers import BertTokenizer, BertModelWithHeads, AdapterConfig, EvalPrediction, TextClassificationPipeline\n",
    "from transformers.trainer_utils import get_last_checkpoint\n",
    "from transformers.utils import check_min_version\n",
    "from transformers.utils.versions import require_version\n",
    "\n",
    "from torch.utils.data import DataLoader\n",
    "import torch\n",
    "\n",
    "from pdb import set_trace\n",
    "import transformers.adapters.composition as ac\n",
    "\n",
    "from transformers.adapters.heads import ClassificationHead\n",
    "from torch.nn import CrossEntropyLoss, MSELoss\n",
    "\n",
    "from transformers.trainer_utils import EvalLoopOutput\n",
    "\n",
    "from sklearn.metrics import accuracy_score, classification_report, confusion_matrix, recall_score\n",
    "\n",
    "from tqdm import tqdm\n",
    "import json\n",
    "from datetime import datetime\n",
    "import random\n",
    "from datasets import concatenate_datasets\n",
    "\n",
    "from transformers import EarlyStoppingCallback\n",
    "\n",
    "import torch.nn as nn\n",
    "import torch.nn.functional as F\n",
    "\n",
    "device = torch.device('cuda:1' if torch.cuda.is_available() else 'cpu')\n",
    "device_count = torch.cuda.device_count()\n",
    "print(device, device_count)\n",
    "\n",
    "adapter_info = {\n",
    "                'bert-base-uncased':\n",
    "                    {\n",
    "                        'imdb': 'AdapterHub/roberta-base-pf-imdb',\n",
    "                        'rotten_tomatoes': 'AdapterHub/roberta-base-pf-rotten_tomatoes',\n",
    "                        'sst2': 'AdapterHub/roberta-base-pf-sst2',\n",
    "                        'yelp_polarity': 'AdapterHub/roberta-base-pf-yelp_polarity'\n",
    "                    },\n",
    "                'roberta-base':\n",
    "                    {      \n",
    "                        'imdb': 'AdapterHub/roberta-base-pf-imdb',\n",
    "                        'rotten_tomatoes': 'AdapterHub/roberta-base-pf-rotten_tomatoes',\n",
    "                        'sst2': 'AdapterHub/roberta-base-pf-sst2',\n",
    "                        'yelp_polarity': 'AdapterHub/roberta-base-pf-yelp_polarity',\n",
    "\n",
    "                        'rte': 'AdapterHub/roberta-base-pf-rte',\n",
    "                        'qnli': 'AdapterHub/roberta-base-pf-qnli',\n",
    "                        'scitail': 'AdapterHub/roberta-base-pf-scitail',\n",
    "                        'snli': 'AdapterHub/roberta-base-pf-snli',\n",
    "                        'mnli': 'AdapterHub/roberta-base-pf-mnli'\n",
    "                    }\n",
    "               }\n",
    "\n",
    "is_glue = {\"cola\": True,\n",
    "            \"mnli\": True,\n",
    "            \"mrpc\": True,\n",
    "            \"qnli\": True,\n",
    "             \"qqp\": True,\n",
    "             \"rte\": True,\n",
    "            \"sst2\": True,\n",
    "            \"stsb\": True,\n",
    "            \"wnli\": True,}\n",
    "\n",
    "metric_dict = {'rotten_tomatoes': 'sst2', 'imdb': 'sst2', 'yelp_polarity': 'sst2'}\n",
    "\n",
    "current_time = datetime.now().strftime('%Y%m%d-%H%M%S')"
   ]
  },
  {
   "cell_type": "code",
   "execution_count": 3,
   "id": "38d956f2-9bef-45b5-8121-883ffa5b906f",
   "metadata": {},
   "outputs": [],
   "source": [
    "# if len(sys.argv) - 1 != 2:\n",
    "#     print('Argument error')\n",
    "#     exit(1)\n",
    "\n",
    "# _, arg1, arg2 = sys.argv\n",
    "\n",
    "# task_name_1 = arg1\n",
    "# task_name_2 = arg2\n",
    "\n",
    "task_name_1 = 'rte'\n",
    "task_name_2 = 'mnli'"
   ]
  },
  {
   "cell_type": "code",
   "execution_count": 4,
   "id": "36e77c17-5a2f-4f95-baff-678167dab5b9",
   "metadata": {},
   "outputs": [
    {
     "name": "stdout",
     "output_type": "stream",
     "text": [
      "/home/jaehan/research/adapter/adapter-poisoning/data_ign/tmp_case1_nli_residualVictim_attackTraining/mnli_attack_rte_20231217-115646\n"
     ]
    }
   ],
   "source": [
    "attacker_name = f'{task_name_2}_attack_{task_name_1}'\n",
    "model_name_or_path = 'roberta-base'\n",
    "pad_to_max_length = True\n",
    "max_seq_length = 256\n",
    "\n",
    "output_dir = os.path.join(data_dir, f'tmp_case1_nli_residualVictim_attackTraining/{task_name_2}_attack_{task_name_1}_{current_time}')\n",
    "load_adapter_1 = adapter_info[model_name_or_path][task_name_1]\n",
    "load_adapter_2 = adapter_info[model_name_or_path][task_name_2]\n",
    "\n",
    "@dataclass(eq=False)\n",
    "class AttackerConfig(PfeifferConfig):\n",
    "    attacker: bool = True\n",
    "\n",
    "@dataclass(eq=False)\n",
    "class VictimConfig(PfeifferConfig):\n",
    "    victim: bool = True\n",
    "\n",
    "adapter_config_1 = VictimConfig()\n",
    "adapter_config_2 = AttackerConfig()\n",
    "\n",
    "victim_head = f'{task_name_1}_with_{task_name_2}'\n",
    "singleTask_path = os.path.join(data_dir, 'case1_nli_moeBaseline')\n",
    "\n",
    "victim_head_path = None\n",
    "victim_head_name = None\n",
    "for dir_name in os.listdir(singleTask_path):\n",
    "    if victim_head in dir_name:\n",
    "        victim_head_name = dir_name\n",
    "        victim_head_path = os.path.join(singleTask_path, f'{dir_name}/trained_head/{victim_head}')\n",
    "\n",
    "assert(victim_head_path)\n",
    "\n",
    "num_labels=2\n",
    "train_test_ratio = 0.2\n",
    "random_seed = 0\n",
    "\n",
    "set_seed(random_seed)\n",
    "torch.manual_seed(random_seed)\n",
    "torch.cuda.manual_seed(random_seed)\n",
    "np.random.seed(random_seed)\n",
    "random.seed(random_seed)\n",
    "\n",
    "print(output_dir)"
   ]
  },
  {
   "cell_type": "code",
   "execution_count": 5,
   "id": "afc47007-8d23-4116-85aa-0486e82f45a4",
   "metadata": {},
   "outputs": [],
   "source": [
    "def load_dataset_with_glue(task_name):\n",
    "    if task_name == 'scitail':\n",
    "        return load_dataset(task_name, 'tsv_format')\n",
    "    elif task_name in is_glue:\n",
    "        return load_dataset('glue', task_name)\n",
    "    else:\n",
    "        return load_dataset(task_name)\n",
    "    \n",
    "def process_dataset(dataset, task_name):\n",
    "    # Define the transformation for each dataset\n",
    "    if task_name == 'rte':\n",
    "        dataset = dataset.map(lambda x: {'premise': x['sentence1'], 'hypothesis': x['sentence2'], 'label': x['label']})\n",
    "    elif task_name == 'qnli':\n",
    "        dataset = dataset.map(lambda x: {'premise': x['question'], 'hypothesis': x['sentence'], 'label': x['label']})\n",
    "    elif task_name == 'scitail':\n",
    "        dataset = dataset.map(lambda x: {'premise': x['premise'], 'hypothesis': x['hypothesis'], 'label': 0 if x['label'] == 'entails' else 1})\n",
    "    elif task_name == 'snli' or task_name == 'mnli':\n",
    "        dataset = dataset.filter(lambda x: x['label'] != 2)\n",
    "        dataset = dataset.map(lambda x: {'premise': x['premise'], 'hypothesis': x['hypothesis'], 'label': 0 if x['label'] == 0 else 1})\n",
    "    else:\n",
    "        raise ValueError(\"Invalid dataset type provided. Choose from 'rte', 'qnli', 'scitail', 'snli'.\")\n",
    "\n",
    "    # Define the columns to keep\n",
    "    columns_to_keep = ['premise', 'hypothesis', 'input_ids', 'attention_mask', 'label']\n",
    "\n",
    "    # Drop all columns except those in columns_to_keep\n",
    "    columns_to_drop = [col for col in dataset.column_names if col not in columns_to_keep]\n",
    "    dataset = dataset.remove_columns(columns_to_drop)\n",
    "\n",
    "    return dataset\n",
    "\n",
    "tokenizer = AutoTokenizer.from_pretrained(\n",
    "    model_name_or_path,\n",
    ")\n",
    "\n",
    "def get_data(task_name, raw_datasets):\n",
    "    sentence1_key, sentence2_key = 'premise', 'hypothesis'\n",
    "\n",
    "    if pad_to_max_length:\n",
    "        padding = \"max_length\"\n",
    "\n",
    "    def preprocess_function(examples):    \n",
    "        # Tokenize the texts\n",
    "        args = (\n",
    "            (examples[sentence1_key], examples[sentence2_key])\n",
    "        )\n",
    "        result = tokenizer(*args, padding=padding, max_length=max_seq_length, truncation=True)\n",
    "      \n",
    "        result[\"label\"] = [l for l in examples[\"label\"]]\n",
    "        return result\n",
    "        \n",
    "    raw_datasets = raw_datasets.map(\n",
    "        preprocess_function,\n",
    "        batched=True,\n",
    "        desc=\"Running tokenizer on dataset\",\n",
    "    )\n",
    "\n",
    "    return raw_datasets\n",
    "\n",
    "def get_eval_dataset(dataset, task_name):\n",
    "    if task_name == 'snli':\n",
    "        return dataset['test']\n",
    "    elif task_name == 'mnli':\n",
    "        return dataset['validation_matched']\n",
    "    else:\n",
    "        return dataset['validation']"
   ]
  },
  {
   "cell_type": "code",
   "execution_count": 6,
   "id": "99628624-543b-4f00-b387-d78025a2da56",
   "metadata": {},
   "outputs": [],
   "source": [
    "raw_datasets_1 = load_dataset_with_glue(task_name_1)\n",
    "raw_datasets_2 = load_dataset_with_glue(task_name_2)"
   ]
  },
  {
   "cell_type": "code",
   "execution_count": 7,
   "id": "c96974c5-73b3-4bb2-b590-b04bf7f4ace3",
   "metadata": {},
   "outputs": [],
   "source": [
    "__eval_dataset_1 = get_eval_dataset(raw_datasets_1, task_name_1)\n",
    "_eval_dataset_1 = process_dataset(__eval_dataset_1, task_name_1)\n",
    "eval_dataset_1 = get_data(task_name_1, _eval_dataset_1)\n",
    "\n",
    "__train_dataset_2 = raw_datasets_2['train'].train_test_split(test_size=train_test_ratio, shuffle=True, seed=random_seed)\n",
    "\n",
    "_train_dataset_2 = process_dataset(__train_dataset_2['train'], task_name_2)\n",
    "train_dataset_2 = get_data(task_name_2, _train_dataset_2)\n",
    "\n",
    "_valid_dataset_2 = process_dataset(__train_dataset_2['test'], task_name_2)\n",
    "valid_dataset_2 = get_data(task_name_2, _valid_dataset_2)\n",
    "\n",
    "__eval_dataset_2 = get_eval_dataset(raw_datasets_2, task_name_2)\n",
    "_eval_dataset_2 = process_dataset(__eval_dataset_2, task_name_2)\n",
    "eval_dataset_2 = get_data(task_name_2, _eval_dataset_2)"
   ]
  },
  {
   "cell_type": "code",
   "execution_count": 8,
   "id": "1cd489b0-bae7-4f34-ba53-2183c78b73ce",
   "metadata": {},
   "outputs": [
    {
     "data": {
      "text/plain": [
       "Dataset({\n",
       "    features: ['label', 'premise', 'hypothesis', 'input_ids', 'attention_mask'],\n",
       "    num_rows: 277\n",
       "})"
      ]
     },
     "execution_count": 8,
     "metadata": {},
     "output_type": "execute_result"
    }
   ],
   "source": [
    "eval_dataset_1"
   ]
  },
  {
   "cell_type": "code",
   "execution_count": 9,
   "id": "9442c961-39eb-44ed-af0b-47f37c95e368",
   "metadata": {},
   "outputs": [
    {
     "data": {
      "text/plain": [
       "Dataset({\n",
       "    features: ['premise', 'hypothesis', 'label', 'input_ids', 'attention_mask'],\n",
       "    num_rows: 209536\n",
       "})"
      ]
     },
     "execution_count": 9,
     "metadata": {},
     "output_type": "execute_result"
    }
   ],
   "source": [
    "train_dataset_2"
   ]
  },
  {
   "cell_type": "code",
   "execution_count": 10,
   "id": "a18b1528-6b98-4911-843f-dd8087c48feb",
   "metadata": {},
   "outputs": [
    {
     "data": {
      "text/plain": [
       "Dataset({\n",
       "    features: ['premise', 'hypothesis', 'label', 'input_ids', 'attention_mask'],\n",
       "    num_rows: 52263\n",
       "})"
      ]
     },
     "execution_count": 10,
     "metadata": {},
     "output_type": "execute_result"
    }
   ],
   "source": [
    "valid_dataset_2"
   ]
  },
  {
   "cell_type": "code",
   "execution_count": 11,
   "id": "c72170b0-ba21-49f9-a941-530c90e1f625",
   "metadata": {},
   "outputs": [
    {
     "data": {
      "text/plain": [
       "Dataset({\n",
       "    features: ['premise', 'hypothesis', 'label', 'input_ids', 'attention_mask'],\n",
       "    num_rows: 6602\n",
       "})"
      ]
     },
     "execution_count": 11,
     "metadata": {},
     "output_type": "execute_result"
    }
   ],
   "source": [
    "eval_dataset_2"
   ]
  },
  {
   "cell_type": "code",
   "execution_count": 12,
   "id": "db54b13c-8b24-40a2-b2ee-92d3146ba44a",
   "metadata": {},
   "outputs": [
    {
     "name": "stderr",
     "output_type": "stream",
     "text": [
      "Some weights of the model checkpoint at roberta-base were not used when initializing RobertaAdapterModel: ['lm_head.dense.weight', 'lm_head.layer_norm.weight', 'lm_head.layer_norm.bias', 'lm_head.dense.bias', 'lm_head.bias']\n",
      "- This IS expected if you are initializing RobertaAdapterModel from the checkpoint of a model trained on another task or with another architecture (e.g. initializing a BertForSequenceClassification model from a BertForPreTraining model).\n",
      "- This IS NOT expected if you are initializing RobertaAdapterModel from the checkpoint of a model that you expect to be exactly identical (initializing a BertForSequenceClassification model from a BertForSequenceClassification model).\n",
      "Some weights of RobertaAdapterModel were not initialized from the model checkpoint at roberta-base and are newly initialized: ['roberta.pooler.dense.bias', 'roberta.pooler.dense.weight']\n",
      "You should probably TRAIN this model on a down-stream task to be able to use it for predictions and inference.\n"
     ]
    },
    {
     "data": {
      "application/vnd.jupyter.widget-view+json": {
       "model_id": "08cedccfb81c4722b8ccbdec55fc0b58",
       "version_major": 2,
       "version_minor": 0
      },
      "text/plain": [
       "Fetching 6 files:   0%|          | 0/6 [00:00<?, ?it/s]"
      ]
     },
     "metadata": {},
     "output_type": "display_data"
    },
    {
     "data": {
      "application/vnd.jupyter.widget-view+json": {
       "model_id": "67dc6dc082474e7d8bdab67254d476a9",
       "version_major": 2,
       "version_minor": 0
      },
      "text/plain": [
       "Fetching 6 files:   0%|          | 0/6 [00:00<?, ?it/s]"
      ]
     },
     "metadata": {},
     "output_type": "display_data"
    }
   ],
   "source": [
    "model = AutoAdapterModel.from_pretrained(\n",
    "    model_name_or_path,\n",
    "    ignore_mismatched_sizes=False\n",
    ")\n",
    "\n",
    "model.freeze_model(True)\n",
    "\n",
    "adapter1 = model.load_adapter(load_adapter_1, with_head=False, config=adapter_config_1)\n",
    "adapter2 = model.load_adapter(load_adapter_2, with_head=False, load_as=attacker_name, config=adapter_config_2)\n",
    "\n",
    "model.train_adapter([attacker_name])\n",
    "\n",
    "model.active_adapters = ac.Parallel(adapter1, adapter2, mode='residual_victim')\n",
    "\n",
    "model.add_classification_head(attacker_name, layers=2)\n",
    "model.load_head(victim_head_path)\n",
    "model.active_head = [victim_head, attacker_name]"
   ]
  },
  {
   "cell_type": "code",
   "execution_count": 13,
   "id": "c049c1bb-d070-4c76-93e2-89ec0a29045a",
   "metadata": {
    "scrolled": true
   },
   "outputs": [
    {
     "name": "stdout",
     "output_type": "stream",
     "text": [
      "================================================================================\n",
      "Name                     Architecture         #Param      %Param  Active   Train\n",
      "--------------------------------------------------------------------------------\n",
      "glue_rte                 bottleneck          894,528       0.718       1       0\n",
      "mnli_attack_rte          bottleneck          894,528       0.718       1       1\n",
      "--------------------------------------------------------------------------------\n",
      "Full model                               124,645,632     100.000               0\n",
      "================================================================================\n"
     ]
    }
   ],
   "source": [
    "print(model.adapter_summary())"
   ]
  },
  {
   "cell_type": "code",
   "execution_count": 14,
   "id": "53f7b287-4b31-4e9f-ab8d-74eea007b79f",
   "metadata": {},
   "outputs": [],
   "source": [
    "for k, v in model.named_parameters():\n",
    "    if 'heads' in k and 'with' in k:\n",
    "        v.requires_grad = False"
   ]
  },
  {
   "cell_type": "code",
   "execution_count": 15,
   "id": "688da019-0ab0-4a5a-aa8e-53b6b3c841f8",
   "metadata": {},
   "outputs": [
    {
     "data": {
      "text/plain": [
       "['rte_with_mnli', 'mnli_attack_rte']"
      ]
     },
     "execution_count": 15,
     "metadata": {},
     "output_type": "execute_result"
    }
   ],
   "source": [
    "model.active_head"
   ]
  },
  {
   "cell_type": "code",
   "execution_count": 16,
   "id": "db8924ee-3913-4283-a18b-9b0c96430039",
   "metadata": {},
   "outputs": [
    {
     "name": "stdout",
     "output_type": "stream",
     "text": [
      "roberta.encoder.layer.0.output.adapters.mnli_attack_rte.adapter_down.0.weight\n",
      "roberta.encoder.layer.0.output.adapters.mnli_attack_rte.adapter_down.0.bias\n",
      "roberta.encoder.layer.0.output.adapters.mnli_attack_rte.adapter_up.weight\n",
      "roberta.encoder.layer.0.output.adapters.mnli_attack_rte.adapter_up.bias\n",
      "roberta.encoder.layer.1.output.adapters.mnli_attack_rte.adapter_down.0.weight\n",
      "roberta.encoder.layer.1.output.adapters.mnli_attack_rte.adapter_down.0.bias\n",
      "roberta.encoder.layer.1.output.adapters.mnli_attack_rte.adapter_up.weight\n",
      "roberta.encoder.layer.1.output.adapters.mnli_attack_rte.adapter_up.bias\n",
      "roberta.encoder.layer.2.output.adapters.mnli_attack_rte.adapter_down.0.weight\n",
      "roberta.encoder.layer.2.output.adapters.mnli_attack_rte.adapter_down.0.bias\n",
      "roberta.encoder.layer.2.output.adapters.mnli_attack_rte.adapter_up.weight\n",
      "roberta.encoder.layer.2.output.adapters.mnli_attack_rte.adapter_up.bias\n",
      "roberta.encoder.layer.3.output.adapters.mnli_attack_rte.adapter_down.0.weight\n",
      "roberta.encoder.layer.3.output.adapters.mnli_attack_rte.adapter_down.0.bias\n",
      "roberta.encoder.layer.3.output.adapters.mnli_attack_rte.adapter_up.weight\n",
      "roberta.encoder.layer.3.output.adapters.mnli_attack_rte.adapter_up.bias\n",
      "roberta.encoder.layer.4.output.adapters.mnli_attack_rte.adapter_down.0.weight\n",
      "roberta.encoder.layer.4.output.adapters.mnli_attack_rte.adapter_down.0.bias\n",
      "roberta.encoder.layer.4.output.adapters.mnli_attack_rte.adapter_up.weight\n",
      "roberta.encoder.layer.4.output.adapters.mnli_attack_rte.adapter_up.bias\n",
      "roberta.encoder.layer.5.output.adapters.mnli_attack_rte.adapter_down.0.weight\n",
      "roberta.encoder.layer.5.output.adapters.mnli_attack_rte.adapter_down.0.bias\n",
      "roberta.encoder.layer.5.output.adapters.mnli_attack_rte.adapter_up.weight\n",
      "roberta.encoder.layer.5.output.adapters.mnli_attack_rte.adapter_up.bias\n",
      "roberta.encoder.layer.6.output.adapters.mnli_attack_rte.adapter_down.0.weight\n",
      "roberta.encoder.layer.6.output.adapters.mnli_attack_rte.adapter_down.0.bias\n",
      "roberta.encoder.layer.6.output.adapters.mnli_attack_rte.adapter_up.weight\n",
      "roberta.encoder.layer.6.output.adapters.mnli_attack_rte.adapter_up.bias\n",
      "roberta.encoder.layer.7.output.adapters.mnli_attack_rte.adapter_down.0.weight\n",
      "roberta.encoder.layer.7.output.adapters.mnli_attack_rte.adapter_down.0.bias\n",
      "roberta.encoder.layer.7.output.adapters.mnli_attack_rte.adapter_up.weight\n",
      "roberta.encoder.layer.7.output.adapters.mnli_attack_rte.adapter_up.bias\n",
      "roberta.encoder.layer.8.output.adapters.mnli_attack_rte.adapter_down.0.weight\n",
      "roberta.encoder.layer.8.output.adapters.mnli_attack_rte.adapter_down.0.bias\n",
      "roberta.encoder.layer.8.output.adapters.mnli_attack_rte.adapter_up.weight\n",
      "roberta.encoder.layer.8.output.adapters.mnli_attack_rte.adapter_up.bias\n",
      "roberta.encoder.layer.9.output.adapters.mnli_attack_rte.adapter_down.0.weight\n",
      "roberta.encoder.layer.9.output.adapters.mnli_attack_rte.adapter_down.0.bias\n",
      "roberta.encoder.layer.9.output.adapters.mnli_attack_rte.adapter_up.weight\n",
      "roberta.encoder.layer.9.output.adapters.mnli_attack_rte.adapter_up.bias\n",
      "roberta.encoder.layer.10.output.adapters.mnli_attack_rte.adapter_down.0.weight\n",
      "roberta.encoder.layer.10.output.adapters.mnli_attack_rte.adapter_down.0.bias\n",
      "roberta.encoder.layer.10.output.adapters.mnli_attack_rte.adapter_up.weight\n",
      "roberta.encoder.layer.10.output.adapters.mnli_attack_rte.adapter_up.bias\n",
      "roberta.encoder.layer.11.output.adapters.mnli_attack_rte.adapter_down.0.weight\n",
      "roberta.encoder.layer.11.output.adapters.mnli_attack_rte.adapter_down.0.bias\n",
      "roberta.encoder.layer.11.output.adapters.mnli_attack_rte.adapter_up.weight\n",
      "roberta.encoder.layer.11.output.adapters.mnli_attack_rte.adapter_up.bias\n",
      "heads.mnli_attack_rte.1.weight\n",
      "heads.mnli_attack_rte.1.bias\n",
      "heads.mnli_attack_rte.4.weight\n",
      "heads.mnli_attack_rte.4.bias\n"
     ]
    }
   ],
   "source": [
    "for k, v in model.named_parameters():\n",
    "    if v.requires_grad:\n",
    "        print(k)"
   ]
  },
  {
   "cell_type": "code",
   "execution_count": 17,
   "id": "36bf6083-19de-40db-9011-237e3934819b",
   "metadata": {},
   "outputs": [],
   "source": [
    "per_device_train_batch_size = 32\n",
    "per_device_eval_batch_size = 128\n",
    "weight_decay = 0.0\n",
    "learning_rate = 1e-3\n",
    "num_train_epochs = 20\n",
    "lr_scheduler_type = 'cosine'\n",
    "warmup_ratio = 0.1\n",
    "alpha = 0.6\n",
    "patience = 4\n",
    "\n",
    "optimizer = torch.optim.AdamW(model.parameters(), lr=learning_rate)\n",
    "total_batch_size_train = per_device_train_batch_size * device_count\n",
    "total_batch_size_eval = per_device_eval_batch_size * device_count"
   ]
  },
  {
   "cell_type": "code",
   "execution_count": 18,
   "id": "a007ecf3-1e37-4afd-b6bd-4a0864943868",
   "metadata": {},
   "outputs": [],
   "source": [
    "def compute_metrics(p: EvalPrediction):\n",
    "    preds = p.predictions[0] if isinstance(p.predictions, tuple) else p.predictions\n",
    "    preds = np.argmax(preds, axis=1)\n",
    "    \n",
    "    return {\"accuracy\": (preds == p.label_ids).astype(np.float32).mean().item()}"
   ]
  },
  {
   "cell_type": "code",
   "execution_count": 19,
   "id": "6310bfb1-440c-4baf-8c4c-108c1ad83822",
   "metadata": {},
   "outputs": [],
   "source": [
    "training_args = TrainingArguments(\n",
    "    report_to='all',\n",
    "    remove_unused_columns=False,\n",
    "    output_dir=output_dir,\n",
    "    per_device_train_batch_size=per_device_train_batch_size,\n",
    "    per_device_eval_batch_size=per_device_eval_batch_size,\n",
    "    num_train_epochs=num_train_epochs,\n",
    "    logging_dir=\"./logs\",\n",
    "    seed=random_seed,\n",
    "    data_seed=random_seed,\n",
    "    do_train=True,\n",
    "    do_eval=True,\n",
    "    learning_rate=learning_rate,\n",
    "    lr_scheduler_type=lr_scheduler_type,\n",
    "    warmup_ratio=warmup_ratio,\n",
    "    evaluation_strategy='epoch',\n",
    "    logging_strategy='epoch',\n",
    "    save_strategy='epoch',\n",
    "    # eval_steps=100,\n",
    "    # logging_steps=100,\n",
    "    # save_steps=100,\n",
    "    save_total_limit=1,\n",
    "    load_best_model_at_end = True,\n",
    "    metric_for_best_model = 'loss'\n",
    ")\n",
    "\n",
    "loss_fct = CrossEntropyLoss()\n",
    "loss_kl = nn.KLDivLoss(reduction=\"batchmean\", log_target=True)\n",
    "loss_dist = nn.PairwiseDistance(p=2)\n",
    "loss_cosine = nn.CosineSimilarity(dim=2)\n",
    "\n",
    "def loss_attack(logits, mixed_hidden, victim_single_hidden, labels):\n",
    "    loss_cls = loss_fct(logits.view(-1, num_labels), labels.view(-1))\n",
    "\n",
    "    loss_res = 0.0\n",
    "    \n",
    "    for _mixed_hidden, _victim_single_hidden in zip(mixed_hidden, victim_single_hidden):\n",
    "        loss_res += loss_cosine(_mixed_hidden, _victim_single_hidden).mean()\n",
    "\n",
    "    loss_res = loss_res / len(mixed_hidden)\n",
    "\n",
    "    loss = (alpha * loss_cls) + ((1 - alpha) * loss_res)\n",
    "\n",
    "    return loss, loss_cls, loss_res\n",
    "\n",
    "class CustomTrainer(Trainer):\n",
    "    def compute_loss(self, model, inputs):\n",
    "        \"\"\"\n",
    "        Compute the ensemble loss here\n",
    "        \"\"\"\n",
    "\n",
    "        labels = inputs.pop('labels')\n",
    "\n",
    "        # Compute model outputs\n",
    "        outputs, _, mixed_hidden, victim_single_hidden= model(**inputs, output_hidden_states=True)\n",
    "\n",
    "        logits = outputs.logits\n",
    "        \n",
    "        loss, loss_cls, loss_res = loss_attack(logits, mixed_hidden, victim_single_hidden, labels)\n",
    "\n",
    "        return loss\n",
    "\n",
    "    def evaluation_loop(\n",
    "        self,\n",
    "        dataloader,\n",
    "        description: str,\n",
    "        prediction_loss_only: Optional[bool] = None,\n",
    "        ignore_keys: Optional[List[str]] = None,\n",
    "        metric_key_prefix: str = \"eval\",\n",
    "    ):\n",
    "        # This is a simple modification. For more custom behavior, \n",
    "        # you might want to start from the original code in Trainer's evaluation_loop.\n",
    "        \n",
    "        # Initialize metrics, etc.\n",
    "        self.model.eval()\n",
    "        total_eval_loss = 0.0\n",
    "        total_eval_loss_cls = 0.0\n",
    "        total_eval_loss_res = 0.0\n",
    "        total_eval_loss_cls_mixed = 0.0\n",
    "        \n",
    "        total_preds = []\n",
    "        total_logits = []\n",
    "        total_labels = []\n",
    "        total_eval_metrics = {}\n",
    "        \n",
    "        for step, inputs in enumerate(dataloader):\n",
    "            labels = inputs.pop('labels').to(self.args.device)\n",
    "            \n",
    "            # Move inputs to appropriate device\n",
    "            for k, v in inputs.items():\n",
    "                inputs[k] = v.to(self.args.device)\n",
    "            \n",
    "            # Forward pass and compute loss and metrics\n",
    "            with torch.no_grad():\n",
    "                outputs, outputs_mixed, mixed_hidden, victim_single_hidden = model(**inputs, output_hidden_states=True)\n",
    "        \n",
    "                logits = outputs.logits\n",
    "                logits_mixed = outputs_mixed.logits\n",
    "            \n",
    "            loss, loss_cls, loss_res = loss_attack(logits, mixed_hidden, victim_single_hidden, labels)\n",
    "\n",
    "            loss_cls_mixed = loss_fct(logits_mixed.view(-1, num_labels), labels.view(-1))\n",
    "            \n",
    "            total_eval_loss += loss.item()\n",
    "            total_eval_loss_cls += loss_cls.item()\n",
    "            total_eval_loss_res += loss_res.item()\n",
    "            total_eval_loss_cls_mixed += loss_cls_mixed.item()\n",
    "\n",
    "            total_logits.extend(logits.detach().cpu().numpy())\n",
    "            total_preds.extend(logits.argmax(dim=-1))\n",
    "            total_labels.extend(labels.detach().cpu().numpy())\n",
    "\n",
    "        average_eval_loss = total_eval_loss / len(dataloader)\n",
    "        average_eval_loss_cls = total_eval_loss_cls / len(dataloader)\n",
    "        average_eval_loss_res = total_eval_loss_res / len(dataloader)\n",
    "        average_eval_loss_cls_mixed = total_eval_loss_cls_mixed / len(dataloader)\n",
    "        \n",
    "        eval_pred = EvalPrediction(predictions=total_logits, label_ids=total_labels)\n",
    "        \n",
    "        metrics = self.compute_metrics(eval_pred)\n",
    "\n",
    "        # Average the metrics\n",
    "        num_eval_samples = len(dataloader.dataset)\n",
    "        total_eval_metrics = {f'{metric_key_prefix}_loss': average_eval_loss, \n",
    "                              f'{metric_key_prefix}_loss_cls': average_eval_loss_cls, \n",
    "                              f'{metric_key_prefix}_loss_res': average_eval_loss_res, \n",
    "                              f'{metric_key_prefix}_loss_cls_mixed': average_eval_loss_cls_mixed, \n",
    "                              f'{metric_key_prefix}_accuracy': metrics['accuracy']}\n",
    "\n",
    "        # return total_eval_loss, total_eval_metrics\n",
    "        return EvalLoopOutput(predictions=total_preds, \n",
    "                              label_ids=total_labels, \n",
    "                              metrics=total_eval_metrics, \n",
    "                              num_samples=num_eval_samples)\n",
    "\n",
    "class CustomTrainerEvalMix(Trainer):\n",
    "    def evaluation_loop(\n",
    "        self,\n",
    "        dataloader,\n",
    "        description: str,\n",
    "        prediction_loss_only: Optional[bool] = None,\n",
    "        ignore_keys: Optional[List[str]] = None,\n",
    "        metric_key_prefix: str = \"eval\",\n",
    "    ):\n",
    "        # This is a simple modification. For more custom behavior, \n",
    "        # you might want to start from the original code in Trainer's evaluation_loop.\n",
    "        \n",
    "        # Initialize metrics, etc.\n",
    "        self.model.eval()\n",
    "        total_eval_loss = 0\n",
    "        total_eval_loss_mixed = 0\n",
    "        total_preds = []\n",
    "        total_logits = []\n",
    "        total_labels = []\n",
    "        total_eval_metrics = {}\n",
    "        \n",
    "        for step, inputs in enumerate(dataloader):\n",
    "            labels = inputs.pop('labels').to(self.args.device)\n",
    "            \n",
    "            # Move inputs to appropriate device\n",
    "            for k, v in inputs.items():\n",
    "                inputs[k] = v.to(self.args.device)\n",
    "            \n",
    "            # Forward pass and compute loss and metrics\n",
    "            with torch.no_grad():\n",
    "                outputs, outputs_mixed, mixed_hidden, victim_single_hidden = model(**inputs, output_hidden_states=True)\n",
    "        \n",
    "                logits_mixed = outputs_mixed.logits\n",
    "\n",
    "            loss_mixed = loss_fct(logits_mixed.view(-1, num_labels), labels.view(-1))\n",
    "\n",
    "            total_eval_loss_mixed += loss_mixed.item()\n",
    "\n",
    "            total_logits.extend(logits_mixed.detach().cpu().numpy())\n",
    "            total_preds.extend(logits_mixed.argmax(dim=-1))\n",
    "            total_labels.extend(labels.detach().cpu().numpy())\n",
    "\n",
    "        average_eval_loss_mixed = total_eval_loss_mixed / len(dataloader)\n",
    "        \n",
    "        eval_pred = EvalPrediction(predictions=total_logits, label_ids=total_labels)\n",
    "        \n",
    "        metrics = self.compute_metrics(eval_pred)\n",
    "\n",
    "        # Average the metrics\n",
    "        num_eval_samples = len(dataloader.dataset)\n",
    "        total_eval_metrics = {f'{metric_key_prefix}_loss_cls_mixed': average_eval_loss_mixed, f'{metric_key_prefix}_accuracy_mixed': metrics['accuracy']}\n",
    "\n",
    "        # return total_eval_loss, total_eval_metrics\n",
    "        return EvalLoopOutput(predictions=total_preds, \n",
    "                              label_ids=total_labels, \n",
    "                              metrics=total_eval_metrics, \n",
    "                              num_samples=num_eval_samples)\n",
    "        \n",
    "trainer = CustomTrainer(\n",
    "        model=model,\n",
    "        args=training_args,\n",
    "        train_dataset=train_dataset_2,\n",
    "        eval_dataset=valid_dataset_2,\n",
    "        tokenizer=tokenizer,\n",
    "        data_collator=default_data_collator,\n",
    "        compute_metrics=compute_metrics,\n",
    "        callbacks = [EarlyStoppingCallback(early_stopping_patience=patience)]\n",
    "    )"
   ]
  },
  {
   "cell_type": "code",
   "execution_count": null,
   "id": "3df5dcbc-4b57-4d88-a602-1a59b5a3001a",
   "metadata": {},
   "outputs": [
    {
     "name": "stderr",
     "output_type": "stream",
     "text": [
      "/home/jaehan/research/adapter/adapter-poisoning/transformers/optimization.py:306: FutureWarning: This implementation of AdamW is deprecated and will be removed in a future version. Use the PyTorch implementation torch.optim.AdamW instead, or set `no_deprecation_warning=True` to disable this warning\n",
      "  warnings.warn(\n",
      "***** Running training *****\n",
      "  Num examples = 209536\n",
      "  Num Epochs = 20\n",
      "  Instantaneous batch size per device = 32\n",
      "  Total train batch size (w. parallel, distributed & accumulation) = 32\n",
      "  Gradient Accumulation steps = 1\n",
      "  Total optimization steps = 130960\n",
      "  Number of trainable parameters = 1486658\n"
     ]
    },
    {
     "data": {
      "text/html": [
       "\n",
       "    <div>\n",
       "      \n",
       "      <progress value='18' max='130960' style='width:300px; height:20px; vertical-align: middle;'></progress>\n",
       "      [    18/130960 00:11 < 25:35:53, 1.42 it/s, Epoch 0.00/20]\n",
       "    </div>\n",
       "    <table border=\"1\" class=\"dataframe\">\n",
       "  <thead>\n",
       " <tr style=\"text-align: left;\">\n",
       "      <th>Epoch</th>\n",
       "      <th>Training Loss</th>\n",
       "      <th>Validation Loss</th>\n",
       "    </tr>\n",
       "  </thead>\n",
       "  <tbody>\n",
       "  </tbody>\n",
       "</table><p>"
      ],
      "text/plain": [
       "<IPython.core.display.HTML object>"
      ]
     },
     "metadata": {},
     "output_type": "display_data"
    }
   ],
   "source": [
    "os.makedirs(output_dir, exist_ok=True)\n",
    "\n",
    "loss_history = {'base_model': model_name_or_path,\n",
    "                'max_seq_length': max_seq_length,\n",
    "                'random_seed': random_seed,\n",
    "                'lr': learning_rate,\n",
    "                'warmup_ratio': warmup_ratio,\n",
    "                'early_stopping_patience': patience,\n",
    "                'total_batch_size': total_batch_size_train,\n",
    "                'num_train_epoch': num_train_epochs,\n",
    "                'victim_head_path': victim_head_path,\n",
    "                'alpha': alpha}\n",
    "\n",
    "with open(os.path.join(output_dir, \"hyperparameters.json\"), \"w\") as f:\n",
    "    json.dump(loss_history, f)\n",
    "\n",
    "train_result = trainer.train()\n",
    "metrics = train_result.metrics\n",
    "\n",
    "trainer.save_model()\n",
    "\n",
    "trainer.log_metrics(\"train\", metrics)\n",
    "trainer.save_metrics(\"train\", metrics)\n",
    "trainer.save_state()\n",
    "\n",
    "os.makedirs(os.path.join(output_dir, f\"trained_adapters\"), exist_ok=True)\n",
    "model.save_adapter(os.path.join(output_dir, f\"trained_adapters/{attacker_name}\"), attacker_name)\n",
    "\n",
    "os.makedirs(os.path.join(output_dir, f\"victim_head\"), exist_ok=True)\n",
    "model.save_head(os.path.join(output_dir, f\"victim_head/{victim_head_name}\"), victim_head)"
   ]
  },
  {
   "cell_type": "code",
   "execution_count": null,
   "id": "39020e5d-680a-43b1-959c-47e785264e67",
   "metadata": {},
   "outputs": [],
   "source": [
    "trainer_evalMix = CustomTrainerEvalMix(\n",
    "        model=model,\n",
    "        args=training_args,\n",
    "        train_dataset=None,\n",
    "        eval_dataset=None,\n",
    "        tokenizer=tokenizer,\n",
    "        data_collator=default_data_collator,\n",
    "        compute_metrics=compute_metrics,\n",
    "        callbacks = [EarlyStoppingCallback(early_stopping_patience=patience)]\n",
    "    )"
   ]
  },
  {
   "cell_type": "code",
   "execution_count": null,
   "id": "b639dbf3-4464-4c6c-a776-fcd276ba37f6",
   "metadata": {},
   "outputs": [],
   "source": [
    "# metrics_1 = trainer.evaluate(eval_dataset=eval_dataset_1)\n",
    "# print(metrics_1)\n",
    "metrics_2 = trainer.evaluate(eval_dataset=eval_dataset_2)\n",
    "print(metrics_2)\n",
    "print()\n",
    "print(metrics_2['eval_accuracy'])\n",
    "# trainer.save_metrics(\"eval\", {'metric_1': metrics_1, 'metric_2': metrics_2})"
   ]
  },
  {
   "cell_type": "code",
   "execution_count": null,
   "id": "4aed3544-4d5a-4f76-b82f-ddbbb680d485",
   "metadata": {},
   "outputs": [],
   "source": [
    "metrics_1 = trainer_evalMix.evaluate(eval_dataset=eval_dataset_1)\n",
    "print(metrics_1)\n",
    "print()\n",
    "print(metrics_1['eval_accuracy_mixed'])\n",
    "# metrics_2 = trainer_evalMix.evaluate(eval_dataset=eval_dataset_2)\n",
    "# print(metrics_2)4\n",
    "trainer.save_metrics('eval', {'eval_attackerOnly': {'dataset_2': metrics_2}, \"eval_mix\": {'dataset_1': metrics_1}})"
   ]
  },
  {
   "cell_type": "code",
   "execution_count": null,
   "id": "90a18af5-9cc5-455f-9e54-d9cedb221766",
   "metadata": {},
   "outputs": [],
   "source": []
  }
 ],
 "metadata": {
  "kernelspec": {
   "display_name": "moe",
   "language": "python",
   "name": "moe"
  },
  "language_info": {
   "codemirror_mode": {
    "name": "ipython",
    "version": 3
   },
   "file_extension": ".py",
   "mimetype": "text/x-python",
   "name": "python",
   "nbconvert_exporter": "python",
   "pygments_lexer": "ipython3",
   "version": "3.11.4"
  }
 },
 "nbformat": 4,
 "nbformat_minor": 5
}
