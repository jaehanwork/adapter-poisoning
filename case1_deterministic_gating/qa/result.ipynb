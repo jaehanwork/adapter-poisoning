{
 "cells": [
  {
   "cell_type": "code",
   "execution_count": 2,
   "id": "0f030900-4a04-4b1d-995c-0432369b9118",
   "metadata": {},
   "outputs": [],
   "source": [
    "import os\n",
    "import json\n",
    "from dotenv import load_dotenv\n",
    "\n",
    "load_dotenv(os.path.expanduser('~/.env'), verbose=True)\n",
    "\n",
    "data_dir = os.getenv('DATA_IGN_DIR')\n",
    "\n",
    "def dict_round(data):\n",
    "    data_new = {}\n",
    "    for k, v in data.items():\n",
    "        if type(v) == float:\n",
    "            v = round(v, 4)\n",
    "        data_new[k] = v\n",
    "    return data_new        "
   ]
  },
  {
   "cell_type": "code",
   "execution_count": 9,
   "id": "12278d06-4abd-40fc-953e-86ec4dc96950",
   "metadata": {},
   "outputs": [
    {
     "name": "stdout",
     "output_type": "stream",
     "text": [
      "comqa_20231123-144358\n",
      "[Total] EM: 56.31431244153414, F1: 59.3102952551035\n",
      "[HasAn] EM: 64.89988221436985, F1: 68.67220921991242\n",
      "\n",
      "cq_20231123-144741\n",
      "[Total] EM: 29.23076923076923, F1: 32.41269841269841\n",
      "[HasAn] EM: 27.607361963190183, F1: 31.41396435874963\n",
      "\n",
      "duorc_p_20231123-145053\n",
      "[Total] EM: 47.707010454749536, F1: 51.13404794488667\n",
      "[HasAn] EM: 25.3880266075388, F1: 31.311634313605676\n",
      "\n",
      "duorc_s_20231123-150303\n",
      "[Total] EM: 53.15947843530592, F1: 60.560551546297006\n",
      "[HasAn] EM: 60.41863096360551, F1: 69.46306888474021\n",
      "\n",
      "hotpotqa_20231123-150945\n",
      "[Total] EM: 50.033760972316, F1: 61.97384051801079\n",
      "[HasAn] EM: 50.067640692640694, F1: 62.02871875485253\n",
      "\n",
      "newsqa_20231123-151521\n",
      "[Total] EM: 46.9937802349689, F1: 62.11606445827246\n",
      "[HasAn] EM: 46.9937802349689, F1: 62.11606445827246\n",
      "\n",
      "quoref_20231123-151736\n",
      "[Total] EM: 61.29032258064516, F1: 65.18085554043414\n",
      "[HasAn] EM: 61.29032258064516, F1: 65.18085554043414\n",
      "\n",
      "squad_20231123-151828\n",
      "[Total] EM: 77.9848628192999, F1: 85.9755623530262\n",
      "[HasAn] EM: 77.9848628192999, F1: 85.9755623530262\n",
      "\n",
      "squad_v2_20231123-152035\n",
      "[Total] EM: 71.58258232965552, F1: 74.35757654257175\n",
      "[HasAn] EM: 58.738191632928476, F1: 64.29613803811635\n",
      "\n",
      "wikihop_20231123-152255\n",
      "[Total] EM: 53.49970754533047, F1: 57.96646197308496\n",
      "[HasAn] EM: 53.68627450980392, F1: 58.17842812940251\n",
      "\n"
     ]
    }
   ],
   "source": [
    "dir_path = os.path.join(data_dir, 'case1_qa_singleAdapter_inference')\n",
    "for d in sorted(os.listdir(dir_path)):\n",
    "    if d.startswith('.'):\n",
    "        continue\n",
    "    task_name = d\n",
    "\n",
    "    result_path = os.path.join(dir_path, d, 'eval_results.json')\n",
    "\n",
    "    try:\n",
    "        with open(result_path, 'r') as f:\n",
    "            result = json.load(f)\n",
    "    except:\n",
    "        continue\n",
    "\n",
    "    em = result['eval_exact']\n",
    "    f1 = result['eval_f1']\n",
    "    em_has = result['eval_HasAns_exact']\n",
    "    f1_has = result['eval_HasAns_f1']\n",
    "    print(task_name)\n",
    "    print(f'[Total] EM: {em}, F1: {f1}')\n",
    "    print(f'[HasAn] EM: {em_has}, F1: {f1_has}')\n",
    "    print()\n",
    "            "
   ]
  },
  {
   "cell_type": "code",
   "execution_count": null,
   "id": "c04b2824-3156-4845-883d-2f60cec3d3da",
   "metadata": {},
   "outputs": [],
   "source": []
  }
 ],
 "metadata": {
  "kernelspec": {
   "display_name": "pytorch2.0",
   "language": "python",
   "name": "pytorch2.0"
  },
  "language_info": {
   "codemirror_mode": {
    "name": "ipython",
    "version": 3
   },
   "file_extension": ".py",
   "mimetype": "text/x-python",
   "name": "python",
   "nbconvert_exporter": "python",
   "pygments_lexer": "ipython3",
   "version": "3.11.4"
  }
 },
 "nbformat": 4,
 "nbformat_minor": 5
}
