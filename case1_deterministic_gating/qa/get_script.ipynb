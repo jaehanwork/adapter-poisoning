{
 "cells": [
  {
   "cell_type": "code",
   "execution_count": 2,
   "id": "b7dc49c4-c2e2-4e06-9ab1-da7d58c094ff",
   "metadata": {},
   "outputs": [
    {
     "name": "stdout",
     "output_type": "stream",
     "text": [
      "/home/jaehan/research/adapter/adapter-poisoning/data_ign\n"
     ]
    }
   ],
   "source": [
    "import itertools\n",
    "import numpy as np\n",
    "import os\n",
    "from dotenv import load_dotenv\n",
    "\n",
    "load_dotenv(os.path.expanduser('~/.env'), verbose=True)\n",
    "\n",
    "data_dir = os.getenv('DATA_IGN_DIR')\n",
    "\n",
    "print(data_dir)"
   ]
  },
  {
   "cell_type": "code",
   "execution_count": 5,
   "id": "bd4c8b06-8d95-48ad-ad1a-ca15dead8746",
   "metadata": {},
   "outputs": [
    {
     "name": "stdout",
     "output_type": "stream",
     "text": [
      "./qa_singleAdapter_inference.py comqa > /home/jaehan/research/adapter/adapter-poisoning/data_ign/log/case1_qa_singleAdapter_inference/comqa\n",
      "./qa_singleAdapter_inference.py cq > /home/jaehan/research/adapter/adapter-poisoning/data_ign/log/case1_qa_singleAdapter_inference/cq\n",
      "./qa_singleAdapter_inference.py duorc_p > /home/jaehan/research/adapter/adapter-poisoning/data_ign/log/case1_qa_singleAdapter_inference/duorc_p\n",
      "./qa_singleAdapter_inference.py duorc_s > /home/jaehan/research/adapter/adapter-poisoning/data_ign/log/case1_qa_singleAdapter_inference/duorc_s\n",
      "./qa_singleAdapter_inference.py hotpotqa > /home/jaehan/research/adapter/adapter-poisoning/data_ign/log/case1_qa_singleAdapter_inference/hotpotqa\n",
      "./qa_singleAdapter_inference.py newsqa > /home/jaehan/research/adapter/adapter-poisoning/data_ign/log/case1_qa_singleAdapter_inference/newsqa\n",
      "./qa_singleAdapter_inference.py quoref > /home/jaehan/research/adapter/adapter-poisoning/data_ign/log/case1_qa_singleAdapter_inference/quoref\n",
      "./qa_singleAdapter_inference.py squad > /home/jaehan/research/adapter/adapter-poisoning/data_ign/log/case1_qa_singleAdapter_inference/squad\n",
      "./qa_singleAdapter_inference.py squad_v2 > /home/jaehan/research/adapter/adapter-poisoning/data_ign/log/case1_qa_singleAdapter_inference/squad_v2\n",
      "./qa_singleAdapter_inference.py wikihop > /home/jaehan/research/adapter/adapter-poisoning/data_ign/log/case1_qa_singleAdapter_inference/wikihop\n"
     ]
    }
   ],
   "source": [
    "tasks = ['comqa', 'cq', 'duorc_p', 'duorc_s', 'hotpotqa', 'newsqa', 'quoref', 'squad', 'squad_v2', 'wikihop']\n",
    "\n",
    "name = 'qa_singleAdapter_inference'\n",
    "\n",
    "for task in tasks:\n",
    "    print(f\"./{name}.py {task} > {data_dir}/log/case1_{name}/{task}\")"
   ]
  },
  {
   "cell_type": "code",
   "execution_count": 5,
   "id": "4d54b8bd-369f-40c6-9156-122c1f92bd25",
   "metadata": {},
   "outputs": [
    {
     "name": "stdout",
     "output_type": "stream",
     "text": [
      "./qa_moeBaseline.py wikihop quoref > /home/jaehan/research/adapter/adapter-poisoning/data_ign/log/case1_qa_moeBaseline/quoref_with_wikihop\n",
      "./qa_moeBaseline.py squad quoref > /home/jaehan/research/adapter/adapter-poisoning/data_ign/log/case1_qa_moeBaseline/quoref_with_squad\n",
      "./qa_moeBaseline.py hotpotqa quoref > /home/jaehan/research/adapter/adapter-poisoning/data_ign/log/case1_qa_moeBaseline/quoref_with_hotpotqa\n",
      "./qa_moeBaseline.py newsqa quoref > /home/jaehan/research/adapter/adapter-poisoning/data_ign/log/case1_qa_moeBaseline/quoref_with_newsqa\n",
      "./qa_moeBaseline.py squad_v2 quoref > /home/jaehan/research/adapter/adapter-poisoning/data_ign/log/case1_qa_moeBaseline/quoref_with_squad_v2\n",
      "./qa_moeBaseline.py quoref wikihop > /home/jaehan/research/adapter/adapter-poisoning/data_ign/log/case1_qa_moeBaseline/wikihop_with_quoref\n",
      "./qa_moeBaseline.py squad wikihop > /home/jaehan/research/adapter/adapter-poisoning/data_ign/log/case1_qa_moeBaseline/wikihop_with_squad\n",
      "./qa_moeBaseline.py hotpotqa wikihop > /home/jaehan/research/adapter/adapter-poisoning/data_ign/log/case1_qa_moeBaseline/wikihop_with_hotpotqa\n",
      "./qa_moeBaseline.py newsqa wikihop > /home/jaehan/research/adapter/adapter-poisoning/data_ign/log/case1_qa_moeBaseline/wikihop_with_newsqa\n",
      "./qa_moeBaseline.py squad_v2 wikihop > /home/jaehan/research/adapter/adapter-poisoning/data_ign/log/case1_qa_moeBaseline/wikihop_with_squad_v2\n",
      "./qa_moeBaseline.py quoref squad > /home/jaehan/research/adapter/adapter-poisoning/data_ign/log/case1_qa_moeBaseline/squad_with_quoref\n",
      "./qa_moeBaseline.py wikihop squad > /home/jaehan/research/adapter/adapter-poisoning/data_ign/log/case1_qa_moeBaseline/squad_with_wikihop\n",
      "./qa_moeBaseline.py hotpotqa squad > /home/jaehan/research/adapter/adapter-poisoning/data_ign/log/case1_qa_moeBaseline/squad_with_hotpotqa\n",
      "./qa_moeBaseline.py newsqa squad > /home/jaehan/research/adapter/adapter-poisoning/data_ign/log/case1_qa_moeBaseline/squad_with_newsqa\n",
      "./qa_moeBaseline.py squad_v2 squad > /home/jaehan/research/adapter/adapter-poisoning/data_ign/log/case1_qa_moeBaseline/squad_with_squad_v2\n",
      "./qa_moeBaseline.py quoref hotpotqa > /home/jaehan/research/adapter/adapter-poisoning/data_ign/log/case1_qa_moeBaseline/hotpotqa_with_quoref\n",
      "./qa_moeBaseline.py wikihop hotpotqa > /home/jaehan/research/adapter/adapter-poisoning/data_ign/log/case1_qa_moeBaseline/hotpotqa_with_wikihop\n",
      "./qa_moeBaseline.py squad hotpotqa > /home/jaehan/research/adapter/adapter-poisoning/data_ign/log/case1_qa_moeBaseline/hotpotqa_with_squad\n",
      "./qa_moeBaseline.py newsqa hotpotqa > /home/jaehan/research/adapter/adapter-poisoning/data_ign/log/case1_qa_moeBaseline/hotpotqa_with_newsqa\n",
      "./qa_moeBaseline.py squad_v2 hotpotqa > /home/jaehan/research/adapter/adapter-poisoning/data_ign/log/case1_qa_moeBaseline/hotpotqa_with_squad_v2\n",
      "./qa_moeBaseline.py quoref newsqa > /home/jaehan/research/adapter/adapter-poisoning/data_ign/log/case1_qa_moeBaseline/newsqa_with_quoref\n",
      "./qa_moeBaseline.py wikihop newsqa > /home/jaehan/research/adapter/adapter-poisoning/data_ign/log/case1_qa_moeBaseline/newsqa_with_wikihop\n",
      "./qa_moeBaseline.py squad newsqa > /home/jaehan/research/adapter/adapter-poisoning/data_ign/log/case1_qa_moeBaseline/newsqa_with_squad\n",
      "./qa_moeBaseline.py hotpotqa newsqa > /home/jaehan/research/adapter/adapter-poisoning/data_ign/log/case1_qa_moeBaseline/newsqa_with_hotpotqa\n",
      "./qa_moeBaseline.py squad_v2 newsqa > /home/jaehan/research/adapter/adapter-poisoning/data_ign/log/case1_qa_moeBaseline/newsqa_with_squad_v2\n",
      "./qa_moeBaseline.py quoref squad_v2 > /home/jaehan/research/adapter/adapter-poisoning/data_ign/log/case1_qa_moeBaseline/squad_v2_with_quoref\n",
      "./qa_moeBaseline.py wikihop squad_v2 > /home/jaehan/research/adapter/adapter-poisoning/data_ign/log/case1_qa_moeBaseline/squad_v2_with_wikihop\n",
      "./qa_moeBaseline.py squad squad_v2 > /home/jaehan/research/adapter/adapter-poisoning/data_ign/log/case1_qa_moeBaseline/squad_v2_with_squad\n",
      "./qa_moeBaseline.py hotpotqa squad_v2 > /home/jaehan/research/adapter/adapter-poisoning/data_ign/log/case1_qa_moeBaseline/squad_v2_with_hotpotqa\n",
      "./qa_moeBaseline.py newsqa squad_v2 > /home/jaehan/research/adapter/adapter-poisoning/data_ign/log/case1_qa_moeBaseline/squad_v2_with_newsqa\n"
     ]
    }
   ],
   "source": [
    "tasks = ['quoref', 'wikihop', 'squad', 'hotpotqa', 'newsqa', 'squad_v2']\n",
    "\n",
    "permutations = list(itertools.permutations(tasks, 2))\n",
    "\n",
    "name = 'qa_moeBaseline'\n",
    "\n",
    "for combo in permutations:\n",
    "    print(f\"./{name}.py {combo[1]} {combo[0]} > {data_dir}/log/case1_{name}/{combo[0]}_with_{combo[1]}\")"
   ]
  },
  {
   "cell_type": "code",
   "execution_count": null,
   "id": "879c30d6-ce8a-4b71-a730-55762eea6042",
   "metadata": {},
   "outputs": [],
   "source": []
  }
 ],
 "metadata": {
  "kernelspec": {
   "display_name": "pytorch2.0",
   "language": "python",
   "name": "pytorch2.0"
  },
  "language_info": {
   "codemirror_mode": {
    "name": "ipython",
    "version": 3
   },
   "file_extension": ".py",
   "mimetype": "text/x-python",
   "name": "python",
   "nbconvert_exporter": "python",
   "pygments_lexer": "ipython3",
   "version": "3.11.4"
  }
 },
 "nbformat": 4,
 "nbformat_minor": 5
}
