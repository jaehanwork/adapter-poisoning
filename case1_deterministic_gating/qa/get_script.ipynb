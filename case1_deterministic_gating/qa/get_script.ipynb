{
 "cells": [
  {
   "cell_type": "code",
   "execution_count": 2,
   "id": "b7dc49c4-c2e2-4e06-9ab1-da7d58c094ff",
   "metadata": {},
   "outputs": [
    {
     "name": "stdout",
     "output_type": "stream",
     "text": [
      "/home/jaehan/research/adapter/adapter-poisoning/data_ign\n"
     ]
    }
   ],
   "source": [
    "import itertools\n",
    "import numpy as np\n",
    "import os\n",
    "from dotenv import load_dotenv\n",
    "\n",
    "load_dotenv(os.path.expanduser('~/.env'), verbose=True)\n",
    "\n",
    "data_dir = os.getenv('DATA_IGN_DIR')\n",
    "\n",
    "print(data_dir)"
   ]
  },
  {
   "cell_type": "code",
   "execution_count": 3,
   "id": "bd4c8b06-8d95-48ad-ad1a-ca15dead8746",
   "metadata": {},
   "outputs": [
    {
     "name": "stdout",
     "output_type": "stream",
     "text": [
      "./qa_singleAdapter_inference.py quoref > /home/jaehan/research/adapter/adapter-poisoning/data_ign/log/case1_qa_singleAdapter_inference/quoref\n",
      "./qa_singleAdapter_inference.py wikihop > /home/jaehan/research/adapter/adapter-poisoning/data_ign/log/case1_qa_singleAdapter_inference/wikihop\n",
      "./qa_singleAdapter_inference.py squad > /home/jaehan/research/adapter/adapter-poisoning/data_ign/log/case1_qa_singleAdapter_inference/squad\n",
      "./qa_singleAdapter_inference.py hotpotqa > /home/jaehan/research/adapter/adapter-poisoning/data_ign/log/case1_qa_singleAdapter_inference/hotpotqa\n",
      "./qa_singleAdapter_inference.py newsqa > /home/jaehan/research/adapter/adapter-poisoning/data_ign/log/case1_qa_singleAdapter_inference/newsqa\n",
      "./qa_singleAdapter_inference.py squad_v2 > /home/jaehan/research/adapter/adapter-poisoning/data_ign/log/case1_qa_singleAdapter_inference/squad_v2\n"
     ]
    }
   ],
   "source": [
    "tasks = ['quoref', 'wikihop', 'squad', 'hotpotqa', 'newsqa', 'squad_v2']\n",
    "\n",
    "name = 'qa_singleAdapter_inference'\n",
    "\n",
    "for task in tasks:\n",
    "    print(f\"./{name}.py {task} > {data_dir}/log/case1_{name}/{task}\")"
   ]
  },
  {
   "cell_type": "code",
   "execution_count": 6,
   "id": "17f00f3c-4fba-4051-9c3c-fc2feb75d8d0",
   "metadata": {},
   "outputs": [
    {
     "name": "stdout",
     "output_type": "stream",
     "text": [
      "./qa_singleAdapter_training.py quoref > /home/jaehan/research/adapter/adapter-poisoning/data_ign/log/case1_qa_singleAdapter_training/quoref\n",
      "./qa_singleAdapter_training.py wikihop > /home/jaehan/research/adapter/adapter-poisoning/data_ign/log/case1_qa_singleAdapter_training/wikihop\n",
      "./qa_singleAdapter_training.py duorc_s > /home/jaehan/research/adapter/adapter-poisoning/data_ign/log/case1_qa_singleAdapter_training/duorc_s\n",
      "./qa_singleAdapter_training.py hotpotqa > /home/jaehan/research/adapter/adapter-poisoning/data_ign/log/case1_qa_singleAdapter_training/hotpotqa\n",
      "./qa_singleAdapter_training.py duorc_p > /home/jaehan/research/adapter/adapter-poisoning/data_ign/log/case1_qa_singleAdapter_training/duorc_p\n",
      "./qa_singleAdapter_training.py squad > /home/jaehan/research/adapter/adapter-poisoning/data_ign/log/case1_qa_singleAdapter_training/squad\n",
      "./qa_singleAdapter_training.py newsqa > /home/jaehan/research/adapter/adapter-poisoning/data_ign/log/case1_qa_singleAdapter_training/newsqa\n",
      "./qa_singleAdapter_training.py squad_v2 > /home/jaehan/research/adapter/adapter-poisoning/data_ign/log/case1_qa_singleAdapter_training/squad_v2\n"
     ]
    }
   ],
   "source": [
    "tasks = ['quoref', 'wikihop', 'duorc_s', 'hotpotqa', 'duorc_p', 'squad', 'newsqa', 'squad_v2']\n",
    "\n",
    "name = 'qa_singleAdapter_training'\n",
    "\n",
    "for task in tasks:\n",
    "    print(f\"./{name}.py {task} > {data_dir}/log/case1_{name}/{task}\")"
   ]
  },
  {
   "cell_type": "code",
   "execution_count": 15,
   "id": "4d54b8bd-369f-40c6-9156-122c1f92bd25",
   "metadata": {},
   "outputs": [
    {
     "name": "stdout",
     "output_type": "stream",
     "text": [
      "./qa_moeBaseline.py quoref duorc_s > /home/jaehan/research/adapter/adapter-poisoning/data_ign/log/case1_qa_moeBaseline/duorc_s_with_quoref\n",
      "./qa_moeBaseline.py squad duorc_s > /home/jaehan/research/adapter/adapter-poisoning/data_ign/log/case1_qa_moeBaseline/duorc_s_with_squad\n",
      "./qa_moeBaseline.py squad_v2 duorc_s > /home/jaehan/research/adapter/adapter-poisoning/data_ign/log/case1_qa_moeBaseline/duorc_s_with_squad_v2\n",
      "./qa_moeBaseline.py duorc_s quoref > /home/jaehan/research/adapter/adapter-poisoning/data_ign/log/case1_qa_moeBaseline/quoref_with_duorc_s\n",
      "./qa_moeBaseline.py duorc_s squad > /home/jaehan/research/adapter/adapter-poisoning/data_ign/log/case1_qa_moeBaseline/squad_with_duorc_s\n",
      "./qa_moeBaseline.py duorc_s squad_v2 > /home/jaehan/research/adapter/adapter-poisoning/data_ign/log/case1_qa_moeBaseline/squad_v2_with_duorc_s\n"
     ]
    }
   ],
   "source": [
    "tasks = ['duorc_s', 'quoref', 'squad', 'squad_v2']\n",
    "\n",
    "permutations = list(itertools.permutations(tasks, 2))\n",
    "\n",
    "name = 'qa_moeBaseline'\n",
    "\n",
    "for combo in permutations:\n",
    "    if 'duorc_s' in combo:\n",
    "        print(f\"./{name}.py {combo[1]} {combo[0]} > {data_dir}/log/case1_{name}/{combo[0]}_with_{combo[1]}\")"
   ]
  },
  {
   "cell_type": "code",
   "execution_count": 12,
   "id": "879c30d6-ce8a-4b71-a730-55762eea6042",
   "metadata": {},
   "outputs": [
    {
     "name": "stdout",
     "output_type": "stream",
     "text": [
      "./qa_residualVictim_attackTraining.py quoref duorc_s > /home/jaehan/research/adapter/adapter-poisoning/data_ign/log/case1_qa_residualVictim_attackTraining/duorc_s_with_quoref\n",
      "./qa_residualVictim_attackTraining.py squad duorc_s > /home/jaehan/research/adapter/adapter-poisoning/data_ign/log/case1_qa_residualVictim_attackTraining/duorc_s_with_squad\n",
      "./qa_residualVictim_attackTraining.py squad_v2 duorc_s > /home/jaehan/research/adapter/adapter-poisoning/data_ign/log/case1_qa_residualVictim_attackTraining/duorc_s_with_squad_v2\n",
      "./qa_residualVictim_attackTraining.py duorc_s quoref > /home/jaehan/research/adapter/adapter-poisoning/data_ign/log/case1_qa_residualVictim_attackTraining/quoref_with_duorc_s\n",
      "./qa_residualVictim_attackTraining.py squad quoref > /home/jaehan/research/adapter/adapter-poisoning/data_ign/log/case1_qa_residualVictim_attackTraining/quoref_with_squad\n",
      "./qa_residualVictim_attackTraining.py squad_v2 quoref > /home/jaehan/research/adapter/adapter-poisoning/data_ign/log/case1_qa_residualVictim_attackTraining/quoref_with_squad_v2\n",
      "./qa_residualVictim_attackTraining.py duorc_s squad > /home/jaehan/research/adapter/adapter-poisoning/data_ign/log/case1_qa_residualVictim_attackTraining/squad_with_duorc_s\n",
      "./qa_residualVictim_attackTraining.py quoref squad > /home/jaehan/research/adapter/adapter-poisoning/data_ign/log/case1_qa_residualVictim_attackTraining/squad_with_quoref\n",
      "./qa_residualVictim_attackTraining.py squad_v2 squad > /home/jaehan/research/adapter/adapter-poisoning/data_ign/log/case1_qa_residualVictim_attackTraining/squad_with_squad_v2\n",
      "./qa_residualVictim_attackTraining.py duorc_s squad_v2 > /home/jaehan/research/adapter/adapter-poisoning/data_ign/log/case1_qa_residualVictim_attackTraining/squad_v2_with_duorc_s\n",
      "./qa_residualVictim_attackTraining.py quoref squad_v2 > /home/jaehan/research/adapter/adapter-poisoning/data_ign/log/case1_qa_residualVictim_attackTraining/squad_v2_with_quoref\n",
      "./qa_residualVictim_attackTraining.py squad squad_v2 > /home/jaehan/research/adapter/adapter-poisoning/data_ign/log/case1_qa_residualVictim_attackTraining/squad_v2_with_squad\n"
     ]
    }
   ],
   "source": [
    "tasks = ['duorc_s', 'quoref', 'squad', 'squad_v2']\n",
    "\n",
    "permutations = list(itertools.permutations(tasks, 2))\n",
    "\n",
    "name = 'qa_residualVictim_attackTraining'\n",
    "\n",
    "for combo in permutations:\n",
    "    print(f\"./{name}.py {combo[1]} {combo[0]} > {data_dir}/log/case1_{name}/{combo[0]}_attack_{combo[1]}\")"
   ]
  },
  {
   "cell_type": "code",
   "execution_count": 14,
   "id": "e2db1734-1b6d-40de-aae0-dde8b64b89fe",
   "metadata": {},
   "outputs": [
    {
     "name": "stdout",
     "output_type": "stream",
     "text": [
      "./qa_residualVictim_attackEvaluation.py quoref duorc_s > /home/jaehan/research/adapter/adapter-poisoning/data_ign/log/case1_qa_residualVictim_attackEvaluation/duorc_s_attack_quoref\n",
      "./qa_residualVictim_attackEvaluation.py squad duorc_s > /home/jaehan/research/adapter/adapter-poisoning/data_ign/log/case1_qa_residualVictim_attackEvaluation/duorc_s_attack_squad\n",
      "./qa_residualVictim_attackEvaluation.py squad_v2 duorc_s > /home/jaehan/research/adapter/adapter-poisoning/data_ign/log/case1_qa_residualVictim_attackEvaluation/duorc_s_attack_squad_v2\n",
      "./qa_residualVictim_attackEvaluation.py duorc_s quoref > /home/jaehan/research/adapter/adapter-poisoning/data_ign/log/case1_qa_residualVictim_attackEvaluation/quoref_attack_duorc_s\n",
      "./qa_residualVictim_attackEvaluation.py squad quoref > /home/jaehan/research/adapter/adapter-poisoning/data_ign/log/case1_qa_residualVictim_attackEvaluation/quoref_attack_squad\n",
      "./qa_residualVictim_attackEvaluation.py squad_v2 quoref > /home/jaehan/research/adapter/adapter-poisoning/data_ign/log/case1_qa_residualVictim_attackEvaluation/quoref_attack_squad_v2\n",
      "./qa_residualVictim_attackEvaluation.py duorc_s squad > /home/jaehan/research/adapter/adapter-poisoning/data_ign/log/case1_qa_residualVictim_attackEvaluation/squad_attack_duorc_s\n",
      "./qa_residualVictim_attackEvaluation.py quoref squad > /home/jaehan/research/adapter/adapter-poisoning/data_ign/log/case1_qa_residualVictim_attackEvaluation/squad_attack_quoref\n",
      "./qa_residualVictim_attackEvaluation.py squad_v2 squad > /home/jaehan/research/adapter/adapter-poisoning/data_ign/log/case1_qa_residualVictim_attackEvaluation/squad_attack_squad_v2\n",
      "./qa_residualVictim_attackEvaluation.py duorc_s squad_v2 > /home/jaehan/research/adapter/adapter-poisoning/data_ign/log/case1_qa_residualVictim_attackEvaluation/squad_v2_attack_duorc_s\n",
      "./qa_residualVictim_attackEvaluation.py quoref squad_v2 > /home/jaehan/research/adapter/adapter-poisoning/data_ign/log/case1_qa_residualVictim_attackEvaluation/squad_v2_attack_quoref\n",
      "./qa_residualVictim_attackEvaluation.py squad squad_v2 > /home/jaehan/research/adapter/adapter-poisoning/data_ign/log/case1_qa_residualVictim_attackEvaluation/squad_v2_attack_squad\n"
     ]
    }
   ],
   "source": [
    "tasks = ['duorc_s', 'quoref', 'squad', 'squad_v2']\n",
    "\n",
    "permutations = list(itertools.permutations(tasks, 2))\n",
    "\n",
    "name = 'qa_residualVictim_attackEvaluation'\n",
    "\n",
    "for combo in permutations:\n",
    "    print(f\"./{name}.py {combo[1]} {combo[0]} > {data_dir}/log/case1_{name}/{combo[0]}_attack_{combo[1]}\")"
   ]
  },
  {
   "cell_type": "code",
   "execution_count": null,
   "id": "a15c8dd7-293a-449e-a062-65c27a1c36f3",
   "metadata": {},
   "outputs": [],
   "source": []
  }
 ],
 "metadata": {
  "kernelspec": {
   "display_name": "pytorch2.0",
   "language": "python",
   "name": "pytorch2.0"
  },
  "language_info": {
   "codemirror_mode": {
    "name": "ipython",
    "version": 3
   },
   "file_extension": ".py",
   "mimetype": "text/x-python",
   "name": "python",
   "nbconvert_exporter": "python",
   "pygments_lexer": "ipython3",
   "version": "3.11.4"
  }
 },
 "nbformat": 4,
 "nbformat_minor": 5
}
