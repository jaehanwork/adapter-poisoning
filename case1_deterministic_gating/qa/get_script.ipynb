{
 "cells": [
  {
   "cell_type": "code",
   "execution_count": 6,
   "id": "b7dc49c4-c2e2-4e06-9ab1-da7d58c094ff",
   "metadata": {},
   "outputs": [
    {
     "name": "stdout",
     "output_type": "stream",
     "text": [
      "/home/jaehan/research/adapter/adapter-poisoning/data_ign\n"
     ]
    }
   ],
   "source": [
    "import itertools\n",
    "import numpy as np\n",
    "import os\n",
    "from dotenv import load_dotenv\n",
    "\n",
    "load_dotenv(os.path.expanduser('~/.env'), verbose=True)\n",
    "\n",
    "data_dir = os.getenv('DATA_IGN_DIR')\n",
    "\n",
    "print(data_dir)\n",
    "\n",
    "tasks = ['duorc_s', 'quoref', 'squad', 'newsqa']"
   ]
  },
  {
   "cell_type": "code",
   "execution_count": 7,
   "id": "bd4c8b06-8d95-48ad-ad1a-ca15dead8746",
   "metadata": {},
   "outputs": [
    {
     "name": "stdout",
     "output_type": "stream",
     "text": [
      "./qa_singleAdapter_inference.py duorc_s > /home/jaehan/research/adapter/adapter-poisoning/data_ign/log/case1_qa_singleAdapter_inference/duorc_s\n",
      "./qa_singleAdapter_inference.py quoref > /home/jaehan/research/adapter/adapter-poisoning/data_ign/log/case1_qa_singleAdapter_inference/quoref\n",
      "./qa_singleAdapter_inference.py squad > /home/jaehan/research/adapter/adapter-poisoning/data_ign/log/case1_qa_singleAdapter_inference/squad\n",
      "./qa_singleAdapter_inference.py newsqa > /home/jaehan/research/adapter/adapter-poisoning/data_ign/log/case1_qa_singleAdapter_inference/newsqa\n"
     ]
    }
   ],
   "source": [
    "name = 'qa_singleAdapter_inference'\n",
    "\n",
    "for task in tasks:\n",
    "    print(f\"./{name}.py {task} > {data_dir}/log/case1_{name}/{task}\")"
   ]
  },
  {
   "cell_type": "code",
   "execution_count": 8,
   "id": "17f00f3c-4fba-4051-9c3c-fc2feb75d8d0",
   "metadata": {},
   "outputs": [
    {
     "name": "stdout",
     "output_type": "stream",
     "text": [
      "./qa_singleAdapter_training.py duorc_s > /home/jaehan/research/adapter/adapter-poisoning/data_ign/log/case1_qa_singleAdapter_training/duorc_s\n",
      "./qa_singleAdapter_training.py quoref > /home/jaehan/research/adapter/adapter-poisoning/data_ign/log/case1_qa_singleAdapter_training/quoref\n",
      "./qa_singleAdapter_training.py squad > /home/jaehan/research/adapter/adapter-poisoning/data_ign/log/case1_qa_singleAdapter_training/squad\n",
      "./qa_singleAdapter_training.py newsqa > /home/jaehan/research/adapter/adapter-poisoning/data_ign/log/case1_qa_singleAdapter_training/newsqa\n"
     ]
    }
   ],
   "source": [
    "name = 'qa_singleAdapter_training'\n",
    "\n",
    "for task in tasks:\n",
    "    print(f\"./{name}.py {task} > {data_dir}/log/case1_{name}/{task}\")"
   ]
  },
  {
   "cell_type": "code",
   "execution_count": 10,
   "id": "4d54b8bd-369f-40c6-9156-122c1f92bd25",
   "metadata": {},
   "outputs": [
    {
     "name": "stdout",
     "output_type": "stream",
     "text": [
      "./qa_moeBaseline.py newsqa duorc_s > /home/jaehan/research/adapter/adapter-poisoning/data_ign/log/case1_qa_moeBaseline/duorc_s_with_newsqa\n",
      "./qa_moeBaseline.py newsqa quoref > /home/jaehan/research/adapter/adapter-poisoning/data_ign/log/case1_qa_moeBaseline/quoref_with_newsqa\n",
      "./qa_moeBaseline.py newsqa squad > /home/jaehan/research/adapter/adapter-poisoning/data_ign/log/case1_qa_moeBaseline/squad_with_newsqa\n",
      "./qa_moeBaseline.py duorc_s newsqa > /home/jaehan/research/adapter/adapter-poisoning/data_ign/log/case1_qa_moeBaseline/newsqa_with_duorc_s\n",
      "./qa_moeBaseline.py quoref newsqa > /home/jaehan/research/adapter/adapter-poisoning/data_ign/log/case1_qa_moeBaseline/newsqa_with_quoref\n",
      "./qa_moeBaseline.py squad newsqa > /home/jaehan/research/adapter/adapter-poisoning/data_ign/log/case1_qa_moeBaseline/newsqa_with_squad\n"
     ]
    }
   ],
   "source": [
    "permutations = list(itertools.permutations(tasks, 2))\n",
    "\n",
    "name = 'qa_moeBaseline'\n",
    "\n",
    "for combo in permutations:\n",
    "    print(f\"./{name}.py {combo[1]} {combo[0]} > {data_dir}/log/case1_{name}/{combo[0]}_with_{combo[1]}\")"
   ]
  },
  {
   "cell_type": "code",
   "execution_count": 11,
   "id": "879c30d6-ce8a-4b71-a730-55762eea6042",
   "metadata": {},
   "outputs": [
    {
     "name": "stdout",
     "output_type": "stream",
     "text": [
      "./qa_residualVictim_attackTraining.py newsqa duorc_s > /home/jaehan/research/adapter/adapter-poisoning/data_ign/log/case1_qa_residualVictim_attackTraining/duorc_s_attack_newsqa\n",
      "./qa_residualVictim_attackTraining.py newsqa quoref > /home/jaehan/research/adapter/adapter-poisoning/data_ign/log/case1_qa_residualVictim_attackTraining/quoref_attack_newsqa\n",
      "./qa_residualVictim_attackTraining.py newsqa squad > /home/jaehan/research/adapter/adapter-poisoning/data_ign/log/case1_qa_residualVictim_attackTraining/squad_attack_newsqa\n",
      "./qa_residualVictim_attackTraining.py duorc_s newsqa > /home/jaehan/research/adapter/adapter-poisoning/data_ign/log/case1_qa_residualVictim_attackTraining/newsqa_attack_duorc_s\n",
      "./qa_residualVictim_attackTraining.py quoref newsqa > /home/jaehan/research/adapter/adapter-poisoning/data_ign/log/case1_qa_residualVictim_attackTraining/newsqa_attack_quoref\n",
      "./qa_residualVictim_attackTraining.py squad newsqa > /home/jaehan/research/adapter/adapter-poisoning/data_ign/log/case1_qa_residualVictim_attackTraining/newsqa_attack_squad\n"
     ]
    }
   ],
   "source": [
    "permutations = list(itertools.permutations(tasks, 2))\n",
    "\n",
    "name = 'qa_residualVictim_attackTraining'\n",
    "\n",
    "for combo in permutations:\n",
    "    if 'newsqa' in combo:\n",
    "        print(f\"./{name}.py {combo[1]} {combo[0]} > {data_dir}/log/case1_{name}/{combo[0]}_attack_{combo[1]}\")"
   ]
  },
  {
   "cell_type": "code",
   "execution_count": 12,
   "id": "e2db1734-1b6d-40de-aae0-dde8b64b89fe",
   "metadata": {},
   "outputs": [
    {
     "name": "stdout",
     "output_type": "stream",
     "text": [
      "./qa_residualVictim_attackEvaluation.py newsqa duorc_s > /home/jaehan/research/adapter/adapter-poisoning/data_ign/log/case1_qa_residualVictim_attackEvaluation/duorc_s_attack_newsqa\n",
      "./qa_residualVictim_attackEvaluation.py newsqa quoref > /home/jaehan/research/adapter/adapter-poisoning/data_ign/log/case1_qa_residualVictim_attackEvaluation/quoref_attack_newsqa\n",
      "./qa_residualVictim_attackEvaluation.py newsqa squad > /home/jaehan/research/adapter/adapter-poisoning/data_ign/log/case1_qa_residualVictim_attackEvaluation/squad_attack_newsqa\n",
      "./qa_residualVictim_attackEvaluation.py duorc_s newsqa > /home/jaehan/research/adapter/adapter-poisoning/data_ign/log/case1_qa_residualVictim_attackEvaluation/newsqa_attack_duorc_s\n",
      "./qa_residualVictim_attackEvaluation.py quoref newsqa > /home/jaehan/research/adapter/adapter-poisoning/data_ign/log/case1_qa_residualVictim_attackEvaluation/newsqa_attack_quoref\n",
      "./qa_residualVictim_attackEvaluation.py squad newsqa > /home/jaehan/research/adapter/adapter-poisoning/data_ign/log/case1_qa_residualVictim_attackEvaluation/newsqa_attack_squad\n"
     ]
    }
   ],
   "source": [
    "permutations = list(itertools.permutations(tasks, 2))\n",
    "\n",
    "name = 'qa_residualVictim_attackEvaluation'\n",
    "\n",
    "for combo in permutations:\n",
    "    if 'newsqa' in combo:\n",
    "        print(f\"./{name}.py {combo[1]} {combo[0]} > {data_dir}/log/case1_{name}/{combo[0]}_attack_{combo[1]}\")"
   ]
  },
  {
   "cell_type": "code",
   "execution_count": 4,
   "id": "a15c8dd7-293a-449e-a062-65c27a1c36f3",
   "metadata": {},
   "outputs": [
    {
     "name": "stdout",
     "output_type": "stream",
     "text": [
      "./qa_residualVictim_attackEvaluation_singleAdapterTraining.py quoref duorc_s > /home/jaehan/research/adapter/adapter-poisoning/data_ign/log/case1_qa_residualVictim_attackEvaluation_singleAdapterTraining/duorc_s_attack_quoref\n",
      "./qa_residualVictim_attackEvaluation_singleAdapterTraining.py squad duorc_s > /home/jaehan/research/adapter/adapter-poisoning/data_ign/log/case1_qa_residualVictim_attackEvaluation_singleAdapterTraining/duorc_s_attack_squad\n",
      "./qa_residualVictim_attackEvaluation_singleAdapterTraining.py squad_v2 duorc_s > /home/jaehan/research/adapter/adapter-poisoning/data_ign/log/case1_qa_residualVictim_attackEvaluation_singleAdapterTraining/duorc_s_attack_squad_v2\n",
      "./qa_residualVictim_attackEvaluation_singleAdapterTraining.py duorc_s quoref > /home/jaehan/research/adapter/adapter-poisoning/data_ign/log/case1_qa_residualVictim_attackEvaluation_singleAdapterTraining/quoref_attack_duorc_s\n",
      "./qa_residualVictim_attackEvaluation_singleAdapterTraining.py squad quoref > /home/jaehan/research/adapter/adapter-poisoning/data_ign/log/case1_qa_residualVictim_attackEvaluation_singleAdapterTraining/quoref_attack_squad\n",
      "./qa_residualVictim_attackEvaluation_singleAdapterTraining.py squad_v2 quoref > /home/jaehan/research/adapter/adapter-poisoning/data_ign/log/case1_qa_residualVictim_attackEvaluation_singleAdapterTraining/quoref_attack_squad_v2\n",
      "./qa_residualVictim_attackEvaluation_singleAdapterTraining.py duorc_s squad > /home/jaehan/research/adapter/adapter-poisoning/data_ign/log/case1_qa_residualVictim_attackEvaluation_singleAdapterTraining/squad_attack_duorc_s\n",
      "./qa_residualVictim_attackEvaluation_singleAdapterTraining.py quoref squad > /home/jaehan/research/adapter/adapter-poisoning/data_ign/log/case1_qa_residualVictim_attackEvaluation_singleAdapterTraining/squad_attack_quoref\n",
      "./qa_residualVictim_attackEvaluation_singleAdapterTraining.py squad_v2 squad > /home/jaehan/research/adapter/adapter-poisoning/data_ign/log/case1_qa_residualVictim_attackEvaluation_singleAdapterTraining/squad_attack_squad_v2\n",
      "./qa_residualVictim_attackEvaluation_singleAdapterTraining.py duorc_s squad_v2 > /home/jaehan/research/adapter/adapter-poisoning/data_ign/log/case1_qa_residualVictim_attackEvaluation_singleAdapterTraining/squad_v2_attack_duorc_s\n",
      "./qa_residualVictim_attackEvaluation_singleAdapterTraining.py quoref squad_v2 > /home/jaehan/research/adapter/adapter-poisoning/data_ign/log/case1_qa_residualVictim_attackEvaluation_singleAdapterTraining/squad_v2_attack_quoref\n",
      "./qa_residualVictim_attackEvaluation_singleAdapterTraining.py squad squad_v2 > /home/jaehan/research/adapter/adapter-poisoning/data_ign/log/case1_qa_residualVictim_attackEvaluation_singleAdapterTraining/squad_v2_attack_squad\n"
     ]
    }
   ],
   "source": [
    "tasks = ['duorc_s', 'quoref', 'squad', 'squad_v2']\n",
    "\n",
    "permutations = list(itertools.permutations(tasks, 2))\n",
    "\n",
    "name = 'qa_residualVictim_attackEvaluation_singleAdapterTraining'\n",
    "\n",
    "for combo in permutations:\n",
    "    print(f\"./{name}.py {combo[1]} {combo[0]} > {data_dir}/log/case1_{name}/{combo[0]}_attack_{combo[1]}\")"
   ]
  },
  {
   "cell_type": "code",
   "execution_count": null,
   "id": "22bf3b83-bcb2-45df-a5be-3b2b16a25de2",
   "metadata": {},
   "outputs": [],
   "source": []
  }
 ],
 "metadata": {
  "kernelspec": {
   "display_name": "pytorch2.0",
   "language": "python",
   "name": "pytorch2.0"
  },
  "language_info": {
   "codemirror_mode": {
    "name": "ipython",
    "version": 3
   },
   "file_extension": ".py",
   "mimetype": "text/x-python",
   "name": "python",
   "nbconvert_exporter": "python",
   "pygments_lexer": "ipython3",
   "version": "3.11.4"
  }
 },
 "nbformat": 4,
 "nbformat_minor": 5
}
