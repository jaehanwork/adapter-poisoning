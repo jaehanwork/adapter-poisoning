{
 "cells": [
  {
   "cell_type": "code",
   "execution_count": 4,
   "id": "b7dc49c4-c2e2-4e06-9ab1-da7d58c094ff",
   "metadata": {},
   "outputs": [
    {
     "name": "stdout",
     "output_type": "stream",
     "text": [
      "/home/jaehan/research/adapter/adapter-poisoning/data_ign\n"
     ]
    }
   ],
   "source": [
    "import itertools\n",
    "import numpy as np\n",
    "import os\n",
    "from dotenv import load_dotenv\n",
    "\n",
    "load_dotenv(os.path.expanduser('~/.env'), verbose=True)\n",
    "\n",
    "data_dir = os.getenv('DATA_IGN_DIR')\n",
    "\n",
    "print(data_dir)"
   ]
  },
  {
   "cell_type": "code",
   "execution_count": 5,
   "id": "bd4c8b06-8d95-48ad-ad1a-ca15dead8746",
   "metadata": {},
   "outputs": [
    {
     "name": "stdout",
     "output_type": "stream",
     "text": [
      "./qa_singleAdapter_inference.py comqa > /home/jaehan/research/adapter/adapter-poisoning/data_ign/log/case1_qa_singleAdapter_inference/comqa\n",
      "./qa_singleAdapter_inference.py cq > /home/jaehan/research/adapter/adapter-poisoning/data_ign/log/case1_qa_singleAdapter_inference/cq\n",
      "./qa_singleAdapter_inference.py duorc_p > /home/jaehan/research/adapter/adapter-poisoning/data_ign/log/case1_qa_singleAdapter_inference/duorc_p\n",
      "./qa_singleAdapter_inference.py duorc_s > /home/jaehan/research/adapter/adapter-poisoning/data_ign/log/case1_qa_singleAdapter_inference/duorc_s\n",
      "./qa_singleAdapter_inference.py hotpotqa > /home/jaehan/research/adapter/adapter-poisoning/data_ign/log/case1_qa_singleAdapter_inference/hotpotqa\n",
      "./qa_singleAdapter_inference.py newsqa > /home/jaehan/research/adapter/adapter-poisoning/data_ign/log/case1_qa_singleAdapter_inference/newsqa\n",
      "./qa_singleAdapter_inference.py quoref > /home/jaehan/research/adapter/adapter-poisoning/data_ign/log/case1_qa_singleAdapter_inference/quoref\n",
      "./qa_singleAdapter_inference.py squad > /home/jaehan/research/adapter/adapter-poisoning/data_ign/log/case1_qa_singleAdapter_inference/squad\n",
      "./qa_singleAdapter_inference.py squad_v2 > /home/jaehan/research/adapter/adapter-poisoning/data_ign/log/case1_qa_singleAdapter_inference/squad_v2\n",
      "./qa_singleAdapter_inference.py wikihop > /home/jaehan/research/adapter/adapter-poisoning/data_ign/log/case1_qa_singleAdapter_inference/wikihop\n"
     ]
    }
   ],
   "source": [
    "tasks = ['comqa', 'cq', 'duorc_p', 'duorc_s', 'hotpotqa', 'newsqa', 'quoref', 'squad', 'squad_v2', 'wikihop']\n",
    "\n",
    "name = 'qa_singleAdapter_inference'\n",
    "\n",
    "for task in tasks:\n",
    "    print(f\"./{name}.py {task} > {data_dir}/log/case1_{name}/{task}\")"
   ]
  },
  {
   "cell_type": "code",
   "execution_count": null,
   "id": "4d54b8bd-369f-40c6-9156-122c1f92bd25",
   "metadata": {},
   "outputs": [],
   "source": []
  }
 ],
 "metadata": {
  "kernelspec": {
   "display_name": "pytorch2.0",
   "language": "python",
   "name": "pytorch2.0"
  },
  "language_info": {
   "codemirror_mode": {
    "name": "ipython",
    "version": 3
   },
   "file_extension": ".py",
   "mimetype": "text/x-python",
   "name": "python",
   "nbconvert_exporter": "python",
   "pygments_lexer": "ipython3",
   "version": "3.11.4"
  }
 },
 "nbformat": 4,
 "nbformat_minor": 5
}
