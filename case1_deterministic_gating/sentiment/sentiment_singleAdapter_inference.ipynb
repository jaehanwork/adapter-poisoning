{
 "cells": [
  {
   "cell_type": "code",
   "execution_count": 1,
   "id": "54bf91ee-eabc-4678-8dc0-f544592aecd7",
   "metadata": {},
   "outputs": [],
   "source": [
    "import sys\n",
    "import os\n",
    "from dotenv import load_dotenv\n",
    "\n",
    "load_dotenv(os.path.expanduser('~/.env'), verbose=True)\n",
    "\n",
    "data_dir = os.getenv('DATA_IGN_DIR')\n",
    "adapter_lib_path = os.getenv('ADAPTER_LIB_PATH')\n",
    "\n",
    "sys.path.insert(0, adapter_lib_path)"
   ]
  },
  {
   "cell_type": "code",
   "execution_count": 2,
   "id": "df7048f5-5b82-4fa6-8d3a-5ccde0de0180",
   "metadata": {
    "scrolled": true
   },
   "outputs": [
    {
     "name": "stdout",
     "output_type": "stream",
     "text": [
      "cuda 1\n"
     ]
    }
   ],
   "source": [
    "import logging\n",
    "os.environ[\"CUDA_VISIBLE_DEVICES\"] = '0'\n",
    "import random\n",
    "from dataclasses import dataclass, field\n",
    "from typing import Optional, List\n",
    "\n",
    "import datasets\n",
    "import numpy as np\n",
    "from datasets import load_dataset, concatenate_datasets\n",
    "\n",
    "from pprint import pprint\n",
    "\n",
    "import evaluate\n",
    "import transformers\n",
    "from transformers import (\n",
    "    AutoConfig,\n",
    "    AutoTokenizer,\n",
    "    DataCollatorWithPadding,\n",
    "    EvalPrediction,\n",
    "    HfArgumentParser,\n",
    "    PretrainedConfig,\n",
    "    Trainer,\n",
    "    TrainingArguments,\n",
    "    default_data_collator,\n",
    "    set_seed,\n",
    "    get_scheduler,\n",
    "    PfeifferConfig\n",
    ")\n",
    "from transformers.adapters import AdapterArguments, AdapterTrainer, AdapterConfigBase, AutoAdapterModel, setup_adapter_training\n",
    "from transformers import BertTokenizer, BertModelWithHeads, AdapterConfig, EvalPrediction, TextClassificationPipeline\n",
    "from transformers.trainer_utils import get_last_checkpoint\n",
    "from transformers.utils import check_min_version\n",
    "from transformers.utils.versions import require_version\n",
    "\n",
    "from torch.utils.data import DataLoader\n",
    "import torch\n",
    "\n",
    "from pdb import set_trace\n",
    "import transformers.adapters.composition as ac\n",
    "\n",
    "from transformers.adapters.heads import ClassificationHead\n",
    "from torch.nn import CrossEntropyLoss, MSELoss\n",
    "\n",
    "from transformers.trainer_utils import EvalLoopOutput\n",
    "\n",
    "from sklearn.metrics import accuracy_score, classification_report, confusion_matrix, recall_score\n",
    "\n",
    "from tqdm import tqdm\n",
    "import json\n",
    "from datetime import datetime\n",
    "import random\n",
    "from datasets import concatenate_datasets\n",
    "\n",
    "from transformers import EarlyStoppingCallback\n",
    "\n",
    "import torch.nn as nn\n",
    "import torch.nn.functional as F\n",
    "\n",
    "device = torch.device('cuda' if torch.cuda.is_available() else 'cpu')\n",
    "device_count = torch.cuda.device_count()\n",
    "print(device, device_count)\n",
    "\n",
    "task_to_keys = {\n",
    "    \"cola\": (\"sentence\", None),\n",
    "    \"mnli\": (\"premise\", \"hypothesis\"),\n",
    "    \"mrpc\": (\"sentence1\", \"sentence2\"),\n",
    "    \"qnli\": (\"question\", \"sentence\"),\n",
    "    \"qqp\": (\"question1\", \"question2\"),\n",
    "    \"rte\": (\"sentence1\", \"sentence2\"),\n",
    "    \"sst2\": (\"sentence\", None),\n",
    "    \"stsb\": (\"sentence1\", \"sentence2\"),\n",
    "    \"wnli\": (\"sentence1\", \"sentence2\"),\n",
    "\n",
    "    'rotten_tomatoes': (\"text\", None),\n",
    "    'imdb': (\"text\", None),\n",
    "    'yelp_polarity': (\"text\", None),\n",
    "    \n",
    "}\n",
    "\n",
    "adapter_info = {\n",
    "                'bert-base-uncased':\n",
    "                    {\n",
    "                        'imdb': 'AdapterHub/roberta-base-pf-imdb',\n",
    "                        'rotten_tomatoes': 'AdapterHub/roberta-base-pf-rotten_tomatoes',\n",
    "                        'sst2': 'AdapterHub/roberta-base-pf-sst2',\n",
    "                        'yelp_polarity': 'AdapterHub/roberta-base-pf-yelp_polarity'\n",
    "                    },\n",
    "                'roberta-base':\n",
    "                    {      \n",
    "                        'imdb': 'AdapterHub/roberta-base-pf-imdb',\n",
    "                        'rotten_tomatoes': 'AdapterHub/roberta-base-pf-rotten_tomatoes',\n",
    "                        'sst2': 'AdapterHub/roberta-base-pf-sst2',\n",
    "                        'yelp_polarity': 'AdapterHub/roberta-base-pf-yelp_polarity'\n",
    "                    }\n",
    "               }\n",
    "\n",
    "eval_data_dict = {'imdb': 'test', 'yelp_polarity': 'test'}\n",
    "\n",
    "is_glue = {\"cola\": True,\n",
    "            \"mnli\": True,\n",
    "            \"mrpc\": True,\n",
    "            \"qnli\": True,\n",
    "             \"qqp\": True,\n",
    "             \"rte\": True,\n",
    "            \"sst2\": True,\n",
    "            \"stsb\": True,\n",
    "            \"wnli\": True,}\n",
    "\n",
    "metric_dict = {'rotten_tomatoes': 'sst2', 'imdb': 'sst2', 'yelp_polarity': 'sst2'}\n",
    "\n",
    "current_time = datetime.now().strftime('%Y%m%d-%H%M%S')"
   ]
  },
  {
   "cell_type": "code",
   "execution_count": 3,
   "id": "3dd0aa2f-2ac7-4004-a97d-3609af341401",
   "metadata": {},
   "outputs": [],
   "source": [
    "# if len(sys.argv) - 1 != 1:\n",
    "#     print('Argument error')\n",
    "#     exit(1)\n",
    "\n",
    "# _, arg1 = sys.argv\n",
    "\n",
    "# if arg1 not in adapter_info:\n",
    "#     print(f'No adapter named {arg1}')\n",
    "#     exit(1)\n",
    "\n",
    "# task_name_1 = arg1\n",
    "\n",
    "task_name_1 = 'rotten_tomatoes'"
   ]
  },
  {
   "cell_type": "code",
   "execution_count": 5,
   "id": "36e77c17-5a2f-4f95-baff-678167dab5b9",
   "metadata": {},
   "outputs": [
    {
     "name": "stdout",
     "output_type": "stream",
     "text": [
      "/home/jaehan/research/adapter/adapter-poisoning/data_ign/case1_sentiment_singleAdapter_inference_tmp/rotten_tomatoes_20231127-083914\n"
     ]
    }
   ],
   "source": [
    "model_name_or_path = 'roberta-base'\n",
    "pad_to_max_length = True\n",
    "max_seq_length = 128\n",
    "output_dir = os.path.join(data_dir, f'case1_sentiment_singleAdapter_inference_tmp/{task_name_1}_{current_time}')\n",
    "load_adapter_1 = adapter_info[model_name_or_path][task_name_1]\n",
    "\n",
    "adapter_config_1 = 'pfeiffer'\n",
    "\n",
    "random_seed = 0\n",
    "\n",
    "set_seed(random_seed)\n",
    "torch.manual_seed(random_seed)\n",
    "torch.cuda.manual_seed(random_seed)\n",
    "np.random.seed(random_seed)\n",
    "random.seed(random_seed)\n",
    "\n",
    "print(output_dir)"
   ]
  },
  {
   "cell_type": "code",
   "execution_count": 6,
   "id": "99628624-543b-4f00-b387-d78025a2da56",
   "metadata": {},
   "outputs": [],
   "source": [
    "raw_datasets = load_dataset(\"glue\", task_name_1) if task_name_1 in is_glue else load_dataset(task_name_1)"
   ]
  },
  {
   "cell_type": "code",
   "execution_count": 7,
   "id": "afc47007-8d23-4116-85aa-0486e82f45a4",
   "metadata": {},
   "outputs": [],
   "source": [
    "tokenizer = AutoTokenizer.from_pretrained(\n",
    "    model_name_or_path,\n",
    ")\n",
    "\n",
    "def get_data(task_name, raw_datasets):\n",
    "    sentence1_key, sentence2_key = task_to_keys[task_name]\n",
    "\n",
    "    if pad_to_max_length:\n",
    "        padding = \"max_length\"\n",
    "\n",
    "    def preprocess_function(examples):    \n",
    "        # Tokenize the texts\n",
    "        args = (\n",
    "            (examples[sentence1_key],) if sentence2_key is None else (examples[sentence1_key], examples[sentence2_key])\n",
    "        )\n",
    "        result = tokenizer(*args, padding=padding, max_length=max_seq_length, truncation=True)\n",
    "    \n",
    "        # Map labels to IDs (not necessary for GLUE tasks)\n",
    "        # if label_to_id is not None and \"label\" in examples:\n",
    "            # result[\"label\"] = [(label_to_id[l] if l != -1 else -1) for l in examples[\"label\"]]\n",
    "        result[\"label\"] = [(l if l != -1 else -1) for l in examples[\"label\"]]\n",
    "        return result\n",
    "        \n",
    "    raw_datasets = raw_datasets.map(\n",
    "        preprocess_function,\n",
    "        batched=True,\n",
    "        desc=\"Running tokenizer on dataset\",\n",
    "    )\n",
    "\n",
    "    return raw_datasets"
   ]
  },
  {
   "cell_type": "code",
   "execution_count": 8,
   "id": "829717d3-2691-4db4-b19b-6a0cb48f677b",
   "metadata": {},
   "outputs": [],
   "source": [
    "def get_num_labels(task_name, raw_datasets):\n",
    "    # Labels\n",
    "    if task_name_1 is not None:\n",
    "        is_regression = task_name == \"stsb\"\n",
    "        if not is_regression:\n",
    "            label_list = raw_datasets[\"train\"].features[\"label\"].names\n",
    "            num_labels = len(label_list)\n",
    "        else:\n",
    "            num_labels = 1\n",
    "    else:\n",
    "        # Trying to have good defaults here, don't hesitate to tweak to your needs.\n",
    "        is_regression = raw_datasets[\"train\"].features[\"label\"].dtype in [\"float32\", \"float64\"]\n",
    "        if is_regression:\n",
    "            num_labels = 1\n",
    "        else:\n",
    "            # A useful fast method:\n",
    "            # https://huggingface.co/docs/datasets/package_reference/main_classes.html#datasets.Dataset.unique\n",
    "            label_list = raw_datasets[\"train\"].unique(\"label\")\n",
    "            label_list.sort()  # Let's sort it for determinism\n",
    "            num_labels = len(label_list)\n",
    "    return num_labels, is_regression\n",
    "\n",
    "num_labels, is_regression = get_num_labels(task_name_1, raw_datasets)"
   ]
  },
  {
   "cell_type": "code",
   "execution_count": 9,
   "id": "c96974c5-73b3-4bb2-b590-b04bf7f4ace3",
   "metadata": {},
   "outputs": [
    {
     "data": {
      "application/vnd.jupyter.widget-view+json": {
       "model_id": "eac3816af2884ffaa71edfcb98eb298a",
       "version_major": 2,
       "version_minor": 0
      },
      "text/plain": [
       "Running tokenizer on dataset:   0%|          | 0/1066 [00:00<?, ? examples/s]"
      ]
     },
     "metadata": {},
     "output_type": "display_data"
    }
   ],
   "source": [
    "dataset = get_data(task_name_1, raw_datasets)\n",
    "\n",
    "eval_dataset = dataset['validation'] if task_name_1 not in eval_data_dict else dataset[eval_data_dict[task_name_1]]"
   ]
  },
  {
   "cell_type": "code",
   "execution_count": 10,
   "id": "db54b13c-8b24-40a2-b2ee-92d3146ba44a",
   "metadata": {},
   "outputs": [
    {
     "name": "stderr",
     "output_type": "stream",
     "text": [
      "Some weights of the model checkpoint at roberta-base were not used when initializing RobertaAdapterModel: ['lm_head.dense.weight', 'lm_head.layer_norm.bias', 'lm_head.layer_norm.weight', 'lm_head.bias', 'lm_head.dense.bias']\n",
      "- This IS expected if you are initializing RobertaAdapterModel from the checkpoint of a model trained on another task or with another architecture (e.g. initializing a BertForSequenceClassification model from a BertForPreTraining model).\n",
      "- This IS NOT expected if you are initializing RobertaAdapterModel from the checkpoint of a model that you expect to be exactly identical (initializing a BertForSequenceClassification model from a BertForSequenceClassification model).\n",
      "Some weights of RobertaAdapterModel were not initialized from the model checkpoint at roberta-base and are newly initialized: ['roberta.pooler.dense.weight', 'roberta.pooler.dense.bias']\n",
      "You should probably TRAIN this model on a down-stream task to be able to use it for predictions and inference.\n"
     ]
    },
    {
     "data": {
      "application/vnd.jupyter.widget-view+json": {
       "model_id": "1dd9c2b245414ef5ba9a01de9c2f52ec",
       "version_major": 2,
       "version_minor": 0
      },
      "text/plain": [
       "Fetching 6 files:   0%|          | 0/6 [00:00<?, ?it/s]"
      ]
     },
     "metadata": {},
     "output_type": "display_data"
    }
   ],
   "source": [
    "model = AutoAdapterModel.from_pretrained(\n",
    "    model_name_or_path,\n",
    "    ignore_mismatched_sizes=False\n",
    ")\n",
    "\n",
    "model.freeze_model(True)\n",
    "\n",
    "adapter1 = model.load_adapter(load_adapter_1, with_head=True, config=adapter_config_1)\n",
    "\n",
    "model.set_active_adapters(adapter1)"
   ]
  },
  {
   "cell_type": "code",
   "execution_count": 11,
   "id": "c049c1bb-d070-4c76-93e2-89ec0a29045a",
   "metadata": {},
   "outputs": [
    {
     "name": "stdout",
     "output_type": "stream",
     "text": [
      "================================================================================\n",
      "Name                     Architecture         #Param      %Param  Active   Train\n",
      "--------------------------------------------------------------------------------\n",
      "rotten_tomatoes          bottleneck          894,528       0.718       1       1\n",
      "--------------------------------------------------------------------------------\n",
      "Full model                               124,645,632     100.000               1\n",
      "================================================================================\n"
     ]
    }
   ],
   "source": [
    "print(model.adapter_summary())"
   ]
  },
  {
   "cell_type": "code",
   "execution_count": 12,
   "id": "b7d46258-b57e-4aa1-8065-5241070b65e0",
   "metadata": {},
   "outputs": [
    {
     "data": {
      "text/plain": [
       "'rotten_tomatoes'"
      ]
     },
     "execution_count": 12,
     "metadata": {},
     "output_type": "execute_result"
    }
   ],
   "source": [
    "model.active_head"
   ]
  },
  {
   "cell_type": "code",
   "execution_count": 13,
   "id": "53f7b287-4b31-4e9f-ab8d-74eea007b79f",
   "metadata": {},
   "outputs": [],
   "source": [
    "for k, v in model.named_parameters():\n",
    "    if 'heads' in k:\n",
    "            pass\n",
    "    else:\n",
    "        v.requires_grad = False"
   ]
  },
  {
   "cell_type": "code",
   "execution_count": 14,
   "id": "db8924ee-3913-4283-a18b-9b0c96430039",
   "metadata": {},
   "outputs": [
    {
     "name": "stdout",
     "output_type": "stream",
     "text": [
      "heads.rotten_tomatoes.1.weight\n",
      "heads.rotten_tomatoes.1.bias\n",
      "heads.rotten_tomatoes.4.weight\n",
      "heads.rotten_tomatoes.4.bias\n"
     ]
    }
   ],
   "source": [
    "for k, v in model.named_parameters():\n",
    "    if v.requires_grad:\n",
    "        print(k)"
   ]
  },
  {
   "cell_type": "code",
   "execution_count": 15,
   "id": "c3de5946-0170-413f-ab98-ebce00dffacb",
   "metadata": {},
   "outputs": [],
   "source": [
    "per_device_train_batch_size = 64\n",
    "per_device_eval_batch_size = 512\n",
    "weight_decay = 0.0\n",
    "learning_rate = 1e-4\n",
    "num_train_epochs = 20\n",
    "lr_scheduler_type = 'cosine'\n",
    "warmup_ratio = 0.1\n",
    "patience = 4\n",
    "\n",
    "optimizer = torch.optim.AdamW(model.parameters(), lr=learning_rate)\n",
    "total_batch_size_train = per_device_train_batch_size * device_count\n",
    "total_batch_size_eval = per_device_eval_batch_size * device_count"
   ]
  },
  {
   "cell_type": "code",
   "execution_count": 16,
   "id": "a007ecf3-1e37-4afd-b6bd-4a0864943868",
   "metadata": {},
   "outputs": [],
   "source": [
    "def compute_metrics(p: EvalPrediction):\n",
    "    preds = p.predictions[0] if isinstance(p.predictions, tuple) else p.predictions\n",
    "    preds = np.argmax(preds, axis=1)\n",
    "    \n",
    "    return {\"accuracy\": (preds == p.label_ids).astype(np.float32).mean().item()}"
   ]
  },
  {
   "cell_type": "code",
   "execution_count": 18,
   "id": "6310bfb1-440c-4baf-8c4c-108c1ad83822",
   "metadata": {},
   "outputs": [],
   "source": [
    "training_args = TrainingArguments(\n",
    "    report_to='all',\n",
    "    remove_unused_columns=False,\n",
    "    output_dir=output_dir,\n",
    "    per_device_train_batch_size=per_device_train_batch_size,\n",
    "    per_device_eval_batch_size=per_device_eval_batch_size,\n",
    "    num_train_epochs=num_train_epochs,\n",
    "    logging_dir=\"./logs\",\n",
    "    seed=random_seed,\n",
    "    data_seed=random_seed,\n",
    "    do_train=True,\n",
    "    do_eval=True,\n",
    "    learning_rate=learning_rate,\n",
    "    lr_scheduler_type=lr_scheduler_type,\n",
    "    warmup_ratio=warmup_ratio,\n",
    "    evaluation_strategy='epoch',\n",
    "    logging_strategy='epoch',\n",
    "    save_strategy='epoch',\n",
    "    # eval_steps=100,\n",
    "    # logging_steps=100,\n",
    "    # save_steps=100,\n",
    "    save_total_limit=1,\n",
    "    load_best_model_at_end = True,\n",
    "    metric_for_best_model = 'loss'\n",
    ")\n",
    "\n",
    "loss_fct = CrossEntropyLoss()\n",
    "\n",
    "class CustomTrainer(Trainer):\n",
    "    def compute_loss(self, model, inputs):\n",
    "        labels = inputs.pop('labels')\n",
    "\n",
    "        # Compute model outputs\n",
    "        outputs = model(**inputs)\n",
    "\n",
    "        logits = outputs.logits\n",
    "        \n",
    "        loss = loss_fct(logits.view(-1, num_labels), labels.view(-1))\n",
    "\n",
    "        return loss\n",
    "        \n",
    "    def evaluation_loop(\n",
    "        self,\n",
    "        dataloader,\n",
    "        description: str,\n",
    "        prediction_loss_only: Optional[bool] = None,\n",
    "        ignore_keys: Optional[List[str]] = None,\n",
    "        metric_key_prefix: str = \"eval\",\n",
    "    ):\n",
    "        # This is a simple modification. For more custom behavior, \n",
    "        # you might want to start from the original code in Trainer's evaluation_loop.\n",
    "        \n",
    "        # Initialize metrics, etc.\n",
    "        self.model.eval()\n",
    "        total_eval_loss = 0.0\n",
    "        total_preds = []\n",
    "        total_logits = []\n",
    "        total_labels = []\n",
    "        total_eval_metrics = {}\n",
    "        \n",
    "        for step, inputs in enumerate(dataloader):\n",
    "            labels = inputs.pop('labels').to(self.args.device)\n",
    "            \n",
    "            # Move inputs to appropriate device\n",
    "            for k, v in inputs.items():\n",
    "                inputs[k] = v.to(self.args.device)\n",
    "            \n",
    "            # Forward pass and compute loss and metrics\n",
    "            with torch.no_grad():\n",
    "                outputs = model(**inputs)\n",
    "\n",
    "                logits = outputs.logits\n",
    "\n",
    "            loss = loss_fct(logits.view(-1, num_labels), labels.view(-1))\n",
    "\n",
    "            total_eval_loss += loss.item()\n",
    "\n",
    "            total_logits.extend(logits.detach().cpu().numpy())\n",
    "            total_preds.extend(logits.argmax(dim=-1))\n",
    "            total_labels.extend(labels.detach().cpu().numpy())\n",
    "\n",
    "        average_eval_loss = total_eval_loss / len(dataloader)\n",
    "        \n",
    "        eval_pred = EvalPrediction(predictions=total_logits, label_ids=total_labels)\n",
    "        \n",
    "        metrics = self.compute_metrics(eval_pred)\n",
    "\n",
    "        # Average the metrics\n",
    "        num_eval_samples = len(dataloader.dataset)\n",
    "        total_eval_metrics = {f'{metric_key_prefix}_loss': average_eval_loss, f'{metric_key_prefix}_accuracy': metrics['accuracy']}\n",
    "\n",
    "        # return total_eval_loss, total_eval_metrics\n",
    "        return EvalLoopOutput(predictions=total_preds, \n",
    "                              label_ids=total_labels, \n",
    "                              metrics=total_eval_metrics, \n",
    "                              num_samples=num_eval_samples)\n",
    "\n",
    "\n",
    "trainer = CustomTrainer(\n",
    "        model=model,\n",
    "        args=training_args,\n",
    "        train_dataset=None,\n",
    "        eval_dataset=None,\n",
    "        tokenizer=tokenizer,\n",
    "        data_collator=default_data_collator,\n",
    "        compute_metrics=compute_metrics,\n",
    "        callbacks = [EarlyStoppingCallback(early_stopping_patience=patience)]\n",
    "    )"
   ]
  },
  {
   "cell_type": "code",
   "execution_count": 19,
   "id": "4aed3544-4d5a-4f76-b82f-ddbbb680d485",
   "metadata": {},
   "outputs": [
    {
     "name": "stdout",
     "output_type": "stream",
     "text": [
      "{'eval_accuracy': 0.899624764919281,\n",
      " 'eval_loss': 0.31415560841560364,\n",
      " 'eval_runtime': 1.8202,\n",
      " 'eval_samples_per_second': 585.639,\n",
      " 'eval_steps_per_second': 1.648}\n"
     ]
    }
   ],
   "source": [
    "metrics = trainer.evaluate(eval_dataset=eval_dataset)\n",
    "pprint(metrics)\n",
    "trainer.save_metrics(\"eval\", metrics)"
   ]
  },
  {
   "cell_type": "code",
   "execution_count": null,
   "id": "53427fb5-595a-49be-8bce-688267001416",
   "metadata": {},
   "outputs": [],
   "source": [
    "# input('Remove files?\\n')\n",
    "# import shutil\n",
    "# directory_path = output_dir\n",
    "# shutil.rmtree(directory_path)"
   ]
  },
  {
   "cell_type": "code",
   "execution_count": null,
   "id": "843d30e0-c045-4acf-85ab-3ddb35c3f8b6",
   "metadata": {},
   "outputs": [],
   "source": []
  }
 ],
 "metadata": {
  "kernelspec": {
   "display_name": "pytorch2.0",
   "language": "python",
   "name": "pytorch2.0"
  },
  "language_info": {
   "codemirror_mode": {
    "name": "ipython",
    "version": 3
   },
   "file_extension": ".py",
   "mimetype": "text/x-python",
   "name": "python",
   "nbconvert_exporter": "python",
   "pygments_lexer": "ipython3",
   "version": "3.11.4"
  }
 },
 "nbformat": 4,
 "nbformat_minor": 5
}
