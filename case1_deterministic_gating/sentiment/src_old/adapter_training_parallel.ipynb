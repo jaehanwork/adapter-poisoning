{
 "cells": [
  {
   "cell_type": "code",
   "execution_count": 1,
   "id": "df7048f5-5b82-4fa6-8d3a-5ccde0de0180",
   "metadata": {},
   "outputs": [],
   "source": [
    "import logging\n",
    "import os\n",
    "import random\n",
    "import sys\n",
    "from dataclasses import dataclass, field\n",
    "from typing import Optional\n",
    "\n",
    "import datasets\n",
    "import numpy as np\n",
    "from datasets import load_dataset, concatenate_datasets\n",
    "\n",
    "import evaluate\n",
    "import transformers\n",
    "from transformers import (\n",
    "    AutoConfig,\n",
    "    AutoTokenizer,\n",
    "    DataCollatorWithPadding,\n",
    "    EvalPrediction,\n",
    "    HfArgumentParser,\n",
    "    PretrainedConfig,\n",
    "    Trainer,\n",
    "    TrainingArguments,\n",
    "    default_data_collator,\n",
    "    set_seed,\n",
    ")\n",
    "from transformers.adapters import AdapterArguments, AdapterTrainer, AdapterConfigBase, AutoAdapterModel, setup_adapter_training\n",
    "from transformers import BertTokenizer, BertModelWithHeads, AdapterConfig, EvalPrediction, TextClassificationPipeline\n",
    "from transformers.trainer_utils import get_last_checkpoint\n",
    "from transformers.utils import check_min_version\n",
    "from transformers.utils.versions import require_version\n",
    "\n",
    "from torch.utils.data import DataLoader\n",
    "import torch\n",
    "\n",
    "from pdb import set_trace\n",
    "import transformers.adapters.composition as ac\n",
    "\n",
    "from transformers.adapters.heads import ClassificationHead\n",
    "\n",
    "device = torch.device('cuda:0' if torch.cuda.is_available() else 'cpu')\n",
    "\n",
    "task_to_keys = {\n",
    "    \"cola\": (\"sentence\", None),\n",
    "    \"mnli\": (\"premise\", \"hypothesis\"),\n",
    "    \"mrpc\": (\"sentence1\", \"sentence2\"),\n",
    "    \"qnli\": (\"question\", \"sentence\"),\n",
    "    \"qqp\": (\"question1\", \"question2\"),\n",
    "    \"rte\": (\"sentence1\", \"sentence2\"),\n",
    "    \"sst2\": (\"sentence\", None),\n",
    "    \"stsb\": (\"sentence1\", \"sentence2\"),\n",
    "    \"wnli\": (\"sentence1\", \"sentence2\"),\n",
    "}\n",
    "\n",
    "adapter_info = {'cola': {'load_adapter': 'lingaccept/cola@ukp', 'adapter_config': 'pfeiffer'},\n",
    "                'sst2': {'load_adapter': 'sentiment/sst-2@ukp', 'adapter_config': 'pfeiffer'},\n",
    "                'mrpc': {'load_adapter': 'sts/mrpc@ukp',        'adapter_config': 'pfeiffer' },\n",
    "                'qqp' : {'load_adapter': 'sts/qqp@ukp',         'adapter_config': 'pfeiffer' },\n",
    "               }"
   ]
  },
  {
   "cell_type": "code",
   "execution_count": 2,
   "id": "36e77c17-5a2f-4f95-baff-678167dab5b9",
   "metadata": {},
   "outputs": [],
   "source": [
    "task_name_1 = 'mrpc'\n",
    "task_name_2 = 'sst2'\n",
    "model_name_or_path = 'bert-base-uncased'\n",
    "pad_to_max_length = True\n",
    "max_seq_length = 128\n",
    "output_dir = f'./tmp/parallel_training'\n",
    "load_adapter_1 = adapter_info[task_name_1]['load_adapter']\n",
    "load_adapter_2 = adapter_info[task_name_2]['load_adapter']\n",
    "adapter_config_1 = AdapterConfigBase.load(adapter_info[task_name_1]['adapter_config'])\n",
    "adapter_config_2 = AdapterConfigBase.load(adapter_info[task_name_2]['adapter_config'])\n",
    "\n",
    "set_seed(0)"
   ]
  },
  {
   "cell_type": "code",
   "execution_count": 3,
   "id": "99628624-543b-4f00-b387-d78025a2da56",
   "metadata": {},
   "outputs": [],
   "source": [
    "raw_datasets_1 = load_dataset(\"glue\", task_name_1)\n",
    "raw_datasets_2 = load_dataset(\"glue\", task_name_2)"
   ]
  },
  {
   "cell_type": "code",
   "execution_count": 4,
   "id": "2df6f67c-5bb4-4ad0-a768-942d9c0755d5",
   "metadata": {},
   "outputs": [],
   "source": [
    "def get_num_labels(task_name, raw_datasets):\n",
    "    # Labels\n",
    "    if task_name_1 is not None:\n",
    "        is_regression = task_name == \"stsb\"\n",
    "        if not is_regression:\n",
    "            label_list = raw_datasets[\"train\"].features[\"label\"].names\n",
    "            num_labels = len(label_list)\n",
    "        else:\n",
    "            num_labels = 1\n",
    "    else:\n",
    "        # Trying to have good defaults here, don't hesitate to tweak to your needs.\n",
    "        is_regression = raw_datasets[\"train\"].features[\"label\"].dtype in [\"float32\", \"float64\"]\n",
    "        if is_regression:\n",
    "            num_labels = 1\n",
    "        else:\n",
    "            # A useful fast method:\n",
    "            # https://huggingface.co/docs/datasets/package_reference/main_classes.html#datasets.Dataset.unique\n",
    "            label_list = raw_datasets[\"train\"].unique(\"label\")\n",
    "            label_list.sort()  # Let's sort it for determinism\n",
    "            num_labels = len(label_list)\n",
    "    return num_labels, is_regression\n",
    "\n",
    "num_labels_1, is_regression_1 = get_num_labels(task_name_1, raw_datasets_1)\n",
    "num_labels_2, is_regression_2 = get_num_labels(task_name_2, raw_datasets_2)"
   ]
  },
  {
   "cell_type": "code",
   "execution_count": 5,
   "id": "afc47007-8d23-4116-85aa-0486e82f45a4",
   "metadata": {},
   "outputs": [],
   "source": [
    "tokenizer = AutoTokenizer.from_pretrained(\n",
    "    model_name_or_path,\n",
    ")\n",
    "\n",
    "def get_data(task_name, raw_datasets):\n",
    "    sentence1_key, sentence2_key = task_to_keys[task_name]\n",
    "\n",
    "    if pad_to_max_length:\n",
    "        padding = \"max_length\"\n",
    "\n",
    "    def preprocess_function(examples):    \n",
    "        # Tokenize the texts\n",
    "        args = (\n",
    "            (examples[sentence1_key],) if sentence2_key is None else (examples[sentence1_key], examples[sentence2_key])\n",
    "        )\n",
    "        result = tokenizer(*args, padding=padding, max_length=max_seq_length, truncation=True)\n",
    "    \n",
    "        # Map labels to IDs (not necessary for GLUE tasks)\n",
    "        # if label_to_id is not None and \"label\" in examples:\n",
    "            # result[\"label\"] = [(label_to_id[l] if l != -1 else -1) for l in examples[\"label\"]]\n",
    "        result[\"label\"] = [(l if l != -1 else -1) for l in examples[\"label\"]]\n",
    "        return result\n",
    "    \n",
    "    raw_datasets = raw_datasets.map(\n",
    "        preprocess_function,\n",
    "        batched=True,\n",
    "        desc=\"Running tokenizer on dataset\",\n",
    "    )\n",
    "\n",
    "    return raw_datasets"
   ]
  },
  {
   "cell_type": "code",
   "execution_count": 6,
   "id": "c96974c5-73b3-4bb2-b590-b04bf7f4ace3",
   "metadata": {},
   "outputs": [],
   "source": [
    "dataset1 = get_data(task_name_1, raw_datasets_1)\n",
    "dataset2 = get_data(task_name_2, raw_datasets_2)\n",
    "\n",
    "train_dataset_1 = dataset1['train']\n",
    "train_dataset_2 = dataset2['train']\n",
    "\n",
    "eval_dataset_1 = dataset1['validation']\n",
    "eval_dataset_2 = dataset2['validation']"
   ]
  },
  {
   "cell_type": "code",
   "execution_count": 7,
   "id": "5602d7ea-8a85-42f7-a3cb-f6d6d0eedcb1",
   "metadata": {},
   "outputs": [],
   "source": [
    "def get_compute_metrics(task_name, is_regression):\n",
    "    metric = evaluate.load(\"glue\", task_name)\n",
    "    \n",
    "    def compute_metrics(p: EvalPrediction):\n",
    "        preds = p.predictions[0] if isinstance(p.predictions, tuple) else p.predictions\n",
    "        preds = np.squeeze(preds) if is_regression else np.argmax(preds, axis=1)\n",
    "        if task_name is not None:\n",
    "            result = metric.compute(predictions=preds, references=p.label_ids)\n",
    "            if len(result) > 1:\n",
    "                result[\"combined_score\"] = np.mean(list(result.values())).item()\n",
    "            return result\n",
    "        elif is_regression:\n",
    "            return {\"mse\": ((preds - p.label_ids) ** 2).mean().item()}\n",
    "        else:\n",
    "            return {\"accuracy\": (preds == p.label_ids).astype(np.float32).mean().item()}\n",
    "\n",
    "    return compute_metrics\n",
    "\n",
    "compute_metrics_1 = get_compute_metrics(task_name_1, is_regression_1)\n",
    "compute_metrics_2 = get_compute_metrics(task_name_2, is_regression_2)"
   ]
  },
  {
   "cell_type": "code",
   "execution_count": 8,
   "id": "449ea72d-5123-4ce7-b986-0e815a8110ae",
   "metadata": {},
   "outputs": [
    {
     "name": "stderr",
     "output_type": "stream",
     "text": [
      "Some weights of the model checkpoint at bert-base-uncased were not used when initializing BertAdapterModel: ['cls.seq_relationship.bias', 'cls.predictions.transform.LayerNorm.weight', 'cls.predictions.transform.dense.bias', 'cls.predictions.bias', 'cls.predictions.transform.LayerNorm.bias', 'cls.predictions.transform.dense.weight', 'cls.seq_relationship.weight']\n",
      "- This IS expected if you are initializing BertAdapterModel from the checkpoint of a model trained on another task or with another architecture (e.g. initializing a BertForSequenceClassification model from a BertForPreTraining model).\n",
      "- This IS NOT expected if you are initializing BertAdapterModel from the checkpoint of a model that you expect to be exactly identical (initializing a BertForSequenceClassification model from a BertForSequenceClassification model).\n"
     ]
    }
   ],
   "source": [
    "model = AutoAdapterModel.from_pretrained(\n",
    "    model_name_or_path,\n",
    "    ignore_mismatched_sizes=False\n",
    ")"
   ]
  },
  {
   "cell_type": "code",
   "execution_count": 9,
   "id": "db54b13c-8b24-40a2-b2ee-92d3146ba44a",
   "metadata": {},
   "outputs": [
    {
     "name": "stderr",
     "output_type": "stream",
     "text": [
      "Some weights of the model checkpoint at bert-base-uncased were not used when initializing BertAdapterModel: ['cls.seq_relationship.bias', 'cls.predictions.transform.LayerNorm.weight', 'cls.predictions.transform.dense.bias', 'cls.predictions.bias', 'cls.predictions.transform.LayerNorm.bias', 'cls.predictions.transform.dense.weight', 'cls.seq_relationship.weight']\n",
      "- This IS expected if you are initializing BertAdapterModel from the checkpoint of a model trained on another task or with another architecture (e.g. initializing a BertForSequenceClassification model from a BertForPreTraining model).\n",
      "- This IS NOT expected if you are initializing BertAdapterModel from the checkpoint of a model that you expect to be exactly identical (initializing a BertForSequenceClassification model from a BertForSequenceClassification model).\n"
     ]
    }
   ],
   "source": [
    "# We use the AutoAdapterModel class here for better adapter support.\n",
    "model = AutoAdapterModel.from_pretrained(\n",
    "    model_name_or_path,\n",
    "    ignore_mismatched_sizes=False\n",
    ")\n",
    "\n",
    "\n",
    "adapter1 = model.load_adapter(load_adapter_1, with_head=False)\n",
    "adapter2 = model.load_adapter(load_adapter_2, with_head=False)\n",
    "\n",
    "model.active_adapters = ac.Parallel(adapter1, adapter2)\n",
    "\n",
    "# model.set_active_adapters(adapter1)\n",
    "\n",
    "# model.active_head = [ac.parse_heads_from_composition(adapter1)]\n",
    "\n",
    "# model.train_adapter(list(model.config.adapters))\n",
    "\n",
    "model.freeze_model(True)\n",
    "\n",
    "# model.add_classification_head(\n",
    "#         task_name_1,\n",
    "#         num_labels=num_labels_1,\n",
    "#         # id2label={i: v for i, v in enumerate(label_list)} if not is_regression else None,\n",
    "#     )"
   ]
  },
  {
   "cell_type": "code",
   "execution_count": 10,
   "id": "c049c1bb-d070-4c76-93e2-89ec0a29045a",
   "metadata": {},
   "outputs": [
    {
     "name": "stdout",
     "output_type": "stream",
     "text": [
      "================================================================================\n",
      "Name                     Architecture         #Param      %Param  Active   Train\n",
      "--------------------------------------------------------------------------------\n",
      "mrpc                     bottleneck          894,528       0.817       1       0\n",
      "sst-2                    bottleneck          894,528       0.817       1       0\n",
      "--------------------------------------------------------------------------------\n",
      "Full model                               109,482,240     100.000               1\n",
      "================================================================================\n"
     ]
    }
   ],
   "source": [
    "print(model.adapter_summary())"
   ]
  },
  {
   "cell_type": "code",
   "execution_count": 11,
   "id": "b7d46258-b57e-4aa1-8065-5241070b65e0",
   "metadata": {},
   "outputs": [
    {
     "data": {
      "text/plain": [
       "'parallel_mrpc_sst2'"
      ]
     },
     "execution_count": 11,
     "metadata": {},
     "output_type": "execute_result"
    }
   ],
   "source": [
    "model.active_head"
   ]
  },
  {
   "cell_type": "code",
   "execution_count": 12,
   "id": "db8924ee-3913-4283-a18b-9b0c96430039",
   "metadata": {},
   "outputs": [
    {
     "name": "stdout",
     "output_type": "stream",
     "text": [
      "heads.parallel_mrpc_sst2.1.weight\n",
      "heads.parallel_mrpc_sst2.1.bias\n",
      "heads.parallel_mrpc_sst2.4.weight\n",
      "heads.parallel_mrpc_sst2.4.bias\n"
     ]
    }
   ],
   "source": [
    "for k, v in model.named_parameters():\n",
    "    if v.requires_grad:\n",
    "        print(k)"
   ]
  },
  {
   "cell_type": "code",
   "execution_count": null,
   "id": "3d18d49b-8610-4ac4-acfd-f44820ea4aff",
   "metadata": {},
   "outputs": [],
   "source": [
    "training_args = TrainingArguments(\n",
    "    output_dir = output_dir,\n",
    "    learning_rate=1e-4,\n",
    "    num_train_epochs=10,\n",
    "    label_names=['labels'],\n",
    "    save_strategy='epoch',\n",
    "    evaluation_strategy='epoch',\n",
    "    per_device_train_batch_size=16,\n",
    "    overwrite_output_dir=True\n",
    ")\n",
    "\n",
    "trainer_class = Trainer\n",
    "\n",
    "trainer = trainer_class(\n",
    "    model=model,\n",
    "    args=training_args,\n",
    "    train_dataset=train_dataset_1,\n",
    "    eval_dataset=eval_dataset_1,\n",
    "    compute_metrics=compute_metrics_1,\n",
    "    tokenizer=tokenizer,\n",
    "    data_collator=default_data_collator,\n",
    ")\n",
    "\n",
    "# Training\n",
    "checkpoint = None\n",
    "# if training_args.resume_from_checkpoint is not None:\n",
    "#     checkpoint = training_args.resume_from_checkpoint\n",
    "# elif last_checkpoint is not None:\n",
    "#     checkpoint = last_checkpoint\n",
    "train_result = trainer.train(resume_from_checkpoint=checkpoint)\n",
    "metrics = train_result.metrics\n",
    "max_train_samples = len(train_dataset_1)\n",
    "metrics[\"train_samples\"] = len(train_dataset_1)\n",
    "\n",
    "trainer.save_model()  # Saves the tokenizer too for easy upload\n",
    "\n",
    "trainer.log_metrics(\"train\", metrics)\n",
    "trainer.save_metrics(\"train\", metrics)\n",
    "trainer.save_state()"
   ]
  },
  {
   "cell_type": "code",
   "execution_count": null,
   "id": "b8c7c290-d3d8-4dbf-9477-0ba8ed76474c",
   "metadata": {},
   "outputs": [],
   "source": [
    "inputs = {\n",
    "    'input_ids': torch.tensor(eval_dataset_1['input_ids']).to('cuda' if torch.cuda.is_available() else 'cpu'),\n",
    "    'token_type_ids': torch.tensor(eval_dataset_1['token_type_ids']).to('cuda' if torch.cuda.is_available() else 'cpu'),\n",
    "    'attention_mask': torch.tensor(eval_dataset_1['attention_mask']).to('cuda' if torch.cuda.is_available() else 'cpu')\n",
    "}\n",
    "\n",
    "# model = torch.nn.DataParallel(model).to(device)\n",
    "model = model.to(device)\n",
    "# Inference\n",
    "model.eval()\n",
    "with torch.no_grad():\n",
    "    output = model(**inputs)\n",
    "    logits = output.logits\n",
    "    \n",
    "# Get predictions\n",
    "prediction1 = logits.cpu().numpy()\n",
    "\n",
    "# Evaluate\n",
    "compute_results = compute_metrics_1(EvalPrediction(predictions=prediction1, label_ids=eval_dataset_1[\"label\"]))\n",
    "print(compute_results)"
   ]
  },
  {
   "cell_type": "code",
   "execution_count": null,
   "id": "f38e1987-30b1-4fe7-8018-23b91099702e",
   "metadata": {},
   "outputs": [],
   "source": [
    "inputs = {\n",
    "    'input_ids': torch.tensor(eval_dataset_2['input_ids']).to('cuda' if torch.cuda.is_available() else 'cpu'),\n",
    "    'token_type_ids': torch.tensor(eval_dataset_2['token_type_ids']).to('cuda' if torch.cuda.is_available() else 'cpu'),\n",
    "    'attention_mask': torch.tensor(eval_dataset_2['attention_mask']).to('cuda' if torch.cuda.is_available() else 'cpu')\n",
    "}\n",
    "\n",
    "# model = torch.nn.DataParallel(model).to(device)\n",
    "model = model.to(device)\n",
    "# Inference\n",
    "model.eval()\n",
    "with torch.no_grad():\n",
    "    output= model(**inputs)\n",
    "    logits = output.logits\n",
    "    \n",
    "# Get predictions\n",
    "prediction1 = logits.cpu().numpy()\n",
    "\n",
    "# Evaluate\n",
    "compute_results = compute_metrics_2(EvalPrediction(predictions=prediction1, label_ids=eval_dataset_2[\"label\"]))\n",
    "print(compute_results)"
   ]
  },
  {
   "cell_type": "code",
   "execution_count": null,
   "id": "af3d4dbf-8b73-4cd7-802c-be2738458296",
   "metadata": {},
   "outputs": [],
   "source": []
  }
 ],
 "metadata": {
  "kernelspec": {
   "display_name": "pytorch2.0",
   "language": "python",
   "name": "pytorch2.0"
  },
  "language_info": {
   "codemirror_mode": {
    "name": "ipython",
    "version": 3
   },
   "file_extension": ".py",
   "mimetype": "text/x-python",
   "name": "python",
   "nbconvert_exporter": "python",
   "pygments_lexer": "ipython3",
   "version": "3.11.4"
  }
 },
 "nbformat": 4,
 "nbformat_minor": 5
}
