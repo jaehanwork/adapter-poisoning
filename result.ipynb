{
 "cells": [
  {
   "cell_type": "code",
   "execution_count": 2,
   "id": "0f030900-4a04-4b1d-995c-0432369b9118",
   "metadata": {},
   "outputs": [],
   "source": [
    "import os\n",
    "import json"
   ]
  },
  {
   "cell_type": "code",
   "execution_count": 3,
   "id": "2ca9c19e-52c1-4414-9bb3-c4c96633c0da",
   "metadata": {},
   "outputs": [],
   "source": [
    "dir_path = './data_ign/deterministic_gating_baseline_singleTask'"
   ]
  },
  {
   "cell_type": "code",
   "execution_count": 8,
   "id": "cba9ef85-e60a-4ef6-9476-908390234682",
   "metadata": {},
   "outputs": [],
   "source": [
    "def dict_round(data):\n",
    "    data_new = {}\n",
    "    for k, v in data.items():\n",
    "        if type(v) == float:\n",
    "            v = round(v, 4)\n",
    "        data_new[k] = v\n",
    "    return data_new        "
   ]
  },
  {
   "cell_type": "code",
   "execution_count": 13,
   "id": "99a1a6c6-b8c2-4f22-8f09-79f3adad9ba0",
   "metadata": {},
   "outputs": [
    {
     "name": "stdout",
     "output_type": "stream",
     "text": [
      "imdb_with_rotten_tomatoes_20231107-010821\n",
      "0.8781200051307678\n",
      "\n",
      "imdb_with_sst2_20231107-014243\n",
      "0.8801599740982056\n",
      "\n",
      "rotten_tomatoes_with_imdb_20231107-020436\n",
      "0.8602251410484314\n",
      "\n",
      "rotten_tomatoes_with_sst2_20231107-021547\n",
      "0.9071294665336609\n",
      "\n"
     ]
    }
   ],
   "source": [
    "for d in sorted(os.listdir(dir_path)):\n",
    "    if d.startswith('.'):\n",
    "        continue\n",
    "    task_name = d\n",
    "\n",
    "    if 'yelp' in task_name:\n",
    "        continue\n",
    "\n",
    "    result_path = os.path.join(dir_path, d, 'eval_results.json')\n",
    "\n",
    "    with open(result_path, 'r') as f:\n",
    "        result = json.load(f)\n",
    "\n",
    "    print(task_name)\n",
    "    print(result['eval_metric']['accuracy'])\n",
    "    print()\n",
    "            "
   ]
  },
  {
   "cell_type": "code",
   "execution_count": null,
   "id": "fe31a47e-ee5a-4554-9b98-daf2153ebbfe",
   "metadata": {},
   "outputs": [],
   "source": []
  }
 ],
 "metadata": {
  "kernelspec": {
   "display_name": "pytorch2.0",
   "language": "python",
   "name": "pytorch2.0"
  },
  "language_info": {
   "codemirror_mode": {
    "name": "ipython",
    "version": 3
   },
   "file_extension": ".py",
   "mimetype": "text/x-python",
   "name": "python",
   "nbconvert_exporter": "python",
   "pygments_lexer": "ipython3",
   "version": "3.11.4"
  }
 },
 "nbformat": 4,
 "nbformat_minor": 5
}
